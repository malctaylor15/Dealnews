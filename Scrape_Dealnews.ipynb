{
 "cells": [
  {
   "cell_type": "code",
   "execution_count": 1,
   "metadata": {},
   "outputs": [],
   "source": [
    "import bs4 \n",
    "import re \n",
    "import os \n",
    "import sys\n",
    "import json\n",
    "import requests\n",
    "import datetime\n",
    "import urllib\n",
    "from dateutil import parser\n",
    "from tqdm.notebook import tqdm\n",
    "import pandas as pd\n",
    "import numpy as np \n",
    "import sqlite3\n",
    "pd.set_option('max_colwidth', 300)\n",
    "pd.set_option('max_columns', 100)"
   ]
  },
  {
   "cell_type": "markdown",
   "metadata": {},
   "source": [
    "## Functions"
   ]
  },
  {
   "cell_type": "markdown",
   "metadata": {},
   "source": [
    "### Fun Fact.. Dealnews uses an API "
   ]
  },
  {
   "cell_type": "code",
   "execution_count": 2,
   "metadata": {
    "code_folding": [
     0
    ]
   },
   "outputs": [],
   "source": [
    "def get_dealnews_feed(link):\n",
    "    headers = {'Authorization': 'DN jxqfz29pbv9xpWSYnmJX'}\n",
    "    dealnews = requests.get(link, headers=headers)\n",
    "    assert(dealnews.status_code == 200), f\"Status Code={dealnews.status_code}...Error:\\n\\n{dealnews.content}\"\n",
    "    as_json = json.loads(dealnews.content)\n",
    "    return(as_json)"
   ]
  },
  {
   "cell_type": "markdown",
   "metadata": {},
   "source": [
    "### Understanding API Options"
   ]
  },
  {
   "cell_type": "code",
   "execution_count": 3,
   "metadata": {
    "code_folding": [
     0
    ]
   },
   "outputs": [],
   "source": [
    "def _parse_api_deal_types(raw_api_response):\n",
    "    ## Deal Types\n",
    "    keeper_elems = ['name', 'count', 'url', 'short_name']\n",
    "    groups = raw_api_response['deal_types']\n",
    "    key_group_info = []\n",
    "    for group in groups:\n",
    "        key_group_info.append([group[x] for x in keeper_elems])\n",
    "    deal_type_df = pd.DataFrame(key_group_info, columns = keeper_elems)\n",
    "    deal_type_df = deal_type_df.rename({'url': 'id_number'}, axis =1)\n",
    "    deal_type_df['id_name'] = 'deal_type_id'\n",
    "    return(deal_type_df)"
   ]
  },
  {
   "cell_type": "code",
   "execution_count": 4,
   "metadata": {
    "code_folding": [
     0
    ],
    "scrolled": true
   },
   "outputs": [],
   "source": [
    "def _parse_api_categories(raw_api_response):\n",
    "    ## Categories\n",
    "    keeper_elems = ['name', 'count', 'category_id', 'short_name']\n",
    "    groups = raw_api_response['categories']\n",
    "    key_group_info = []\n",
    "    for group in groups:\n",
    "        key_group_info.append([group[x] for x in keeper_elems])\n",
    "    category_df = pd.DataFrame(key_group_info, columns = keeper_elems)\n",
    "    category_df = category_df.rename({'category_id': 'id_number'}, axis =1)\n",
    "    category_df['id_name'] = 'category_id'\n",
    "    return(category_df)"
   ]
  },
  {
   "cell_type": "code",
   "execution_count": 5,
   "metadata": {
    "code_folding": [
     0
    ]
   },
   "outputs": [],
   "source": [
    "def _parse_api_brands(raw_api_response):\n",
    "    ## Brands\n",
    "    keeper_elems = ['name', 'count', 'brand_id', 'short_name']\n",
    "    groups = raw_api_response['brands']\n",
    "    key_group_info = []\n",
    "    for group in groups:\n",
    "        key_group_info.append([group[x] for x in keeper_elems])\n",
    "    brand_df = pd.DataFrame(key_group_info, columns = keeper_elems)\n",
    "    brand_df = brand_df.rename({'brand_id': 'id_number'}, axis =1)\n",
    "    brand_df['id_name'] = 'brand_id'\n",
    "    return(brand_df)"
   ]
  },
  {
   "cell_type": "code",
   "execution_count": 6,
   "metadata": {
    "code_folding": [
     0
    ]
   },
   "outputs": [],
   "source": [
    "def _parse_api_vendors(raw_api_response):\n",
    "    ## Vendors\n",
    "    keeper_elems = ['name', 'count', 'vendor_id', 'short_name']\n",
    "    groups = raw_api_response['vendors']\n",
    "    key_group_info = []\n",
    "    for group in groups:\n",
    "        key_group_info.append([group[x] for x in keeper_elems])\n",
    "    vendor_df = pd.DataFrame(key_group_info, columns = keeper_elems)\n",
    "    vendor_df = vendor_df.rename({'vendor_id': 'id_number'}, axis =1)\n",
    "    vendor_df['id_name'] = 'vendor_id'\n",
    "    return(vendor_df)"
   ]
  },
  {
   "cell_type": "code",
   "execution_count": 7,
   "metadata": {
    "code_folding": [
     0
    ],
    "scrolled": true
   },
   "outputs": [],
   "source": [
    "def _parse_api_facet_groups(raw_api_response):\n",
    "    ## Facet Groups \n",
    "    keeper_elems = ['name', 'count', 'facet_id', 'short_name']\n",
    "    facet_group = raw_api_response['facet_groups']\n",
    "    key_group_info = []\n",
    "    # This one has a group within each group (2 levels before getting to the mapping)\n",
    "    for facet in facet_group:\n",
    "        groups = facet['facets']\n",
    "        facet_category_name = facet['name']\n",
    "        for group in groups:\n",
    "            group_list = [facet_category_name + ' : ' + group[x] if x == 'name' \n",
    "                          else group[x] for x in keeper_elems]\n",
    "            key_group_info.append(group_list)\n",
    "    facet_df = pd.DataFrame(key_group_info, columns = keeper_elems)\n",
    "    facet_df = facet_df.rename({'facet_id': 'id_number'}, axis =1)\n",
    "    facet_df['id_name'] = 'facet_id'\n",
    "    return(facet_df)"
   ]
  },
  {
   "cell_type": "markdown",
   "metadata": {},
   "source": [
    "### Summarize Options "
   ]
  },
  {
   "cell_type": "code",
   "execution_count": 8,
   "metadata": {
    "code_folding": [
     0
    ]
   },
   "outputs": [],
   "source": [
    "def get_summary_of_api_options(df):\n",
    "    out = {}\n",
    "    out['Offers Sum'] = df['count'].sum()\n",
    "    out['Group Count'] = df.shape[0]\n",
    "    df = df.sort_values(by='count', ascending=False)\n",
    "    most_common = df.iloc[0]\n",
    "    out['Most Common Name'] = most_common['name']\n",
    "    out['Most Common Count'] = most_common['count']\n",
    "    out['Most Common ID'] = most_common['id_number']\n",
    "    \n",
    "    out_series = pd.Series(out)\n",
    "    return(out_series)"
   ]
  },
  {
   "cell_type": "markdown",
   "metadata": {},
   "source": [
    "## Begin Running it "
   ]
  },
  {
   "cell_type": "markdown",
   "metadata": {},
   "source": [
    "### Parse API Categories with Counts"
   ]
  },
  {
   "cell_type": "code",
   "execution_count": 9,
   "metadata": {},
   "outputs": [
    {
     "data": {
      "text/plain": [
       "['Category Info', 'Category Summary', 'Dealnews Items']"
      ]
     },
     "execution_count": 9,
     "metadata": {},
     "output_type": "execute_result"
    }
   ],
   "source": [
    "con = sqlite3.connect('dealnews.db')\n",
    "cursor = con.cursor()\n",
    "\n",
    "tables = cursor.execute(\"SELECT name FROM sqlite_master WHERE type='table'\").fetchall()\n",
    "tables = [x[0] for x in tables]\n",
    "tables"
   ]
  },
  {
   "cell_type": "code",
   "execution_count": 10,
   "metadata": {},
   "outputs": [],
   "source": [
    "link = 'https://api.dealnews.com/content?facet_ids=1780&count=70'\n",
    "raw_api_response = get_dealnews_feed(link)"
   ]
  },
  {
   "cell_type": "code",
   "execution_count": 11,
   "metadata": {
    "scrolled": true
   },
   "outputs": [
    {
     "data": {
      "text/html": [
       "<div>\n",
       "<style scoped>\n",
       "    .dataframe tbody tr th:only-of-type {\n",
       "        vertical-align: middle;\n",
       "    }\n",
       "\n",
       "    .dataframe tbody tr th {\n",
       "        vertical-align: top;\n",
       "    }\n",
       "\n",
       "    .dataframe thead th {\n",
       "        text-align: right;\n",
       "    }\n",
       "</style>\n",
       "<table border=\"1\" class=\"dataframe\">\n",
       "  <thead>\n",
       "    <tr style=\"text-align: right;\">\n",
       "      <th></th>\n",
       "      <th></th>\n",
       "      <th>name</th>\n",
       "      <th>count</th>\n",
       "      <th>id_number</th>\n",
       "      <th>short_name</th>\n",
       "      <th>id_name</th>\n",
       "    </tr>\n",
       "  </thead>\n",
       "  <tbody>\n",
       "    <tr>\n",
       "      <th rowspan=\"30\" valign=\"top\">vendor</th>\n",
       "      <th>0</th>\n",
       "      <td>Amazon</td>\n",
       "      <td>794</td>\n",
       "      <td>313</td>\n",
       "      <td>Amazon</td>\n",
       "      <td>vendor_id</td>\n",
       "    </tr>\n",
       "    <tr>\n",
       "      <th>1</th>\n",
       "      <td>eBay</td>\n",
       "      <td>144</td>\n",
       "      <td>50</td>\n",
       "      <td>eBay</td>\n",
       "      <td>vendor_id</td>\n",
       "    </tr>\n",
       "    <tr>\n",
       "      <th>2</th>\n",
       "      <td>Home Depot</td>\n",
       "      <td>68</td>\n",
       "      <td>958</td>\n",
       "      <td>Home Depot</td>\n",
       "      <td>vendor_id</td>\n",
       "    </tr>\n",
       "    <tr>\n",
       "      <th>3</th>\n",
       "      <td>PepsiCo via Amazon</td>\n",
       "      <td>46</td>\n",
       "      <td>46889</td>\n",
       "      <td>PepsiCo via Amazon</td>\n",
       "      <td>vendor_id</td>\n",
       "    </tr>\n",
       "    <tr>\n",
       "      <th>4</th>\n",
       "      <td>Macy's</td>\n",
       "      <td>34</td>\n",
       "      <td>288</td>\n",
       "      <td>Macy's</td>\n",
       "      <td>vendor_id</td>\n",
       "    </tr>\n",
       "    <tr>\n",
       "      <th>5</th>\n",
       "      <td>Ace Hardware</td>\n",
       "      <td>34</td>\n",
       "      <td>1320</td>\n",
       "      <td>Ace Hardware</td>\n",
       "      <td>vendor_id</td>\n",
       "    </tr>\n",
       "    <tr>\n",
       "      <th>6</th>\n",
       "      <td>Sam's Club</td>\n",
       "      <td>32</td>\n",
       "      <td>857</td>\n",
       "      <td>Sam's Club</td>\n",
       "      <td>vendor_id</td>\n",
       "    </tr>\n",
       "    <tr>\n",
       "      <th>7</th>\n",
       "      <td>Nordstrom Rack</td>\n",
       "      <td>26</td>\n",
       "      <td>41081</td>\n",
       "      <td>Nordstrom Rack</td>\n",
       "      <td>vendor_id</td>\n",
       "    </tr>\n",
       "    <tr>\n",
       "      <th>8</th>\n",
       "      <td>Kohl's</td>\n",
       "      <td>22</td>\n",
       "      <td>1009</td>\n",
       "      <td>Kohl's</td>\n",
       "      <td>vendor_id</td>\n",
       "    </tr>\n",
       "    <tr>\n",
       "      <th>9</th>\n",
       "      <td>Nike</td>\n",
       "      <td>22</td>\n",
       "      <td>1186</td>\n",
       "      <td>Nike</td>\n",
       "      <td>vendor_id</td>\n",
       "    </tr>\n",
       "    <tr>\n",
       "      <th>10</th>\n",
       "      <td>Wayfair</td>\n",
       "      <td>22</td>\n",
       "      <td>38875</td>\n",
       "      <td>Wayfair</td>\n",
       "      <td>vendor_id</td>\n",
       "    </tr>\n",
       "    <tr>\n",
       "      <th>11</th>\n",
       "      <td>Staples</td>\n",
       "      <td>21</td>\n",
       "      <td>274</td>\n",
       "      <td>Staples</td>\n",
       "      <td>vendor_id</td>\n",
       "    </tr>\n",
       "    <tr>\n",
       "      <th>12</th>\n",
       "      <td>Target</td>\n",
       "      <td>18</td>\n",
       "      <td>318</td>\n",
       "      <td>Target</td>\n",
       "      <td>vendor_id</td>\n",
       "    </tr>\n",
       "    <tr>\n",
       "      <th>13</th>\n",
       "      <td>Northern Tool</td>\n",
       "      <td>18</td>\n",
       "      <td>562</td>\n",
       "      <td>Northern Tool</td>\n",
       "      <td>vendor_id</td>\n",
       "    </tr>\n",
       "    <tr>\n",
       "      <th>14</th>\n",
       "      <td>Reebok</td>\n",
       "      <td>18</td>\n",
       "      <td>908</td>\n",
       "      <td>Reebok</td>\n",
       "      <td>vendor_id</td>\n",
       "    </tr>\n",
       "    <tr>\n",
       "      <th>15</th>\n",
       "      <td>Walmart</td>\n",
       "      <td>17</td>\n",
       "      <td>321</td>\n",
       "      <td>Walmart</td>\n",
       "      <td>vendor_id</td>\n",
       "    </tr>\n",
       "    <tr>\n",
       "      <th>16</th>\n",
       "      <td>moobibear.com</td>\n",
       "      <td>17</td>\n",
       "      <td>54815</td>\n",
       "      <td>moobibear.com</td>\n",
       "      <td>vendor_id</td>\n",
       "    </tr>\n",
       "    <tr>\n",
       "      <th>17</th>\n",
       "      <td>Old Navy</td>\n",
       "      <td>16</td>\n",
       "      <td>362</td>\n",
       "      <td>Old Navy</td>\n",
       "      <td>vendor_id</td>\n",
       "    </tr>\n",
       "    <tr>\n",
       "      <th>18</th>\n",
       "      <td>REI</td>\n",
       "      <td>15</td>\n",
       "      <td>549</td>\n",
       "      <td>REI</td>\n",
       "      <td>vendor_id</td>\n",
       "    </tr>\n",
       "    <tr>\n",
       "      <th>19</th>\n",
       "      <td>HP</td>\n",
       "      <td>14</td>\n",
       "      <td>786</td>\n",
       "      <td>HP</td>\n",
       "      <td>vendor_id</td>\n",
       "    </tr>\n",
       "    <tr>\n",
       "      <th>20</th>\n",
       "      <td>Adorama</td>\n",
       "      <td>12</td>\n",
       "      <td>1409</td>\n",
       "      <td>Adorama</td>\n",
       "      <td>vendor_id</td>\n",
       "    </tr>\n",
       "    <tr>\n",
       "      <th>21</th>\n",
       "      <td>Lenovo</td>\n",
       "      <td>11</td>\n",
       "      <td>1662</td>\n",
       "      <td>Lenovo</td>\n",
       "      <td>vendor_id</td>\n",
       "    </tr>\n",
       "    <tr>\n",
       "      <th>22</th>\n",
       "      <td>Microsoft Store</td>\n",
       "      <td>11</td>\n",
       "      <td>3626</td>\n",
       "      <td>Microsoft Store</td>\n",
       "      <td>vendor_id</td>\n",
       "    </tr>\n",
       "    <tr>\n",
       "      <th>23</th>\n",
       "      <td>Costway</td>\n",
       "      <td>13</td>\n",
       "      <td>46658</td>\n",
       "      <td>Costway</td>\n",
       "      <td>vendor_id</td>\n",
       "    </tr>\n",
       "    <tr>\n",
       "      <th>24</th>\n",
       "      <td>Petco</td>\n",
       "      <td>10</td>\n",
       "      <td>474</td>\n",
       "      <td>Petco</td>\n",
       "      <td>vendor_id</td>\n",
       "    </tr>\n",
       "    <tr>\n",
       "      <th>25</th>\n",
       "      <td>Woot! An Amazon Company</td>\n",
       "      <td>10</td>\n",
       "      <td>1692</td>\n",
       "      <td>Woot</td>\n",
       "      <td>vendor_id</td>\n",
       "    </tr>\n",
       "    <tr>\n",
       "      <th>26</th>\n",
       "      <td>Shoes.com</td>\n",
       "      <td>9</td>\n",
       "      <td>745</td>\n",
       "      <td>Shoes.com</td>\n",
       "      <td>vendor_id</td>\n",
       "    </tr>\n",
       "    <tr>\n",
       "      <th>27</th>\n",
       "      <td>Costco</td>\n",
       "      <td>9</td>\n",
       "      <td>897</td>\n",
       "      <td>Costco</td>\n",
       "      <td>vendor_id</td>\n",
       "    </tr>\n",
       "    <tr>\n",
       "      <th>28</th>\n",
       "      <td>Joe's New Balance Outlet</td>\n",
       "      <td>9</td>\n",
       "      <td>1807</td>\n",
       "      <td>Joe's New Balance</td>\n",
       "      <td>vendor_id</td>\n",
       "    </tr>\n",
       "    <tr>\n",
       "      <th>29</th>\n",
       "      <td>Tanga</td>\n",
       "      <td>9</td>\n",
       "      <td>2216</td>\n",
       "      <td>Tanga</td>\n",
       "      <td>vendor_id</td>\n",
       "    </tr>\n",
       "  </tbody>\n",
       "</table>\n",
       "</div>"
      ],
      "text/plain": [
       "                               name  count  id_number          short_name  \\\n",
       "vendor 0                     Amazon    794        313              Amazon   \n",
       "       1                       eBay    144         50                eBay   \n",
       "       2                 Home Depot     68        958          Home Depot   \n",
       "       3         PepsiCo via Amazon     46      46889  PepsiCo via Amazon   \n",
       "       4                     Macy's     34        288              Macy's   \n",
       "       5               Ace Hardware     34       1320        Ace Hardware   \n",
       "       6                 Sam's Club     32        857          Sam's Club   \n",
       "       7             Nordstrom Rack     26      41081      Nordstrom Rack   \n",
       "       8                     Kohl's     22       1009              Kohl's   \n",
       "       9                       Nike     22       1186                Nike   \n",
       "       10                   Wayfair     22      38875             Wayfair   \n",
       "       11                   Staples     21        274             Staples   \n",
       "       12                    Target     18        318              Target   \n",
       "       13             Northern Tool     18        562       Northern Tool   \n",
       "       14                    Reebok     18        908              Reebok   \n",
       "       15                   Walmart     17        321             Walmart   \n",
       "       16             moobibear.com     17      54815       moobibear.com   \n",
       "       17                  Old Navy     16        362            Old Navy   \n",
       "       18                       REI     15        549                 REI   \n",
       "       19                        HP     14        786                  HP   \n",
       "       20                   Adorama     12       1409             Adorama   \n",
       "       21                    Lenovo     11       1662              Lenovo   \n",
       "       22           Microsoft Store     11       3626     Microsoft Store   \n",
       "       23                   Costway     13      46658             Costway   \n",
       "       24                     Petco     10        474               Petco   \n",
       "       25   Woot! An Amazon Company     10       1692                Woot   \n",
       "       26                 Shoes.com      9        745           Shoes.com   \n",
       "       27                    Costco      9        897              Costco   \n",
       "       28  Joe's New Balance Outlet      9       1807   Joe's New Balance   \n",
       "       29                     Tanga      9       2216               Tanga   \n",
       "\n",
       "             id_name  \n",
       "vendor 0   vendor_id  \n",
       "       1   vendor_id  \n",
       "       2   vendor_id  \n",
       "       3   vendor_id  \n",
       "       4   vendor_id  \n",
       "       5   vendor_id  \n",
       "       6   vendor_id  \n",
       "       7   vendor_id  \n",
       "       8   vendor_id  \n",
       "       9   vendor_id  \n",
       "       10  vendor_id  \n",
       "       11  vendor_id  \n",
       "       12  vendor_id  \n",
       "       13  vendor_id  \n",
       "       14  vendor_id  \n",
       "       15  vendor_id  \n",
       "       16  vendor_id  \n",
       "       17  vendor_id  \n",
       "       18  vendor_id  \n",
       "       19  vendor_id  \n",
       "       20  vendor_id  \n",
       "       21  vendor_id  \n",
       "       22  vendor_id  \n",
       "       23  vendor_id  \n",
       "       24  vendor_id  \n",
       "       25  vendor_id  \n",
       "       26  vendor_id  \n",
       "       27  vendor_id  \n",
       "       28  vendor_id  \n",
       "       29  vendor_id  "
      ]
     },
     "execution_count": 11,
     "metadata": {},
     "output_type": "execute_result"
    }
   ],
   "source": [
    "deal_types_df = _parse_api_deal_types(raw_api_response)\n",
    "vendor_df = _parse_api_vendors(raw_api_response)\n",
    "facet_df = _parse_api_facet_groups(raw_api_response)\n",
    "brand_df = _parse_api_brands(raw_api_response)\n",
    "category_df = _parse_api_categories(raw_api_response)\n",
    "\n",
    "\n",
    "df_type = {\n",
    "#     \"deal_type\" : deal_types_df, # not really helpful with the API calls \n",
    "\"vendor\" : vendor_df,\n",
    "\"facet_group\" : facet_df,\n",
    "\"brand\" : brand_df,\n",
    "\"category\" : category_df}\n",
    "\n",
    "all_dfs = pd.concat(df_type)\n",
    "all_dfs.head(30)"
   ]
  },
  {
   "cell_type": "code",
   "execution_count": 12,
   "metadata": {},
   "outputs": [
    {
     "data": {
      "text/html": [
       "<div>\n",
       "<style scoped>\n",
       "    .dataframe tbody tr th:only-of-type {\n",
       "        vertical-align: middle;\n",
       "    }\n",
       "\n",
       "    .dataframe tbody tr th {\n",
       "        vertical-align: top;\n",
       "    }\n",
       "\n",
       "    .dataframe thead th {\n",
       "        text-align: right;\n",
       "    }\n",
       "</style>\n",
       "<table border=\"1\" class=\"dataframe\">\n",
       "  <thead>\n",
       "    <tr style=\"text-align: right;\">\n",
       "      <th></th>\n",
       "      <th>Offers Sum</th>\n",
       "      <th>Group Count</th>\n",
       "      <th>Most Common Name</th>\n",
       "      <th>Most Common Count</th>\n",
       "      <th>Most Common ID</th>\n",
       "    </tr>\n",
       "    <tr>\n",
       "      <th>API Category Name</th>\n",
       "      <th></th>\n",
       "      <th></th>\n",
       "      <th></th>\n",
       "      <th></th>\n",
       "      <th></th>\n",
       "    </tr>\n",
       "  </thead>\n",
       "  <tbody>\n",
       "    <tr>\n",
       "      <th>brand</th>\n",
       "      <td>1094</td>\n",
       "      <td>524</td>\n",
       "      <td>Apple</td>\n",
       "      <td>26</td>\n",
       "      <td>13</td>\n",
       "    </tr>\n",
       "    <tr>\n",
       "      <th>category</th>\n",
       "      <td>2293</td>\n",
       "      <td>29</td>\n",
       "      <td>Home &amp; Garden</td>\n",
       "      <td>832</td>\n",
       "      <td>196</td>\n",
       "    </tr>\n",
       "    <tr>\n",
       "      <th>facet_group</th>\n",
       "      <td>9036</td>\n",
       "      <td>33</td>\n",
       "      <td>Popularity Rank : Popularity: 1/5</td>\n",
       "      <td>3469</td>\n",
       "      <td>1786</td>\n",
       "    </tr>\n",
       "    <tr>\n",
       "      <th>vendor</th>\n",
       "      <td>2126</td>\n",
       "      <td>348</td>\n",
       "      <td>Amazon</td>\n",
       "      <td>794</td>\n",
       "      <td>313</td>\n",
       "    </tr>\n",
       "  </tbody>\n",
       "</table>\n",
       "</div>"
      ],
      "text/plain": [
       "                   Offers Sum  Group Count                   Most Common Name  \\\n",
       "API Category Name                                                               \n",
       "brand                    1094          524                              Apple   \n",
       "category                 2293           29                      Home & Garden   \n",
       "facet_group              9036           33  Popularity Rank : Popularity: 1/5   \n",
       "vendor                   2126          348                             Amazon   \n",
       "\n",
       "                   Most Common Count  Most Common ID  \n",
       "API Category Name                                     \n",
       "brand                             26              13  \n",
       "category                         832             196  \n",
       "facet_group                     3469            1786  \n",
       "vendor                           794             313  "
      ]
     },
     "execution_count": 12,
     "metadata": {},
     "output_type": "execute_result"
    }
   ],
   "source": [
    "summary1 = all_dfs.reset_index().groupby('level_0')\\\n",
    "    .apply(get_summary_of_api_options)\n",
    "summary1.index = summary1.index.rename('API Category Name')\n",
    "summary1"
   ]
  },
  {
   "cell_type": "markdown",
   "metadata": {},
   "source": [
    "### Save to Database"
   ]
  },
  {
   "cell_type": "code",
   "execution_count": 13,
   "metadata": {},
   "outputs": [
    {
     "name": "stderr",
     "output_type": "stream",
     "text": [
      "/home/malcolm/main/lib/python3.6/site-packages/pandas/core/generic.py:2615: UserWarning: The spaces in these column names will not be changed. In pandas versions < 0.14, spaces were converted to underscores.\n",
      "  method=method,\n"
     ]
    }
   ],
   "source": [
    "all_dfs['_dt_pulled'] = datetime.datetime.now().strftime('%Y-%m-%d %H:%M')\n",
    "all_dfs.to_sql('Category Info', con, if_exists='append')\n",
    "\n",
    "summary1['_dt_pulled'] = datetime.datetime.now().strftime('%Y-%m-%d %H:%M')\n",
    "summary1.to_sql('Category Summary', con, if_exists='append')"
   ]
  },
  {
   "cell_type": "markdown",
   "metadata": {},
   "source": [
    "## Parse One API Section Request"
   ]
  },
  {
   "cell_type": "code",
   "execution_count": 14,
   "metadata": {
    "code_folding": [
     1,
     41,
     47,
     53,
     67,
     73,
     89
    ]
   },
   "outputs": [],
   "source": [
    "\n",
    "def parse_easy_elems(content):\n",
    "    content_keys_to_keep = [\n",
    "         'id',\n",
    "         'headline',\n",
    "         'brief_headline',\n",
    "         'summary',\n",
    "         'secondary_summary',\n",
    "         'key_attribute',\n",
    "         'brief_notes',\n",
    "         'url',\n",
    "         'display_date',\n",
    "         'publish_datetime_ts',\n",
    "         'update_datetime_ts',\n",
    "         'expiration_datetime_ts',\n",
    "         'last_verified_datetime_ts',\n",
    "         'editors_choice',\n",
    "         'sponsored',\n",
    "         'expired',\n",
    "         'expires_today',\n",
    "         'exclusive',\n",
    "         'searchable',\n",
    "         'hotness',\n",
    "         'call_out',\n",
    "         'call_out_comparison',\n",
    "         'sub_call_out'\n",
    "    ]\n",
    "    out_dict = {x : content[x] for x in content_keys_to_keep}\n",
    "    return(out_dict)\n",
    "\n",
    "def parse_time_fields(content):\n",
    "    elements = ['publish_datetime_ts',\n",
    "         'update_datetime_ts',\n",
    "         'expiration_datetime_ts',\n",
    "         'last_verified_datetime_ts']\n",
    "    out_dict = {}\n",
    "    for x in elements:\n",
    "        temp_time = content.get(x) if content.get(x) != None else 0\n",
    "        temp_time = datetime.datetime.fromtimestamp(temp_time)\n",
    "        out_dict[x] = datetime.datetime.strftime(temp_time, '%Y-%m-%d %H:%M:%S')\n",
    "        \n",
    "    return(out_dict)\n",
    "\n",
    "def parse_coupon_code(content):\n",
    "    cc_list = content['coupon_code']\n",
    "    cc_code = cc_list[0] if len(cc_list) > 0 else None \n",
    "    out_dict = {\"Coupon Code\":cc_code}\n",
    "    return(out_dict)\n",
    "\n",
    "def _parse_category(cat_dict):\n",
    "    keeper_elements = ['category_id', 'name'\n",
    "                      'path', 'ancestor_list' ]\n",
    "    cat_elems = {x:cat_dict.get(x) for x in keeper_elements}\n",
    "    return(cat_elems)\n",
    "\n",
    "def parse_2_categories(content):\n",
    "    cat_list = content['categories']\n",
    "    out_dict = {}\n",
    "    # Only keep 2 categories \n",
    "    if len(cat_list) < 2:\n",
    "        cat_list.append({})\n",
    "    for dict_num in range(2):\n",
    "        temp_cat_elems = _parse_category(cat_list[dict_num])\n",
    "        temp_cat_elems = {key + '_' +str(dict_num): value \n",
    "                          for key, value in temp_cat_elems.items()}\n",
    "        out_dict.update(temp_cat_elems)\n",
    "    \n",
    "    return(out_dict)\n",
    "\n",
    "def parse_vendor(content):\n",
    "    vend_dict = content['vendor']\n",
    "    keeper_elems = ['vendor_id', 'name']\n",
    "    vend_dict = {x:vend_dict[x] for x in keeper_elems}\n",
    "    return(vend_dict)\n",
    "\n",
    "def _create_img_path(content):\n",
    "    # Create Filename\n",
    "    headline = content.get('headline')\n",
    "    id1 = content.get('id')\n",
    "    file_name = headline + '_' + str(id1) + '.jpg'\n",
    "    file_name = file_name.replace('/', '')\n",
    "    # Create Directory structure \n",
    "    date = str(datetime.datetime.now().date())\n",
    "    base_path = '/mnt/volume-nyc3-01/Dealnews_Images/'\n",
    "    path = base_path + date + '/'\n",
    "    os.makedirs(path, exist_ok=True)\n",
    "    #File Save location \n",
    "    save_location = path + file_name\n",
    "    return(save_location)\n",
    "    \n",
    "def parse_image(content):\n",
    "    image_link = content.get('images').get('XXL').get('url')\n",
    "    save_path = _create_img_path(content)\n",
    "    \n",
    "    urllib.request.urlretrieve(image_link, save_path)\n",
    "    out_dict = {'Image path': save_path}\n",
    "    return(out_dict)\n"
   ]
  },
  {
   "cell_type": "code",
   "execution_count": 15,
   "metadata": {
    "code_folding": [
     0
    ]
   },
   "outputs": [],
   "source": [
    "def parse_dn_item(content):\n",
    "    all_details = {}\n",
    "    \n",
    "    main_elems = parse_easy_elems(content)\n",
    "    all_details.update(main_elems)\n",
    "    \n",
    "    time_fields = parse_time_fields(content)\n",
    "    all_details.update(time_fields)\n",
    "    \n",
    "    cc_code = parse_coupon_code(content)\n",
    "    all_details.update(cc_code)\n",
    "    \n",
    "    categories = parse_2_categories(content)\n",
    "    all_details.update(categories)\n",
    "\n",
    "    vendor = parse_vendor(content)\n",
    "    all_details.update(vendor)\n",
    "    \n",
    "    image_info = parse_image(content)\n",
    "    all_details.update(image_info)\n",
    "    \n",
    "    return(all_details)"
   ]
  },
  {
   "cell_type": "code",
   "execution_count": 16,
   "metadata": {},
   "outputs": [],
   "source": [
    "def _get(colname):\n",
    "    return(popularity.columns.tolist().index(colname))"
   ]
  },
  {
   "cell_type": "raw",
   "metadata": {
    "scrolled": true
   },
   "source": [
    "facet_groups = [x['name'] for x in raw_api_response['facet_groups']]\n",
    "facet_groups"
   ]
  },
  {
   "cell_type": "code",
   "execution_count": 17,
   "metadata": {},
   "outputs": [
    {
     "data": {
      "text/html": [
       "<div>\n",
       "<style scoped>\n",
       "    .dataframe tbody tr th:only-of-type {\n",
       "        vertical-align: middle;\n",
       "    }\n",
       "\n",
       "    .dataframe tbody tr th {\n",
       "        vertical-align: top;\n",
       "    }\n",
       "\n",
       "    .dataframe thead th {\n",
       "        text-align: right;\n",
       "    }\n",
       "</style>\n",
       "<table border=\"1\" class=\"dataframe\">\n",
       "  <thead>\n",
       "    <tr style=\"text-align: right;\">\n",
       "      <th></th>\n",
       "      <th>name</th>\n",
       "      <th>count</th>\n",
       "      <th>id_number</th>\n",
       "      <th>short_name</th>\n",
       "      <th>id_name</th>\n",
       "    </tr>\n",
       "  </thead>\n",
       "  <tbody>\n",
       "    <tr>\n",
       "      <th>0</th>\n",
       "      <td>Popularity Rank : Popularity: 5/5</td>\n",
       "      <td>140</td>\n",
       "      <td>1774</td>\n",
       "      <td>Popularity: 5/5</td>\n",
       "      <td>facet_id</td>\n",
       "    </tr>\n",
       "    <tr>\n",
       "      <th>1</th>\n",
       "      <td>Popularity Rank : Popularity: 4/5</td>\n",
       "      <td>583</td>\n",
       "      <td>1777</td>\n",
       "      <td>Popularity: 4/5</td>\n",
       "      <td>facet_id</td>\n",
       "    </tr>\n",
       "    <tr>\n",
       "      <th>2</th>\n",
       "      <td>Popularity Rank : Popularity: 3/5</td>\n",
       "      <td>2128</td>\n",
       "      <td>1780</td>\n",
       "      <td>Popularity: 3/5</td>\n",
       "      <td>facet_id</td>\n",
       "    </tr>\n",
       "    <tr>\n",
       "      <th>3</th>\n",
       "      <td>Popularity Rank : Popularity: 2/5</td>\n",
       "      <td>1151</td>\n",
       "      <td>1783</td>\n",
       "      <td>Popularity: 2/5</td>\n",
       "      <td>facet_id</td>\n",
       "    </tr>\n",
       "    <tr>\n",
       "      <th>4</th>\n",
       "      <td>Popularity Rank : Popularity: 1/5</td>\n",
       "      <td>3469</td>\n",
       "      <td>1786</td>\n",
       "      <td>Popularity: 1/5</td>\n",
       "      <td>facet_id</td>\n",
       "    </tr>\n",
       "  </tbody>\n",
       "</table>\n",
       "</div>"
      ],
      "text/plain": [
       "                                name  count  id_number       short_name  \\\n",
       "0  Popularity Rank : Popularity: 5/5    140       1774  Popularity: 5/5   \n",
       "1  Popularity Rank : Popularity: 4/5    583       1777  Popularity: 4/5   \n",
       "2  Popularity Rank : Popularity: 3/5   2128       1780  Popularity: 3/5   \n",
       "3  Popularity Rank : Popularity: 2/5   1151       1783  Popularity: 2/5   \n",
       "4  Popularity Rank : Popularity: 1/5   3469       1786  Popularity: 1/5   \n",
       "\n",
       "    id_name  \n",
       "0  facet_id  \n",
       "1  facet_id  \n",
       "2  facet_id  \n",
       "3  facet_id  \n",
       "4  facet_id  "
      ]
     },
     "execution_count": 17,
     "metadata": {},
     "output_type": "execute_result"
    }
   ],
   "source": [
    "popularity = facet_df[facet_df.name.str.contains('Popularity Rank')]\n",
    "# popularity['n_api_return_items'] = 70\n",
    "# popularity['# of times to call'] = popularity['count']/popularity['n_api_return_items']\n",
    "# popularity['# of times to call'] = 1 + popularity['# of times to call'].astype('int')\n",
    "# popularity['# of times to call'] = 3\n",
    "popularity"
   ]
  },
  {
   "cell_type": "code",
   "execution_count": 18,
   "metadata": {},
   "outputs": [
    {
     "data": {
      "text/plain": [
       "{'Popularity Rank : Popularity: 1/5': '2021-06-21 17:48:21',\n",
       " 'Popularity Rank : Popularity: 2/5': '2021-06-21 18:00:00',\n",
       " 'Popularity Rank : Popularity: 3/5': '2021-06-21 18:11:22',\n",
       " 'Popularity Rank : Popularity: 4/5': '2021-06-21 18:07:46',\n",
       " 'Popularity Rank : Popularity: 5/5': '2021-06-21 18:02:38'}"
      ]
     },
     "execution_count": 18,
     "metadata": {},
     "output_type": "execute_result"
    }
   ],
   "source": [
    "last_published_item_raw = cursor.execute(\"\"\"\n",
    "select `API Feed`, max(publish_datetime_ts) \n",
    "from `Dealnews Items`\n",
    "group by `API Feed`\n",
    "\"\"\").fetchall()\n",
    "\n",
    "# For all the items \n",
    "# last_published_dict = {x: str(datetime.datetime(1980, 1, 1)) for x in popularity['name'].tolist()}\n",
    "last_published_dict = {x[0]: str(datetime.datetime.strptime(x[1], '%Y-%m-%d %H:%M:%S')) for x in last_published_item_raw}\n",
    "last_published_dict"
   ]
  },
  {
   "cell_type": "code",
   "execution_count": 22,
   "metadata": {},
   "outputs": [],
   "source": [
    "base_path = '/mnt/volume-nyc3-01'"
   ]
  },
  {
   "cell_type": "code",
   "execution_count": 19,
   "metadata": {
    "scrolled": true
   },
   "outputs": [
    {
     "name": "stdout",
     "output_type": "stream",
     "text": [
      "On group: \n",
      " name          Popularity Rank : Popularity: 5/5\n",
      "count                                       140\n",
      "id_number                                  1774\n",
      "short_name                      Popularity: 5/5\n",
      "id_name                                facet_id\n",
      "Name: 0, dtype: object\n"
     ]
    },
    {
     "data": {
      "application/vnd.jupyter.widget-view+json": {
       "model_id": "e703cc8982414eeeb182998ab50b33b8",
       "version_major": 2,
       "version_minor": 0
      },
      "text/plain": [
       "HBox(children=(HTML(value=''), FloatProgress(value=0.0, max=70.0), HTML(value='')))"
      ]
     },
     "metadata": {},
     "output_type": "display_data"
    },
    {
     "name": "stdout",
     "output_type": "stream",
     "text": [
      "\n",
      "On group: \n",
      " name          Popularity Rank : Popularity: 4/5\n",
      "count                                       583\n",
      "id_number                                  1777\n",
      "short_name                      Popularity: 4/5\n",
      "id_name                                facet_id\n",
      "Name: 1, dtype: object\n"
     ]
    },
    {
     "data": {
      "application/vnd.jupyter.widget-view+json": {
       "model_id": "9e06de6f80fd4395957c312229de49b8",
       "version_major": 2,
       "version_minor": 0
      },
      "text/plain": [
       "HBox(children=(HTML(value=''), FloatProgress(value=0.0, max=70.0), HTML(value='')))"
      ]
     },
     "metadata": {},
     "output_type": "display_data"
    },
    {
     "name": "stdout",
     "output_type": "stream",
     "text": [
      "\n",
      "On group: \n",
      " name          Popularity Rank : Popularity: 3/5\n",
      "count                                      2128\n",
      "id_number                                  1780\n",
      "short_name                      Popularity: 3/5\n",
      "id_name                                facet_id\n",
      "Name: 2, dtype: object\n"
     ]
    },
    {
     "data": {
      "application/vnd.jupyter.widget-view+json": {
       "model_id": "7327ebe169bf4ca781d4c10748431c7b",
       "version_major": 2,
       "version_minor": 0
      },
      "text/plain": [
       "HBox(children=(HTML(value=''), FloatProgress(value=0.0, max=70.0), HTML(value='')))"
      ]
     },
     "metadata": {},
     "output_type": "display_data"
    },
    {
     "name": "stdout",
     "output_type": "stream",
     "text": [
      "\n",
      "On group: \n",
      " name          Popularity Rank : Popularity: 2/5\n",
      "count                                      1151\n",
      "id_number                                  1783\n",
      "short_name                      Popularity: 2/5\n",
      "id_name                                facet_id\n",
      "Name: 3, dtype: object\n"
     ]
    },
    {
     "data": {
      "application/vnd.jupyter.widget-view+json": {
       "model_id": "756552c2e3ab4899afdb5da95b83df89",
       "version_major": 2,
       "version_minor": 0
      },
      "text/plain": [
       "HBox(children=(HTML(value=''), FloatProgress(value=0.0, max=70.0), HTML(value='')))"
      ]
     },
     "metadata": {},
     "output_type": "display_data"
    },
    {
     "name": "stdout",
     "output_type": "stream",
     "text": [
      "\n",
      "On group: \n",
      " name          Popularity Rank : Popularity: 1/5\n",
      "count                                      3469\n",
      "id_number                                  1786\n",
      "short_name                      Popularity: 1/5\n",
      "id_name                                facet_id\n",
      "Name: 4, dtype: object\n"
     ]
    },
    {
     "data": {
      "application/vnd.jupyter.widget-view+json": {
       "model_id": "c3ed42e036574371aec4e1f1dde814ad",
       "version_major": 2,
       "version_minor": 0
      },
      "text/plain": [
       "HBox(children=(HTML(value=''), FloatProgress(value=0.0, max=70.0), HTML(value='')))"
      ]
     },
     "metadata": {},
     "output_type": "display_data"
    },
    {
     "name": "stdout",
     "output_type": "stream",
     "text": [
      "\n"
     ]
    }
   ],
   "source": [
    "page_items = []\n",
    "for row in popularity.iterrows():\n",
    "    # Set up \n",
    "    row = row[1]\n",
    "    print(\"On group: \\n\", row)\n",
    "    temp_name = row[_get('name')]\n",
    "    id_num = row[_get('id_number')]\n",
    "    temp_link = f'https://api.dealnews.com/content?facet_ids={id_num}&count=70'\n",
    "    raw_api_response = get_dealnews_feed(temp_link)\n",
    "    last_published_item = last_published_dict[temp_name]\n",
    "    \n",
    "    # Parse each item \n",
    "    for content1 in tqdm(raw_api_response['content']):\n",
    "        elems = parse_dn_item(content1)\n",
    "        elems['API Feed'] = temp_name\n",
    "        elems['API id_number'] = id_num\n",
    "        elems_series = pd.Series(elems)\n",
    "        item_publish_time = elems_series['publish_datetime_ts'] \n",
    "        if item_publish_time > last_published_item:\n",
    "            page_items.append(elems_series)"
   ]
  },
  {
   "cell_type": "code",
   "execution_count": 20,
   "metadata": {
    "scrolled": true
   },
   "outputs": [],
   "source": [
    "if len(page_items) > 0:\n",
    "    dn_today = pd.concat(page_items, axis =1).T\n",
    "    print(f\"Saving {dn_today.shape[0]} items\") \n",
    "    dn_today['_dt_pulled'] = datetime.datetime.now().strftime('%Y-%m-%d %H:%M')\n",
    "    dn_today.to_sql('Dealnews Items', con, index=False, if_exists='append')"
   ]
  },
  {
   "cell_type": "code",
   "execution_count": 21,
   "metadata": {},
   "outputs": [],
   "source": [
    "con.close()"
   ]
  },
  {
   "cell_type": "code",
   "execution_count": null,
   "metadata": {},
   "outputs": [],
   "source": []
  },
  {
   "cell_type": "code",
   "execution_count": null,
   "metadata": {},
   "outputs": [],
   "source": []
  }
 ],
 "metadata": {
  "kernelspec": {
   "display_name": "Python 3",
   "language": "python",
   "name": "python3"
  },
  "language_info": {
   "codemirror_mode": {
    "name": "ipython",
    "version": 3
   },
   "file_extension": ".py",
   "mimetype": "text/x-python",
   "name": "python",
   "nbconvert_exporter": "python",
   "pygments_lexer": "ipython3",
   "version": "3.6.9"
  },
  "toc": {
   "base_numbering": 1,
   "nav_menu": {},
   "number_sections": true,
   "sideBar": true,
   "skip_h1_title": false,
   "title_cell": "Table of Contents",
   "title_sidebar": "Contents",
   "toc_cell": false,
   "toc_position": {},
   "toc_section_display": true,
   "toc_window_display": true
  }
 },
 "nbformat": 4,
 "nbformat_minor": 4
}
