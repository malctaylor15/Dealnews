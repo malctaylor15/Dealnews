{
 "cells": [
  {
   "cell_type": "code",
   "execution_count": 2,
   "metadata": {},
   "outputs": [],
   "source": [
    "import sqlite3\n",
    "import pandas as pd \n",
    "import numpy as np \n",
    "\n",
    "pd.set_option('max_colwidth', 300)\n",
    "pd.set_option('max_columns', 100)\n",
    "pd.set_option('max_rows', 300)"
   ]
  },
  {
   "cell_type": "markdown",
   "metadata": {},
   "source": [
    "## Peaking at the Structure"
   ]
  },
  {
   "cell_type": "code",
   "execution_count": 3,
   "metadata": {},
   "outputs": [
    {
     "name": "stdout",
     "output_type": "stream",
     "text": [
      "/home/malcolm/Dealnews\r\n"
     ]
    }
   ],
   "source": [
    "!pwd"
   ]
  },
  {
   "cell_type": "code",
   "execution_count": 4,
   "metadata": {},
   "outputs": [
    {
     "data": {
      "text/plain": [
       "['Category Info', 'Category Summary', 'Dealnews Items']"
      ]
     },
     "execution_count": 4,
     "metadata": {},
     "output_type": "execute_result"
    }
   ],
   "source": [
    "con = sqlite3.connect('/home/malcolm/Dealnews/dealnews.db')\n",
    "cursor = con.cursor()\n",
    "\n",
    "tables = cursor.execute(\"SELECT name FROM sqlite_master WHERE type='table'\").fetchall()\n",
    "tables = [x[0] for x in tables]\n",
    "tables"
   ]
  },
  {
   "cell_type": "code",
   "execution_count": 5,
   "metadata": {
    "scrolled": true
   },
   "outputs": [
    {
     "data": {
      "text/plain": [
       "[(0, 'id', 'INTEGER', 0, None, 0),\n",
       " (1, 'headline', 'TEXT', 0, None, 0),\n",
       " (2, 'brief_headline', 'TEXT', 0, None, 0),\n",
       " (3, 'summary', 'TEXT', 0, None, 0),\n",
       " (4, 'secondary_summary', 'TEXT', 0, None, 0),\n",
       " (5, 'key_attribute', 'TEXT', 0, None, 0),\n",
       " (6, 'brief_notes', 'TEXT', 0, None, 0),\n",
       " (7, 'url', 'TEXT', 0, None, 0),\n",
       " (8, 'display_date', 'TEXT', 0, None, 0),\n",
       " (9, 'publish_datetime_ts', 'TEXT', 0, None, 0),\n",
       " (10, 'update_datetime_ts', 'TEXT', 0, None, 0),\n",
       " (11, 'expiration_datetime_ts', 'TEXT', 0, None, 0),\n",
       " (12, 'last_verified_datetime_ts', 'TEXT', 0, None, 0),\n",
       " (13, 'editors_choice', 'INTEGER', 0, None, 0),\n",
       " (14, 'sponsored', 'INTEGER', 0, None, 0),\n",
       " (15, 'expired', 'INTEGER', 0, None, 0),\n",
       " (16, 'expires_today', 'INTEGER', 0, None, 0),\n",
       " (17, 'exclusive', 'INTEGER', 0, None, 0),\n",
       " (18, 'searchable', 'INTEGER', 0, None, 0),\n",
       " (19, 'hotness', 'INTEGER', 0, None, 0),\n",
       " (20, 'call_out', 'TEXT', 0, None, 0),\n",
       " (21, 'call_out_comparison', 'TEXT', 0, None, 0),\n",
       " (22, 'sub_call_out', 'TEXT', 0, None, 0),\n",
       " (23, 'Coupon Code', 'TEXT', 0, None, 0),\n",
       " (24, 'category_id_0', 'INTEGER', 0, None, 0),\n",
       " (25, 'namepath_0', 'TEXT', 0, None, 0),\n",
       " (26, 'ancestor_list_0', 'TEXT', 0, None, 0),\n",
       " (27, 'category_id_1', 'TEXT', 0, None, 0),\n",
       " (28, 'namepath_1', 'TEXT', 0, None, 0),\n",
       " (29, 'ancestor_list_1', 'TEXT', 0, None, 0),\n",
       " (30, 'vendor_id', 'INTEGER', 0, None, 0),\n",
       " (31, 'name', 'TEXT', 0, None, 0),\n",
       " (32, 'Image path', 'TEXT', 0, None, 0),\n",
       " (33, 'API Feed', 'TEXT', 0, None, 0),\n",
       " (34, 'API id_number', 'INTEGER', 0, None, 0),\n",
       " (35, '_dt_pulled', 'TEXT', 0, None, 0)]"
      ]
     },
     "execution_count": 5,
     "metadata": {},
     "output_type": "execute_result"
    }
   ],
   "source": [
    "cursor.execute(\"pragma table_info(`dealnews items`)\").fetchall()"
   ]
  },
  {
   "cell_type": "code",
   "execution_count": 6,
   "metadata": {
    "scrolled": true
   },
   "outputs": [
    {
     "data": {
      "text/html": [
       "<div>\n",
       "<style scoped>\n",
       "    .dataframe tbody tr th:only-of-type {\n",
       "        vertical-align: middle;\n",
       "    }\n",
       "\n",
       "    .dataframe tbody tr th {\n",
       "        vertical-align: top;\n",
       "    }\n",
       "\n",
       "    .dataframe thead th {\n",
       "        text-align: right;\n",
       "    }\n",
       "</style>\n",
       "<table border=\"1\" class=\"dataframe\">\n",
       "  <thead>\n",
       "    <tr style=\"text-align: right;\">\n",
       "      <th></th>\n",
       "      <th>id</th>\n",
       "      <th>headline</th>\n",
       "      <th>brief_headline</th>\n",
       "      <th>summary</th>\n",
       "      <th>secondary_summary</th>\n",
       "      <th>key_attribute</th>\n",
       "      <th>brief_notes</th>\n",
       "      <th>url</th>\n",
       "      <th>display_date</th>\n",
       "      <th>publish_datetime_ts</th>\n",
       "      <th>update_datetime_ts</th>\n",
       "      <th>expiration_datetime_ts</th>\n",
       "      <th>last_verified_datetime_ts</th>\n",
       "      <th>editors_choice</th>\n",
       "      <th>sponsored</th>\n",
       "      <th>expired</th>\n",
       "      <th>expires_today</th>\n",
       "      <th>exclusive</th>\n",
       "      <th>searchable</th>\n",
       "      <th>hotness</th>\n",
       "      <th>call_out</th>\n",
       "      <th>call_out_comparison</th>\n",
       "      <th>sub_call_out</th>\n",
       "      <th>Coupon Code</th>\n",
       "      <th>category_id_0</th>\n",
       "      <th>namepath_0</th>\n",
       "      <th>ancestor_list_0</th>\n",
       "      <th>category_id_1</th>\n",
       "      <th>namepath_1</th>\n",
       "      <th>ancestor_list_1</th>\n",
       "      <th>vendor_id</th>\n",
       "      <th>name</th>\n",
       "      <th>Image path</th>\n",
       "      <th>API Feed</th>\n",
       "      <th>API id_number</th>\n",
       "      <th>_dt_pulled</th>\n",
       "    </tr>\n",
       "  </thead>\n",
       "  <tbody>\n",
       "    <tr>\n",
       "      <th>0</th>\n",
       "      <td>19319075</td>\n",
       "      <td>Zippo Lighters at Amazon</td>\n",
       "      <td>Zippo Lighters at Amazon: + free shipping w/ Prime</td>\n",
       "      <td>Save about 15% off or more on most Zippo items on offer, including fuel canisters, lighters, and more.</td>\n",
       "      <td>&lt;div class=\"snippet summary\" title=\"Save&amp;#x20;about&amp;#x20;15&amp;#x25;&amp;#x20;off&amp;#x20;or&amp;#x20;more&amp;#x20;on&amp;#x20;most&amp;#x20;Zippo&amp;#x20;items&amp;#x20;on&amp;#x20;offer,&amp;#x20;including&amp;#x20;fuel&amp;#x20;canisters,&amp;#x20;lighters,&amp;#x20;and&amp;#x20;more.\"&gt; &lt;p&gt;Save about 15% off or more on most Zippo items on offer, inclu...</td>\n",
       "      <td>Amazon</td>\n",
       "      <td>Pictured is the Zippo Matte Pocket Lighter for $15.93 ($6 off).</td>\n",
       "      <td>https://www.dealnews.com/Zippo-Lighters-at-Amazon-free-shipping-w-Prime/19319075.html?iref=site-widget</td>\n",
       "      <td>Last verified 1 hr 19 min ago</td>\n",
       "      <td>2021-06-18 16:50:19</td>\n",
       "      <td>2021-06-18 18:02:29</td>\n",
       "      <td>1970-01-01 00:00:00</td>\n",
       "      <td>2021-06-18 16:50:19</td>\n",
       "      <td>0</td>\n",
       "      <td>0</td>\n",
       "      <td>0</td>\n",
       "      <td>0</td>\n",
       "      <td>0</td>\n",
       "      <td>1</td>\n",
       "      <td>5</td>\n",
       "      <td></td>\n",
       "      <td></td>\n",
       "      <td>free shipping w/ Prime</td>\n",
       "      <td>None</td>\n",
       "      <td>197</td>\n",
       "      <td>None</td>\n",
       "      <td>196</td>\n",
       "      <td>None</td>\n",
       "      <td>None</td>\n",
       "      <td>None</td>\n",
       "      <td>313</td>\n",
       "      <td>Amazon</td>\n",
       "      <td>/home/malcolm/Demo with APIs/Dealnews Images/2021-06-18/Zippo Lighters at Amazon_19319075.jpg</td>\n",
       "      <td>Popularity Rank : Popularity: 5/5</td>\n",
       "      <td>1774</td>\n",
       "      <td>2021-06-18 18:10</td>\n",
       "    </tr>\n",
       "    <tr>\n",
       "      <th>1</th>\n",
       "      <td>19319108</td>\n",
       "      <td>Staples Fitness Clearance Deals</td>\n",
       "      <td>Staples Fitness Clearance Deals: Save on 20 items</td>\n",
       "      <td>Save on a selection of medicine balls, speed ropes, resistance bands, and more.</td>\n",
       "      <td>&lt;div class=\"snippet summary\" title=\"Save&amp;#x20;on&amp;#x20;a&amp;#x20;selection&amp;#x20;of&amp;#x20;medicine&amp;#x20;balls,&amp;#x20;speed&amp;#x20;ropes,&amp;#x20;resistance&amp;#x20;bands,&amp;#x20;and&amp;#x20;more.\"&gt; &lt;p&gt;Save on a selection of medicine balls, speed ropes, resistance bands, and more. &lt;a target=\"_blank\" href=\"https://ww...</td>\n",
       "      <td>Staples</td>\n",
       "      <td>Pictured is the SPRI Xerball 4-Lb. Medicine Ball for $18.13 (low by $19). Shipping is free over $25 for Staples Rewards members. (It's free to join. Plus, you'll receive no minimum free shipping for the first 3 months.)</td>\n",
       "      <td>https://www.dealnews.com/Staples-Fitness-Clearance-Deals-Save-on-20-items-free-shipping/19319108.html?iref=site-widget</td>\n",
       "      <td>Last verified 1 hr 15 min ago</td>\n",
       "      <td>2021-06-18 16:54:14</td>\n",
       "      <td>2021-06-18 18:02:28</td>\n",
       "      <td>1970-01-01 00:00:00</td>\n",
       "      <td>2021-06-18 16:54:14</td>\n",
       "      <td>0</td>\n",
       "      <td>0</td>\n",
       "      <td>0</td>\n",
       "      <td>0</td>\n",
       "      <td>0</td>\n",
       "      <td>1</td>\n",
       "      <td>5</td>\n",
       "      <td>Save on 20 items</td>\n",
       "      <td></td>\n",
       "      <td>free shipping</td>\n",
       "      <td>None</td>\n",
       "      <td>655</td>\n",
       "      <td>None</td>\n",
       "      <td>211</td>\n",
       "      <td>None</td>\n",
       "      <td>None</td>\n",
       "      <td>None</td>\n",
       "      <td>274</td>\n",
       "      <td>Staples</td>\n",
       "      <td>/home/malcolm/Demo with APIs/Dealnews Images/2021-06-18/Staples Fitness Clearance Deals_19319108.jpg</td>\n",
       "      <td>Popularity Rank : Popularity: 5/5</td>\n",
       "      <td>1774</td>\n",
       "      <td>2021-06-18 18:10</td>\n",
       "    </tr>\n",
       "    <tr>\n",
       "      <th>2</th>\n",
       "      <td>19319048</td>\n",
       "      <td>Yardistry Gazebo Mosquito Mesh Kit</td>\n",
       "      <td>Yardistry Gazebo Mosquito Mesh Kit from $250 for members</td>\n",
       "      <td>While not all the sizes are readily available for comparison, you'd pay $50 more for the 12x12-ft. kit at Home Depot.</td>\n",
       "      <td>&lt;div class=\"snippet summary\" title=\"While&amp;#x20;not&amp;#x20;all&amp;#x20;the&amp;#x20;sizes&amp;#x20;are&amp;#x20;readily&amp;#x20;available&amp;#x20;for&amp;#x20;comparison,&amp;#x20;you&amp;#x27;d&amp;#x20;pay&amp;#x20;&amp;#x24;50&amp;#x20;more&amp;#x20;for&amp;#x20;the&amp;#x20;12x12-ft.&amp;#x20;kit&amp;#x20;at&amp;#x20;Home&amp;#x20;Depot.\"&gt; &lt;p&gt;While not all the sizes are...</td>\n",
       "      <td>Costco</td>\n",
       "      <td>Free shipping. Non-members pay a 5% surcharge. Model: YM12938.</td>\n",
       "      <td>https://www.dealnews.com/products/Yardistry/Yardistry-Gazebo-Mosquito-Mesh-Kit/230813.html?iref=site-widget</td>\n",
       "      <td>Last verified 2 hr 1 min ago</td>\n",
       "      <td>2021-06-18 16:08:26</td>\n",
       "      <td>2021-06-18 18:02:35</td>\n",
       "      <td>1970-01-01 00:00:00</td>\n",
       "      <td>2021-06-18 16:08:25</td>\n",
       "      <td>0</td>\n",
       "      <td>0</td>\n",
       "      <td>0</td>\n",
       "      <td>0</td>\n",
       "      <td>0</td>\n",
       "      <td>1</td>\n",
       "      <td>5</td>\n",
       "      <td>from $250 for members</td>\n",
       "      <td></td>\n",
       "      <td>free shipping</td>\n",
       "      <td>None</td>\n",
       "      <td>744</td>\n",
       "      <td>None</td>\n",
       "      <td>196,198</td>\n",
       "      <td>None</td>\n",
       "      <td>None</td>\n",
       "      <td>None</td>\n",
       "      <td>897</td>\n",
       "      <td>Costco</td>\n",
       "      <td>/home/malcolm/Demo with APIs/Dealnews Images/2021-06-18/Yardistry Gazebo Mosquito Mesh Kit_19319048.jpg</td>\n",
       "      <td>Popularity Rank : Popularity: 5/5</td>\n",
       "      <td>1774</td>\n",
       "      <td>2021-06-18 18:10</td>\n",
       "    </tr>\n",
       "    <tr>\n",
       "      <th>3</th>\n",
       "      <td>19319087</td>\n",
       "      <td>Haliluya 100-Ft. 5-in-1 Expandable Garden Hose Set</td>\n",
       "      <td>Haliluya 100-Ft. 5-in-1 Expandable Garden Hose Set for $30</td>\n",
       "      <td>Apply coupon code \"57QBJPCJ\" for a savings of $30.</td>\n",
       "      <td>&lt;div class=\"body-offer body-burst\"&gt; &lt;div class=\"snippet summary\" title=\"Apply&amp;#x20;coupon&amp;#x20;code&amp;#x20;&amp;quot;57QBJPCJ&amp;quot;&amp;#x20;for&amp;#x20;a&amp;#x20;savings&amp;#x20;of&amp;#x20;&amp;#x24;30.\"&gt; &lt;p&gt;Apply coupon code \"57QBJPCJ\" for a savings of $30. &lt;a target=\"_blank\" href=\"https://www.dealnews.com/lw/click.htm...</td>\n",
       "      <td>Amazon</td>\n",
       "      <td>Free shipping. Available in Blank-Green. Sold by uxian via Amazon. &lt;br&gt;&lt;b&gt;Features:&lt;/b&gt; 3/4\" brass connectors, 4 layer natural latex tube and includes hose, 9-mode spray nozzle, storage pouch, hanging hook, 2 rubber washers.</td>\n",
       "      <td>https://www.dealnews.com/Haliluya-100-Ft-5-in-1-Expandable-Garden-Hose-Set-for-30-free-shipping/19319087.html?iref=site-widget</td>\n",
       "      <td>Last verified 1 hr 23 min ago</td>\n",
       "      <td>2021-06-18 16:46:38</td>\n",
       "      <td>2021-06-18 18:02:30</td>\n",
       "      <td>2021-06-24 12:31:00</td>\n",
       "      <td>2021-06-18 16:46:37</td>\n",
       "      <td>0</td>\n",
       "      <td>0</td>\n",
       "      <td>0</td>\n",
       "      <td>0</td>\n",
       "      <td>0</td>\n",
       "      <td>1</td>\n",
       "      <td>4</td>\n",
       "      <td>$30</td>\n",
       "      <td>$60</td>\n",
       "      <td>free shipping</td>\n",
       "      <td>57QBJPCJ</td>\n",
       "      <td>198</td>\n",
       "      <td>None</td>\n",
       "      <td>196</td>\n",
       "      <td>None</td>\n",
       "      <td>None</td>\n",
       "      <td>None</td>\n",
       "      <td>313</td>\n",
       "      <td>Amazon</td>\n",
       "      <td>/home/malcolm/Demo with APIs/Dealnews Images/2021-06-18/Haliluya 100-Ft. 5-in-1 Expandable Garden Hose Set_19319087.jpg</td>\n",
       "      <td>Popularity Rank : Popularity: 4/5</td>\n",
       "      <td>1777</td>\n",
       "      <td>2021-06-18 18:10</td>\n",
       "    </tr>\n",
       "    <tr>\n",
       "      <th>4</th>\n",
       "      <td>19319186</td>\n",
       "      <td>Coisum Memory Foam Contour Pillow</td>\n",
       "      <td>Coisum Memory Foam Contour Pillow for $17</td>\n",
       "      <td>Apply coupon code \"W4LI2ORT\" for a savings of $18.</td>\n",
       "      <td>&lt;div class=\"body-offer body-burst\"&gt; &lt;div class=\"snippet summary\" title=\"Apply&amp;#x20;coupon&amp;#x20;code&amp;#x20;&amp;quot;W4LI2ORT&amp;quot;&amp;#x20;for&amp;#x20;a&amp;#x20;savings&amp;#x20;of&amp;#x20;&amp;#x24;18.\"&gt; &lt;p&gt;Apply coupon code \"W4LI2ORT\" for a savings of $18. &lt;a target=\"_blank\" href=\"https://www.dealnews.com/lw/click.htm...</td>\n",
       "      <td>Amazon</td>\n",
       "      <td>Free shipping. Sold by Maliton via Amazon. &lt;br&gt;&lt;b&gt;Features:&lt;/b&gt; for back and side sleepers, 60D memory foam, ergonomic design, washable cover and ventilated.</td>\n",
       "      <td>https://www.dealnews.com/Coisum-Memory-Foam-Contour-Pillow-for-17-free-shipping/19319186.html?iref=site-widget</td>\n",
       "      <td>Last verified 32 min ago</td>\n",
       "      <td>2021-06-18 17:37:49</td>\n",
       "      <td>2021-06-18 18:02:22</td>\n",
       "      <td>2021-07-01 04:59:00</td>\n",
       "      <td>2021-06-18 17:37:48</td>\n",
       "      <td>0</td>\n",
       "      <td>0</td>\n",
       "      <td>0</td>\n",
       "      <td>0</td>\n",
       "      <td>0</td>\n",
       "      <td>1</td>\n",
       "      <td>4</td>\n",
       "      <td>$17</td>\n",
       "      <td>$35</td>\n",
       "      <td>free shipping</td>\n",
       "      <td>W4LI2ORT</td>\n",
       "      <td>638</td>\n",
       "      <td>None</td>\n",
       "      <td>196,360</td>\n",
       "      <td>None</td>\n",
       "      <td>None</td>\n",
       "      <td>None</td>\n",
       "      <td>313</td>\n",
       "      <td>Amazon</td>\n",
       "      <td>/home/malcolm/Demo with APIs/Dealnews Images/2021-06-18/Coisum Memory Foam Contour Pillow_19319186.jpg</td>\n",
       "      <td>Popularity Rank : Popularity: 4/5</td>\n",
       "      <td>1777</td>\n",
       "      <td>2021-06-18 18:10</td>\n",
       "    </tr>\n",
       "  </tbody>\n",
       "</table>\n",
       "</div>"
      ],
      "text/plain": [
       "         id                                            headline  \\\n",
       "0  19319075                            Zippo Lighters at Amazon   \n",
       "1  19319108                     Staples Fitness Clearance Deals   \n",
       "2  19319048                  Yardistry Gazebo Mosquito Mesh Kit   \n",
       "3  19319087  Haliluya 100-Ft. 5-in-1 Expandable Garden Hose Set   \n",
       "4  19319186                   Coisum Memory Foam Contour Pillow   \n",
       "\n",
       "                                               brief_headline  \\\n",
       "0          Zippo Lighters at Amazon: + free shipping w/ Prime   \n",
       "1           Staples Fitness Clearance Deals: Save on 20 items   \n",
       "2    Yardistry Gazebo Mosquito Mesh Kit from $250 for members   \n",
       "3  Haliluya 100-Ft. 5-in-1 Expandable Garden Hose Set for $30   \n",
       "4                   Coisum Memory Foam Contour Pillow for $17   \n",
       "\n",
       "                                                                                                                 summary  \\\n",
       "0                 Save about 15% off or more on most Zippo items on offer, including fuel canisters, lighters, and more.   \n",
       "1                                        Save on a selection of medicine balls, speed ropes, resistance bands, and more.   \n",
       "2  While not all the sizes are readily available for comparison, you'd pay $50 more for the 12x12-ft. kit at Home Depot.   \n",
       "3                                                                     Apply coupon code \"57QBJPCJ\" for a savings of $30.   \n",
       "4                                                                     Apply coupon code \"W4LI2ORT\" for a savings of $18.   \n",
       "\n",
       "                                                                                                                                                                                                                                                                                             secondary_summary  \\\n",
       "0  <div class=\"snippet summary\" title=\"Save&#x20;about&#x20;15&#x25;&#x20;off&#x20;or&#x20;more&#x20;on&#x20;most&#x20;Zippo&#x20;items&#x20;on&#x20;offer,&#x20;including&#x20;fuel&#x20;canisters,&#x20;lighters,&#x20;and&#x20;more.\"> <p>Save about 15% off or more on most Zippo items on offer, inclu...   \n",
       "1  <div class=\"snippet summary\" title=\"Save&#x20;on&#x20;a&#x20;selection&#x20;of&#x20;medicine&#x20;balls,&#x20;speed&#x20;ropes,&#x20;resistance&#x20;bands,&#x20;and&#x20;more.\"> <p>Save on a selection of medicine balls, speed ropes, resistance bands, and more. <a target=\"_blank\" href=\"https://ww...   \n",
       "2  <div class=\"snippet summary\" title=\"While&#x20;not&#x20;all&#x20;the&#x20;sizes&#x20;are&#x20;readily&#x20;available&#x20;for&#x20;comparison,&#x20;you&#x27;d&#x20;pay&#x20;&#x24;50&#x20;more&#x20;for&#x20;the&#x20;12x12-ft.&#x20;kit&#x20;at&#x20;Home&#x20;Depot.\"> <p>While not all the sizes are...   \n",
       "3  <div class=\"body-offer body-burst\"> <div class=\"snippet summary\" title=\"Apply&#x20;coupon&#x20;code&#x20;&quot;57QBJPCJ&quot;&#x20;for&#x20;a&#x20;savings&#x20;of&#x20;&#x24;30.\"> <p>Apply coupon code \"57QBJPCJ\" for a savings of $30. <a target=\"_blank\" href=\"https://www.dealnews.com/lw/click.htm...   \n",
       "4  <div class=\"body-offer body-burst\"> <div class=\"snippet summary\" title=\"Apply&#x20;coupon&#x20;code&#x20;&quot;W4LI2ORT&quot;&#x20;for&#x20;a&#x20;savings&#x20;of&#x20;&#x24;18.\"> <p>Apply coupon code \"W4LI2ORT\" for a savings of $18. <a target=\"_blank\" href=\"https://www.dealnews.com/lw/click.htm...   \n",
       "\n",
       "  key_attribute  \\\n",
       "0        Amazon   \n",
       "1       Staples   \n",
       "2        Costco   \n",
       "3        Amazon   \n",
       "4        Amazon   \n",
       "\n",
       "                                                                                                                                                                                                                        brief_notes  \\\n",
       "0                                                                                                                                                                   Pictured is the Zippo Matte Pocket Lighter for $15.93 ($6 off).   \n",
       "1       Pictured is the SPRI Xerball 4-Lb. Medicine Ball for $18.13 (low by $19). Shipping is free over $25 for Staples Rewards members. (It's free to join. Plus, you'll receive no minimum free shipping for the first 3 months.)   \n",
       "2                                                                                                                                                                    Free shipping. Non-members pay a 5% surcharge. Model: YM12938.   \n",
       "3  Free shipping. Available in Blank-Green. Sold by uxian via Amazon. <br><b>Features:</b> 3/4\" brass connectors, 4 layer natural latex tube and includes hose, 9-mode spray nozzle, storage pouch, hanging hook, 2 rubber washers.   \n",
       "4                                                                     Free shipping. Sold by Maliton via Amazon. <br><b>Features:</b> for back and side sleepers, 60D memory foam, ergonomic design, washable cover and ventilated.   \n",
       "\n",
       "                                                                                                                              url  \\\n",
       "0                          https://www.dealnews.com/Zippo-Lighters-at-Amazon-free-shipping-w-Prime/19319075.html?iref=site-widget   \n",
       "1          https://www.dealnews.com/Staples-Fitness-Clearance-Deals-Save-on-20-items-free-shipping/19319108.html?iref=site-widget   \n",
       "2                     https://www.dealnews.com/products/Yardistry/Yardistry-Gazebo-Mosquito-Mesh-Kit/230813.html?iref=site-widget   \n",
       "3  https://www.dealnews.com/Haliluya-100-Ft-5-in-1-Expandable-Garden-Hose-Set-for-30-free-shipping/19319087.html?iref=site-widget   \n",
       "4                  https://www.dealnews.com/Coisum-Memory-Foam-Contour-Pillow-for-17-free-shipping/19319186.html?iref=site-widget   \n",
       "\n",
       "                    display_date  publish_datetime_ts   update_datetime_ts  \\\n",
       "0  Last verified 1 hr 19 min ago  2021-06-18 16:50:19  2021-06-18 18:02:29   \n",
       "1  Last verified 1 hr 15 min ago  2021-06-18 16:54:14  2021-06-18 18:02:28   \n",
       "2   Last verified 2 hr 1 min ago  2021-06-18 16:08:26  2021-06-18 18:02:35   \n",
       "3  Last verified 1 hr 23 min ago  2021-06-18 16:46:38  2021-06-18 18:02:30   \n",
       "4       Last verified 32 min ago  2021-06-18 17:37:49  2021-06-18 18:02:22   \n",
       "\n",
       "  expiration_datetime_ts last_verified_datetime_ts  editors_choice  sponsored  \\\n",
       "0    1970-01-01 00:00:00       2021-06-18 16:50:19               0          0   \n",
       "1    1970-01-01 00:00:00       2021-06-18 16:54:14               0          0   \n",
       "2    1970-01-01 00:00:00       2021-06-18 16:08:25               0          0   \n",
       "3    2021-06-24 12:31:00       2021-06-18 16:46:37               0          0   \n",
       "4    2021-07-01 04:59:00       2021-06-18 17:37:48               0          0   \n",
       "\n",
       "   expired  expires_today  exclusive  searchable  hotness  \\\n",
       "0        0              0          0           1        5   \n",
       "1        0              0          0           1        5   \n",
       "2        0              0          0           1        5   \n",
       "3        0              0          0           1        4   \n",
       "4        0              0          0           1        4   \n",
       "\n",
       "                call_out call_out_comparison            sub_call_out  \\\n",
       "0                                             free shipping w/ Prime   \n",
       "1       Save on 20 items                               free shipping   \n",
       "2  from $250 for members                               free shipping   \n",
       "3                    $30                 $60           free shipping   \n",
       "4                    $17                 $35           free shipping   \n",
       "\n",
       "  Coupon Code  category_id_0 namepath_0 ancestor_list_0 category_id_1  \\\n",
       "0        None            197       None             196          None   \n",
       "1        None            655       None             211          None   \n",
       "2        None            744       None         196,198          None   \n",
       "3    57QBJPCJ            198       None             196          None   \n",
       "4    W4LI2ORT            638       None         196,360          None   \n",
       "\n",
       "  namepath_1 ancestor_list_1  vendor_id     name  \\\n",
       "0       None            None        313   Amazon   \n",
       "1       None            None        274  Staples   \n",
       "2       None            None        897   Costco   \n",
       "3       None            None        313   Amazon   \n",
       "4       None            None        313   Amazon   \n",
       "\n",
       "                                                                                                                Image path  \\\n",
       "0                            /home/malcolm/Demo with APIs/Dealnews Images/2021-06-18/Zippo Lighters at Amazon_19319075.jpg   \n",
       "1                     /home/malcolm/Demo with APIs/Dealnews Images/2021-06-18/Staples Fitness Clearance Deals_19319108.jpg   \n",
       "2                  /home/malcolm/Demo with APIs/Dealnews Images/2021-06-18/Yardistry Gazebo Mosquito Mesh Kit_19319048.jpg   \n",
       "3  /home/malcolm/Demo with APIs/Dealnews Images/2021-06-18/Haliluya 100-Ft. 5-in-1 Expandable Garden Hose Set_19319087.jpg   \n",
       "4                   /home/malcolm/Demo with APIs/Dealnews Images/2021-06-18/Coisum Memory Foam Contour Pillow_19319186.jpg   \n",
       "\n",
       "                            API Feed  API id_number        _dt_pulled  \n",
       "0  Popularity Rank : Popularity: 5/5           1774  2021-06-18 18:10  \n",
       "1  Popularity Rank : Popularity: 5/5           1774  2021-06-18 18:10  \n",
       "2  Popularity Rank : Popularity: 5/5           1774  2021-06-18 18:10  \n",
       "3  Popularity Rank : Popularity: 4/5           1777  2021-06-18 18:10  \n",
       "4  Popularity Rank : Popularity: 4/5           1777  2021-06-18 18:10  "
      ]
     },
     "execution_count": 6,
     "metadata": {},
     "output_type": "execute_result"
    }
   ],
   "source": [
    "demo = pd.read_sql('Select * from `Dealnews Items` limit 10', con)\n",
    "demo.head()"
   ]
  },
  {
   "cell_type": "code",
   "execution_count": 7,
   "metadata": {},
   "outputs": [
    {
     "name": "stdout",
     "output_type": "stream",
     "text": [
      "84319\n"
     ]
    }
   ],
   "source": [
    "num_deals = cursor.execute(\"select count(*) from `Dealnews Items`\").fetchall()[0][0]\n",
    "print(num_deals)\n",
    "# assert(num_deals > 200000), f\"Too many for memory? @ {num_deals}\""
   ]
  },
  {
   "cell_type": "code",
   "execution_count": 8,
   "metadata": {
    "scrolled": true
   },
   "outputs": [
    {
     "data": {
      "text/html": [
       "<div>\n",
       "<style scoped>\n",
       "    .dataframe tbody tr th:only-of-type {\n",
       "        vertical-align: middle;\n",
       "    }\n",
       "\n",
       "    .dataframe tbody tr th {\n",
       "        vertical-align: top;\n",
       "    }\n",
       "\n",
       "    .dataframe thead th {\n",
       "        text-align: right;\n",
       "    }\n",
       "</style>\n",
       "<table border=\"1\" class=\"dataframe\">\n",
       "  <thead>\n",
       "    <tr style=\"text-align: right;\">\n",
       "      <th></th>\n",
       "      <th>id</th>\n",
       "      <th>headline</th>\n",
       "      <th>brief_headline</th>\n",
       "      <th>summary</th>\n",
       "      <th>secondary_summary</th>\n",
       "      <th>key_attribute</th>\n",
       "      <th>brief_notes</th>\n",
       "      <th>url</th>\n",
       "      <th>display_date</th>\n",
       "      <th>publish_datetime_ts</th>\n",
       "      <th>update_datetime_ts</th>\n",
       "      <th>expiration_datetime_ts</th>\n",
       "      <th>last_verified_datetime_ts</th>\n",
       "      <th>editors_choice</th>\n",
       "      <th>sponsored</th>\n",
       "      <th>expired</th>\n",
       "      <th>expires_today</th>\n",
       "      <th>exclusive</th>\n",
       "      <th>searchable</th>\n",
       "      <th>hotness</th>\n",
       "      <th>call_out</th>\n",
       "      <th>call_out_comparison</th>\n",
       "      <th>sub_call_out</th>\n",
       "      <th>Coupon Code</th>\n",
       "      <th>category_id_0</th>\n",
       "      <th>namepath_0</th>\n",
       "      <th>ancestor_list_0</th>\n",
       "      <th>category_id_1</th>\n",
       "      <th>namepath_1</th>\n",
       "      <th>ancestor_list_1</th>\n",
       "      <th>vendor_id</th>\n",
       "      <th>name</th>\n",
       "      <th>Image path</th>\n",
       "      <th>API Feed</th>\n",
       "      <th>API id_number</th>\n",
       "      <th>_dt_pulled</th>\n",
       "    </tr>\n",
       "  </thead>\n",
       "  <tbody>\n",
       "    <tr>\n",
       "      <th>0</th>\n",
       "      <td>20344256</td>\n",
       "      <td>Hollister Clearance</td>\n",
       "      <td>Hollister Clearance: 60% to 70% off</td>\n",
       "      <td>Save on a huge selection of men's and women's styles.</td>\n",
       "      <td>&lt;div class=\"snippet summary\" title=\"Save&amp;#x20;on&amp;#x20;a&amp;#x20;huge&amp;#x20;selection&amp;#x20;of&amp;#x20;men&amp;#x27;s&amp;#x20;and&amp;#x20;women&amp;#x27;s&amp;#x20;styles.\"&gt; &lt;p&gt;Save on a huge selection of men's and women's styles. &lt;a target=\"_blank\" href=\"https://www.dealnews.com/lw/click.html?20,2,20344256,iref=site-widg...</td>\n",
       "      <td>Hollister</td>\n",
       "      <td>Free shipping w/ $50. Shipping adds $7 or orders of $50 or more ship for free.</td>\n",
       "      <td>https://www.dealnews.com/Hollister-Clearance-60-to-70-off-free-shipping-w-50/20344256.html?iref=site-widget</td>\n",
       "      <td>Last verified 1 hr 54 min ago</td>\n",
       "      <td>2022-07-20 13:42:21</td>\n",
       "      <td>2022-07-20 15:32:27</td>\n",
       "      <td>1969-12-31 19:00:00</td>\n",
       "      <td>2022-07-20 13:42:20</td>\n",
       "      <td>0</td>\n",
       "      <td>0</td>\n",
       "      <td>0</td>\n",
       "      <td>0</td>\n",
       "      <td>0</td>\n",
       "      <td>1</td>\n",
       "      <td>5</td>\n",
       "      <td>60% to 70% off</td>\n",
       "      <td></td>\n",
       "      <td>free shipping w/ $50</td>\n",
       "      <td>None</td>\n",
       "      <td>40</td>\n",
       "      <td>None</td>\n",
       "      <td>None</td>\n",
       "      <td>202</td>\n",
       "      <td>None</td>\n",
       "      <td>None</td>\n",
       "      <td>2344.0</td>\n",
       "      <td>Hollister</td>\n",
       "      <td>/mnt/volume-nyc3-01/Dealnews_Images/2022-07-20/Hollister Clearance_20344256.jpg</td>\n",
       "      <td>Popularity Rank : Popularity: 5/5</td>\n",
       "      <td>1774</td>\n",
       "      <td>2022-07-20 15:37</td>\n",
       "    </tr>\n",
       "    <tr>\n",
       "      <th>1</th>\n",
       "      <td>20344283</td>\n",
       "      <td>Vornado Pivot6 Whole Room Air Circulator Fan</td>\n",
       "      <td>Vornado Pivot6 Whole Room Air Circulator Fan for $50</td>\n",
       "      <td>It's $30 under list price.</td>\n",
       "      <td>&lt;div class=\"snippet summary\" title=\"It&amp;#x27;s&amp;#x20;the&amp;#x20;lowest&amp;#x20;price&amp;#x20;we&amp;#x20;could&amp;#x20;find&amp;#x20;by&amp;#x20;&amp;#x24;23.\"&gt; &lt;p&gt;It's the lowest price we could find by $23. &lt;a target=\"_blank\" href=\"https://www.dealnews.com/lw/click.html?20,2,20344283,iref=site-widget\"&gt;Buy Now at Amazon&lt;/a&gt;...</td>\n",
       "      <td>Amazon</td>\n",
       "      <td>Free shipping. &lt;br&gt;&lt;b&gt;Features:&lt;/b&gt; four speeds, remote control and moves air up to 75-feet. Model: CR1-0410-06.</td>\n",
       "      <td>https://www.dealnews.com/products/Vornado/Vornado-Pivot6-Whole-Room-Air-Circulator-Fan/341783.html?iref=site-widget</td>\n",
       "      <td>Last verified 1 hr 33 min ago</td>\n",
       "      <td>2022-07-20 14:04:13</td>\n",
       "      <td>2022-07-20 15:32:24</td>\n",
       "      <td>1969-12-31 19:00:00</td>\n",
       "      <td>2022-07-20 14:04:11</td>\n",
       "      <td>0</td>\n",
       "      <td>0</td>\n",
       "      <td>0</td>\n",
       "      <td>0</td>\n",
       "      <td>0</td>\n",
       "      <td>1</td>\n",
       "      <td>5</td>\n",
       "      <td>$50</td>\n",
       "      <td>$80</td>\n",
       "      <td>free shipping</td>\n",
       "      <td>None</td>\n",
       "      <td>609</td>\n",
       "      <td>None</td>\n",
       "      <td>196,304,606</td>\n",
       "      <td>None</td>\n",
       "      <td>None</td>\n",
       "      <td>None</td>\n",
       "      <td>313.0</td>\n",
       "      <td>Amazon</td>\n",
       "      <td>/mnt/volume-nyc3-01/Dealnews_Images/2022-07-20/Vornado Pivot6 Whole Room Air Circulator Fan_20344283.jpg</td>\n",
       "      <td>Popularity Rank : Popularity: 5/5</td>\n",
       "      <td>1774</td>\n",
       "      <td>2022-07-20 15:37</td>\n",
       "    </tr>\n",
       "    <tr>\n",
       "      <th>2</th>\n",
       "      <td>20344280</td>\n",
       "      <td>Stanley 500-Lumen Work Light</td>\n",
       "      <td>Stanley 500-Lumen Work Light for $9</td>\n",
       "      <td>It's $2 under list price.</td>\n",
       "      <td>&lt;div class=\"snippet summary\" title=\"That&amp;#x27;s&amp;#x20;a&amp;#x20;solid&amp;#x20;&amp;#x24;2&amp;#x20;savings.&amp;#x20;The&amp;#x20;300-&amp;#x20;and&amp;#x20;400-lumen&amp;#x20;models&amp;#x20;go&amp;#x20;for&amp;#x20;at&amp;#x20;least&amp;#x20;twice&amp;#x20;this&amp;#x20;price.\"&gt; &lt;p&gt;That's a solid $2 savings. The 300- and 400-lumen models go for at least t...</td>\n",
       "      <td>Amazon</td>\n",
       "      <td>Free shipping w/ prime. &lt;br&gt;&lt;b&gt;Features:&lt;/b&gt; integrated battery runs up to 12 hours and magnetic base. Model: SAT5S.</td>\n",
       "      <td>https://www.dealnews.com/products/Stanley/Stanley-500-Lumen-Work-Light/342755.html?iref=site-widget</td>\n",
       "      <td>Last verified 1 hr 22 min ago</td>\n",
       "      <td>2022-07-20 14:14:48</td>\n",
       "      <td>2022-07-20 15:32:23</td>\n",
       "      <td>1969-12-31 19:00:00</td>\n",
       "      <td>2022-07-20 14:14:47</td>\n",
       "      <td>0</td>\n",
       "      <td>0</td>\n",
       "      <td>0</td>\n",
       "      <td>0</td>\n",
       "      <td>0</td>\n",
       "      <td>1</td>\n",
       "      <td>5</td>\n",
       "      <td>$9.45</td>\n",
       "      <td>$11</td>\n",
       "      <td>free shipping w/ Prime</td>\n",
       "      <td>None</td>\n",
       "      <td>648</td>\n",
       "      <td>None</td>\n",
       "      <td>196,197</td>\n",
       "      <td>None</td>\n",
       "      <td>None</td>\n",
       "      <td>None</td>\n",
       "      <td>313.0</td>\n",
       "      <td>Amazon</td>\n",
       "      <td>/mnt/volume-nyc3-01/Dealnews_Images/2022-07-20/Stanley 500-Lumen Work Light_20344280.jpg</td>\n",
       "      <td>Popularity Rank : Popularity: 5/5</td>\n",
       "      <td>1774</td>\n",
       "      <td>2022-07-20 15:37</td>\n",
       "    </tr>\n",
       "    <tr>\n",
       "      <th>3</th>\n",
       "      <td>20344241</td>\n",
       "      <td>JBL Endurance Peak True Wireless Headphones</td>\n",
       "      <td>JBL Endurance Peak True Wireless Headphones for $30</td>\n",
       "      <td>It's $90 under list price.</td>\n",
       "      <td>&lt;div class=\"snippet summary\" title=\"This&amp;#x20;is&amp;#x20;the&amp;#x20;best&amp;#x20;deal&amp;#x20;we&amp;#x27;ve&amp;#x20;seen&amp;#x20;in&amp;#x20;any&amp;#x20;condition&amp;#x20;for&amp;#x20;this&amp;#x20;pair.\"&gt; &lt;p&gt;This is the best deal we've seen in any condition for this pair. &lt;a target=\"_blank\" href=\"https://www.dealnews.com/lw/click.h...</td>\n",
       "      <td>eBay</td>\n",
       "      <td>Free shipping. &lt;br&gt;&lt;b&gt;Features:&lt;/b&gt; touch enabled controls, up to 28 hours playback and IPX7 water resistance. Model: JBLENDURPEAKBLKAM.</td>\n",
       "      <td>https://www.dealnews.com/products/JBL/JBL-Endurance-Peak-True-Wireless-Headphones/85126.html?iref=site-widget</td>\n",
       "      <td>Last verified 2 hr ago</td>\n",
       "      <td>2022-07-20 13:37:12</td>\n",
       "      <td>2022-07-20 15:32:29</td>\n",
       "      <td>1969-12-31 19:00:00</td>\n",
       "      <td>2022-07-20 13:37:10</td>\n",
       "      <td>1</td>\n",
       "      <td>0</td>\n",
       "      <td>0</td>\n",
       "      <td>0</td>\n",
       "      <td>0</td>\n",
       "      <td>1</td>\n",
       "      <td>4</td>\n",
       "      <td>$30</td>\n",
       "      <td>$120</td>\n",
       "      <td>free shipping</td>\n",
       "      <td>None</td>\n",
       "      <td>155</td>\n",
       "      <td>None</td>\n",
       "      <td>142,143</td>\n",
       "      <td>None</td>\n",
       "      <td>None</td>\n",
       "      <td>None</td>\n",
       "      <td>50.0</td>\n",
       "      <td>eBay</td>\n",
       "      <td>/mnt/volume-nyc3-01/Dealnews_Images/2022-07-20/JBL Endurance Peak True Wireless Headphones_20344241.jpg</td>\n",
       "      <td>Popularity Rank : Popularity: 4/5</td>\n",
       "      <td>1777</td>\n",
       "      <td>2022-07-20 15:37</td>\n",
       "    </tr>\n",
       "    <tr>\n",
       "      <th>4</th>\n",
       "      <td>20344253</td>\n",
       "      <td>Vcansion Men's Quick Dry Shorts</td>\n",
       "      <td>Vcansion Men's Quick Dry Shorts for $15</td>\n",
       "      <td>Apply coupon code \"LDD5MQ3P\" for a savings of $15.</td>\n",
       "      <td>&lt;div class=\"body-offer body-burst\"&gt; &lt;div class=\"snippet summary\" title=\"Apply&amp;#x20;coupon&amp;#x20;code&amp;#x20;&amp;quot;LDD5MQ3P&amp;quot;&amp;#x20;for&amp;#x20;a&amp;#x20;savings&amp;#x20;of&amp;#x20;&amp;#x24;15.\"&gt; &lt;p&gt;Apply coupon code \"LDD5MQ3P\" for a savings of $15. &lt;a target=\"_blank\" href=\"https://www.dealnews.com/lw/click.htm...</td>\n",
       "      <td>Amazon</td>\n",
       "      <td>Free shipping. Available in several colors (A-Dark Grey pictured). Army Green size 32 drops to $9.99 after the same code.</td>\n",
       "      <td>https://www.dealnews.com/Vcansion-Mens-Quick-Dry-Shorts-for-15-free-shipping/20344253.html?iref=site-widget</td>\n",
       "      <td>Last verified 1 hr 52 min ago</td>\n",
       "      <td>2022-07-20 13:44:44</td>\n",
       "      <td>2022-07-20 15:32:27</td>\n",
       "      <td>2022-07-27 00:59:00</td>\n",
       "      <td>2022-07-20 13:44:43</td>\n",
       "      <td>0</td>\n",
       "      <td>0</td>\n",
       "      <td>0</td>\n",
       "      <td>0</td>\n",
       "      <td>0</td>\n",
       "      <td>1</td>\n",
       "      <td>4</td>\n",
       "      <td>$15</td>\n",
       "      <td>$30</td>\n",
       "      <td>free shipping</td>\n",
       "      <td>LDD5MQ3P</td>\n",
       "      <td>717</td>\n",
       "      <td>None</td>\n",
       "      <td>202</td>\n",
       "      <td>None</td>\n",
       "      <td>None</td>\n",
       "      <td>None</td>\n",
       "      <td>313.0</td>\n",
       "      <td>Amazon</td>\n",
       "      <td>/mnt/volume-nyc3-01/Dealnews_Images/2022-07-20/Vcansion Men's Quick Dry Shorts_20344253.jpg</td>\n",
       "      <td>Popularity Rank : Popularity: 4/5</td>\n",
       "      <td>1777</td>\n",
       "      <td>2022-07-20 15:37</td>\n",
       "    </tr>\n",
       "  </tbody>\n",
       "</table>\n",
       "</div>"
      ],
      "text/plain": [
       "         id                                      headline  \\\n",
       "0  20344256                           Hollister Clearance   \n",
       "1  20344283  Vornado Pivot6 Whole Room Air Circulator Fan   \n",
       "2  20344280                  Stanley 500-Lumen Work Light   \n",
       "3  20344241   JBL Endurance Peak True Wireless Headphones   \n",
       "4  20344253               Vcansion Men's Quick Dry Shorts   \n",
       "\n",
       "                                         brief_headline  \\\n",
       "0                   Hollister Clearance: 60% to 70% off   \n",
       "1  Vornado Pivot6 Whole Room Air Circulator Fan for $50   \n",
       "2                   Stanley 500-Lumen Work Light for $9   \n",
       "3   JBL Endurance Peak True Wireless Headphones for $30   \n",
       "4               Vcansion Men's Quick Dry Shorts for $15   \n",
       "\n",
       "                                                 summary  \\\n",
       "0  Save on a huge selection of men's and women's styles.   \n",
       "1                             It's $30 under list price.   \n",
       "2                              It's $2 under list price.   \n",
       "3                             It's $90 under list price.   \n",
       "4     Apply coupon code \"LDD5MQ3P\" for a savings of $15.   \n",
       "\n",
       "                                                                                                                                                                                                                                                                                             secondary_summary  \\\n",
       "0  <div class=\"snippet summary\" title=\"Save&#x20;on&#x20;a&#x20;huge&#x20;selection&#x20;of&#x20;men&#x27;s&#x20;and&#x20;women&#x27;s&#x20;styles.\"> <p>Save on a huge selection of men's and women's styles. <a target=\"_blank\" href=\"https://www.dealnews.com/lw/click.html?20,2,20344256,iref=site-widg...   \n",
       "1  <div class=\"snippet summary\" title=\"It&#x27;s&#x20;the&#x20;lowest&#x20;price&#x20;we&#x20;could&#x20;find&#x20;by&#x20;&#x24;23.\"> <p>It's the lowest price we could find by $23. <a target=\"_blank\" href=\"https://www.dealnews.com/lw/click.html?20,2,20344283,iref=site-widget\">Buy Now at Amazon</a>...   \n",
       "2  <div class=\"snippet summary\" title=\"That&#x27;s&#x20;a&#x20;solid&#x20;&#x24;2&#x20;savings.&#x20;The&#x20;300-&#x20;and&#x20;400-lumen&#x20;models&#x20;go&#x20;for&#x20;at&#x20;least&#x20;twice&#x20;this&#x20;price.\"> <p>That's a solid $2 savings. The 300- and 400-lumen models go for at least t...   \n",
       "3  <div class=\"snippet summary\" title=\"This&#x20;is&#x20;the&#x20;best&#x20;deal&#x20;we&#x27;ve&#x20;seen&#x20;in&#x20;any&#x20;condition&#x20;for&#x20;this&#x20;pair.\"> <p>This is the best deal we've seen in any condition for this pair. <a target=\"_blank\" href=\"https://www.dealnews.com/lw/click.h...   \n",
       "4  <div class=\"body-offer body-burst\"> <div class=\"snippet summary\" title=\"Apply&#x20;coupon&#x20;code&#x20;&quot;LDD5MQ3P&quot;&#x20;for&#x20;a&#x20;savings&#x20;of&#x20;&#x24;15.\"> <p>Apply coupon code \"LDD5MQ3P\" for a savings of $15. <a target=\"_blank\" href=\"https://www.dealnews.com/lw/click.htm...   \n",
       "\n",
       "  key_attribute  \\\n",
       "0     Hollister   \n",
       "1        Amazon   \n",
       "2        Amazon   \n",
       "3          eBay   \n",
       "4        Amazon   \n",
       "\n",
       "                                                                                                                                brief_notes  \\\n",
       "0                                                            Free shipping w/ $50. Shipping adds $7 or orders of $50 or more ship for free.   \n",
       "1                          Free shipping. <br><b>Features:</b> four speeds, remote control and moves air up to 75-feet. Model: CR1-0410-06.   \n",
       "2                      Free shipping w/ prime. <br><b>Features:</b> integrated battery runs up to 12 hours and magnetic base. Model: SAT5S.   \n",
       "3  Free shipping. <br><b>Features:</b> touch enabled controls, up to 28 hours playback and IPX7 water resistance. Model: JBLENDURPEAKBLKAM.   \n",
       "4                 Free shipping. Available in several colors (A-Dark Grey pictured). Army Green size 32 drops to $9.99 after the same code.   \n",
       "\n",
       "                                                                                                                   url  \\\n",
       "0          https://www.dealnews.com/Hollister-Clearance-60-to-70-off-free-shipping-w-50/20344256.html?iref=site-widget   \n",
       "1  https://www.dealnews.com/products/Vornado/Vornado-Pivot6-Whole-Room-Air-Circulator-Fan/341783.html?iref=site-widget   \n",
       "2                  https://www.dealnews.com/products/Stanley/Stanley-500-Lumen-Work-Light/342755.html?iref=site-widget   \n",
       "3        https://www.dealnews.com/products/JBL/JBL-Endurance-Peak-True-Wireless-Headphones/85126.html?iref=site-widget   \n",
       "4          https://www.dealnews.com/Vcansion-Mens-Quick-Dry-Shorts-for-15-free-shipping/20344253.html?iref=site-widget   \n",
       "\n",
       "                    display_date  publish_datetime_ts   update_datetime_ts  \\\n",
       "0  Last verified 1 hr 54 min ago  2022-07-20 13:42:21  2022-07-20 15:32:27   \n",
       "1  Last verified 1 hr 33 min ago  2022-07-20 14:04:13  2022-07-20 15:32:24   \n",
       "2  Last verified 1 hr 22 min ago  2022-07-20 14:14:48  2022-07-20 15:32:23   \n",
       "3         Last verified 2 hr ago  2022-07-20 13:37:12  2022-07-20 15:32:29   \n",
       "4  Last verified 1 hr 52 min ago  2022-07-20 13:44:44  2022-07-20 15:32:27   \n",
       "\n",
       "  expiration_datetime_ts last_verified_datetime_ts  editors_choice  sponsored  \\\n",
       "0    1969-12-31 19:00:00       2022-07-20 13:42:20               0          0   \n",
       "1    1969-12-31 19:00:00       2022-07-20 14:04:11               0          0   \n",
       "2    1969-12-31 19:00:00       2022-07-20 14:14:47               0          0   \n",
       "3    1969-12-31 19:00:00       2022-07-20 13:37:10               1          0   \n",
       "4    2022-07-27 00:59:00       2022-07-20 13:44:43               0          0   \n",
       "\n",
       "   expired  expires_today  exclusive  searchable  hotness        call_out  \\\n",
       "0        0              0          0           1        5  60% to 70% off   \n",
       "1        0              0          0           1        5             $50   \n",
       "2        0              0          0           1        5           $9.45   \n",
       "3        0              0          0           1        4             $30   \n",
       "4        0              0          0           1        4             $15   \n",
       "\n",
       "  call_out_comparison            sub_call_out Coupon Code  category_id_0  \\\n",
       "0                        free shipping w/ $50        None             40   \n",
       "1                 $80           free shipping        None            609   \n",
       "2                 $11  free shipping w/ Prime        None            648   \n",
       "3                $120           free shipping        None            155   \n",
       "4                 $30           free shipping    LDD5MQ3P            717   \n",
       "\n",
       "  namepath_0 ancestor_list_0 category_id_1 namepath_1 ancestor_list_1  \\\n",
       "0       None            None           202       None            None   \n",
       "1       None     196,304,606          None       None            None   \n",
       "2       None         196,197          None       None            None   \n",
       "3       None         142,143          None       None            None   \n",
       "4       None             202          None       None            None   \n",
       "\n",
       "   vendor_id       name  \\\n",
       "0     2344.0  Hollister   \n",
       "1      313.0     Amazon   \n",
       "2      313.0     Amazon   \n",
       "3       50.0       eBay   \n",
       "4      313.0     Amazon   \n",
       "\n",
       "                                                                                                 Image path  \\\n",
       "0                           /mnt/volume-nyc3-01/Dealnews_Images/2022-07-20/Hollister Clearance_20344256.jpg   \n",
       "1  /mnt/volume-nyc3-01/Dealnews_Images/2022-07-20/Vornado Pivot6 Whole Room Air Circulator Fan_20344283.jpg   \n",
       "2                  /mnt/volume-nyc3-01/Dealnews_Images/2022-07-20/Stanley 500-Lumen Work Light_20344280.jpg   \n",
       "3   /mnt/volume-nyc3-01/Dealnews_Images/2022-07-20/JBL Endurance Peak True Wireless Headphones_20344241.jpg   \n",
       "4               /mnt/volume-nyc3-01/Dealnews_Images/2022-07-20/Vcansion Men's Quick Dry Shorts_20344253.jpg   \n",
       "\n",
       "                            API Feed  API id_number        _dt_pulled  \n",
       "0  Popularity Rank : Popularity: 5/5           1774  2022-07-20 15:37  \n",
       "1  Popularity Rank : Popularity: 5/5           1774  2022-07-20 15:37  \n",
       "2  Popularity Rank : Popularity: 5/5           1774  2022-07-20 15:37  \n",
       "3  Popularity Rank : Popularity: 4/5           1777  2022-07-20 15:37  \n",
       "4  Popularity Rank : Popularity: 4/5           1777  2022-07-20 15:37  "
      ]
     },
     "execution_count": 8,
     "metadata": {},
     "output_type": "execute_result"
    }
   ],
   "source": [
    "items = pd.read_sql('Select * from `Dealnews Items` order by _dt_pulled desc limit 50000', con)\n",
    "items.head()"
   ]
  },
  {
   "cell_type": "code",
   "execution_count": 9,
   "metadata": {
    "scrolled": true
   },
   "outputs": [
    {
     "data": {
      "text/plain": [
       "id                               0\n",
       "headline                         0\n",
       "brief_headline                   0\n",
       "summary                          0\n",
       "secondary_summary                0\n",
       "key_attribute                    0\n",
       "brief_notes                      0\n",
       "url                              0\n",
       "display_date                     0\n",
       "publish_datetime_ts              0\n",
       "update_datetime_ts               0\n",
       "expiration_datetime_ts           0\n",
       "last_verified_datetime_ts        0\n",
       "editors_choice                   0\n",
       "sponsored                        0\n",
       "expired                          0\n",
       "expires_today                    0\n",
       "exclusive                        0\n",
       "searchable                       0\n",
       "hotness                          0\n",
       "call_out                         0\n",
       "call_out_comparison              0\n",
       "sub_call_out                  3135\n",
       "Coupon Code                  35953\n",
       "category_id_0                    0\n",
       "namepath_0                   50000\n",
       "ancestor_list_0               6985\n",
       "category_id_1                46301\n",
       "namepath_1                   50000\n",
       "ancestor_list_1              47028\n",
       "vendor_id                      143\n",
       "name                           143\n",
       "Image path                       0\n",
       "API Feed                         0\n",
       "API id_number                    0\n",
       "_dt_pulled                       0\n",
       "dtype: int64"
      ]
     },
     "execution_count": 9,
     "metadata": {},
     "output_type": "execute_result"
    }
   ],
   "source": [
    "items.isna().sum()"
   ]
  },
  {
   "cell_type": "markdown",
   "metadata": {},
   "source": [
    "## Parse Callout (Prices and comparisons) "
   ]
  },
  {
   "cell_type": "code",
   "execution_count": 10,
   "metadata": {},
   "outputs": [
    {
     "data": {
      "text/plain": [
       "(14845, 36)"
      ]
     },
     "execution_count": 10,
     "metadata": {},
     "output_type": "execute_result"
    }
   ],
   "source": [
    "items[items['call_out'] == ''].shape\n",
    "items[items['call_out_comparison'] == ''].shape"
   ]
  },
  {
   "cell_type": "code",
   "execution_count": 11,
   "metadata": {},
   "outputs": [],
   "source": [
    "def parse_callout(raw_str):\n",
    "    str1 = raw_str.replace('$', '').replace(',', '')\n",
    "    try:\n",
    "        out = float(str1)\n",
    "    except:\n",
    "        out = np.nan\n",
    "    return(out)"
   ]
  },
  {
   "cell_type": "code",
   "execution_count": 12,
   "metadata": {},
   "outputs": [
    {
     "name": "stdout",
     "output_type": "stream",
     "text": [
      "Parsed: 33311, Parsed Pct: 66.62, Parse compare cnt: 35150\n"
     ]
    }
   ],
   "source": [
    "items['callout_parse'] = items['call_out'].apply(parse_callout)\n",
    "items['callout_compare_parse'] = items['call_out_comparison'].apply(parse_callout)\n",
    "parsed_cnt = items['callout_parse'].notnull().sum()\n",
    "parsed_pct = np.round(100*parsed_cnt/items.shape[0], 2)\n",
    "parse_compare_cnt = items['callout_compare_parse'].notnull().sum()\n",
    "print(f\"Parsed: {parsed_cnt}, Parsed Pct: {parsed_pct}, Parse compare cnt: {parse_compare_cnt}\")"
   ]
  },
  {
   "cell_type": "code",
   "execution_count": 13,
   "metadata": {},
   "outputs": [
    {
     "data": {
      "text/html": [
       "<div>\n",
       "<style scoped>\n",
       "    .dataframe tbody tr th:only-of-type {\n",
       "        vertical-align: middle;\n",
       "    }\n",
       "\n",
       "    .dataframe tbody tr th {\n",
       "        vertical-align: top;\n",
       "    }\n",
       "\n",
       "    .dataframe thead th {\n",
       "        text-align: right;\n",
       "    }\n",
       "</style>\n",
       "<table border=\"1\" class=\"dataframe\">\n",
       "  <thead>\n",
       "    <tr style=\"text-align: right;\">\n",
       "      <th></th>\n",
       "      <th>callout_diff</th>\n",
       "      <th>callout_diff_pct</th>\n",
       "    </tr>\n",
       "  </thead>\n",
       "  <tbody>\n",
       "    <tr>\n",
       "      <th>count</th>\n",
       "      <td>31778.00</td>\n",
       "      <td>31778.00</td>\n",
       "    </tr>\n",
       "    <tr>\n",
       "      <th>mean</th>\n",
       "      <td>78.95</td>\n",
       "      <td>41.91</td>\n",
       "    </tr>\n",
       "    <tr>\n",
       "      <th>std</th>\n",
       "      <td>178.11</td>\n",
       "      <td>18.59</td>\n",
       "    </tr>\n",
       "    <tr>\n",
       "      <th>min</th>\n",
       "      <td>0.01</td>\n",
       "      <td>0.14</td>\n",
       "    </tr>\n",
       "    <tr>\n",
       "      <th>25%</th>\n",
       "      <td>11.00</td>\n",
       "      <td>27.78</td>\n",
       "    </tr>\n",
       "    <tr>\n",
       "      <th>50%</th>\n",
       "      <td>28.00</td>\n",
       "      <td>41.05</td>\n",
       "    </tr>\n",
       "    <tr>\n",
       "      <th>75%</th>\n",
       "      <td>74.00</td>\n",
       "      <td>53.78</td>\n",
       "    </tr>\n",
       "    <tr>\n",
       "      <th>max</th>\n",
       "      <td>11819.00</td>\n",
       "      <td>99.85</td>\n",
       "    </tr>\n",
       "  </tbody>\n",
       "</table>\n",
       "</div>"
      ],
      "text/plain": [
       "       callout_diff  callout_diff_pct\n",
       "count      31778.00          31778.00\n",
       "mean          78.95             41.91\n",
       "std          178.11             18.59\n",
       "min            0.01              0.14\n",
       "25%           11.00             27.78\n",
       "50%           28.00             41.05\n",
       "75%           74.00             53.78\n",
       "max        11819.00             99.85"
      ]
     },
     "execution_count": 13,
     "metadata": {},
     "output_type": "execute_result"
    }
   ],
   "source": [
    "items['callout_diff'] = items['callout_compare_parse'] - items['callout_parse'] \n",
    "items['callout_diff_pct'] = np.round(100*(items['callout_compare_parse'] - items['callout_parse'])\n",
    "                                     /items['callout_compare_parse'], 2)\n",
    "pd.concat([items['callout_diff'].describe().round(2),\n",
    "           items['callout_diff_pct'].describe().round(2)],axis=1)"
   ]
  },
  {
   "cell_type": "code",
   "execution_count": 14,
   "metadata": {},
   "outputs": [
    {
     "data": {
      "text/html": [
       "<div>\n",
       "<style scoped>\n",
       "    .dataframe tbody tr th:only-of-type {\n",
       "        vertical-align: middle;\n",
       "    }\n",
       "\n",
       "    .dataframe tbody tr th {\n",
       "        vertical-align: top;\n",
       "    }\n",
       "\n",
       "    .dataframe thead th {\n",
       "        text-align: right;\n",
       "    }\n",
       "</style>\n",
       "<table border=\"1\" class=\"dataframe\">\n",
       "  <thead>\n",
       "    <tr style=\"text-align: right;\">\n",
       "      <th></th>\n",
       "      <th>id</th>\n",
       "      <th>headline</th>\n",
       "      <th>brief_headline</th>\n",
       "      <th>summary</th>\n",
       "      <th>secondary_summary</th>\n",
       "      <th>key_attribute</th>\n",
       "      <th>brief_notes</th>\n",
       "      <th>url</th>\n",
       "      <th>display_date</th>\n",
       "      <th>publish_datetime_ts</th>\n",
       "      <th>update_datetime_ts</th>\n",
       "      <th>expiration_datetime_ts</th>\n",
       "      <th>last_verified_datetime_ts</th>\n",
       "      <th>editors_choice</th>\n",
       "      <th>sponsored</th>\n",
       "      <th>expired</th>\n",
       "      <th>expires_today</th>\n",
       "      <th>exclusive</th>\n",
       "      <th>searchable</th>\n",
       "      <th>hotness</th>\n",
       "      <th>call_out</th>\n",
       "      <th>call_out_comparison</th>\n",
       "      <th>sub_call_out</th>\n",
       "      <th>Coupon Code</th>\n",
       "      <th>category_id_0</th>\n",
       "      <th>namepath_0</th>\n",
       "      <th>ancestor_list_0</th>\n",
       "      <th>category_id_1</th>\n",
       "      <th>namepath_1</th>\n",
       "      <th>ancestor_list_1</th>\n",
       "      <th>vendor_id</th>\n",
       "      <th>name</th>\n",
       "      <th>Image path</th>\n",
       "      <th>API Feed</th>\n",
       "      <th>API id_number</th>\n",
       "      <th>_dt_pulled</th>\n",
       "      <th>callout_parse</th>\n",
       "      <th>callout_compare_parse</th>\n",
       "      <th>callout_diff</th>\n",
       "      <th>callout_diff_pct</th>\n",
       "    </tr>\n",
       "  </thead>\n",
       "  <tbody>\n",
       "    <tr>\n",
       "      <th>28</th>\n",
       "      <td>20344424</td>\n",
       "      <td>Fun-Size Fragrances at Bath &amp; Body Works</td>\n",
       "      <td>Fun-Size Fragrances at Bath &amp; Body Works: for $3</td>\n",
       "      <td>Apply coupon code \"ONTHEGO\" to save.</td>\n",
       "      <td>&lt;div class=\"snippet summary\" title=\"Apply&amp;#x20;code&amp;#x20;&amp;quot;ONTHEGO&amp;quot;&amp;#x20;to&amp;#x20;save&amp;#x20;up&amp;#x20;to&amp;#x20;&amp;#x24;7&amp;#x20;off&amp;#x20;select&amp;#x20;fun&amp;#x20;size&amp;#x20;fragrances,&amp;#x20;lip&amp;#x20;care,&amp;#x20;hand&amp;#x20;cream,&amp;#x20;and&amp;#x20;shower&amp;#x20;gel.\"&gt; &lt;p&gt;Apply code \"ONTHEGO\" to save up to $7...</td>\n",
       "      <td>Bath &amp; Body Works</td>\n",
       "      <td>Pickup. Opt for in-store pickup to dodge the $10.99 shipping charges. Pictured is the Bath &amp; Body Works Into the Night 2.5-oz. Fragrance Mist for $2.95 ($6 off).</td>\n",
       "      <td>https://www.dealnews.com/Fun-Size-Fragrances-at-Bath-Body-Works-for-3-pickup/20344424.html?iref=site-widget</td>\n",
       "      <td>Last verified 38 min ago</td>\n",
       "      <td>2022-07-20 14:58:42</td>\n",
       "      <td>2022-07-20 15:32:17</td>\n",
       "      <td>2022-07-20 23:59:00</td>\n",
       "      <td>2022-07-20 14:58:41</td>\n",
       "      <td>0</td>\n",
       "      <td>0</td>\n",
       "      <td>0</td>\n",
       "      <td>1</td>\n",
       "      <td>0</td>\n",
       "      <td>1</td>\n",
       "      <td>3</td>\n",
       "      <td>$2.95</td>\n",
       "      <td></td>\n",
       "      <td>pickup</td>\n",
       "      <td>ONTHEGO</td>\n",
       "      <td>759</td>\n",
       "      <td>None</td>\n",
       "      <td>756</td>\n",
       "      <td>None</td>\n",
       "      <td>None</td>\n",
       "      <td>None</td>\n",
       "      <td>1693.0</td>\n",
       "      <td>Bath &amp; Body Works</td>\n",
       "      <td>/mnt/volume-nyc3-01/Dealnews_Images/2022-07-20/Fun-Size Fragrances at Bath &amp; Body Works_20344424.jpg</td>\n",
       "      <td>Popularity Rank : Popularity: 3/5</td>\n",
       "      <td>1780</td>\n",
       "      <td>2022-07-20 15:37</td>\n",
       "      <td>2.95</td>\n",
       "      <td>NaN</td>\n",
       "      <td>NaN</td>\n",
       "      <td>NaN</td>\n",
       "    </tr>\n",
       "    <tr>\n",
       "      <th>20</th>\n",
       "      <td>20344412</td>\n",
       "      <td>Escali Portable Travel Bathroom Body Scale</td>\n",
       "      <td>Escali Portable Travel Bathroom Body Scale for $13</td>\n",
       "      <td>It's $17 under list price.</td>\n",
       "      <td>&lt;div class=\"snippet summary\" title=\"You&amp;#x27;ll&amp;#x20;pay&amp;#x20;&amp;#x24;26&amp;#x20;or&amp;#x20;more&amp;#x20;elsewhere.\"&gt; &lt;p&gt;You'll pay $26 or more elsewhere. &lt;a target=\"_blank\" href=\"https://www.dealnews.com/lw/click.html?20,2,20344412,iref=site-widget\"&gt;Buy Now at Amazon&lt;/a&gt; &lt;/p&gt; &lt;/div&gt; &lt;div class=\"snippet fe...</td>\n",
       "      <td>Amazon</td>\n",
       "      <td>Free shipping w/ prime. &lt;br&gt;&lt;b&gt;Features:&lt;/b&gt; instant on, LCD display and 400-lb. weight capacity. Model: T180.</td>\n",
       "      <td>https://www.dealnews.com/products/Escali/Portable-Travel-Bathroom-Body-Scale/342764.html?iref=site-widget</td>\n",
       "      <td>Last verified 44 min ago</td>\n",
       "      <td>2022-07-20 14:52:17</td>\n",
       "      <td>2022-07-20 15:32:18</td>\n",
       "      <td>1969-12-31 19:00:00</td>\n",
       "      <td>2022-07-20 14:52:16</td>\n",
       "      <td>0</td>\n",
       "      <td>0</td>\n",
       "      <td>0</td>\n",
       "      <td>0</td>\n",
       "      <td>0</td>\n",
       "      <td>1</td>\n",
       "      <td>3</td>\n",
       "      <td>$13</td>\n",
       "      <td>$30</td>\n",
       "      <td>free shipping w/ Prime</td>\n",
       "      <td>None</td>\n",
       "      <td>765</td>\n",
       "      <td>None</td>\n",
       "      <td>756</td>\n",
       "      <td>None</td>\n",
       "      <td>None</td>\n",
       "      <td>None</td>\n",
       "      <td>313.0</td>\n",
       "      <td>Amazon</td>\n",
       "      <td>/mnt/volume-nyc3-01/Dealnews_Images/2022-07-20/Escali Portable Travel Bathroom Body Scale_20344412.jpg</td>\n",
       "      <td>Popularity Rank : Popularity: 3/5</td>\n",
       "      <td>1780</td>\n",
       "      <td>2022-07-20 15:37</td>\n",
       "      <td>13.00</td>\n",
       "      <td>30.0</td>\n",
       "      <td>17.00</td>\n",
       "      <td>56.67</td>\n",
       "    </tr>\n",
       "    <tr>\n",
       "      <th>11</th>\n",
       "      <td>20344406</td>\n",
       "      <td>Samsung 970 EVO Plus 500GB M.2 NVMe Internal SSD</td>\n",
       "      <td>Samsung 970 EVO Plus 500GB M.2 NVMe Internal SSD for $50</td>\n",
       "      <td>It's $80 under list price.</td>\n",
       "      <td>&lt;div class=\"snippet summary\" title=\"Clip&amp;#x20;the&amp;#x20;16&amp;#x25;&amp;#x20;off&amp;#x20;coupon&amp;#x20;on&amp;#x20;the&amp;#x20;product&amp;#x20;page&amp;#x20;to&amp;#x20;get&amp;#x20;this&amp;#x20;deal.&amp;#x20;You&amp;#x27;d&amp;#x20;pay&amp;#x20;&amp;#x24;10&amp;#x20;more&amp;#x20;at&amp;#x20;Best&amp;#x20;Buy.\"&gt; &lt;p&gt;Clip the 16% off coupon on the product page to get ...</td>\n",
       "      <td>B&amp;H Photo Video</td>\n",
       "      <td>Free shipping. &lt;br&gt;&lt;b&gt;Features:&lt;/b&gt; read speeds up to 3,500MB/s; write speeds up to 3,300MB/s. Model: MZ-V7S500B/AM.</td>\n",
       "      <td>https://www.dealnews.com/products/Samsung/Samsung-970-EVO-Plus-500-GB-M-2-NVMe-Internal-SSD/70831.html?iref=site-widget</td>\n",
       "      <td>Last verified 47 min ago</td>\n",
       "      <td>2022-07-20 14:50:09</td>\n",
       "      <td>2022-07-20 15:32:19</td>\n",
       "      <td>1969-12-31 19:00:00</td>\n",
       "      <td>2022-07-20 14:50:08</td>\n",
       "      <td>1</td>\n",
       "      <td>0</td>\n",
       "      <td>0</td>\n",
       "      <td>0</td>\n",
       "      <td>0</td>\n",
       "      <td>1</td>\n",
       "      <td>4</td>\n",
       "      <td>$50</td>\n",
       "      <td>$130</td>\n",
       "      <td>free shipping</td>\n",
       "      <td>None</td>\n",
       "      <td>473</td>\n",
       "      <td>None</td>\n",
       "      <td>39,51,56</td>\n",
       "      <td>None</td>\n",
       "      <td>None</td>\n",
       "      <td>None</td>\n",
       "      <td>973.0</td>\n",
       "      <td>B&amp;H Photo Video</td>\n",
       "      <td>/mnt/volume-nyc3-01/Dealnews_Images/2022-07-20/Samsung 970 EVO Plus 500GB M.2 NVMe Internal SSD_20344406.jpg</td>\n",
       "      <td>Popularity Rank : Popularity: 4/5</td>\n",
       "      <td>1777</td>\n",
       "      <td>2022-07-20 15:37</td>\n",
       "      <td>50.00</td>\n",
       "      <td>130.0</td>\n",
       "      <td>80.00</td>\n",
       "      <td>61.54</td>\n",
       "    </tr>\n",
       "    <tr>\n",
       "      <th>5</th>\n",
       "      <td>20344415</td>\n",
       "      <td>Refurb Klymit LiteWater Dinghy Inflatable Pack Raft Boat</td>\n",
       "      <td>Klymit LiteWater Dinghy Inflatable Pack Raft Boat for $110</td>\n",
       "      <td>It's $90 under list price.</td>\n",
       "      <td>&lt;div class=\"snippet summary\" title=\"It&amp;#x27;s&amp;#x20;&amp;#x24;76&amp;#x20;under&amp;#x20;what&amp;#x20;you&amp;#x27;d&amp;#x20;pay&amp;#x20;for&amp;#x20;it&amp;#x20;new&amp;#x20;at&amp;#x20;Amazon.\"&gt; &lt;p&gt;It's $76 under what you'd pay for it new at Amazon. &lt;a target=\"_blank\" href=\"https://www.dealnews.com/lw/click.html?20,2,20344415,iref=sit...</td>\n",
       "      <td>eBay</td>\n",
       "      <td>Free shipping. &lt;br&gt;&lt;b&gt;Features:&lt;/b&gt; measures 76\" x 45\", 210D rip-stop polyester and two valves. Model: 14LDBl01C.</td>\n",
       "      <td>https://www.dealnews.com/products/Klymit/Klymit-Lite-Water-Dinghy-Inflatable-Pack-Raft-Boat/342767.html?iref=site-widget</td>\n",
       "      <td>Last verified 49 min ago</td>\n",
       "      <td>2022-07-20 14:48:08</td>\n",
       "      <td>2022-07-20 15:32:19</td>\n",
       "      <td>1969-12-31 19:00:00</td>\n",
       "      <td>2022-07-20 14:48:07</td>\n",
       "      <td>0</td>\n",
       "      <td>0</td>\n",
       "      <td>0</td>\n",
       "      <td>0</td>\n",
       "      <td>0</td>\n",
       "      <td>1</td>\n",
       "      <td>4</td>\n",
       "      <td>$110</td>\n",
       "      <td>$200</td>\n",
       "      <td>free shipping</td>\n",
       "      <td>None</td>\n",
       "      <td>298</td>\n",
       "      <td>None</td>\n",
       "      <td>211</td>\n",
       "      <td>None</td>\n",
       "      <td>None</td>\n",
       "      <td>None</td>\n",
       "      <td>50.0</td>\n",
       "      <td>eBay</td>\n",
       "      <td>/mnt/volume-nyc3-01/Dealnews_Images/2022-07-20/Refurb Klymit LiteWater Dinghy Inflatable Pack Raft Boat_20344415.jpg</td>\n",
       "      <td>Popularity Rank : Popularity: 4/5</td>\n",
       "      <td>1777</td>\n",
       "      <td>2022-07-20 15:37</td>\n",
       "      <td>110.00</td>\n",
       "      <td>200.0</td>\n",
       "      <td>90.00</td>\n",
       "      <td>45.00</td>\n",
       "    </tr>\n",
       "    <tr>\n",
       "      <th>25</th>\n",
       "      <td>20344304</td>\n",
       "      <td>Google Nest Smart WiFi Battery Doorbell 2-Pack</td>\n",
       "      <td>Google Nest Smart WiFi Battery Doorbell 2-Pack for $207</td>\n",
       "      <td>It's the lowest price we could find by $53 but the majority of retailers charge $180 or more per doorbell.</td>\n",
       "      <td>&lt;div class=\"snippet summary\" title=\"It&amp;#x27;s&amp;#x20;the&amp;#x20;lowest&amp;#x20;price&amp;#x20;we&amp;#x20;could&amp;#x20;find&amp;#x20;by&amp;#x20;&amp;#x24;53&amp;#x20;but&amp;#x20;the&amp;#x20;majority&amp;#x20;of&amp;#x20;retailers&amp;#x20;charge&amp;#x20;&amp;#x24;180&amp;#x20;or&amp;#x20;more&amp;#x20;per&amp;#x20;doorbell.\"&gt; &lt;p&gt;It's the lowest price we could find by...</td>\n",
       "      <td>eBay</td>\n",
       "      <td>Free shipping. In several colors (Ash pictured). &lt;br&gt;&lt;b&gt;Features:&lt;/b&gt; 1.3MP color sensor, 6x digital zoom, 24/7 live view and night vision.</td>\n",
       "      <td>https://www.dealnews.com/Google-Nest-Smart-Wi-Fi-Battery-Doorbell-2-Pack-for-207-free-shipping/20344304.html?iref=site-widget</td>\n",
       "      <td>Last verified 57 min ago</td>\n",
       "      <td>2022-07-20 14:40:06</td>\n",
       "      <td>2022-07-20 15:32:20</td>\n",
       "      <td>1969-12-31 19:00:00</td>\n",
       "      <td>2022-07-20 14:40:05</td>\n",
       "      <td>1</td>\n",
       "      <td>0</td>\n",
       "      <td>0</td>\n",
       "      <td>0</td>\n",
       "      <td>0</td>\n",
       "      <td>1</td>\n",
       "      <td>3</td>\n",
       "      <td>$207</td>\n",
       "      <td></td>\n",
       "      <td>free shipping</td>\n",
       "      <td>None</td>\n",
       "      <td>492</td>\n",
       "      <td>None</td>\n",
       "      <td>196</td>\n",
       "      <td>None</td>\n",
       "      <td>None</td>\n",
       "      <td>None</td>\n",
       "      <td>50.0</td>\n",
       "      <td>eBay</td>\n",
       "      <td>/mnt/volume-nyc3-01/Dealnews_Images/2022-07-20/Google Nest Smart WiFi Battery Doorbell 2-Pack_20344304.jpg</td>\n",
       "      <td>Popularity Rank : Popularity: 3/5</td>\n",
       "      <td>1780</td>\n",
       "      <td>2022-07-20 15:37</td>\n",
       "      <td>207.00</td>\n",
       "      <td>NaN</td>\n",
       "      <td>NaN</td>\n",
       "      <td>NaN</td>\n",
       "    </tr>\n",
       "    <tr>\n",
       "      <th>12</th>\n",
       "      <td>20344295</td>\n",
       "      <td>Nerf Rival Curve Shot Sideswipe XXI-1200 Blaster</td>\n",
       "      <td>Nerf Rival Curve Shot Sideswipe XXI-1200 Blaster for $10</td>\n",
       "      <td>It's $15 under list price.</td>\n",
       "      <td>&lt;div class=\"snippet summary\" title=\"Thats&amp;#x20;the&amp;#x20;best&amp;#x20;price&amp;#x20;we&amp;#x20;could&amp;#x20;find&amp;#x20;by&amp;#x20;&amp;#x24;2.\"&gt; &lt;p&gt;Thats the best price we could find by $2. &lt;a target=\"_blank\" href=\"https://www.dealnews.com/lw/click.html?20,2,20344295,iref=site-widget\"&gt;Buy Now at Amazon&lt;/a&gt; &lt;/p&gt; &lt;/d...</td>\n",
       "      <td>Amazon</td>\n",
       "      <td>Free shipping w/ prime. &lt;br&gt;&lt;b&gt;Features:&lt;/b&gt; fire rounds left, right, down or straight, 12 Rival rounds and magazine included and bolt-action. Model: F0379.</td>\n",
       "      <td>https://www.dealnews.com/products/Nerf/Nerf-Rival-Curve-Shot-Sideswipe-XXI-1200-Blaster/342758.html?iref=site-widget</td>\n",
       "      <td>Last verified 58 min ago</td>\n",
       "      <td>2022-07-20 14:38:49</td>\n",
       "      <td>2022-07-20 15:32:21</td>\n",
       "      <td>1969-12-31 19:00:00</td>\n",
       "      <td>2022-07-20 14:38:48</td>\n",
       "      <td>0</td>\n",
       "      <td>0</td>\n",
       "      <td>0</td>\n",
       "      <td>0</td>\n",
       "      <td>0</td>\n",
       "      <td>1</td>\n",
       "      <td>4</td>\n",
       "      <td>$9.94</td>\n",
       "      <td>$25</td>\n",
       "      <td>free shipping w/ Prime</td>\n",
       "      <td>None</td>\n",
       "      <td>186</td>\n",
       "      <td>None</td>\n",
       "      <td>None</td>\n",
       "      <td>None</td>\n",
       "      <td>None</td>\n",
       "      <td>None</td>\n",
       "      <td>313.0</td>\n",
       "      <td>Amazon</td>\n",
       "      <td>/mnt/volume-nyc3-01/Dealnews_Images/2022-07-20/Nerf Rival Curve Shot Sideswipe XXI-1200 Blaster_20344295.jpg</td>\n",
       "      <td>Popularity Rank : Popularity: 4/5</td>\n",
       "      <td>1777</td>\n",
       "      <td>2022-07-20 15:37</td>\n",
       "      <td>9.94</td>\n",
       "      <td>25.0</td>\n",
       "      <td>15.06</td>\n",
       "      <td>60.24</td>\n",
       "    </tr>\n",
       "    <tr>\n",
       "      <th>8</th>\n",
       "      <td>20344307</td>\n",
       "      <td>Knipex 1/8\" Slotted Screwdriver</td>\n",
       "      <td>Knipex 1/8\" Slotted Screwdriver for $6</td>\n",
       "      <td>It's $9 under list price.</td>\n",
       "      <td>&lt;div class=\"snippet summary\" title=\"That&amp;#x27;s&amp;#x20;the&amp;#x20;best&amp;#x20;price&amp;#x20;we&amp;#x20;could&amp;#x20;find&amp;#x20;by&amp;#x20;&amp;#x24;9.\"&gt; &lt;p&gt;That's the best price we could find by $9. &lt;a target=\"_blank\" href=\"https://www.dealnews.com/lw/click.html?20,2,20344307,iref=site-widget\"&gt;Buy Now at Amazon&lt;/a&gt; &lt;...</td>\n",
       "      <td>Amazon</td>\n",
       "      <td>Free shipping w/ prime. &lt;br&gt;&lt;b&gt;Features:&lt;/b&gt; 1000V VDE tested, 1/64\" blade thickness, Handle design prevents rolling, Hang hole in handle for storage and 1/8\" Slotted Screwdriver, 4\", 1000V. Model: 98 20 35.</td>\n",
       "      <td>https://www.dealnews.com/products/Knipex/1-8-Slotted-Screwdriver/337196.html?iref=site-widget</td>\n",
       "      <td>Last verified 1 hr 1 min ago</td>\n",
       "      <td>2022-07-20 14:36:05</td>\n",
       "      <td>2022-07-20 15:32:21</td>\n",
       "      <td>1969-12-31 19:00:00</td>\n",
       "      <td>2022-07-20 14:36:04</td>\n",
       "      <td>0</td>\n",
       "      <td>0</td>\n",
       "      <td>0</td>\n",
       "      <td>0</td>\n",
       "      <td>0</td>\n",
       "      <td>1</td>\n",
       "      <td>4</td>\n",
       "      <td>$6.40</td>\n",
       "      <td>$16</td>\n",
       "      <td>free shipping w/ Prime</td>\n",
       "      <td>None</td>\n",
       "      <td>1030</td>\n",
       "      <td>None</td>\n",
       "      <td>196,197,645</td>\n",
       "      <td>None</td>\n",
       "      <td>None</td>\n",
       "      <td>None</td>\n",
       "      <td>313.0</td>\n",
       "      <td>Amazon</td>\n",
       "      <td>/mnt/volume-nyc3-01/Dealnews_Images/2022-07-20/Knipex 18\" Slotted Screwdriver_20344307.jpg</td>\n",
       "      <td>Popularity Rank : Popularity: 4/5</td>\n",
       "      <td>1777</td>\n",
       "      <td>2022-07-20 15:37</td>\n",
       "      <td>6.40</td>\n",
       "      <td>16.0</td>\n",
       "      <td>9.60</td>\n",
       "      <td>60.00</td>\n",
       "    </tr>\n",
       "    <tr>\n",
       "      <th>24</th>\n",
       "      <td>20344301</td>\n",
       "      <td>LG B1 Series OLED55B1PUA 55\" 4K HDR 120Hz OLED UHD Smart TV</td>\n",
       "      <td>LG B1 Series OLED55B1PUA 55\" 4K HDR 120Hz OLED UHD Smart TV for $997</td>\n",
       "      <td>It's $703 under list price.</td>\n",
       "      <td>&lt;div class=\"snippet summary\" title=\"It&amp;#x27;s&amp;#x20;&amp;#x24;703&amp;#x20;off&amp;#x20;and&amp;#x20;the&amp;#x20;lowest&amp;#x20;price&amp;#x20;we&amp;#x20;could&amp;#x20;find.\"&gt; &lt;p&gt;It's $703 off and the lowest price we could find. &lt;a target=\"_blank\" href=\"https://www.dealnews.com/lw/click.html?20,2,20344301,iref=site-widget\"&gt;Buy ...</td>\n",
       "      <td>Amazon</td>\n",
       "      <td>Free shipping. &lt;br&gt;&lt;b&gt;Features:&lt;/b&gt; 3840x2160 (4K) resolution, HDR10+, 120Hz refresh rate and compatible with Alexa and Google Assistant. Model: OLED55B1PUA.</td>\n",
       "      <td>https://www.dealnews.com/products/LG/LG-B1-Series-OLED55-B1-PUA-55-4-K-HDR-120-Hz-OLED-UHD-Smart-TV/286469.html?iref=site-widget</td>\n",
       "      <td>Last verified 1 hr 13 min ago</td>\n",
       "      <td>2022-07-20 14:23:49</td>\n",
       "      <td>2022-07-20 15:32:22</td>\n",
       "      <td>1969-12-31 19:00:00</td>\n",
       "      <td>2022-07-20 14:23:48</td>\n",
       "      <td>0</td>\n",
       "      <td>0</td>\n",
       "      <td>0</td>\n",
       "      <td>0</td>\n",
       "      <td>0</td>\n",
       "      <td>1</td>\n",
       "      <td>3</td>\n",
       "      <td>$997</td>\n",
       "      <td>$1,700</td>\n",
       "      <td>free shipping</td>\n",
       "      <td>None</td>\n",
       "      <td>159</td>\n",
       "      <td>None</td>\n",
       "      <td>142</td>\n",
       "      <td>None</td>\n",
       "      <td>None</td>\n",
       "      <td>None</td>\n",
       "      <td>313.0</td>\n",
       "      <td>Amazon</td>\n",
       "      <td>/mnt/volume-nyc3-01/Dealnews_Images/2022-07-20/LG B1 Series OLED55B1PUA 55\" 4K HDR 120Hz OLED UHD Smart TV_20344301.jpg</td>\n",
       "      <td>Popularity Rank : Popularity: 3/5</td>\n",
       "      <td>1780</td>\n",
       "      <td>2022-07-20 15:37</td>\n",
       "      <td>997.00</td>\n",
       "      <td>1700.0</td>\n",
       "      <td>703.00</td>\n",
       "      <td>41.35</td>\n",
       "    </tr>\n",
       "    <tr>\n",
       "      <th>23</th>\n",
       "      <td>20344298</td>\n",
       "      <td>Doorbusters at ShoeMall</td>\n",
       "      <td>Doorbusters at ShoeMall: 50% off</td>\n",
       "      <td>Save on over 330 items including boots, sandals, athletic shoes, socks, and more.</td>\n",
       "      <td>&lt;div class=\"snippet summary\" title=\"Save&amp;#x20;on&amp;#x20;over&amp;#x20;330&amp;#x20;items&amp;#x20;including&amp;#x20;boots,&amp;#x20;sandals,&amp;#x20;athletic&amp;#x20;shoes,&amp;#x20;socks,&amp;#x20;and&amp;#x20;more.\"&gt; &lt;p&gt;Save on over 330 items including boots, sandals, athletic shoes, socks, and more. &lt;a target=\"_blank\" href=\"https:...</td>\n",
       "      <td>ShoeMall</td>\n",
       "      <td>Free shipping w/ $50+. Shipping adds $4.95 or orders over $50 get free shipping. Pictured is the Lucky Brand Women's Zanta Booties for $64.99 ($65 off).</td>\n",
       "      <td>https://www.dealnews.com/Doorbusters-at-Shoe-Mall-50-off-free-shipping-w-50/20344298.html?iref=site-widget</td>\n",
       "      <td>Last verified 1 hr 14 min ago</td>\n",
       "      <td>2022-07-20 14:23:01</td>\n",
       "      <td>2022-07-20 15:32:22</td>\n",
       "      <td>1969-12-31 19:00:00</td>\n",
       "      <td>2022-07-20 14:23:00</td>\n",
       "      <td>0</td>\n",
       "      <td>0</td>\n",
       "      <td>0</td>\n",
       "      <td>0</td>\n",
       "      <td>0</td>\n",
       "      <td>1</td>\n",
       "      <td>3</td>\n",
       "      <td>50% off</td>\n",
       "      <td></td>\n",
       "      <td>free shipping w/ $50+</td>\n",
       "      <td>None</td>\n",
       "      <td>280</td>\n",
       "      <td>None</td>\n",
       "      <td>202</td>\n",
       "      <td>None</td>\n",
       "      <td>None</td>\n",
       "      <td>None</td>\n",
       "      <td>2171.0</td>\n",
       "      <td>ShoeMall</td>\n",
       "      <td>/mnt/volume-nyc3-01/Dealnews_Images/2022-07-20/Doorbusters at ShoeMall_20344298.jpg</td>\n",
       "      <td>Popularity Rank : Popularity: 3/5</td>\n",
       "      <td>1780</td>\n",
       "      <td>2022-07-20 15:37</td>\n",
       "      <td>NaN</td>\n",
       "      <td>NaN</td>\n",
       "      <td>NaN</td>\n",
       "      <td>NaN</td>\n",
       "    </tr>\n",
       "    <tr>\n",
       "      <th>41</th>\n",
       "      <td>20344292</td>\n",
       "      <td>Saatva Co Save More, Sleep More Sale</td>\n",
       "      <td>Saatva Co Save More, Sleep More Sale: Up to $500 off</td>\n",
       "      <td>Save on mattresses, bedroom furniture, bedding, and pillows.</td>\n",
       "      <td>&lt;div class=\"snippet summary\" title=\"Save&amp;#x20;on&amp;#x20;mattresses,&amp;#x20;bedroom&amp;#x20;furniture,&amp;#x20;bedding,&amp;#x20;and&amp;#x20;pillows.\"&gt; &lt;p&gt;Save on mattresses, bedroom furniture, bedding, and pillows. &lt;a target=\"_blank\" href=\"https://www.dealnews.com/lw/click.html?20,2,20344292,iref=site-widget\"&gt;Sh...</td>\n",
       "      <td>Saatva Co</td>\n",
       "      <td>Free shipping. $100 off $750 $200 off $1,000 $250 off $2,200 $300 off $3,000 $350 off $3,500 $400 off $4,000 $500 of $4,500+</td>\n",
       "      <td>https://www.dealnews.com/Saatva-Co-Save-More-Sleep-More-Sale-Up-to-500-off-free-shipping/20344292.html?iref=site-widget</td>\n",
       "      <td>Last verified 1 hr 21 min ago</td>\n",
       "      <td>2022-07-20 14:15:42</td>\n",
       "      <td>2022-07-20 15:32:22</td>\n",
       "      <td>2022-07-21 23:59:00</td>\n",
       "      <td>2022-07-20 14:15:41</td>\n",
       "      <td>0</td>\n",
       "      <td>0</td>\n",
       "      <td>0</td>\n",
       "      <td>0</td>\n",
       "      <td>0</td>\n",
       "      <td>1</td>\n",
       "      <td>2</td>\n",
       "      <td>Up to $500 off</td>\n",
       "      <td></td>\n",
       "      <td>free shipping</td>\n",
       "      <td>None</td>\n",
       "      <td>882</td>\n",
       "      <td>None</td>\n",
       "      <td>196,199</td>\n",
       "      <td>None</td>\n",
       "      <td>None</td>\n",
       "      <td>None</td>\n",
       "      <td>54617.0</td>\n",
       "      <td>Saatva Co</td>\n",
       "      <td>/mnt/volume-nyc3-01/Dealnews_Images/2022-07-20/Saatva Co Save More, Sleep More Sale_20344292.jpg</td>\n",
       "      <td>Popularity Rank : Popularity: 2/5</td>\n",
       "      <td>1783</td>\n",
       "      <td>2022-07-20 15:37</td>\n",
       "      <td>NaN</td>\n",
       "      <td>NaN</td>\n",
       "      <td>NaN</td>\n",
       "      <td>NaN</td>\n",
       "    </tr>\n",
       "  </tbody>\n",
       "</table>\n",
       "</div>"
      ],
      "text/plain": [
       "          id                                                     headline  \\\n",
       "28  20344424                     Fun-Size Fragrances at Bath & Body Works   \n",
       "20  20344412                   Escali Portable Travel Bathroom Body Scale   \n",
       "11  20344406             Samsung 970 EVO Plus 500GB M.2 NVMe Internal SSD   \n",
       "5   20344415     Refurb Klymit LiteWater Dinghy Inflatable Pack Raft Boat   \n",
       "25  20344304               Google Nest Smart WiFi Battery Doorbell 2-Pack   \n",
       "12  20344295             Nerf Rival Curve Shot Sideswipe XXI-1200 Blaster   \n",
       "8   20344307                              Knipex 1/8\" Slotted Screwdriver   \n",
       "24  20344301  LG B1 Series OLED55B1PUA 55\" 4K HDR 120Hz OLED UHD Smart TV   \n",
       "23  20344298                                      Doorbusters at ShoeMall   \n",
       "41  20344292                         Saatva Co Save More, Sleep More Sale   \n",
       "\n",
       "                                                          brief_headline  \\\n",
       "28                      Fun-Size Fragrances at Bath & Body Works: for $3   \n",
       "20                    Escali Portable Travel Bathroom Body Scale for $13   \n",
       "11              Samsung 970 EVO Plus 500GB M.2 NVMe Internal SSD for $50   \n",
       "5             Klymit LiteWater Dinghy Inflatable Pack Raft Boat for $110   \n",
       "25               Google Nest Smart WiFi Battery Doorbell 2-Pack for $207   \n",
       "12              Nerf Rival Curve Shot Sideswipe XXI-1200 Blaster for $10   \n",
       "8                                 Knipex 1/8\" Slotted Screwdriver for $6   \n",
       "24  LG B1 Series OLED55B1PUA 55\" 4K HDR 120Hz OLED UHD Smart TV for $997   \n",
       "23                                      Doorbusters at ShoeMall: 50% off   \n",
       "41                  Saatva Co Save More, Sleep More Sale: Up to $500 off   \n",
       "\n",
       "                                                                                                       summary  \\\n",
       "28                                                                        Apply coupon code \"ONTHEGO\" to save.   \n",
       "20                                                                                  It's $17 under list price.   \n",
       "11                                                                                  It's $80 under list price.   \n",
       "5                                                                                   It's $90 under list price.   \n",
       "25  It's the lowest price we could find by $53 but the majority of retailers charge $180 or more per doorbell.   \n",
       "12                                                                                  It's $15 under list price.   \n",
       "8                                                                                    It's $9 under list price.   \n",
       "24                                                                                 It's $703 under list price.   \n",
       "23                           Save on over 330 items including boots, sandals, athletic shoes, socks, and more.   \n",
       "41                                                Save on mattresses, bedroom furniture, bedding, and pillows.   \n",
       "\n",
       "                                                                                                                                                                                                                                                                                              secondary_summary  \\\n",
       "28  <div class=\"snippet summary\" title=\"Apply&#x20;code&#x20;&quot;ONTHEGO&quot;&#x20;to&#x20;save&#x20;up&#x20;to&#x20;&#x24;7&#x20;off&#x20;select&#x20;fun&#x20;size&#x20;fragrances,&#x20;lip&#x20;care,&#x20;hand&#x20;cream,&#x20;and&#x20;shower&#x20;gel.\"> <p>Apply code \"ONTHEGO\" to save up to $7...   \n",
       "20  <div class=\"snippet summary\" title=\"You&#x27;ll&#x20;pay&#x20;&#x24;26&#x20;or&#x20;more&#x20;elsewhere.\"> <p>You'll pay $26 or more elsewhere. <a target=\"_blank\" href=\"https://www.dealnews.com/lw/click.html?20,2,20344412,iref=site-widget\">Buy Now at Amazon</a> </p> </div> <div class=\"snippet fe...   \n",
       "11  <div class=\"snippet summary\" title=\"Clip&#x20;the&#x20;16&#x25;&#x20;off&#x20;coupon&#x20;on&#x20;the&#x20;product&#x20;page&#x20;to&#x20;get&#x20;this&#x20;deal.&#x20;You&#x27;d&#x20;pay&#x20;&#x24;10&#x20;more&#x20;at&#x20;Best&#x20;Buy.\"> <p>Clip the 16% off coupon on the product page to get ...   \n",
       "5   <div class=\"snippet summary\" title=\"It&#x27;s&#x20;&#x24;76&#x20;under&#x20;what&#x20;you&#x27;d&#x20;pay&#x20;for&#x20;it&#x20;new&#x20;at&#x20;Amazon.\"> <p>It's $76 under what you'd pay for it new at Amazon. <a target=\"_blank\" href=\"https://www.dealnews.com/lw/click.html?20,2,20344415,iref=sit...   \n",
       "25  <div class=\"snippet summary\" title=\"It&#x27;s&#x20;the&#x20;lowest&#x20;price&#x20;we&#x20;could&#x20;find&#x20;by&#x20;&#x24;53&#x20;but&#x20;the&#x20;majority&#x20;of&#x20;retailers&#x20;charge&#x20;&#x24;180&#x20;or&#x20;more&#x20;per&#x20;doorbell.\"> <p>It's the lowest price we could find by...   \n",
       "12  <div class=\"snippet summary\" title=\"Thats&#x20;the&#x20;best&#x20;price&#x20;we&#x20;could&#x20;find&#x20;by&#x20;&#x24;2.\"> <p>Thats the best price we could find by $2. <a target=\"_blank\" href=\"https://www.dealnews.com/lw/click.html?20,2,20344295,iref=site-widget\">Buy Now at Amazon</a> </p> </d...   \n",
       "8   <div class=\"snippet summary\" title=\"That&#x27;s&#x20;the&#x20;best&#x20;price&#x20;we&#x20;could&#x20;find&#x20;by&#x20;&#x24;9.\"> <p>That's the best price we could find by $9. <a target=\"_blank\" href=\"https://www.dealnews.com/lw/click.html?20,2,20344307,iref=site-widget\">Buy Now at Amazon</a> <...   \n",
       "24  <div class=\"snippet summary\" title=\"It&#x27;s&#x20;&#x24;703&#x20;off&#x20;and&#x20;the&#x20;lowest&#x20;price&#x20;we&#x20;could&#x20;find.\"> <p>It's $703 off and the lowest price we could find. <a target=\"_blank\" href=\"https://www.dealnews.com/lw/click.html?20,2,20344301,iref=site-widget\">Buy ...   \n",
       "23  <div class=\"snippet summary\" title=\"Save&#x20;on&#x20;over&#x20;330&#x20;items&#x20;including&#x20;boots,&#x20;sandals,&#x20;athletic&#x20;shoes,&#x20;socks,&#x20;and&#x20;more.\"> <p>Save on over 330 items including boots, sandals, athletic shoes, socks, and more. <a target=\"_blank\" href=\"https:...   \n",
       "41  <div class=\"snippet summary\" title=\"Save&#x20;on&#x20;mattresses,&#x20;bedroom&#x20;furniture,&#x20;bedding,&#x20;and&#x20;pillows.\"> <p>Save on mattresses, bedroom furniture, bedding, and pillows. <a target=\"_blank\" href=\"https://www.dealnews.com/lw/click.html?20,2,20344292,iref=site-widget\">Sh...   \n",
       "\n",
       "        key_attribute  \\\n",
       "28  Bath & Body Works   \n",
       "20             Amazon   \n",
       "11    B&H Photo Video   \n",
       "5                eBay   \n",
       "25               eBay   \n",
       "12             Amazon   \n",
       "8              Amazon   \n",
       "24             Amazon   \n",
       "23           ShoeMall   \n",
       "41          Saatva Co   \n",
       "\n",
       "                                                                                                                                                                                                        brief_notes  \\\n",
       "28                                                Pickup. Opt for in-store pickup to dodge the $10.99 shipping charges. Pictured is the Bath & Body Works Into the Night 2.5-oz. Fragrance Mist for $2.95 ($6 off).   \n",
       "20                                                                                                   Free shipping w/ prime. <br><b>Features:</b> instant on, LCD display and 400-lb. weight capacity. Model: T180.   \n",
       "11                                                                                             Free shipping. <br><b>Features:</b> read speeds up to 3,500MB/s; write speeds up to 3,300MB/s. Model: MZ-V7S500B/AM.   \n",
       "5                                                                                                 Free shipping. <br><b>Features:</b> measures 76\" x 45\", 210D rip-stop polyester and two valves. Model: 14LDBl01C.   \n",
       "25                                                                      Free shipping. In several colors (Ash pictured). <br><b>Features:</b> 1.3MP color sensor, 6x digital zoom, 24/7 live view and night vision.   \n",
       "12                                                     Free shipping w/ prime. <br><b>Features:</b> fire rounds left, right, down or straight, 12 Rival rounds and magazine included and bolt-action. Model: F0379.   \n",
       "8   Free shipping w/ prime. <br><b>Features:</b> 1000V VDE tested, 1/64\" blade thickness, Handle design prevents rolling, Hang hole in handle for storage and 1/8\" Slotted Screwdriver, 4\", 1000V. Model: 98 20 35.   \n",
       "24                                                    Free shipping. <br><b>Features:</b> 3840x2160 (4K) resolution, HDR10+, 120Hz refresh rate and compatible with Alexa and Google Assistant. Model: OLED55B1PUA.   \n",
       "23                                                         Free shipping w/ $50+. Shipping adds $4.95 or orders over $50 get free shipping. Pictured is the Lucky Brand Women's Zanta Booties for $64.99 ($65 off).   \n",
       "41                                                                                     Free shipping. $100 off $750 $200 off $1,000 $250 off $2,200 $300 off $3,000 $350 off $3,500 $400 off $4,000 $500 of $4,500+   \n",
       "\n",
       "                                                                                                                                 url  \\\n",
       "28                       https://www.dealnews.com/Fun-Size-Fragrances-at-Bath-Body-Works-for-3-pickup/20344424.html?iref=site-widget   \n",
       "20                         https://www.dealnews.com/products/Escali/Portable-Travel-Bathroom-Body-Scale/342764.html?iref=site-widget   \n",
       "11           https://www.dealnews.com/products/Samsung/Samsung-970-EVO-Plus-500-GB-M-2-NVMe-Internal-SSD/70831.html?iref=site-widget   \n",
       "5           https://www.dealnews.com/products/Klymit/Klymit-Lite-Water-Dinghy-Inflatable-Pack-Raft-Boat/342767.html?iref=site-widget   \n",
       "25     https://www.dealnews.com/Google-Nest-Smart-Wi-Fi-Battery-Doorbell-2-Pack-for-207-free-shipping/20344304.html?iref=site-widget   \n",
       "12              https://www.dealnews.com/products/Nerf/Nerf-Rival-Curve-Shot-Sideswipe-XXI-1200-Blaster/342758.html?iref=site-widget   \n",
       "8                                      https://www.dealnews.com/products/Knipex/1-8-Slotted-Screwdriver/337196.html?iref=site-widget   \n",
       "24  https://www.dealnews.com/products/LG/LG-B1-Series-OLED55-B1-PUA-55-4-K-HDR-120-Hz-OLED-UHD-Smart-TV/286469.html?iref=site-widget   \n",
       "23                        https://www.dealnews.com/Doorbusters-at-Shoe-Mall-50-off-free-shipping-w-50/20344298.html?iref=site-widget   \n",
       "41           https://www.dealnews.com/Saatva-Co-Save-More-Sleep-More-Sale-Up-to-500-off-free-shipping/20344292.html?iref=site-widget   \n",
       "\n",
       "                     display_date  publish_datetime_ts   update_datetime_ts  \\\n",
       "28       Last verified 38 min ago  2022-07-20 14:58:42  2022-07-20 15:32:17   \n",
       "20       Last verified 44 min ago  2022-07-20 14:52:17  2022-07-20 15:32:18   \n",
       "11       Last verified 47 min ago  2022-07-20 14:50:09  2022-07-20 15:32:19   \n",
       "5        Last verified 49 min ago  2022-07-20 14:48:08  2022-07-20 15:32:19   \n",
       "25       Last verified 57 min ago  2022-07-20 14:40:06  2022-07-20 15:32:20   \n",
       "12       Last verified 58 min ago  2022-07-20 14:38:49  2022-07-20 15:32:21   \n",
       "8    Last verified 1 hr 1 min ago  2022-07-20 14:36:05  2022-07-20 15:32:21   \n",
       "24  Last verified 1 hr 13 min ago  2022-07-20 14:23:49  2022-07-20 15:32:22   \n",
       "23  Last verified 1 hr 14 min ago  2022-07-20 14:23:01  2022-07-20 15:32:22   \n",
       "41  Last verified 1 hr 21 min ago  2022-07-20 14:15:42  2022-07-20 15:32:22   \n",
       "\n",
       "   expiration_datetime_ts last_verified_datetime_ts  editors_choice  \\\n",
       "28    2022-07-20 23:59:00       2022-07-20 14:58:41               0   \n",
       "20    1969-12-31 19:00:00       2022-07-20 14:52:16               0   \n",
       "11    1969-12-31 19:00:00       2022-07-20 14:50:08               1   \n",
       "5     1969-12-31 19:00:00       2022-07-20 14:48:07               0   \n",
       "25    1969-12-31 19:00:00       2022-07-20 14:40:05               1   \n",
       "12    1969-12-31 19:00:00       2022-07-20 14:38:48               0   \n",
       "8     1969-12-31 19:00:00       2022-07-20 14:36:04               0   \n",
       "24    1969-12-31 19:00:00       2022-07-20 14:23:48               0   \n",
       "23    1969-12-31 19:00:00       2022-07-20 14:23:00               0   \n",
       "41    2022-07-21 23:59:00       2022-07-20 14:15:41               0   \n",
       "\n",
       "    sponsored  expired  expires_today  exclusive  searchable  hotness  \\\n",
       "28          0        0              1          0           1        3   \n",
       "20          0        0              0          0           1        3   \n",
       "11          0        0              0          0           1        4   \n",
       "5           0        0              0          0           1        4   \n",
       "25          0        0              0          0           1        3   \n",
       "12          0        0              0          0           1        4   \n",
       "8           0        0              0          0           1        4   \n",
       "24          0        0              0          0           1        3   \n",
       "23          0        0              0          0           1        3   \n",
       "41          0        0              0          0           1        2   \n",
       "\n",
       "          call_out call_out_comparison            sub_call_out Coupon Code  \\\n",
       "28           $2.95                                      pickup     ONTHEGO   \n",
       "20             $13                 $30  free shipping w/ Prime        None   \n",
       "11             $50                $130           free shipping        None   \n",
       "5             $110                $200           free shipping        None   \n",
       "25            $207                               free shipping        None   \n",
       "12           $9.94                 $25  free shipping w/ Prime        None   \n",
       "8            $6.40                 $16  free shipping w/ Prime        None   \n",
       "24            $997              $1,700           free shipping        None   \n",
       "23         50% off                       free shipping w/ $50+        None   \n",
       "41  Up to $500 off                               free shipping        None   \n",
       "\n",
       "    category_id_0 namepath_0 ancestor_list_0 category_id_1 namepath_1  \\\n",
       "28            759       None             756          None       None   \n",
       "20            765       None             756          None       None   \n",
       "11            473       None        39,51,56          None       None   \n",
       "5             298       None             211          None       None   \n",
       "25            492       None             196          None       None   \n",
       "12            186       None            None          None       None   \n",
       "8            1030       None     196,197,645          None       None   \n",
       "24            159       None             142          None       None   \n",
       "23            280       None             202          None       None   \n",
       "41            882       None         196,199          None       None   \n",
       "\n",
       "   ancestor_list_1  vendor_id               name  \\\n",
       "28            None     1693.0  Bath & Body Works   \n",
       "20            None      313.0             Amazon   \n",
       "11            None      973.0    B&H Photo Video   \n",
       "5             None       50.0               eBay   \n",
       "25            None       50.0               eBay   \n",
       "12            None      313.0             Amazon   \n",
       "8             None      313.0             Amazon   \n",
       "24            None      313.0             Amazon   \n",
       "23            None     2171.0           ShoeMall   \n",
       "41            None    54617.0          Saatva Co   \n",
       "\n",
       "                                                                                                                 Image path  \\\n",
       "28                     /mnt/volume-nyc3-01/Dealnews_Images/2022-07-20/Fun-Size Fragrances at Bath & Body Works_20344424.jpg   \n",
       "20                   /mnt/volume-nyc3-01/Dealnews_Images/2022-07-20/Escali Portable Travel Bathroom Body Scale_20344412.jpg   \n",
       "11             /mnt/volume-nyc3-01/Dealnews_Images/2022-07-20/Samsung 970 EVO Plus 500GB M.2 NVMe Internal SSD_20344406.jpg   \n",
       "5      /mnt/volume-nyc3-01/Dealnews_Images/2022-07-20/Refurb Klymit LiteWater Dinghy Inflatable Pack Raft Boat_20344415.jpg   \n",
       "25               /mnt/volume-nyc3-01/Dealnews_Images/2022-07-20/Google Nest Smart WiFi Battery Doorbell 2-Pack_20344304.jpg   \n",
       "12             /mnt/volume-nyc3-01/Dealnews_Images/2022-07-20/Nerf Rival Curve Shot Sideswipe XXI-1200 Blaster_20344295.jpg   \n",
       "8                                /mnt/volume-nyc3-01/Dealnews_Images/2022-07-20/Knipex 18\" Slotted Screwdriver_20344307.jpg   \n",
       "24  /mnt/volume-nyc3-01/Dealnews_Images/2022-07-20/LG B1 Series OLED55B1PUA 55\" 4K HDR 120Hz OLED UHD Smart TV_20344301.jpg   \n",
       "23                                      /mnt/volume-nyc3-01/Dealnews_Images/2022-07-20/Doorbusters at ShoeMall_20344298.jpg   \n",
       "41                         /mnt/volume-nyc3-01/Dealnews_Images/2022-07-20/Saatva Co Save More, Sleep More Sale_20344292.jpg   \n",
       "\n",
       "                             API Feed  API id_number        _dt_pulled  \\\n",
       "28  Popularity Rank : Popularity: 3/5           1780  2022-07-20 15:37   \n",
       "20  Popularity Rank : Popularity: 3/5           1780  2022-07-20 15:37   \n",
       "11  Popularity Rank : Popularity: 4/5           1777  2022-07-20 15:37   \n",
       "5   Popularity Rank : Popularity: 4/5           1777  2022-07-20 15:37   \n",
       "25  Popularity Rank : Popularity: 3/5           1780  2022-07-20 15:37   \n",
       "12  Popularity Rank : Popularity: 4/5           1777  2022-07-20 15:37   \n",
       "8   Popularity Rank : Popularity: 4/5           1777  2022-07-20 15:37   \n",
       "24  Popularity Rank : Popularity: 3/5           1780  2022-07-20 15:37   \n",
       "23  Popularity Rank : Popularity: 3/5           1780  2022-07-20 15:37   \n",
       "41  Popularity Rank : Popularity: 2/5           1783  2022-07-20 15:37   \n",
       "\n",
       "    callout_parse  callout_compare_parse  callout_diff  callout_diff_pct  \n",
       "28           2.95                    NaN           NaN               NaN  \n",
       "20          13.00                   30.0         17.00             56.67  \n",
       "11          50.00                  130.0         80.00             61.54  \n",
       "5          110.00                  200.0         90.00             45.00  \n",
       "25         207.00                    NaN           NaN               NaN  \n",
       "12           9.94                   25.0         15.06             60.24  \n",
       "8            6.40                   16.0          9.60             60.00  \n",
       "24         997.00                 1700.0        703.00             41.35  \n",
       "23            NaN                    NaN           NaN               NaN  \n",
       "41            NaN                    NaN           NaN               NaN  "
      ]
     },
     "execution_count": 14,
     "metadata": {},
     "output_type": "execute_result"
    }
   ],
   "source": [
    "## Take a peak at one or 2\n",
    "items.sort_values('publish_datetime_ts', ascending=False).head(10) # looking for url to compare"
   ]
  },
  {
   "cell_type": "code",
   "execution_count": null,
   "metadata": {},
   "outputs": [],
   "source": []
  },
  {
   "cell_type": "markdown",
   "metadata": {},
   "source": [
    "### Filter for dups and items with callout numbers"
   ]
  },
  {
   "cell_type": "code",
   "execution_count": 15,
   "metadata": {
    "scrolled": true
   },
   "outputs": [
    {
     "name": "stdout",
     "output_type": "stream",
     "text": [
      "Keep 22814  45.63\n"
     ]
    },
    {
     "data": {
      "text/plain": [
       "(22814, 40)"
      ]
     },
     "execution_count": 15,
     "metadata": {},
     "output_type": "execute_result"
    }
   ],
   "source": [
    "items_sm = items.drop_duplicates(subset=['headline'])\n",
    "items_sm = items_sm[items_sm['callout_parse'].notnull()]\n",
    "print(f\"Keep {items_sm.shape[0]} \", np.round(100*items_sm.shape[0]/items.shape[0],2))\n",
    "items_sm.shape"
   ]
  },
  {
   "cell_type": "code",
   "execution_count": 16,
   "metadata": {},
   "outputs": [
    {
     "data": {
      "text/plain": [
       "API Feed\n",
       "Popularity Rank : Popularity: 1/5    1686\n",
       "Popularity Rank : Popularity: 2/5    5190\n",
       "Popularity Rank : Popularity: 3/5    8456\n",
       "Popularity Rank : Popularity: 4/5    6112\n",
       "Popularity Rank : Popularity: 5/5    1370\n",
       "Name: headline, dtype: int64"
      ]
     },
     "execution_count": 16,
     "metadata": {},
     "output_type": "execute_result"
    }
   ],
   "source": [
    "items_sm.groupby('API Feed')['headline'].count()"
   ]
  },
  {
   "cell_type": "markdown",
   "metadata": {},
   "source": [
    "## Get Category Lookup table"
   ]
  },
  {
   "cell_type": "code",
   "execution_count": 17,
   "metadata": {},
   "outputs": [
    {
     "data": {
      "text/html": [
       "<div>\n",
       "<style scoped>\n",
       "    .dataframe tbody tr th:only-of-type {\n",
       "        vertical-align: middle;\n",
       "    }\n",
       "\n",
       "    .dataframe tbody tr th {\n",
       "        vertical-align: top;\n",
       "    }\n",
       "\n",
       "    .dataframe thead th {\n",
       "        text-align: right;\n",
       "    }\n",
       "</style>\n",
       "<table border=\"1\" class=\"dataframe\">\n",
       "  <thead>\n",
       "    <tr style=\"text-align: right;\">\n",
       "      <th></th>\n",
       "      <th>category_id_0</th>\n",
       "      <th># of deals</th>\n",
       "    </tr>\n",
       "  </thead>\n",
       "  <tbody>\n",
       "    <tr>\n",
       "      <th>0</th>\n",
       "      <td>280</td>\n",
       "      <td>1072</td>\n",
       "    </tr>\n",
       "    <tr>\n",
       "      <th>1</th>\n",
       "      <td>226</td>\n",
       "      <td>873</td>\n",
       "    </tr>\n",
       "    <tr>\n",
       "      <th>2</th>\n",
       "      <td>201</td>\n",
       "      <td>808</td>\n",
       "    </tr>\n",
       "    <tr>\n",
       "      <th>3</th>\n",
       "      <td>49</td>\n",
       "      <td>659</td>\n",
       "    </tr>\n",
       "    <tr>\n",
       "      <th>4</th>\n",
       "      <td>197</td>\n",
       "      <td>567</td>\n",
       "    </tr>\n",
       "    <tr>\n",
       "      <th>...</th>\n",
       "      <td>...</td>\n",
       "      <td>...</td>\n",
       "    </tr>\n",
       "    <tr>\n",
       "      <th>337</th>\n",
       "      <td>661</td>\n",
       "      <td>1</td>\n",
       "    </tr>\n",
       "    <tr>\n",
       "      <th>338</th>\n",
       "      <td>985</td>\n",
       "      <td>1</td>\n",
       "    </tr>\n",
       "    <tr>\n",
       "      <th>339</th>\n",
       "      <td>449</td>\n",
       "      <td>1</td>\n",
       "    </tr>\n",
       "    <tr>\n",
       "      <th>340</th>\n",
       "      <td>539</td>\n",
       "      <td>1</td>\n",
       "    </tr>\n",
       "    <tr>\n",
       "      <th>341</th>\n",
       "      <td>177</td>\n",
       "      <td>1</td>\n",
       "    </tr>\n",
       "  </tbody>\n",
       "</table>\n",
       "<p>342 rows × 2 columns</p>\n",
       "</div>"
      ],
      "text/plain": [
       "     category_id_0  # of deals\n",
       "0              280        1072\n",
       "1              226         873\n",
       "2              201         808\n",
       "3               49         659\n",
       "4              197         567\n",
       "..             ...         ...\n",
       "337            661           1\n",
       "338            985           1\n",
       "339            449           1\n",
       "340            539           1\n",
       "341            177           1\n",
       "\n",
       "[342 rows x 2 columns]"
      ]
     },
     "execution_count": 17,
     "metadata": {},
     "output_type": "execute_result"
    }
   ],
   "source": [
    "cat_0_deals = items_sm.groupby('category_id_0')['headline'].count().sort_values(ascending=False)\n",
    "cat_0_deals = cat_0_deals.reset_index().rename({'headline':'# of deals'}, axis=1)\n",
    "cat_0_deals"
   ]
  },
  {
   "cell_type": "code",
   "execution_count": 18,
   "metadata": {},
   "outputs": [
    {
     "name": "stdout",
     "output_type": "stream",
     "text": [
      "2022-07-20 15:37\n"
     ]
    },
    {
     "data": {
      "text/html": [
       "<div>\n",
       "<style scoped>\n",
       "    .dataframe tbody tr th:only-of-type {\n",
       "        vertical-align: middle;\n",
       "    }\n",
       "\n",
       "    .dataframe tbody tr th {\n",
       "        vertical-align: top;\n",
       "    }\n",
       "\n",
       "    .dataframe thead th {\n",
       "        text-align: right;\n",
       "    }\n",
       "</style>\n",
       "<table border=\"1\" class=\"dataframe\">\n",
       "  <thead>\n",
       "    <tr style=\"text-align: right;\">\n",
       "      <th></th>\n",
       "      <th>level_0</th>\n",
       "      <th>level_1</th>\n",
       "      <th>name</th>\n",
       "      <th>count</th>\n",
       "      <th>id_number</th>\n",
       "      <th>short_name</th>\n",
       "      <th>id_name</th>\n",
       "      <th>_dt_pulled</th>\n",
       "    </tr>\n",
       "  </thead>\n",
       "  <tbody>\n",
       "    <tr>\n",
       "      <th>0</th>\n",
       "      <td>vendor</td>\n",
       "      <td>0</td>\n",
       "      <td>Amazon</td>\n",
       "      <td>826</td>\n",
       "      <td>313</td>\n",
       "      <td>Amazon</td>\n",
       "      <td>vendor_id</td>\n",
       "      <td>2022-07-20 15:37</td>\n",
       "    </tr>\n",
       "    <tr>\n",
       "      <th>1</th>\n",
       "      <td>vendor</td>\n",
       "      <td>1</td>\n",
       "      <td>eBay</td>\n",
       "      <td>145</td>\n",
       "      <td>50</td>\n",
       "      <td>eBay</td>\n",
       "      <td>vendor_id</td>\n",
       "      <td>2022-07-20 15:37</td>\n",
       "    </tr>\n",
       "    <tr>\n",
       "      <th>2</th>\n",
       "      <td>vendor</td>\n",
       "      <td>2</td>\n",
       "      <td>Walmart</td>\n",
       "      <td>79</td>\n",
       "      <td>321</td>\n",
       "      <td>Walmart</td>\n",
       "      <td>vendor_id</td>\n",
       "      <td>2022-07-20 15:37</td>\n",
       "    </tr>\n",
       "    <tr>\n",
       "      <th>3</th>\n",
       "      <td>vendor</td>\n",
       "      <td>3</td>\n",
       "      <td>Proozy</td>\n",
       "      <td>37</td>\n",
       "      <td>41921</td>\n",
       "      <td>Proozy</td>\n",
       "      <td>vendor_id</td>\n",
       "      <td>2022-07-20 15:37</td>\n",
       "    </tr>\n",
       "    <tr>\n",
       "      <th>4</th>\n",
       "      <td>vendor</td>\n",
       "      <td>4</td>\n",
       "      <td>UntilGone</td>\n",
       "      <td>35</td>\n",
       "      <td>1793</td>\n",
       "      <td>UntilGone</td>\n",
       "      <td>vendor_id</td>\n",
       "      <td>2022-07-20 15:37</td>\n",
       "    </tr>\n",
       "    <tr>\n",
       "      <th>...</th>\n",
       "      <td>...</td>\n",
       "      <td>...</td>\n",
       "      <td>...</td>\n",
       "      <td>...</td>\n",
       "      <td>...</td>\n",
       "      <td>...</td>\n",
       "      <td>...</td>\n",
       "      <td>...</td>\n",
       "    </tr>\n",
       "    <tr>\n",
       "      <th>856</th>\n",
       "      <td>category</td>\n",
       "      <td>22</td>\n",
       "      <td>Health</td>\n",
       "      <td>1</td>\n",
       "      <td>765</td>\n",
       "      <td>Health</td>\n",
       "      <td>category_id</td>\n",
       "      <td>2022-07-20 15:37</td>\n",
       "    </tr>\n",
       "    <tr>\n",
       "      <th>857</th>\n",
       "      <td>category</td>\n",
       "      <td>23</td>\n",
       "      <td>Medicine &amp; Medical</td>\n",
       "      <td>1</td>\n",
       "      <td>780</td>\n",
       "      <td>Medicine &amp; Medical</td>\n",
       "      <td>category_id</td>\n",
       "      <td>2022-07-20 15:37</td>\n",
       "    </tr>\n",
       "    <tr>\n",
       "      <th>858</th>\n",
       "      <td>category</td>\n",
       "      <td>24</td>\n",
       "      <td>Supplements</td>\n",
       "      <td>1</td>\n",
       "      <td>798</td>\n",
       "      <td>Supplements</td>\n",
       "      <td>category_id</td>\n",
       "      <td>2022-07-20 15:37</td>\n",
       "    </tr>\n",
       "    <tr>\n",
       "      <th>859</th>\n",
       "      <td>category</td>\n",
       "      <td>25</td>\n",
       "      <td>Vitamins</td>\n",
       "      <td>1</td>\n",
       "      <td>801</td>\n",
       "      <td>Vitamins</td>\n",
       "      <td>category_id</td>\n",
       "      <td>2022-07-20 15:37</td>\n",
       "    </tr>\n",
       "    <tr>\n",
       "      <th>860</th>\n",
       "      <td>category</td>\n",
       "      <td>26</td>\n",
       "      <td>Sweatshirts &amp; Hoodies</td>\n",
       "      <td>1</td>\n",
       "      <td>866</td>\n",
       "      <td>Sweatshirts &amp; Hoodies</td>\n",
       "      <td>category_id</td>\n",
       "      <td>2022-07-20 15:37</td>\n",
       "    </tr>\n",
       "  </tbody>\n",
       "</table>\n",
       "<p>861 rows × 8 columns</p>\n",
       "</div>"
      ],
      "text/plain": [
       "      level_0  level_1                   name  count  id_number  \\\n",
       "0      vendor        0                 Amazon    826        313   \n",
       "1      vendor        1                   eBay    145         50   \n",
       "2      vendor        2                Walmart     79        321   \n",
       "3      vendor        3                 Proozy     37      41921   \n",
       "4      vendor        4              UntilGone     35       1793   \n",
       "..        ...      ...                    ...    ...        ...   \n",
       "856  category       22                 Health      1        765   \n",
       "857  category       23     Medicine & Medical      1        780   \n",
       "858  category       24            Supplements      1        798   \n",
       "859  category       25               Vitamins      1        801   \n",
       "860  category       26  Sweatshirts & Hoodies      1        866   \n",
       "\n",
       "                short_name      id_name        _dt_pulled  \n",
       "0                   Amazon    vendor_id  2022-07-20 15:37  \n",
       "1                     eBay    vendor_id  2022-07-20 15:37  \n",
       "2                  Walmart    vendor_id  2022-07-20 15:37  \n",
       "3                   Proozy    vendor_id  2022-07-20 15:37  \n",
       "4                UntilGone    vendor_id  2022-07-20 15:37  \n",
       "..                     ...          ...               ...  \n",
       "856                 Health  category_id  2022-07-20 15:37  \n",
       "857     Medicine & Medical  category_id  2022-07-20 15:37  \n",
       "858            Supplements  category_id  2022-07-20 15:37  \n",
       "859               Vitamins  category_id  2022-07-20 15:37  \n",
       "860  Sweatshirts & Hoodies  category_id  2022-07-20 15:37  \n",
       "\n",
       "[861 rows x 8 columns]"
      ]
     },
     "execution_count": 18,
     "metadata": {},
     "output_type": "execute_result"
    }
   ],
   "source": [
    "last_category_date = cursor.execute(\"select max(_dt_pulled) from `Category Info`\")\n",
    "last_category_date = last_category_date.fetchall()[0][0]\n",
    "print(last_category_date)\n",
    "categories = pd.read_sql(f\"select * from `Category Info` where _dt_pulled='{last_category_date}' \", con)\n",
    "categories"
   ]
  },
  {
   "cell_type": "code",
   "execution_count": 19,
   "metadata": {},
   "outputs": [
    {
     "data": {
      "text/html": [
       "<div>\n",
       "<style scoped>\n",
       "    .dataframe tbody tr th:only-of-type {\n",
       "        vertical-align: middle;\n",
       "    }\n",
       "\n",
       "    .dataframe tbody tr th {\n",
       "        vertical-align: top;\n",
       "    }\n",
       "\n",
       "    .dataframe thead th {\n",
       "        text-align: right;\n",
       "    }\n",
       "</style>\n",
       "<table border=\"1\" class=\"dataframe\">\n",
       "  <thead>\n",
       "    <tr style=\"text-align: right;\">\n",
       "      <th></th>\n",
       "      <th>id_number</th>\n",
       "      <th>name</th>\n",
       "      <th>short_name</th>\n",
       "    </tr>\n",
       "  </thead>\n",
       "  <tbody>\n",
       "    <tr>\n",
       "      <th>834</th>\n",
       "      <td>196</td>\n",
       "      <td>Home &amp; Garden</td>\n",
       "      <td>Home &amp; Garden</td>\n",
       "    </tr>\n",
       "    <tr>\n",
       "      <th>835</th>\n",
       "      <td>202</td>\n",
       "      <td>Clothing &amp; Accessories</td>\n",
       "      <td>Clothing &amp; Accessories</td>\n",
       "    </tr>\n",
       "    <tr>\n",
       "      <th>836</th>\n",
       "      <td>39</td>\n",
       "      <td>Computers</td>\n",
       "      <td>Computers</td>\n",
       "    </tr>\n",
       "    <tr>\n",
       "      <th>837</th>\n",
       "      <td>142</td>\n",
       "      <td>Electronics</td>\n",
       "      <td>Electronics</td>\n",
       "    </tr>\n",
       "    <tr>\n",
       "      <th>838</th>\n",
       "      <td>211</td>\n",
       "      <td>Sports &amp; Fitness</td>\n",
       "      <td>Sports &amp; Fitness</td>\n",
       "    </tr>\n",
       "    <tr>\n",
       "      <th>839</th>\n",
       "      <td>40</td>\n",
       "      <td>Store Events</td>\n",
       "      <td>Store Events</td>\n",
       "    </tr>\n",
       "    <tr>\n",
       "      <th>840</th>\n",
       "      <td>756</td>\n",
       "      <td>Health &amp; Beauty</td>\n",
       "      <td>Health &amp; Beauty</td>\n",
       "    </tr>\n",
       "    <tr>\n",
       "      <th>841</th>\n",
       "      <td>186</td>\n",
       "      <td>Gaming &amp; Toys</td>\n",
       "      <td>Gaming &amp; Toys</td>\n",
       "    </tr>\n",
       "    <tr>\n",
       "      <th>842</th>\n",
       "      <td>238</td>\n",
       "      <td>Automotive</td>\n",
       "      <td>Automotive</td>\n",
       "    </tr>\n",
       "    <tr>\n",
       "      <th>843</th>\n",
       "      <td>182</td>\n",
       "      <td>Office &amp; School Supplies</td>\n",
       "      <td>Office &amp; School Supplies</td>\n",
       "    </tr>\n",
       "    <tr>\n",
       "      <th>844</th>\n",
       "      <td>178</td>\n",
       "      <td>Movies, Music, Books</td>\n",
       "      <td>Movies, Music, Books</td>\n",
       "    </tr>\n",
       "    <tr>\n",
       "      <th>845</th>\n",
       "      <td>206</td>\n",
       "      <td>Travel &amp; Entertainment</td>\n",
       "      <td>Travel &amp; Entertainment</td>\n",
       "    </tr>\n",
       "    <tr>\n",
       "      <th>846</th>\n",
       "      <td>859</td>\n",
       "      <td>Gift Cards</td>\n",
       "      <td>Gift Cards</td>\n",
       "    </tr>\n",
       "    <tr>\n",
       "      <th>847</th>\n",
       "      <td>636</td>\n",
       "      <td>Special Occasion</td>\n",
       "      <td>Special Occasion</td>\n",
       "    </tr>\n",
       "    <tr>\n",
       "      <th>848</th>\n",
       "      <td>231</td>\n",
       "      <td>Everything Else</td>\n",
       "      <td>Everything Else</td>\n",
       "    </tr>\n",
       "    <tr>\n",
       "      <th>849</th>\n",
       "      <td>702</td>\n",
       "      <td>Financial Services</td>\n",
       "      <td>Financial Services</td>\n",
       "    </tr>\n",
       "    <tr>\n",
       "      <th>850</th>\n",
       "      <td>48</td>\n",
       "      <td>Desktops</td>\n",
       "      <td>Desktops</td>\n",
       "    </tr>\n",
       "    <tr>\n",
       "      <th>851</th>\n",
       "      <td>181</td>\n",
       "      <td>Music</td>\n",
       "      <td>Music</td>\n",
       "    </tr>\n",
       "    <tr>\n",
       "      <th>852</th>\n",
       "      <td>226</td>\n",
       "      <td>Toys &amp; Hobbies</td>\n",
       "      <td>Toys &amp; Hobbies</td>\n",
       "    </tr>\n",
       "    <tr>\n",
       "      <th>853</th>\n",
       "      <td>287</td>\n",
       "      <td>Luggage &amp; Travel Gear</td>\n",
       "      <td>Luggage &amp; Travel Gear</td>\n",
       "    </tr>\n",
       "    <tr>\n",
       "      <th>854</th>\n",
       "      <td>311</td>\n",
       "      <td>Crafts</td>\n",
       "      <td>Crafts</td>\n",
       "    </tr>\n",
       "    <tr>\n",
       "      <th>855</th>\n",
       "      <td>744</td>\n",
       "      <td>Patio Furniture</td>\n",
       "      <td>Patio Furniture</td>\n",
       "    </tr>\n",
       "    <tr>\n",
       "      <th>856</th>\n",
       "      <td>765</td>\n",
       "      <td>Health</td>\n",
       "      <td>Health</td>\n",
       "    </tr>\n",
       "    <tr>\n",
       "      <th>857</th>\n",
       "      <td>780</td>\n",
       "      <td>Medicine &amp; Medical</td>\n",
       "      <td>Medicine &amp; Medical</td>\n",
       "    </tr>\n",
       "    <tr>\n",
       "      <th>858</th>\n",
       "      <td>798</td>\n",
       "      <td>Supplements</td>\n",
       "      <td>Supplements</td>\n",
       "    </tr>\n",
       "    <tr>\n",
       "      <th>859</th>\n",
       "      <td>801</td>\n",
       "      <td>Vitamins</td>\n",
       "      <td>Vitamins</td>\n",
       "    </tr>\n",
       "    <tr>\n",
       "      <th>860</th>\n",
       "      <td>866</td>\n",
       "      <td>Sweatshirts &amp; Hoodies</td>\n",
       "      <td>Sweatshirts &amp; Hoodies</td>\n",
       "    </tr>\n",
       "  </tbody>\n",
       "</table>\n",
       "</div>"
      ],
      "text/plain": [
       "     id_number                      name                short_name\n",
       "834        196             Home & Garden             Home & Garden\n",
       "835        202    Clothing & Accessories    Clothing & Accessories\n",
       "836         39                 Computers                 Computers\n",
       "837        142               Electronics               Electronics\n",
       "838        211          Sports & Fitness          Sports & Fitness\n",
       "839         40              Store Events              Store Events\n",
       "840        756           Health & Beauty           Health & Beauty\n",
       "841        186             Gaming & Toys             Gaming & Toys\n",
       "842        238                Automotive                Automotive\n",
       "843        182  Office & School Supplies  Office & School Supplies\n",
       "844        178      Movies, Music, Books      Movies, Music, Books\n",
       "845        206    Travel & Entertainment    Travel & Entertainment\n",
       "846        859                Gift Cards                Gift Cards\n",
       "847        636          Special Occasion          Special Occasion\n",
       "848        231           Everything Else           Everything Else\n",
       "849        702        Financial Services        Financial Services\n",
       "850         48                  Desktops                  Desktops\n",
       "851        181                     Music                     Music\n",
       "852        226            Toys & Hobbies            Toys & Hobbies\n",
       "853        287     Luggage & Travel Gear     Luggage & Travel Gear\n",
       "854        311                    Crafts                    Crafts\n",
       "855        744           Patio Furniture           Patio Furniture\n",
       "856        765                    Health                    Health\n",
       "857        780        Medicine & Medical        Medicine & Medical\n",
       "858        798               Supplements               Supplements\n",
       "859        801                  Vitamins                  Vitamins\n",
       "860        866     Sweatshirts & Hoodies     Sweatshirts & Hoodies"
      ]
     },
     "execution_count": 19,
     "metadata": {},
     "output_type": "execute_result"
    }
   ],
   "source": [
    "category_ids_sm = categories[categories['level_0'] == 'category']\n",
    "category_ids_sm = category_ids_sm[['id_number', 'name', 'short_name']]\n",
    "category_ids_sm"
   ]
  },
  {
   "cell_type": "code",
   "execution_count": 20,
   "metadata": {},
   "outputs": [
    {
     "data": {
      "text/html": [
       "<div>\n",
       "<style scoped>\n",
       "    .dataframe tbody tr th:only-of-type {\n",
       "        vertical-align: middle;\n",
       "    }\n",
       "\n",
       "    .dataframe tbody tr th {\n",
       "        vertical-align: top;\n",
       "    }\n",
       "\n",
       "    .dataframe thead th {\n",
       "        text-align: right;\n",
       "    }\n",
       "</style>\n",
       "<table border=\"1\" class=\"dataframe\">\n",
       "  <thead>\n",
       "    <tr style=\"text-align: right;\">\n",
       "      <th></th>\n",
       "      <th>category_id_0</th>\n",
       "      <th># of deals</th>\n",
       "      <th>id_number</th>\n",
       "      <th>name</th>\n",
       "      <th>short_name</th>\n",
       "    </tr>\n",
       "  </thead>\n",
       "  <tbody>\n",
       "    <tr>\n",
       "      <th>0</th>\n",
       "      <td>226</td>\n",
       "      <td>873</td>\n",
       "      <td>226</td>\n",
       "      <td>Toys &amp; Hobbies</td>\n",
       "      <td>Toys &amp; Hobbies</td>\n",
       "    </tr>\n",
       "    <tr>\n",
       "      <th>1</th>\n",
       "      <td>238</td>\n",
       "      <td>492</td>\n",
       "      <td>238</td>\n",
       "      <td>Automotive</td>\n",
       "      <td>Automotive</td>\n",
       "    </tr>\n",
       "    <tr>\n",
       "      <th>2</th>\n",
       "      <td>196</td>\n",
       "      <td>482</td>\n",
       "      <td>196</td>\n",
       "      <td>Home &amp; Garden</td>\n",
       "      <td>Home &amp; Garden</td>\n",
       "    </tr>\n",
       "    <tr>\n",
       "      <th>3</th>\n",
       "      <td>765</td>\n",
       "      <td>243</td>\n",
       "      <td>765</td>\n",
       "      <td>Health</td>\n",
       "      <td>Health</td>\n",
       "    </tr>\n",
       "    <tr>\n",
       "      <th>4</th>\n",
       "      <td>211</td>\n",
       "      <td>210</td>\n",
       "      <td>211</td>\n",
       "      <td>Sports &amp; Fitness</td>\n",
       "      <td>Sports &amp; Fitness</td>\n",
       "    </tr>\n",
       "    <tr>\n",
       "      <th>5</th>\n",
       "      <td>744</td>\n",
       "      <td>202</td>\n",
       "      <td>744</td>\n",
       "      <td>Patio Furniture</td>\n",
       "      <td>Patio Furniture</td>\n",
       "    </tr>\n",
       "    <tr>\n",
       "      <th>6</th>\n",
       "      <td>48</td>\n",
       "      <td>176</td>\n",
       "      <td>48</td>\n",
       "      <td>Desktops</td>\n",
       "      <td>Desktops</td>\n",
       "    </tr>\n",
       "    <tr>\n",
       "      <th>7</th>\n",
       "      <td>866</td>\n",
       "      <td>164</td>\n",
       "      <td>866</td>\n",
       "      <td>Sweatshirts &amp; Hoodies</td>\n",
       "      <td>Sweatshirts &amp; Hoodies</td>\n",
       "    </tr>\n",
       "    <tr>\n",
       "      <th>8</th>\n",
       "      <td>311</td>\n",
       "      <td>141</td>\n",
       "      <td>311</td>\n",
       "      <td>Crafts</td>\n",
       "      <td>Crafts</td>\n",
       "    </tr>\n",
       "    <tr>\n",
       "      <th>9</th>\n",
       "      <td>780</td>\n",
       "      <td>82</td>\n",
       "      <td>780</td>\n",
       "      <td>Medicine &amp; Medical</td>\n",
       "      <td>Medicine &amp; Medical</td>\n",
       "    </tr>\n",
       "    <tr>\n",
       "      <th>10</th>\n",
       "      <td>287</td>\n",
       "      <td>64</td>\n",
       "      <td>287</td>\n",
       "      <td>Luggage &amp; Travel Gear</td>\n",
       "      <td>Luggage &amp; Travel Gear</td>\n",
       "    </tr>\n",
       "    <tr>\n",
       "      <th>11</th>\n",
       "      <td>202</td>\n",
       "      <td>57</td>\n",
       "      <td>202</td>\n",
       "      <td>Clothing &amp; Accessories</td>\n",
       "      <td>Clothing &amp; Accessories</td>\n",
       "    </tr>\n",
       "    <tr>\n",
       "      <th>12</th>\n",
       "      <td>186</td>\n",
       "      <td>54</td>\n",
       "      <td>186</td>\n",
       "      <td>Gaming &amp; Toys</td>\n",
       "      <td>Gaming &amp; Toys</td>\n",
       "    </tr>\n",
       "    <tr>\n",
       "      <th>13</th>\n",
       "      <td>182</td>\n",
       "      <td>49</td>\n",
       "      <td>182</td>\n",
       "      <td>Office &amp; School Supplies</td>\n",
       "      <td>Office &amp; School Supplies</td>\n",
       "    </tr>\n",
       "    <tr>\n",
       "      <th>14</th>\n",
       "      <td>859</td>\n",
       "      <td>48</td>\n",
       "      <td>859</td>\n",
       "      <td>Gift Cards</td>\n",
       "      <td>Gift Cards</td>\n",
       "    </tr>\n",
       "    <tr>\n",
       "      <th>15</th>\n",
       "      <td>142</td>\n",
       "      <td>44</td>\n",
       "      <td>142</td>\n",
       "      <td>Electronics</td>\n",
       "      <td>Electronics</td>\n",
       "    </tr>\n",
       "    <tr>\n",
       "      <th>16</th>\n",
       "      <td>798</td>\n",
       "      <td>26</td>\n",
       "      <td>798</td>\n",
       "      <td>Supplements</td>\n",
       "      <td>Supplements</td>\n",
       "    </tr>\n",
       "    <tr>\n",
       "      <th>17</th>\n",
       "      <td>40</td>\n",
       "      <td>21</td>\n",
       "      <td>40</td>\n",
       "      <td>Store Events</td>\n",
       "      <td>Store Events</td>\n",
       "    </tr>\n",
       "    <tr>\n",
       "      <th>18</th>\n",
       "      <td>756</td>\n",
       "      <td>15</td>\n",
       "      <td>756</td>\n",
       "      <td>Health &amp; Beauty</td>\n",
       "      <td>Health &amp; Beauty</td>\n",
       "    </tr>\n",
       "    <tr>\n",
       "      <th>19</th>\n",
       "      <td>39</td>\n",
       "      <td>7</td>\n",
       "      <td>39</td>\n",
       "      <td>Computers</td>\n",
       "      <td>Computers</td>\n",
       "    </tr>\n",
       "    <tr>\n",
       "      <th>20</th>\n",
       "      <td>801</td>\n",
       "      <td>6</td>\n",
       "      <td>801</td>\n",
       "      <td>Vitamins</td>\n",
       "      <td>Vitamins</td>\n",
       "    </tr>\n",
       "    <tr>\n",
       "      <th>21</th>\n",
       "      <td>181</td>\n",
       "      <td>5</td>\n",
       "      <td>181</td>\n",
       "      <td>Music</td>\n",
       "      <td>Music</td>\n",
       "    </tr>\n",
       "    <tr>\n",
       "      <th>22</th>\n",
       "      <td>178</td>\n",
       "      <td>3</td>\n",
       "      <td>178</td>\n",
       "      <td>Movies, Music, Books</td>\n",
       "      <td>Movies, Music, Books</td>\n",
       "    </tr>\n",
       "  </tbody>\n",
       "</table>\n",
       "</div>"
      ],
      "text/plain": [
       "    category_id_0  # of deals  id_number                      name  \\\n",
       "0             226         873        226            Toys & Hobbies   \n",
       "1             238         492        238                Automotive   \n",
       "2             196         482        196             Home & Garden   \n",
       "3             765         243        765                    Health   \n",
       "4             211         210        211          Sports & Fitness   \n",
       "5             744         202        744           Patio Furniture   \n",
       "6              48         176         48                  Desktops   \n",
       "7             866         164        866     Sweatshirts & Hoodies   \n",
       "8             311         141        311                    Crafts   \n",
       "9             780          82        780        Medicine & Medical   \n",
       "10            287          64        287     Luggage & Travel Gear   \n",
       "11            202          57        202    Clothing & Accessories   \n",
       "12            186          54        186             Gaming & Toys   \n",
       "13            182          49        182  Office & School Supplies   \n",
       "14            859          48        859                Gift Cards   \n",
       "15            142          44        142               Electronics   \n",
       "16            798          26        798               Supplements   \n",
       "17             40          21         40              Store Events   \n",
       "18            756          15        756           Health & Beauty   \n",
       "19             39           7         39                 Computers   \n",
       "20            801           6        801                  Vitamins   \n",
       "21            181           5        181                     Music   \n",
       "22            178           3        178      Movies, Music, Books   \n",
       "\n",
       "                  short_name  \n",
       "0             Toys & Hobbies  \n",
       "1                 Automotive  \n",
       "2              Home & Garden  \n",
       "3                     Health  \n",
       "4           Sports & Fitness  \n",
       "5            Patio Furniture  \n",
       "6                   Desktops  \n",
       "7      Sweatshirts & Hoodies  \n",
       "8                     Crafts  \n",
       "9         Medicine & Medical  \n",
       "10     Luggage & Travel Gear  \n",
       "11    Clothing & Accessories  \n",
       "12             Gaming & Toys  \n",
       "13  Office & School Supplies  \n",
       "14                Gift Cards  \n",
       "15               Electronics  \n",
       "16               Supplements  \n",
       "17              Store Events  \n",
       "18           Health & Beauty  \n",
       "19                 Computers  \n",
       "20                  Vitamins  \n",
       "21                     Music  \n",
       "22      Movies, Music, Books  "
      ]
     },
     "execution_count": 20,
     "metadata": {},
     "output_type": "execute_result"
    }
   ],
   "source": [
    "pd.merge(cat_0_deals, category_ids_sm, left_on ='category_id_0', right_on='id_number')"
   ]
  },
  {
   "cell_type": "code",
   "execution_count": 21,
   "metadata": {},
   "outputs": [
    {
     "data": {
      "text/plain": [
       "Index(['id', 'headline', 'brief_headline', 'summary', 'secondary_summary',\n",
       "       'key_attribute', 'brief_notes', 'url', 'display_date',\n",
       "       'publish_datetime_ts', 'update_datetime_ts', 'expiration_datetime_ts',\n",
       "       'last_verified_datetime_ts', 'editors_choice', 'sponsored', 'expired',\n",
       "       'expires_today', 'exclusive', 'searchable', 'hotness', 'call_out',\n",
       "       'call_out_comparison', 'sub_call_out', 'Coupon Code', 'category_id_0',\n",
       "       'namepath_0', 'ancestor_list_0', 'category_id_1', 'namepath_1',\n",
       "       'ancestor_list_1', 'vendor_id', 'name', 'Image path', 'API Feed',\n",
       "       'API id_number', '_dt_pulled', 'callout_parse', 'callout_compare_parse',\n",
       "       'callout_diff', 'callout_diff_pct'],\n",
       "      dtype='object')"
      ]
     },
     "execution_count": 21,
     "metadata": {},
     "output_type": "execute_result"
    }
   ],
   "source": [
    "items.columns"
   ]
  },
  {
   "cell_type": "markdown",
   "metadata": {},
   "source": [
    "## Callout Differences"
   ]
  },
  {
   "cell_type": "code",
   "execution_count": 22,
   "metadata": {},
   "outputs": [],
   "source": [
    "def api_gb_func(df):\n",
    "    out = {}\n",
    "    out['Count'] = df.shape[0]\n",
    "    out['# w/ $ callout'] = df['callout_parse'].notnull().sum()\n",
    "    if df.shape[0] > 1:\n",
    "        out['Avg Callout Price'] = np.round(df['callout_parse'].mean(), 2)\n",
    "        out['Avg Callout Pct Diff'] = np.round(df['callout_diff_pct'].mean(), 2)\n",
    "    else:\n",
    "        out['Avg Callout Price'] = np.nan\n",
    "        out['Avg Callout Pct Diff'] = np.nan\n",
    "    \n",
    "    return(pd.Series(out))"
   ]
  },
  {
   "cell_type": "code",
   "execution_count": 23,
   "metadata": {},
   "outputs": [
    {
     "data": {
      "text/html": [
       "<div>\n",
       "<style scoped>\n",
       "    .dataframe tbody tr th:only-of-type {\n",
       "        vertical-align: middle;\n",
       "    }\n",
       "\n",
       "    .dataframe tbody tr th {\n",
       "        vertical-align: top;\n",
       "    }\n",
       "\n",
       "    .dataframe thead th {\n",
       "        text-align: right;\n",
       "    }\n",
       "</style>\n",
       "<table border=\"1\" class=\"dataframe\">\n",
       "  <thead>\n",
       "    <tr style=\"text-align: right;\">\n",
       "      <th></th>\n",
       "      <th>Count</th>\n",
       "      <th># w/ $ callout</th>\n",
       "      <th>Avg Callout Price</th>\n",
       "      <th>Avg Callout Pct Diff</th>\n",
       "      <th>Pct w callout</th>\n",
       "      <th>Count Ratio to Max</th>\n",
       "    </tr>\n",
       "    <tr>\n",
       "      <th>API Feed</th>\n",
       "      <th></th>\n",
       "      <th></th>\n",
       "      <th></th>\n",
       "      <th></th>\n",
       "      <th></th>\n",
       "      <th></th>\n",
       "    </tr>\n",
       "  </thead>\n",
       "  <tbody>\n",
       "    <tr>\n",
       "      <th>Popularity Rank : Popularity: 1/5</th>\n",
       "      <td>1686.0</td>\n",
       "      <td>1686.0</td>\n",
       "      <td>200.05</td>\n",
       "      <td>34.32</td>\n",
       "      <td>100.0</td>\n",
       "      <td>0.20</td>\n",
       "    </tr>\n",
       "    <tr>\n",
       "      <th>Popularity Rank : Popularity: 2/5</th>\n",
       "      <td>5190.0</td>\n",
       "      <td>5190.0</td>\n",
       "      <td>178.90</td>\n",
       "      <td>36.65</td>\n",
       "      <td>100.0</td>\n",
       "      <td>0.61</td>\n",
       "    </tr>\n",
       "    <tr>\n",
       "      <th>Popularity Rank : Popularity: 3/5</th>\n",
       "      <td>8456.0</td>\n",
       "      <td>8456.0</td>\n",
       "      <td>103.36</td>\n",
       "      <td>41.91</td>\n",
       "      <td>100.0</td>\n",
       "      <td>1.00</td>\n",
       "    </tr>\n",
       "    <tr>\n",
       "      <th>Popularity Rank : Popularity: 4/5</th>\n",
       "      <td>6112.0</td>\n",
       "      <td>6112.0</td>\n",
       "      <td>83.26</td>\n",
       "      <td>45.16</td>\n",
       "      <td>100.0</td>\n",
       "      <td>0.72</td>\n",
       "    </tr>\n",
       "    <tr>\n",
       "      <th>Popularity Rank : Popularity: 5/5</th>\n",
       "      <td>1370.0</td>\n",
       "      <td>1370.0</td>\n",
       "      <td>75.84</td>\n",
       "      <td>51.65</td>\n",
       "      <td>100.0</td>\n",
       "      <td>0.16</td>\n",
       "    </tr>\n",
       "  </tbody>\n",
       "</table>\n",
       "</div>"
      ],
      "text/plain": [
       "                                    Count  # w/ $ callout  Avg Callout Price  \\\n",
       "API Feed                                                                       \n",
       "Popularity Rank : Popularity: 1/5  1686.0          1686.0             200.05   \n",
       "Popularity Rank : Popularity: 2/5  5190.0          5190.0             178.90   \n",
       "Popularity Rank : Popularity: 3/5  8456.0          8456.0             103.36   \n",
       "Popularity Rank : Popularity: 4/5  6112.0          6112.0              83.26   \n",
       "Popularity Rank : Popularity: 5/5  1370.0          1370.0              75.84   \n",
       "\n",
       "                                   Avg Callout Pct Diff  Pct w callout  \\\n",
       "API Feed                                                                 \n",
       "Popularity Rank : Popularity: 1/5                 34.32          100.0   \n",
       "Popularity Rank : Popularity: 2/5                 36.65          100.0   \n",
       "Popularity Rank : Popularity: 3/5                 41.91          100.0   \n",
       "Popularity Rank : Popularity: 4/5                 45.16          100.0   \n",
       "Popularity Rank : Popularity: 5/5                 51.65          100.0   \n",
       "\n",
       "                                   Count Ratio to Max  \n",
       "API Feed                                               \n",
       "Popularity Rank : Popularity: 1/5                0.20  \n",
       "Popularity Rank : Popularity: 2/5                0.61  \n",
       "Popularity Rank : Popularity: 3/5                1.00  \n",
       "Popularity Rank : Popularity: 4/5                0.72  \n",
       "Popularity Rank : Popularity: 5/5                0.16  "
      ]
     },
     "execution_count": 23,
     "metadata": {},
     "output_type": "execute_result"
    }
   ],
   "source": [
    "api_feed_gb = items_sm.groupby('API Feed').apply(lambda x:api_gb_func(x))\n",
    "api_feed_gb['Pct w callout'] = np.round(100*api_feed_gb['# w/ $ callout']/api_feed_gb['Count'], 2) \n",
    "api_feed_gb['Count Ratio to Max'] = np.round(api_feed_gb['Count']/api_feed_gb['Count'].max(),2)\n",
    "api_feed_gb"
   ]
  },
  {
   "cell_type": "code",
   "execution_count": null,
   "metadata": {},
   "outputs": [],
   "source": []
  },
  {
   "cell_type": "code",
   "execution_count": 24,
   "metadata": {},
   "outputs": [
    {
     "data": {
      "text/plain": [
       "(22814, 41)"
      ]
     },
     "execution_count": 24,
     "metadata": {},
     "output_type": "execute_result"
    }
   ],
   "source": [
    "items2 = pd.merge(items_sm, category_ids_sm\n",
    "                  , left_on = 'category_id_0', right_on='id_number'\n",
    "                  , how='left').drop(['id_number', 'short_name'], axis=1)\\\n",
    "    .rename({'name_x':'vendor name', \n",
    "             'name_y':'category name'}, axis=1)\n",
    "items2.shape"
   ]
  },
  {
   "cell_type": "code",
   "execution_count": 25,
   "metadata": {},
   "outputs": [
    {
     "data": {
      "text/plain": [
       "Index(['id', 'headline', 'brief_headline', 'summary', 'secondary_summary',\n",
       "       'key_attribute', 'brief_notes', 'url', 'display_date',\n",
       "       'publish_datetime_ts', 'update_datetime_ts', 'expiration_datetime_ts',\n",
       "       'last_verified_datetime_ts', 'editors_choice', 'sponsored', 'expired',\n",
       "       'expires_today', 'exclusive', 'searchable', 'hotness', 'call_out',\n",
       "       'call_out_comparison', 'sub_call_out', 'Coupon Code', 'category_id_0',\n",
       "       'namepath_0', 'ancestor_list_0', 'category_id_1', 'namepath_1',\n",
       "       'ancestor_list_1', 'vendor_id', 'vendor name', 'Image path', 'API Feed',\n",
       "       'API id_number', '_dt_pulled', 'callout_parse', 'callout_compare_parse',\n",
       "       'callout_diff', 'callout_diff_pct', 'category name'],\n",
       "      dtype='object')"
      ]
     },
     "execution_count": 25,
     "metadata": {},
     "output_type": "execute_result"
    }
   ],
   "source": [
    "items2.columns"
   ]
  },
  {
   "cell_type": "code",
   "execution_count": 26,
   "metadata": {},
   "outputs": [
    {
     "data": {
      "text/html": [
       "<div>\n",
       "<style scoped>\n",
       "    .dataframe tbody tr th:only-of-type {\n",
       "        vertical-align: middle;\n",
       "    }\n",
       "\n",
       "    .dataframe tbody tr th {\n",
       "        vertical-align: top;\n",
       "    }\n",
       "\n",
       "    .dataframe thead th {\n",
       "        text-align: right;\n",
       "    }\n",
       "</style>\n",
       "<table border=\"1\" class=\"dataframe\">\n",
       "  <thead>\n",
       "    <tr style=\"text-align: right;\">\n",
       "      <th></th>\n",
       "      <th>Count</th>\n",
       "      <th># w/ $ callout</th>\n",
       "      <th>Avg Callout Price</th>\n",
       "      <th>Avg Callout Pct Diff</th>\n",
       "    </tr>\n",
       "    <tr>\n",
       "      <th>vendor name</th>\n",
       "      <th></th>\n",
       "      <th></th>\n",
       "      <th></th>\n",
       "      <th></th>\n",
       "    </tr>\n",
       "  </thead>\n",
       "  <tbody>\n",
       "    <tr>\n",
       "      <th>Amazon</th>\n",
       "      <td>12320.0</td>\n",
       "      <td>12320.0</td>\n",
       "      <td>71.83</td>\n",
       "      <td>39.35</td>\n",
       "    </tr>\n",
       "    <tr>\n",
       "      <th>eBay</th>\n",
       "      <td>2431.0</td>\n",
       "      <td>2431.0</td>\n",
       "      <td>234.87</td>\n",
       "      <td>42.19</td>\n",
       "    </tr>\n",
       "    <tr>\n",
       "      <th>Walmart</th>\n",
       "      <td>802.0</td>\n",
       "      <td>802.0</td>\n",
       "      <td>123.93</td>\n",
       "      <td>41.24</td>\n",
       "    </tr>\n",
       "    <tr>\n",
       "      <th>Macy's</th>\n",
       "      <td>763.0</td>\n",
       "      <td>763.0</td>\n",
       "      <td>57.11</td>\n",
       "      <td>62.90</td>\n",
       "    </tr>\n",
       "    <tr>\n",
       "      <th>Home Depot</th>\n",
       "      <td>532.0</td>\n",
       "      <td>532.0</td>\n",
       "      <td>227.64</td>\n",
       "      <td>31.14</td>\n",
       "    </tr>\n",
       "    <tr>\n",
       "      <th>Woot! An Amazon Company</th>\n",
       "      <td>399.0</td>\n",
       "      <td>399.0</td>\n",
       "      <td>154.52</td>\n",
       "      <td>44.84</td>\n",
       "    </tr>\n",
       "    <tr>\n",
       "      <th>Lowe's</th>\n",
       "      <td>263.0</td>\n",
       "      <td>263.0</td>\n",
       "      <td>198.13</td>\n",
       "      <td>33.12</td>\n",
       "    </tr>\n",
       "    <tr>\n",
       "      <th>MorningSave</th>\n",
       "      <td>252.0</td>\n",
       "      <td>252.0</td>\n",
       "      <td>57.11</td>\n",
       "      <td>57.53</td>\n",
       "    </tr>\n",
       "    <tr>\n",
       "      <th>Wayfair</th>\n",
       "      <td>214.0</td>\n",
       "      <td>214.0</td>\n",
       "      <td>206.36</td>\n",
       "      <td>42.75</td>\n",
       "    </tr>\n",
       "    <tr>\n",
       "      <th>Proozy</th>\n",
       "      <td>210.0</td>\n",
       "      <td>210.0</td>\n",
       "      <td>28.09</td>\n",
       "      <td>55.98</td>\n",
       "    </tr>\n",
       "    <tr>\n",
       "      <th>Best Buy</th>\n",
       "      <td>200.0</td>\n",
       "      <td>200.0</td>\n",
       "      <td>424.54</td>\n",
       "      <td>38.09</td>\n",
       "    </tr>\n",
       "    <tr>\n",
       "      <th>Target</th>\n",
       "      <td>186.0</td>\n",
       "      <td>186.0</td>\n",
       "      <td>80.29</td>\n",
       "      <td>41.17</td>\n",
       "    </tr>\n",
       "  </tbody>\n",
       "</table>\n",
       "</div>"
      ],
      "text/plain": [
       "                           Count  # w/ $ callout  Avg Callout Price  \\\n",
       "vendor name                                                           \n",
       "Amazon                   12320.0         12320.0              71.83   \n",
       "eBay                      2431.0          2431.0             234.87   \n",
       "Walmart                    802.0           802.0             123.93   \n",
       "Macy's                     763.0           763.0              57.11   \n",
       "Home Depot                 532.0           532.0             227.64   \n",
       "Woot! An Amazon Company    399.0           399.0             154.52   \n",
       "Lowe's                     263.0           263.0             198.13   \n",
       "MorningSave                252.0           252.0              57.11   \n",
       "Wayfair                    214.0           214.0             206.36   \n",
       "Proozy                     210.0           210.0              28.09   \n",
       "Best Buy                   200.0           200.0             424.54   \n",
       "Target                     186.0           186.0              80.29   \n",
       "\n",
       "                         Avg Callout Pct Diff  \n",
       "vendor name                                    \n",
       "Amazon                                  39.35  \n",
       "eBay                                    42.19  \n",
       "Walmart                                 41.24  \n",
       "Macy's                                  62.90  \n",
       "Home Depot                              31.14  \n",
       "Woot! An Amazon Company                 44.84  \n",
       "Lowe's                                  33.12  \n",
       "MorningSave                             57.53  \n",
       "Wayfair                                 42.75  \n",
       "Proozy                                  55.98  \n",
       "Best Buy                                38.09  \n",
       "Target                                  41.17  "
      ]
     },
     "execution_count": 26,
     "metadata": {},
     "output_type": "execute_result"
    }
   ],
   "source": [
    "vendor_gb = items2.groupby('vendor name').apply(lambda x:api_gb_func(x))\\\n",
    "    .sort_values('Count', ascending=False)\n",
    "vendor_gb.head(12)"
   ]
  },
  {
   "cell_type": "code",
   "execution_count": 27,
   "metadata": {},
   "outputs": [
    {
     "data": {
      "text/plain": [
       "['Amazon',\n",
       " 'eBay',\n",
       " 'Walmart',\n",
       " \"Macy's\",\n",
       " 'Home Depot',\n",
       " 'Woot! An Amazon Company',\n",
       " \"Lowe's\",\n",
       " 'MorningSave',\n",
       " 'Wayfair',\n",
       " 'Proozy']"
      ]
     },
     "execution_count": 27,
     "metadata": {},
     "output_type": "execute_result"
    }
   ],
   "source": [
    "top_vendors = vendor_gb.sort_values('Count', ascending=False)[:10].index.tolist()\n",
    "top_vendors"
   ]
  },
  {
   "cell_type": "code",
   "execution_count": 28,
   "metadata": {
    "scrolled": true
   },
   "outputs": [
    {
     "data": {
      "text/html": [
       "<div>\n",
       "<style scoped>\n",
       "    .dataframe tbody tr th:only-of-type {\n",
       "        vertical-align: middle;\n",
       "    }\n",
       "\n",
       "    .dataframe tbody tr th {\n",
       "        vertical-align: top;\n",
       "    }\n",
       "\n",
       "    .dataframe thead th {\n",
       "        text-align: right;\n",
       "    }\n",
       "</style>\n",
       "<table border=\"1\" class=\"dataframe\">\n",
       "  <thead>\n",
       "    <tr style=\"text-align: right;\">\n",
       "      <th></th>\n",
       "      <th>Count</th>\n",
       "      <th># w/ $ callout</th>\n",
       "      <th>Avg Callout Price</th>\n",
       "      <th>Avg Callout Pct Diff</th>\n",
       "    </tr>\n",
       "    <tr>\n",
       "      <th>category name</th>\n",
       "      <th></th>\n",
       "      <th></th>\n",
       "      <th></th>\n",
       "      <th></th>\n",
       "    </tr>\n",
       "  </thead>\n",
       "  <tbody>\n",
       "    <tr>\n",
       "      <th>Toys &amp; Hobbies</th>\n",
       "      <td>873.0</td>\n",
       "      <td>873.0</td>\n",
       "      <td>78.43</td>\n",
       "      <td>40.14</td>\n",
       "    </tr>\n",
       "    <tr>\n",
       "      <th>Automotive</th>\n",
       "      <td>492.0</td>\n",
       "      <td>492.0</td>\n",
       "      <td>51.20</td>\n",
       "      <td>38.29</td>\n",
       "    </tr>\n",
       "    <tr>\n",
       "      <th>Home &amp; Garden</th>\n",
       "      <td>482.0</td>\n",
       "      <td>482.0</td>\n",
       "      <td>74.77</td>\n",
       "      <td>37.85</td>\n",
       "    </tr>\n",
       "    <tr>\n",
       "      <th>Health</th>\n",
       "      <td>243.0</td>\n",
       "      <td>243.0</td>\n",
       "      <td>43.25</td>\n",
       "      <td>45.67</td>\n",
       "    </tr>\n",
       "    <tr>\n",
       "      <th>Sports &amp; Fitness</th>\n",
       "      <td>210.0</td>\n",
       "      <td>210.0</td>\n",
       "      <td>119.08</td>\n",
       "      <td>38.80</td>\n",
       "    </tr>\n",
       "    <tr>\n",
       "      <th>Patio Furniture</th>\n",
       "      <td>202.0</td>\n",
       "      <td>202.0</td>\n",
       "      <td>228.72</td>\n",
       "      <td>33.93</td>\n",
       "    </tr>\n",
       "    <tr>\n",
       "      <th>Desktops</th>\n",
       "      <td>176.0</td>\n",
       "      <td>176.0</td>\n",
       "      <td>798.51</td>\n",
       "      <td>30.43</td>\n",
       "    </tr>\n",
       "    <tr>\n",
       "      <th>Sweatshirts &amp; Hoodies</th>\n",
       "      <td>164.0</td>\n",
       "      <td>164.0</td>\n",
       "      <td>22.58</td>\n",
       "      <td>56.73</td>\n",
       "    </tr>\n",
       "    <tr>\n",
       "      <th>Crafts</th>\n",
       "      <td>141.0</td>\n",
       "      <td>141.0</td>\n",
       "      <td>54.46</td>\n",
       "      <td>42.59</td>\n",
       "    </tr>\n",
       "    <tr>\n",
       "      <th>Medicine &amp; Medical</th>\n",
       "      <td>82.0</td>\n",
       "      <td>82.0</td>\n",
       "      <td>21.82</td>\n",
       "      <td>43.24</td>\n",
       "    </tr>\n",
       "    <tr>\n",
       "      <th>Luggage &amp; Travel Gear</th>\n",
       "      <td>64.0</td>\n",
       "      <td>64.0</td>\n",
       "      <td>56.50</td>\n",
       "      <td>43.56</td>\n",
       "    </tr>\n",
       "    <tr>\n",
       "      <th>Clothing &amp; Accessories</th>\n",
       "      <td>57.0</td>\n",
       "      <td>57.0</td>\n",
       "      <td>24.41</td>\n",
       "      <td>49.13</td>\n",
       "    </tr>\n",
       "    <tr>\n",
       "      <th>Gaming &amp; Toys</th>\n",
       "      <td>54.0</td>\n",
       "      <td>54.0</td>\n",
       "      <td>252.72</td>\n",
       "      <td>39.96</td>\n",
       "    </tr>\n",
       "    <tr>\n",
       "      <th>Office &amp; School Supplies</th>\n",
       "      <td>49.0</td>\n",
       "      <td>49.0</td>\n",
       "      <td>32.51</td>\n",
       "      <td>38.45</td>\n",
       "    </tr>\n",
       "    <tr>\n",
       "      <th>Gift Cards</th>\n",
       "      <td>48.0</td>\n",
       "      <td>48.0</td>\n",
       "      <td>67.67</td>\n",
       "      <td>14.64</td>\n",
       "    </tr>\n",
       "    <tr>\n",
       "      <th>Electronics</th>\n",
       "      <td>44.0</td>\n",
       "      <td>44.0</td>\n",
       "      <td>45.42</td>\n",
       "      <td>39.83</td>\n",
       "    </tr>\n",
       "    <tr>\n",
       "      <th>Supplements</th>\n",
       "      <td>26.0</td>\n",
       "      <td>26.0</td>\n",
       "      <td>24.68</td>\n",
       "      <td>41.95</td>\n",
       "    </tr>\n",
       "    <tr>\n",
       "      <th>Store Events</th>\n",
       "      <td>21.0</td>\n",
       "      <td>21.0</td>\n",
       "      <td>194.92</td>\n",
       "      <td>44.69</td>\n",
       "    </tr>\n",
       "    <tr>\n",
       "      <th>Health &amp; Beauty</th>\n",
       "      <td>15.0</td>\n",
       "      <td>15.0</td>\n",
       "      <td>37.69</td>\n",
       "      <td>48.56</td>\n",
       "    </tr>\n",
       "    <tr>\n",
       "      <th>Computers</th>\n",
       "      <td>7.0</td>\n",
       "      <td>7.0</td>\n",
       "      <td>121.43</td>\n",
       "      <td>35.83</td>\n",
       "    </tr>\n",
       "    <tr>\n",
       "      <th>Vitamins</th>\n",
       "      <td>6.0</td>\n",
       "      <td>6.0</td>\n",
       "      <td>15.00</td>\n",
       "      <td>49.15</td>\n",
       "    </tr>\n",
       "    <tr>\n",
       "      <th>Music</th>\n",
       "      <td>5.0</td>\n",
       "      <td>5.0</td>\n",
       "      <td>37.00</td>\n",
       "      <td>54.38</td>\n",
       "    </tr>\n",
       "    <tr>\n",
       "      <th>Movies, Music, Books</th>\n",
       "      <td>3.0</td>\n",
       "      <td>3.0</td>\n",
       "      <td>23.66</td>\n",
       "      <td>47.52</td>\n",
       "    </tr>\n",
       "  </tbody>\n",
       "</table>\n",
       "</div>"
      ],
      "text/plain": [
       "                          Count  # w/ $ callout  Avg Callout Price  \\\n",
       "category name                                                        \n",
       "Toys & Hobbies            873.0           873.0              78.43   \n",
       "Automotive                492.0           492.0              51.20   \n",
       "Home & Garden             482.0           482.0              74.77   \n",
       "Health                    243.0           243.0              43.25   \n",
       "Sports & Fitness          210.0           210.0             119.08   \n",
       "Patio Furniture           202.0           202.0             228.72   \n",
       "Desktops                  176.0           176.0             798.51   \n",
       "Sweatshirts & Hoodies     164.0           164.0              22.58   \n",
       "Crafts                    141.0           141.0              54.46   \n",
       "Medicine & Medical         82.0            82.0              21.82   \n",
       "Luggage & Travel Gear      64.0            64.0              56.50   \n",
       "Clothing & Accessories     57.0            57.0              24.41   \n",
       "Gaming & Toys              54.0            54.0             252.72   \n",
       "Office & School Supplies   49.0            49.0              32.51   \n",
       "Gift Cards                 48.0            48.0              67.67   \n",
       "Electronics                44.0            44.0              45.42   \n",
       "Supplements                26.0            26.0              24.68   \n",
       "Store Events               21.0            21.0             194.92   \n",
       "Health & Beauty            15.0            15.0              37.69   \n",
       "Computers                   7.0             7.0             121.43   \n",
       "Vitamins                    6.0             6.0              15.00   \n",
       "Music                       5.0             5.0              37.00   \n",
       "Movies, Music, Books        3.0             3.0              23.66   \n",
       "\n",
       "                          Avg Callout Pct Diff  \n",
       "category name                                   \n",
       "Toys & Hobbies                           40.14  \n",
       "Automotive                               38.29  \n",
       "Home & Garden                            37.85  \n",
       "Health                                   45.67  \n",
       "Sports & Fitness                         38.80  \n",
       "Patio Furniture                          33.93  \n",
       "Desktops                                 30.43  \n",
       "Sweatshirts & Hoodies                    56.73  \n",
       "Crafts                                   42.59  \n",
       "Medicine & Medical                       43.24  \n",
       "Luggage & Travel Gear                    43.56  \n",
       "Clothing & Accessories                   49.13  \n",
       "Gaming & Toys                            39.96  \n",
       "Office & School Supplies                 38.45  \n",
       "Gift Cards                               14.64  \n",
       "Electronics                              39.83  \n",
       "Supplements                              41.95  \n",
       "Store Events                             44.69  \n",
       "Health & Beauty                          48.56  \n",
       "Computers                                35.83  \n",
       "Vitamins                                 49.15  \n",
       "Music                                    54.38  \n",
       "Movies, Music, Books                     47.52  "
      ]
     },
     "execution_count": 28,
     "metadata": {},
     "output_type": "execute_result"
    }
   ],
   "source": [
    "cateogry_gb =  items2.groupby('category name').apply(lambda x:api_gb_func(x))\\\n",
    "    .sort_values('Count', ascending=False)\n",
    "cateogry_gb"
   ]
  },
  {
   "cell_type": "code",
   "execution_count": 29,
   "metadata": {},
   "outputs": [
    {
     "data": {
      "text/html": [
       "<div>\n",
       "<style scoped>\n",
       "    .dataframe tbody tr th:only-of-type {\n",
       "        vertical-align: middle;\n",
       "    }\n",
       "\n",
       "    .dataframe tbody tr th {\n",
       "        vertical-align: top;\n",
       "    }\n",
       "\n",
       "    .dataframe thead th {\n",
       "        text-align: right;\n",
       "    }\n",
       "</style>\n",
       "<table border=\"1\" class=\"dataframe\">\n",
       "  <thead>\n",
       "    <tr style=\"text-align: right;\">\n",
       "      <th>vendor name</th>\n",
       "      <th>Amazon</th>\n",
       "      <th>Home Depot</th>\n",
       "      <th>Lowe's</th>\n",
       "      <th>Macy's</th>\n",
       "      <th>MorningSave</th>\n",
       "      <th>Proozy</th>\n",
       "      <th>Walmart</th>\n",
       "      <th>Wayfair</th>\n",
       "      <th>Woot! An Amazon Company</th>\n",
       "      <th>eBay</th>\n",
       "      <th>All</th>\n",
       "    </tr>\n",
       "    <tr>\n",
       "      <th>category name</th>\n",
       "      <th></th>\n",
       "      <th></th>\n",
       "      <th></th>\n",
       "      <th></th>\n",
       "      <th></th>\n",
       "      <th></th>\n",
       "      <th></th>\n",
       "      <th></th>\n",
       "      <th></th>\n",
       "      <th></th>\n",
       "      <th></th>\n",
       "    </tr>\n",
       "  </thead>\n",
       "  <tbody>\n",
       "    <tr>\n",
       "      <th>All</th>\n",
       "      <td>2189.0</td>\n",
       "      <td>21.0</td>\n",
       "      <td>21.0</td>\n",
       "      <td>60.0</td>\n",
       "      <td>43.0</td>\n",
       "      <td>25.0</td>\n",
       "      <td>151.0</td>\n",
       "      <td>38.0</td>\n",
       "      <td>52.0</td>\n",
       "      <td>180.0</td>\n",
       "      <td>2780</td>\n",
       "    </tr>\n",
       "    <tr>\n",
       "      <th>Toys &amp; Hobbies</th>\n",
       "      <td>628.0</td>\n",
       "      <td>1.0</td>\n",
       "      <td>2.0</td>\n",
       "      <td>16.0</td>\n",
       "      <td>3.0</td>\n",
       "      <td>1.0</td>\n",
       "      <td>59.0</td>\n",
       "      <td>1.0</td>\n",
       "      <td>15.0</td>\n",
       "      <td>54.0</td>\n",
       "      <td>780</td>\n",
       "    </tr>\n",
       "    <tr>\n",
       "      <th>Automotive</th>\n",
       "      <td>391.0</td>\n",
       "      <td>2.0</td>\n",
       "      <td>2.0</td>\n",
       "      <td>NaN</td>\n",
       "      <td>7.0</td>\n",
       "      <td>NaN</td>\n",
       "      <td>22.0</td>\n",
       "      <td>1.0</td>\n",
       "      <td>4.0</td>\n",
       "      <td>17.0</td>\n",
       "      <td>446</td>\n",
       "    </tr>\n",
       "    <tr>\n",
       "      <th>Home &amp; Garden</th>\n",
       "      <td>306.0</td>\n",
       "      <td>8.0</td>\n",
       "      <td>10.0</td>\n",
       "      <td>NaN</td>\n",
       "      <td>12.0</td>\n",
       "      <td>NaN</td>\n",
       "      <td>27.0</td>\n",
       "      <td>23.0</td>\n",
       "      <td>10.0</td>\n",
       "      <td>17.0</td>\n",
       "      <td>413</td>\n",
       "    </tr>\n",
       "    <tr>\n",
       "      <th>Health</th>\n",
       "      <td>167.0</td>\n",
       "      <td>1.0</td>\n",
       "      <td>NaN</td>\n",
       "      <td>NaN</td>\n",
       "      <td>8.0</td>\n",
       "      <td>NaN</td>\n",
       "      <td>2.0</td>\n",
       "      <td>NaN</td>\n",
       "      <td>3.0</td>\n",
       "      <td>9.0</td>\n",
       "      <td>190</td>\n",
       "    </tr>\n",
       "    <tr>\n",
       "      <th>Sports &amp; Fitness</th>\n",
       "      <td>152.0</td>\n",
       "      <td>NaN</td>\n",
       "      <td>NaN</td>\n",
       "      <td>2.0</td>\n",
       "      <td>2.0</td>\n",
       "      <td>NaN</td>\n",
       "      <td>4.0</td>\n",
       "      <td>1.0</td>\n",
       "      <td>5.0</td>\n",
       "      <td>13.0</td>\n",
       "      <td>179</td>\n",
       "    </tr>\n",
       "    <tr>\n",
       "      <th>Patio Furniture</th>\n",
       "      <td>84.0</td>\n",
       "      <td>8.0</td>\n",
       "      <td>5.0</td>\n",
       "      <td>NaN</td>\n",
       "      <td>NaN</td>\n",
       "      <td>NaN</td>\n",
       "      <td>13.0</td>\n",
       "      <td>12.0</td>\n",
       "      <td>3.0</td>\n",
       "      <td>14.0</td>\n",
       "      <td>139</td>\n",
       "    </tr>\n",
       "    <tr>\n",
       "      <th>Crafts</th>\n",
       "      <td>118.0</td>\n",
       "      <td>NaN</td>\n",
       "      <td>NaN</td>\n",
       "      <td>NaN</td>\n",
       "      <td>3.0</td>\n",
       "      <td>NaN</td>\n",
       "      <td>1.0</td>\n",
       "      <td>NaN</td>\n",
       "      <td>NaN</td>\n",
       "      <td>7.0</td>\n",
       "      <td>129</td>\n",
       "    </tr>\n",
       "    <tr>\n",
       "      <th>Sweatshirts &amp; Hoodies</th>\n",
       "      <td>15.0</td>\n",
       "      <td>NaN</td>\n",
       "      <td>NaN</td>\n",
       "      <td>34.0</td>\n",
       "      <td>2.0</td>\n",
       "      <td>18.0</td>\n",
       "      <td>3.0</td>\n",
       "      <td>NaN</td>\n",
       "      <td>NaN</td>\n",
       "      <td>17.0</td>\n",
       "      <td>89</td>\n",
       "    </tr>\n",
       "    <tr>\n",
       "      <th>Medicine &amp; Medical</th>\n",
       "      <td>67.0</td>\n",
       "      <td>NaN</td>\n",
       "      <td>NaN</td>\n",
       "      <td>NaN</td>\n",
       "      <td>1.0</td>\n",
       "      <td>NaN</td>\n",
       "      <td>1.0</td>\n",
       "      <td>NaN</td>\n",
       "      <td>1.0</td>\n",
       "      <td>1.0</td>\n",
       "      <td>71</td>\n",
       "    </tr>\n",
       "  </tbody>\n",
       "</table>\n",
       "</div>"
      ],
      "text/plain": [
       "vendor name            Amazon  Home Depot  Lowe's  Macy's  MorningSave  \\\n",
       "category name                                                            \n",
       "All                    2189.0        21.0    21.0    60.0         43.0   \n",
       "Toys & Hobbies          628.0         1.0     2.0    16.0          3.0   \n",
       "Automotive              391.0         2.0     2.0     NaN          7.0   \n",
       "Home & Garden           306.0         8.0    10.0     NaN         12.0   \n",
       "Health                  167.0         1.0     NaN     NaN          8.0   \n",
       "Sports & Fitness        152.0         NaN     NaN     2.0          2.0   \n",
       "Patio Furniture          84.0         8.0     5.0     NaN          NaN   \n",
       "Crafts                  118.0         NaN     NaN     NaN          3.0   \n",
       "Sweatshirts & Hoodies    15.0         NaN     NaN    34.0          2.0   \n",
       "Medicine & Medical       67.0         NaN     NaN     NaN          1.0   \n",
       "\n",
       "vendor name            Proozy  Walmart  Wayfair  Woot! An Amazon Company  \\\n",
       "category name                                                              \n",
       "All                      25.0    151.0     38.0                     52.0   \n",
       "Toys & Hobbies            1.0     59.0      1.0                     15.0   \n",
       "Automotive                NaN     22.0      1.0                      4.0   \n",
       "Home & Garden             NaN     27.0     23.0                     10.0   \n",
       "Health                    NaN      2.0      NaN                      3.0   \n",
       "Sports & Fitness          NaN      4.0      1.0                      5.0   \n",
       "Patio Furniture           NaN     13.0     12.0                      3.0   \n",
       "Crafts                    NaN      1.0      NaN                      NaN   \n",
       "Sweatshirts & Hoodies    18.0      3.0      NaN                      NaN   \n",
       "Medicine & Medical        NaN      1.0      NaN                      1.0   \n",
       "\n",
       "vendor name             eBay   All  \n",
       "category name                       \n",
       "All                    180.0  2780  \n",
       "Toys & Hobbies          54.0   780  \n",
       "Automotive              17.0   446  \n",
       "Home & Garden           17.0   413  \n",
       "Health                   9.0   190  \n",
       "Sports & Fitness        13.0   179  \n",
       "Patio Furniture         14.0   139  \n",
       "Crafts                   7.0   129  \n",
       "Sweatshirts & Hoodies   17.0    89  \n",
       "Medicine & Medical       1.0    71  "
      ]
     },
     "execution_count": 29,
     "metadata": {},
     "output_type": "execute_result"
    }
   ],
   "source": [
    "items2['1'] = 1\n",
    "items2_sm = items2[items2['vendor name'].isin(top_vendors)]\n",
    "top_vendor_categories = pd.pivot_table(items2_sm, index = 'category name', columns='vendor name', values='1'\n",
    "              , aggfunc = np.sum, margins=True)\\\n",
    "    .sort_values('All', ascending=False).head(10)\n",
    "top_vendor_categories"
   ]
  },
  {
   "cell_type": "code",
   "execution_count": 30,
   "metadata": {},
   "outputs": [],
   "source": [
    "amazon_items = items2[items2['vendor name'] == 'Amazon']\n",
    "non_amazon_items = items2[items2['vendor name'] != 'Amazon']"
   ]
  },
  {
   "cell_type": "code",
   "execution_count": 31,
   "metadata": {},
   "outputs": [
    {
     "data": {
      "text/html": [
       "<div>\n",
       "<style scoped>\n",
       "    .dataframe tbody tr th:only-of-type {\n",
       "        vertical-align: middle;\n",
       "    }\n",
       "\n",
       "    .dataframe tbody tr th {\n",
       "        vertical-align: top;\n",
       "    }\n",
       "\n",
       "    .dataframe thead th {\n",
       "        text-align: right;\n",
       "    }\n",
       "</style>\n",
       "<table border=\"1\" class=\"dataframe\">\n",
       "  <thead>\n",
       "    <tr style=\"text-align: right;\">\n",
       "      <th></th>\n",
       "      <th>Count</th>\n",
       "      <th>Percent</th>\n",
       "    </tr>\n",
       "  </thead>\n",
       "  <tbody>\n",
       "    <tr>\n",
       "      <th>Toys &amp; Hobbies</th>\n",
       "      <td>628</td>\n",
       "      <td>28.69</td>\n",
       "    </tr>\n",
       "    <tr>\n",
       "      <th>Automotive</th>\n",
       "      <td>391</td>\n",
       "      <td>17.86</td>\n",
       "    </tr>\n",
       "    <tr>\n",
       "      <th>Home &amp; Garden</th>\n",
       "      <td>306</td>\n",
       "      <td>13.98</td>\n",
       "    </tr>\n",
       "    <tr>\n",
       "      <th>Health</th>\n",
       "      <td>167</td>\n",
       "      <td>7.63</td>\n",
       "    </tr>\n",
       "    <tr>\n",
       "      <th>Sports &amp; Fitness</th>\n",
       "      <td>152</td>\n",
       "      <td>6.94</td>\n",
       "    </tr>\n",
       "    <tr>\n",
       "      <th>Crafts</th>\n",
       "      <td>118</td>\n",
       "      <td>5.39</td>\n",
       "    </tr>\n",
       "    <tr>\n",
       "      <th>Patio Furniture</th>\n",
       "      <td>84</td>\n",
       "      <td>3.84</td>\n",
       "    </tr>\n",
       "    <tr>\n",
       "      <th>Medicine &amp; Medical</th>\n",
       "      <td>67</td>\n",
       "      <td>3.06</td>\n",
       "    </tr>\n",
       "    <tr>\n",
       "      <th>Gaming &amp; Toys</th>\n",
       "      <td>47</td>\n",
       "      <td>2.15</td>\n",
       "    </tr>\n",
       "    <tr>\n",
       "      <th>Office &amp; School Supplies</th>\n",
       "      <td>40</td>\n",
       "      <td>1.83</td>\n",
       "    </tr>\n",
       "  </tbody>\n",
       "</table>\n",
       "</div>"
      ],
      "text/plain": [
       "                          Count  Percent\n",
       "Toys & Hobbies              628    28.69\n",
       "Automotive                  391    17.86\n",
       "Home & Garden               306    13.98\n",
       "Health                      167     7.63\n",
       "Sports & Fitness            152     6.94\n",
       "Crafts                      118     5.39\n",
       "Patio Furniture              84     3.84\n",
       "Medicine & Medical           67     3.06\n",
       "Gaming & Toys                47     2.15\n",
       "Office & School Supplies     40     1.83"
      ]
     },
     "execution_count": 31,
     "metadata": {},
     "output_type": "execute_result"
    }
   ],
   "source": [
    "amzn_categories = pd.concat({'Count' : amazon_items['category name'].value_counts()\n",
    "                            ,'Percent' :np.round(100*amazon_items['category name']\\\n",
    "                                                     .value_counts(normalize=True), 2)}\n",
    "                            , axis=1)\n",
    "amzn_categories.head(10)"
   ]
  },
  {
   "cell_type": "code",
   "execution_count": 32,
   "metadata": {
    "scrolled": true
   },
   "outputs": [
    {
     "data": {
      "text/html": [
       "<div>\n",
       "<style scoped>\n",
       "    .dataframe tbody tr th:only-of-type {\n",
       "        vertical-align: middle;\n",
       "    }\n",
       "\n",
       "    .dataframe tbody tr th {\n",
       "        vertical-align: top;\n",
       "    }\n",
       "\n",
       "    .dataframe thead th {\n",
       "        text-align: right;\n",
       "    }\n",
       "</style>\n",
       "<table border=\"1\" class=\"dataframe\">\n",
       "  <thead>\n",
       "    <tr style=\"text-align: right;\">\n",
       "      <th></th>\n",
       "      <th>Count</th>\n",
       "      <th># w/ $ callout</th>\n",
       "      <th>Avg Callout Price</th>\n",
       "      <th>Avg Callout Pct Diff</th>\n",
       "    </tr>\n",
       "    <tr>\n",
       "      <th>category name</th>\n",
       "      <th></th>\n",
       "      <th></th>\n",
       "      <th></th>\n",
       "      <th></th>\n",
       "    </tr>\n",
       "  </thead>\n",
       "  <tbody>\n",
       "    <tr>\n",
       "      <th>Medicine &amp; Medical</th>\n",
       "      <td>67.0</td>\n",
       "      <td>67.0</td>\n",
       "      <td>17.17</td>\n",
       "      <td>43.69</td>\n",
       "    </tr>\n",
       "    <tr>\n",
       "      <th>Crafts</th>\n",
       "      <td>118.0</td>\n",
       "      <td>118.0</td>\n",
       "      <td>46.20</td>\n",
       "      <td>42.59</td>\n",
       "    </tr>\n",
       "    <tr>\n",
       "      <th>Health</th>\n",
       "      <td>167.0</td>\n",
       "      <td>167.0</td>\n",
       "      <td>36.94</td>\n",
       "      <td>42.44</td>\n",
       "    </tr>\n",
       "    <tr>\n",
       "      <th>Luggage &amp; Travel Gear</th>\n",
       "      <td>35.0</td>\n",
       "      <td>35.0</td>\n",
       "      <td>61.40</td>\n",
       "      <td>41.51</td>\n",
       "    </tr>\n",
       "    <tr>\n",
       "      <th>Toys &amp; Hobbies</th>\n",
       "      <td>628.0</td>\n",
       "      <td>628.0</td>\n",
       "      <td>52.22</td>\n",
       "      <td>40.49</td>\n",
       "    </tr>\n",
       "    <tr>\n",
       "      <th>Gaming &amp; Toys</th>\n",
       "      <td>47.0</td>\n",
       "      <td>47.0</td>\n",
       "      <td>265.85</td>\n",
       "      <td>39.86</td>\n",
       "    </tr>\n",
       "    <tr>\n",
       "      <th>Electronics</th>\n",
       "      <td>30.0</td>\n",
       "      <td>30.0</td>\n",
       "      <td>50.85</td>\n",
       "      <td>37.64</td>\n",
       "    </tr>\n",
       "    <tr>\n",
       "      <th>Automotive</th>\n",
       "      <td>391.0</td>\n",
       "      <td>391.0</td>\n",
       "      <td>50.95</td>\n",
       "      <td>37.62</td>\n",
       "    </tr>\n",
       "    <tr>\n",
       "      <th>Sports &amp; Fitness</th>\n",
       "      <td>152.0</td>\n",
       "      <td>152.0</td>\n",
       "      <td>92.58</td>\n",
       "      <td>37.58</td>\n",
       "    </tr>\n",
       "    <tr>\n",
       "      <th>Office &amp; School Supplies</th>\n",
       "      <td>40.0</td>\n",
       "      <td>40.0</td>\n",
       "      <td>30.01</td>\n",
       "      <td>37.17</td>\n",
       "    </tr>\n",
       "    <tr>\n",
       "      <th>Home &amp; Garden</th>\n",
       "      <td>306.0</td>\n",
       "      <td>306.0</td>\n",
       "      <td>47.98</td>\n",
       "      <td>36.94</td>\n",
       "    </tr>\n",
       "    <tr>\n",
       "      <th>Patio Furniture</th>\n",
       "      <td>84.0</td>\n",
       "      <td>84.0</td>\n",
       "      <td>140.64</td>\n",
       "      <td>35.59</td>\n",
       "    </tr>\n",
       "    <tr>\n",
       "      <th>Desktops</th>\n",
       "      <td>21.0</td>\n",
       "      <td>21.0</td>\n",
       "      <td>788.81</td>\n",
       "      <td>19.69</td>\n",
       "    </tr>\n",
       "    <tr>\n",
       "      <th>Gift Cards</th>\n",
       "      <td>21.0</td>\n",
       "      <td>21.0</td>\n",
       "      <td>50.43</td>\n",
       "      <td>17.01</td>\n",
       "    </tr>\n",
       "  </tbody>\n",
       "</table>\n",
       "</div>"
      ],
      "text/plain": [
       "                          Count  # w/ $ callout  Avg Callout Price  \\\n",
       "category name                                                        \n",
       "Medicine & Medical         67.0            67.0              17.17   \n",
       "Crafts                    118.0           118.0              46.20   \n",
       "Health                    167.0           167.0              36.94   \n",
       "Luggage & Travel Gear      35.0            35.0              61.40   \n",
       "Toys & Hobbies            628.0           628.0              52.22   \n",
       "Gaming & Toys              47.0            47.0             265.85   \n",
       "Electronics                30.0            30.0              50.85   \n",
       "Automotive                391.0           391.0              50.95   \n",
       "Sports & Fitness          152.0           152.0              92.58   \n",
       "Office & School Supplies   40.0            40.0              30.01   \n",
       "Home & Garden             306.0           306.0              47.98   \n",
       "Patio Furniture            84.0            84.0             140.64   \n",
       "Desktops                   21.0            21.0             788.81   \n",
       "Gift Cards                 21.0            21.0              50.43   \n",
       "\n",
       "                          Avg Callout Pct Diff  \n",
       "category name                                   \n",
       "Medicine & Medical                       43.69  \n",
       "Crafts                                   42.59  \n",
       "Health                                   42.44  \n",
       "Luggage & Travel Gear                    41.51  \n",
       "Toys & Hobbies                           40.49  \n",
       "Gaming & Toys                            39.86  \n",
       "Electronics                              37.64  \n",
       "Automotive                               37.62  \n",
       "Sports & Fitness                         37.58  \n",
       "Office & School Supplies                 37.17  \n",
       "Home & Garden                            36.94  \n",
       "Patio Furniture                          35.59  \n",
       "Desktops                                 19.69  \n",
       "Gift Cards                               17.01  "
      ]
     },
     "execution_count": 32,
     "metadata": {},
     "output_type": "execute_result"
    }
   ],
   "source": [
    "amzn_categories = amazon_items.groupby('category name').apply(lambda x: api_gb_func(x))\\\n",
    "    .sort_values('Avg Callout Pct Diff', ascending=False)\n",
    "amzn_categories[amzn_categories['Count'] > 20]"
   ]
  },
  {
   "cell_type": "code",
   "execution_count": 33,
   "metadata": {},
   "outputs": [
    {
     "data": {
      "text/html": [
       "<div>\n",
       "<style scoped>\n",
       "    .dataframe tbody tr th:only-of-type {\n",
       "        vertical-align: middle;\n",
       "    }\n",
       "\n",
       "    .dataframe tbody tr th {\n",
       "        vertical-align: top;\n",
       "    }\n",
       "\n",
       "    .dataframe thead th {\n",
       "        text-align: right;\n",
       "    }\n",
       "</style>\n",
       "<table border=\"1\" class=\"dataframe\">\n",
       "  <thead>\n",
       "    <tr style=\"text-align: right;\">\n",
       "      <th></th>\n",
       "      <th>Count</th>\n",
       "      <th># w/ $ callout</th>\n",
       "      <th>Avg Callout Price</th>\n",
       "      <th>Avg Callout Pct Diff</th>\n",
       "    </tr>\n",
       "    <tr>\n",
       "      <th>category name</th>\n",
       "      <th></th>\n",
       "      <th></th>\n",
       "      <th></th>\n",
       "      <th></th>\n",
       "    </tr>\n",
       "  </thead>\n",
       "  <tbody>\n",
       "    <tr>\n",
       "      <th>Clothing &amp; Accessories</th>\n",
       "      <td>39.0</td>\n",
       "      <td>39.0</td>\n",
       "      <td>21.10</td>\n",
       "      <td>58.32</td>\n",
       "    </tr>\n",
       "    <tr>\n",
       "      <th>Sweatshirts &amp; Hoodies</th>\n",
       "      <td>149.0</td>\n",
       "      <td>149.0</td>\n",
       "      <td>23.12</td>\n",
       "      <td>57.44</td>\n",
       "    </tr>\n",
       "    <tr>\n",
       "      <th>Health</th>\n",
       "      <td>76.0</td>\n",
       "      <td>76.0</td>\n",
       "      <td>57.13</td>\n",
       "      <td>52.65</td>\n",
       "    </tr>\n",
       "    <tr>\n",
       "      <th>Luggage &amp; Travel Gear</th>\n",
       "      <td>29.0</td>\n",
       "      <td>29.0</td>\n",
       "      <td>50.58</td>\n",
       "      <td>46.25</td>\n",
       "    </tr>\n",
       "    <tr>\n",
       "      <th>Crafts</th>\n",
       "      <td>23.0</td>\n",
       "      <td>23.0</td>\n",
       "      <td>96.83</td>\n",
       "      <td>42.58</td>\n",
       "    </tr>\n",
       "    <tr>\n",
       "      <th>Sports &amp; Fitness</th>\n",
       "      <td>58.0</td>\n",
       "      <td>58.0</td>\n",
       "      <td>188.55</td>\n",
       "      <td>42.21</td>\n",
       "    </tr>\n",
       "    <tr>\n",
       "      <th>Automotive</th>\n",
       "      <td>101.0</td>\n",
       "      <td>101.0</td>\n",
       "      <td>52.15</td>\n",
       "      <td>41.11</td>\n",
       "    </tr>\n",
       "    <tr>\n",
       "      <th>Home &amp; Garden</th>\n",
       "      <td>176.0</td>\n",
       "      <td>176.0</td>\n",
       "      <td>121.35</td>\n",
       "      <td>39.45</td>\n",
       "    </tr>\n",
       "    <tr>\n",
       "      <th>Toys &amp; Hobbies</th>\n",
       "      <td>245.0</td>\n",
       "      <td>245.0</td>\n",
       "      <td>145.64</td>\n",
       "      <td>39.21</td>\n",
       "    </tr>\n",
       "    <tr>\n",
       "      <th>Patio Furniture</th>\n",
       "      <td>118.0</td>\n",
       "      <td>118.0</td>\n",
       "      <td>291.42</td>\n",
       "      <td>32.80</td>\n",
       "    </tr>\n",
       "    <tr>\n",
       "      <th>Desktops</th>\n",
       "      <td>155.0</td>\n",
       "      <td>155.0</td>\n",
       "      <td>799.83</td>\n",
       "      <td>31.98</td>\n",
       "    </tr>\n",
       "    <tr>\n",
       "      <th>Gift Cards</th>\n",
       "      <td>27.0</td>\n",
       "      <td>27.0</td>\n",
       "      <td>81.07</td>\n",
       "      <td>13.25</td>\n",
       "    </tr>\n",
       "  </tbody>\n",
       "</table>\n",
       "</div>"
      ],
      "text/plain": [
       "                        Count  # w/ $ callout  Avg Callout Price  \\\n",
       "category name                                                      \n",
       "Clothing & Accessories   39.0            39.0              21.10   \n",
       "Sweatshirts & Hoodies   149.0           149.0              23.12   \n",
       "Health                   76.0            76.0              57.13   \n",
       "Luggage & Travel Gear    29.0            29.0              50.58   \n",
       "Crafts                   23.0            23.0              96.83   \n",
       "Sports & Fitness         58.0            58.0             188.55   \n",
       "Automotive              101.0           101.0              52.15   \n",
       "Home & Garden           176.0           176.0             121.35   \n",
       "Toys & Hobbies          245.0           245.0             145.64   \n",
       "Patio Furniture         118.0           118.0             291.42   \n",
       "Desktops                155.0           155.0             799.83   \n",
       "Gift Cards               27.0            27.0              81.07   \n",
       "\n",
       "                        Avg Callout Pct Diff  \n",
       "category name                                 \n",
       "Clothing & Accessories                 58.32  \n",
       "Sweatshirts & Hoodies                  57.44  \n",
       "Health                                 52.65  \n",
       "Luggage & Travel Gear                  46.25  \n",
       "Crafts                                 42.58  \n",
       "Sports & Fitness                       42.21  \n",
       "Automotive                             41.11  \n",
       "Home & Garden                          39.45  \n",
       "Toys & Hobbies                         39.21  \n",
       "Patio Furniture                        32.80  \n",
       "Desktops                               31.98  \n",
       "Gift Cards                             13.25  "
      ]
     },
     "execution_count": 33,
     "metadata": {},
     "output_type": "execute_result"
    }
   ],
   "source": [
    "non_amzn_categories = non_amazon_items.groupby('category name').apply(lambda x: api_gb_func(x))\\\n",
    "    .sort_values('Avg Callout Pct Diff', ascending=False)\n",
    "non_amzn_categories[non_amzn_categories['Count'] > 20]"
   ]
  },
  {
   "cell_type": "markdown",
   "metadata": {},
   "source": [
    "## Over time analysis"
   ]
  },
  {
   "cell_type": "code",
   "execution_count": 34,
   "metadata": {},
   "outputs": [],
   "source": [
    "import plotly.express as px "
   ]
  },
  {
   "cell_type": "code",
   "execution_count": 43,
   "metadata": {},
   "outputs": [
    {
     "data": {
      "text/html": [
       "<div>\n",
       "<style scoped>\n",
       "    .dataframe tbody tr th:only-of-type {\n",
       "        vertical-align: middle;\n",
       "    }\n",
       "\n",
       "    .dataframe tbody tr th {\n",
       "        vertical-align: top;\n",
       "    }\n",
       "\n",
       "    .dataframe thead th {\n",
       "        text-align: right;\n",
       "    }\n",
       "</style>\n",
       "<table border=\"1\" class=\"dataframe\">\n",
       "  <thead>\n",
       "    <tr style=\"text-align: right;\">\n",
       "      <th></th>\n",
       "      <th>id</th>\n",
       "      <th>headline</th>\n",
       "      <th>brief_headline</th>\n",
       "      <th>summary</th>\n",
       "      <th>secondary_summary</th>\n",
       "      <th>key_attribute</th>\n",
       "      <th>brief_notes</th>\n",
       "      <th>url</th>\n",
       "      <th>display_date</th>\n",
       "      <th>publish_datetime_ts</th>\n",
       "      <th>update_datetime_ts</th>\n",
       "      <th>expiration_datetime_ts</th>\n",
       "      <th>last_verified_datetime_ts</th>\n",
       "      <th>editors_choice</th>\n",
       "      <th>sponsored</th>\n",
       "      <th>expired</th>\n",
       "      <th>expires_today</th>\n",
       "      <th>exclusive</th>\n",
       "      <th>searchable</th>\n",
       "      <th>hotness</th>\n",
       "      <th>call_out</th>\n",
       "      <th>call_out_comparison</th>\n",
       "      <th>sub_call_out</th>\n",
       "      <th>Coupon Code</th>\n",
       "      <th>category_id_0</th>\n",
       "      <th>namepath_0</th>\n",
       "      <th>ancestor_list_0</th>\n",
       "      <th>category_id_1</th>\n",
       "      <th>namepath_1</th>\n",
       "      <th>ancestor_list_1</th>\n",
       "      <th>vendor_id</th>\n",
       "      <th>name</th>\n",
       "      <th>Image path</th>\n",
       "      <th>API Feed</th>\n",
       "      <th>API id_number</th>\n",
       "      <th>_dt_pulled</th>\n",
       "      <th>callout_parse</th>\n",
       "      <th>callout_compare_parse</th>\n",
       "      <th>callout_diff</th>\n",
       "      <th>callout_diff_pct</th>\n",
       "      <th>date</th>\n",
       "    </tr>\n",
       "  </thead>\n",
       "  <tbody>\n",
       "    <tr>\n",
       "      <th>0</th>\n",
       "      <td>20344256</td>\n",
       "      <td>Hollister Clearance</td>\n",
       "      <td>Hollister Clearance: 60% to 70% off</td>\n",
       "      <td>Save on a huge selection of men's and women's styles.</td>\n",
       "      <td>&lt;div class=\"snippet summary\" title=\"Save&amp;#x20;on&amp;#x20;a&amp;#x20;huge&amp;#x20;selection&amp;#x20;of&amp;#x20;men&amp;#x27;s&amp;#x20;and&amp;#x20;women&amp;#x27;s&amp;#x20;styles.\"&gt; &lt;p&gt;Save on a huge selection of men's and women's styles. &lt;a target=\"_blank\" href=\"https://www.dealnews.com/lw/click.html?20,2,20344256,iref=site-widg...</td>\n",
       "      <td>Hollister</td>\n",
       "      <td>Free shipping w/ $50. Shipping adds $7 or orders of $50 or more ship for free.</td>\n",
       "      <td>https://www.dealnews.com/Hollister-Clearance-60-to-70-off-free-shipping-w-50/20344256.html?iref=site-widget</td>\n",
       "      <td>Last verified 1 hr 54 min ago</td>\n",
       "      <td>2022-07-20 13:42:21</td>\n",
       "      <td>2022-07-20 15:32:27</td>\n",
       "      <td>1969-12-31 19:00:00</td>\n",
       "      <td>2022-07-20 13:42:20</td>\n",
       "      <td>0</td>\n",
       "      <td>0</td>\n",
       "      <td>0</td>\n",
       "      <td>0</td>\n",
       "      <td>0</td>\n",
       "      <td>1</td>\n",
       "      <td>5</td>\n",
       "      <td>60% to 70% off</td>\n",
       "      <td></td>\n",
       "      <td>free shipping w/ $50</td>\n",
       "      <td>None</td>\n",
       "      <td>40</td>\n",
       "      <td>None</td>\n",
       "      <td>None</td>\n",
       "      <td>202</td>\n",
       "      <td>None</td>\n",
       "      <td>None</td>\n",
       "      <td>2344.0</td>\n",
       "      <td>Hollister</td>\n",
       "      <td>/mnt/volume-nyc3-01/Dealnews_Images/2022-07-20/Hollister Clearance_20344256.jpg</td>\n",
       "      <td>Popularity Rank : Popularity: 5/5</td>\n",
       "      <td>1774</td>\n",
       "      <td>2022-07-20 15:37</td>\n",
       "      <td>NaN</td>\n",
       "      <td>NaN</td>\n",
       "      <td>NaN</td>\n",
       "      <td>NaN</td>\n",
       "      <td>2022-07-20</td>\n",
       "    </tr>\n",
       "    <tr>\n",
       "      <th>1</th>\n",
       "      <td>20344283</td>\n",
       "      <td>Vornado Pivot6 Whole Room Air Circulator Fan</td>\n",
       "      <td>Vornado Pivot6 Whole Room Air Circulator Fan for $50</td>\n",
       "      <td>It's $30 under list price.</td>\n",
       "      <td>&lt;div class=\"snippet summary\" title=\"It&amp;#x27;s&amp;#x20;the&amp;#x20;lowest&amp;#x20;price&amp;#x20;we&amp;#x20;could&amp;#x20;find&amp;#x20;by&amp;#x20;&amp;#x24;23.\"&gt; &lt;p&gt;It's the lowest price we could find by $23. &lt;a target=\"_blank\" href=\"https://www.dealnews.com/lw/click.html?20,2,20344283,iref=site-widget\"&gt;Buy Now at Amazon&lt;/a&gt;...</td>\n",
       "      <td>Amazon</td>\n",
       "      <td>Free shipping. &lt;br&gt;&lt;b&gt;Features:&lt;/b&gt; four speeds, remote control and moves air up to 75-feet. Model: CR1-0410-06.</td>\n",
       "      <td>https://www.dealnews.com/products/Vornado/Vornado-Pivot6-Whole-Room-Air-Circulator-Fan/341783.html?iref=site-widget</td>\n",
       "      <td>Last verified 1 hr 33 min ago</td>\n",
       "      <td>2022-07-20 14:04:13</td>\n",
       "      <td>2022-07-20 15:32:24</td>\n",
       "      <td>1969-12-31 19:00:00</td>\n",
       "      <td>2022-07-20 14:04:11</td>\n",
       "      <td>0</td>\n",
       "      <td>0</td>\n",
       "      <td>0</td>\n",
       "      <td>0</td>\n",
       "      <td>0</td>\n",
       "      <td>1</td>\n",
       "      <td>5</td>\n",
       "      <td>$50</td>\n",
       "      <td>$80</td>\n",
       "      <td>free shipping</td>\n",
       "      <td>None</td>\n",
       "      <td>609</td>\n",
       "      <td>None</td>\n",
       "      <td>196,304,606</td>\n",
       "      <td>None</td>\n",
       "      <td>None</td>\n",
       "      <td>None</td>\n",
       "      <td>313.0</td>\n",
       "      <td>Amazon</td>\n",
       "      <td>/mnt/volume-nyc3-01/Dealnews_Images/2022-07-20/Vornado Pivot6 Whole Room Air Circulator Fan_20344283.jpg</td>\n",
       "      <td>Popularity Rank : Popularity: 5/5</td>\n",
       "      <td>1774</td>\n",
       "      <td>2022-07-20 15:37</td>\n",
       "      <td>50.00</td>\n",
       "      <td>80.0</td>\n",
       "      <td>30.00</td>\n",
       "      <td>37.50</td>\n",
       "      <td>2022-07-20</td>\n",
       "    </tr>\n",
       "    <tr>\n",
       "      <th>2</th>\n",
       "      <td>20344280</td>\n",
       "      <td>Stanley 500-Lumen Work Light</td>\n",
       "      <td>Stanley 500-Lumen Work Light for $9</td>\n",
       "      <td>It's $2 under list price.</td>\n",
       "      <td>&lt;div class=\"snippet summary\" title=\"That&amp;#x27;s&amp;#x20;a&amp;#x20;solid&amp;#x20;&amp;#x24;2&amp;#x20;savings.&amp;#x20;The&amp;#x20;300-&amp;#x20;and&amp;#x20;400-lumen&amp;#x20;models&amp;#x20;go&amp;#x20;for&amp;#x20;at&amp;#x20;least&amp;#x20;twice&amp;#x20;this&amp;#x20;price.\"&gt; &lt;p&gt;That's a solid $2 savings. The 300- and 400-lumen models go for at least t...</td>\n",
       "      <td>Amazon</td>\n",
       "      <td>Free shipping w/ prime. &lt;br&gt;&lt;b&gt;Features:&lt;/b&gt; integrated battery runs up to 12 hours and magnetic base. Model: SAT5S.</td>\n",
       "      <td>https://www.dealnews.com/products/Stanley/Stanley-500-Lumen-Work-Light/342755.html?iref=site-widget</td>\n",
       "      <td>Last verified 1 hr 22 min ago</td>\n",
       "      <td>2022-07-20 14:14:48</td>\n",
       "      <td>2022-07-20 15:32:23</td>\n",
       "      <td>1969-12-31 19:00:00</td>\n",
       "      <td>2022-07-20 14:14:47</td>\n",
       "      <td>0</td>\n",
       "      <td>0</td>\n",
       "      <td>0</td>\n",
       "      <td>0</td>\n",
       "      <td>0</td>\n",
       "      <td>1</td>\n",
       "      <td>5</td>\n",
       "      <td>$9.45</td>\n",
       "      <td>$11</td>\n",
       "      <td>free shipping w/ Prime</td>\n",
       "      <td>None</td>\n",
       "      <td>648</td>\n",
       "      <td>None</td>\n",
       "      <td>196,197</td>\n",
       "      <td>None</td>\n",
       "      <td>None</td>\n",
       "      <td>None</td>\n",
       "      <td>313.0</td>\n",
       "      <td>Amazon</td>\n",
       "      <td>/mnt/volume-nyc3-01/Dealnews_Images/2022-07-20/Stanley 500-Lumen Work Light_20344280.jpg</td>\n",
       "      <td>Popularity Rank : Popularity: 5/5</td>\n",
       "      <td>1774</td>\n",
       "      <td>2022-07-20 15:37</td>\n",
       "      <td>9.45</td>\n",
       "      <td>11.0</td>\n",
       "      <td>1.55</td>\n",
       "      <td>14.09</td>\n",
       "      <td>2022-07-20</td>\n",
       "    </tr>\n",
       "    <tr>\n",
       "      <th>3</th>\n",
       "      <td>20344241</td>\n",
       "      <td>JBL Endurance Peak True Wireless Headphones</td>\n",
       "      <td>JBL Endurance Peak True Wireless Headphones for $30</td>\n",
       "      <td>It's $90 under list price.</td>\n",
       "      <td>&lt;div class=\"snippet summary\" title=\"This&amp;#x20;is&amp;#x20;the&amp;#x20;best&amp;#x20;deal&amp;#x20;we&amp;#x27;ve&amp;#x20;seen&amp;#x20;in&amp;#x20;any&amp;#x20;condition&amp;#x20;for&amp;#x20;this&amp;#x20;pair.\"&gt; &lt;p&gt;This is the best deal we've seen in any condition for this pair. &lt;a target=\"_blank\" href=\"https://www.dealnews.com/lw/click.h...</td>\n",
       "      <td>eBay</td>\n",
       "      <td>Free shipping. &lt;br&gt;&lt;b&gt;Features:&lt;/b&gt; touch enabled controls, up to 28 hours playback and IPX7 water resistance. Model: JBLENDURPEAKBLKAM.</td>\n",
       "      <td>https://www.dealnews.com/products/JBL/JBL-Endurance-Peak-True-Wireless-Headphones/85126.html?iref=site-widget</td>\n",
       "      <td>Last verified 2 hr ago</td>\n",
       "      <td>2022-07-20 13:37:12</td>\n",
       "      <td>2022-07-20 15:32:29</td>\n",
       "      <td>1969-12-31 19:00:00</td>\n",
       "      <td>2022-07-20 13:37:10</td>\n",
       "      <td>1</td>\n",
       "      <td>0</td>\n",
       "      <td>0</td>\n",
       "      <td>0</td>\n",
       "      <td>0</td>\n",
       "      <td>1</td>\n",
       "      <td>4</td>\n",
       "      <td>$30</td>\n",
       "      <td>$120</td>\n",
       "      <td>free shipping</td>\n",
       "      <td>None</td>\n",
       "      <td>155</td>\n",
       "      <td>None</td>\n",
       "      <td>142,143</td>\n",
       "      <td>None</td>\n",
       "      <td>None</td>\n",
       "      <td>None</td>\n",
       "      <td>50.0</td>\n",
       "      <td>eBay</td>\n",
       "      <td>/mnt/volume-nyc3-01/Dealnews_Images/2022-07-20/JBL Endurance Peak True Wireless Headphones_20344241.jpg</td>\n",
       "      <td>Popularity Rank : Popularity: 4/5</td>\n",
       "      <td>1777</td>\n",
       "      <td>2022-07-20 15:37</td>\n",
       "      <td>30.00</td>\n",
       "      <td>120.0</td>\n",
       "      <td>90.00</td>\n",
       "      <td>75.00</td>\n",
       "      <td>2022-07-20</td>\n",
       "    </tr>\n",
       "    <tr>\n",
       "      <th>4</th>\n",
       "      <td>20344253</td>\n",
       "      <td>Vcansion Men's Quick Dry Shorts</td>\n",
       "      <td>Vcansion Men's Quick Dry Shorts for $15</td>\n",
       "      <td>Apply coupon code \"LDD5MQ3P\" for a savings of $15.</td>\n",
       "      <td>&lt;div class=\"body-offer body-burst\"&gt; &lt;div class=\"snippet summary\" title=\"Apply&amp;#x20;coupon&amp;#x20;code&amp;#x20;&amp;quot;LDD5MQ3P&amp;quot;&amp;#x20;for&amp;#x20;a&amp;#x20;savings&amp;#x20;of&amp;#x20;&amp;#x24;15.\"&gt; &lt;p&gt;Apply coupon code \"LDD5MQ3P\" for a savings of $15. &lt;a target=\"_blank\" href=\"https://www.dealnews.com/lw/click.htm...</td>\n",
       "      <td>Amazon</td>\n",
       "      <td>Free shipping. Available in several colors (A-Dark Grey pictured). Army Green size 32 drops to $9.99 after the same code.</td>\n",
       "      <td>https://www.dealnews.com/Vcansion-Mens-Quick-Dry-Shorts-for-15-free-shipping/20344253.html?iref=site-widget</td>\n",
       "      <td>Last verified 1 hr 52 min ago</td>\n",
       "      <td>2022-07-20 13:44:44</td>\n",
       "      <td>2022-07-20 15:32:27</td>\n",
       "      <td>2022-07-27 00:59:00</td>\n",
       "      <td>2022-07-20 13:44:43</td>\n",
       "      <td>0</td>\n",
       "      <td>0</td>\n",
       "      <td>0</td>\n",
       "      <td>0</td>\n",
       "      <td>0</td>\n",
       "      <td>1</td>\n",
       "      <td>4</td>\n",
       "      <td>$15</td>\n",
       "      <td>$30</td>\n",
       "      <td>free shipping</td>\n",
       "      <td>LDD5MQ3P</td>\n",
       "      <td>717</td>\n",
       "      <td>None</td>\n",
       "      <td>202</td>\n",
       "      <td>None</td>\n",
       "      <td>None</td>\n",
       "      <td>None</td>\n",
       "      <td>313.0</td>\n",
       "      <td>Amazon</td>\n",
       "      <td>/mnt/volume-nyc3-01/Dealnews_Images/2022-07-20/Vcansion Men's Quick Dry Shorts_20344253.jpg</td>\n",
       "      <td>Popularity Rank : Popularity: 4/5</td>\n",
       "      <td>1777</td>\n",
       "      <td>2022-07-20 15:37</td>\n",
       "      <td>15.00</td>\n",
       "      <td>30.0</td>\n",
       "      <td>15.00</td>\n",
       "      <td>50.00</td>\n",
       "      <td>2022-07-20</td>\n",
       "    </tr>\n",
       "  </tbody>\n",
       "</table>\n",
       "</div>"
      ],
      "text/plain": [
       "         id                                      headline  \\\n",
       "0  20344256                           Hollister Clearance   \n",
       "1  20344283  Vornado Pivot6 Whole Room Air Circulator Fan   \n",
       "2  20344280                  Stanley 500-Lumen Work Light   \n",
       "3  20344241   JBL Endurance Peak True Wireless Headphones   \n",
       "4  20344253               Vcansion Men's Quick Dry Shorts   \n",
       "\n",
       "                                         brief_headline  \\\n",
       "0                   Hollister Clearance: 60% to 70% off   \n",
       "1  Vornado Pivot6 Whole Room Air Circulator Fan for $50   \n",
       "2                   Stanley 500-Lumen Work Light for $9   \n",
       "3   JBL Endurance Peak True Wireless Headphones for $30   \n",
       "4               Vcansion Men's Quick Dry Shorts for $15   \n",
       "\n",
       "                                                 summary  \\\n",
       "0  Save on a huge selection of men's and women's styles.   \n",
       "1                             It's $30 under list price.   \n",
       "2                              It's $2 under list price.   \n",
       "3                             It's $90 under list price.   \n",
       "4     Apply coupon code \"LDD5MQ3P\" for a savings of $15.   \n",
       "\n",
       "                                                                                                                                                                                                                                                                                             secondary_summary  \\\n",
       "0  <div class=\"snippet summary\" title=\"Save&#x20;on&#x20;a&#x20;huge&#x20;selection&#x20;of&#x20;men&#x27;s&#x20;and&#x20;women&#x27;s&#x20;styles.\"> <p>Save on a huge selection of men's and women's styles. <a target=\"_blank\" href=\"https://www.dealnews.com/lw/click.html?20,2,20344256,iref=site-widg...   \n",
       "1  <div class=\"snippet summary\" title=\"It&#x27;s&#x20;the&#x20;lowest&#x20;price&#x20;we&#x20;could&#x20;find&#x20;by&#x20;&#x24;23.\"> <p>It's the lowest price we could find by $23. <a target=\"_blank\" href=\"https://www.dealnews.com/lw/click.html?20,2,20344283,iref=site-widget\">Buy Now at Amazon</a>...   \n",
       "2  <div class=\"snippet summary\" title=\"That&#x27;s&#x20;a&#x20;solid&#x20;&#x24;2&#x20;savings.&#x20;The&#x20;300-&#x20;and&#x20;400-lumen&#x20;models&#x20;go&#x20;for&#x20;at&#x20;least&#x20;twice&#x20;this&#x20;price.\"> <p>That's a solid $2 savings. The 300- and 400-lumen models go for at least t...   \n",
       "3  <div class=\"snippet summary\" title=\"This&#x20;is&#x20;the&#x20;best&#x20;deal&#x20;we&#x27;ve&#x20;seen&#x20;in&#x20;any&#x20;condition&#x20;for&#x20;this&#x20;pair.\"> <p>This is the best deal we've seen in any condition for this pair. <a target=\"_blank\" href=\"https://www.dealnews.com/lw/click.h...   \n",
       "4  <div class=\"body-offer body-burst\"> <div class=\"snippet summary\" title=\"Apply&#x20;coupon&#x20;code&#x20;&quot;LDD5MQ3P&quot;&#x20;for&#x20;a&#x20;savings&#x20;of&#x20;&#x24;15.\"> <p>Apply coupon code \"LDD5MQ3P\" for a savings of $15. <a target=\"_blank\" href=\"https://www.dealnews.com/lw/click.htm...   \n",
       "\n",
       "  key_attribute  \\\n",
       "0     Hollister   \n",
       "1        Amazon   \n",
       "2        Amazon   \n",
       "3          eBay   \n",
       "4        Amazon   \n",
       "\n",
       "                                                                                                                                brief_notes  \\\n",
       "0                                                            Free shipping w/ $50. Shipping adds $7 or orders of $50 or more ship for free.   \n",
       "1                          Free shipping. <br><b>Features:</b> four speeds, remote control and moves air up to 75-feet. Model: CR1-0410-06.   \n",
       "2                      Free shipping w/ prime. <br><b>Features:</b> integrated battery runs up to 12 hours and magnetic base. Model: SAT5S.   \n",
       "3  Free shipping. <br><b>Features:</b> touch enabled controls, up to 28 hours playback and IPX7 water resistance. Model: JBLENDURPEAKBLKAM.   \n",
       "4                 Free shipping. Available in several colors (A-Dark Grey pictured). Army Green size 32 drops to $9.99 after the same code.   \n",
       "\n",
       "                                                                                                                   url  \\\n",
       "0          https://www.dealnews.com/Hollister-Clearance-60-to-70-off-free-shipping-w-50/20344256.html?iref=site-widget   \n",
       "1  https://www.dealnews.com/products/Vornado/Vornado-Pivot6-Whole-Room-Air-Circulator-Fan/341783.html?iref=site-widget   \n",
       "2                  https://www.dealnews.com/products/Stanley/Stanley-500-Lumen-Work-Light/342755.html?iref=site-widget   \n",
       "3        https://www.dealnews.com/products/JBL/JBL-Endurance-Peak-True-Wireless-Headphones/85126.html?iref=site-widget   \n",
       "4          https://www.dealnews.com/Vcansion-Mens-Quick-Dry-Shorts-for-15-free-shipping/20344253.html?iref=site-widget   \n",
       "\n",
       "                    display_date  publish_datetime_ts   update_datetime_ts  \\\n",
       "0  Last verified 1 hr 54 min ago  2022-07-20 13:42:21  2022-07-20 15:32:27   \n",
       "1  Last verified 1 hr 33 min ago  2022-07-20 14:04:13  2022-07-20 15:32:24   \n",
       "2  Last verified 1 hr 22 min ago  2022-07-20 14:14:48  2022-07-20 15:32:23   \n",
       "3         Last verified 2 hr ago  2022-07-20 13:37:12  2022-07-20 15:32:29   \n",
       "4  Last verified 1 hr 52 min ago  2022-07-20 13:44:44  2022-07-20 15:32:27   \n",
       "\n",
       "  expiration_datetime_ts last_verified_datetime_ts  editors_choice  sponsored  \\\n",
       "0    1969-12-31 19:00:00       2022-07-20 13:42:20               0          0   \n",
       "1    1969-12-31 19:00:00       2022-07-20 14:04:11               0          0   \n",
       "2    1969-12-31 19:00:00       2022-07-20 14:14:47               0          0   \n",
       "3    1969-12-31 19:00:00       2022-07-20 13:37:10               1          0   \n",
       "4    2022-07-27 00:59:00       2022-07-20 13:44:43               0          0   \n",
       "\n",
       "   expired  expires_today  exclusive  searchable  hotness        call_out  \\\n",
       "0        0              0          0           1        5  60% to 70% off   \n",
       "1        0              0          0           1        5             $50   \n",
       "2        0              0          0           1        5           $9.45   \n",
       "3        0              0          0           1        4             $30   \n",
       "4        0              0          0           1        4             $15   \n",
       "\n",
       "  call_out_comparison            sub_call_out Coupon Code  category_id_0  \\\n",
       "0                        free shipping w/ $50        None             40   \n",
       "1                 $80           free shipping        None            609   \n",
       "2                 $11  free shipping w/ Prime        None            648   \n",
       "3                $120           free shipping        None            155   \n",
       "4                 $30           free shipping    LDD5MQ3P            717   \n",
       "\n",
       "  namepath_0 ancestor_list_0 category_id_1 namepath_1 ancestor_list_1  \\\n",
       "0       None            None           202       None            None   \n",
       "1       None     196,304,606          None       None            None   \n",
       "2       None         196,197          None       None            None   \n",
       "3       None         142,143          None       None            None   \n",
       "4       None             202          None       None            None   \n",
       "\n",
       "   vendor_id       name  \\\n",
       "0     2344.0  Hollister   \n",
       "1      313.0     Amazon   \n",
       "2      313.0     Amazon   \n",
       "3       50.0       eBay   \n",
       "4      313.0     Amazon   \n",
       "\n",
       "                                                                                                 Image path  \\\n",
       "0                           /mnt/volume-nyc3-01/Dealnews_Images/2022-07-20/Hollister Clearance_20344256.jpg   \n",
       "1  /mnt/volume-nyc3-01/Dealnews_Images/2022-07-20/Vornado Pivot6 Whole Room Air Circulator Fan_20344283.jpg   \n",
       "2                  /mnt/volume-nyc3-01/Dealnews_Images/2022-07-20/Stanley 500-Lumen Work Light_20344280.jpg   \n",
       "3   /mnt/volume-nyc3-01/Dealnews_Images/2022-07-20/JBL Endurance Peak True Wireless Headphones_20344241.jpg   \n",
       "4               /mnt/volume-nyc3-01/Dealnews_Images/2022-07-20/Vcansion Men's Quick Dry Shorts_20344253.jpg   \n",
       "\n",
       "                            API Feed  API id_number        _dt_pulled  \\\n",
       "0  Popularity Rank : Popularity: 5/5           1774  2022-07-20 15:37   \n",
       "1  Popularity Rank : Popularity: 5/5           1774  2022-07-20 15:37   \n",
       "2  Popularity Rank : Popularity: 5/5           1774  2022-07-20 15:37   \n",
       "3  Popularity Rank : Popularity: 4/5           1777  2022-07-20 15:37   \n",
       "4  Popularity Rank : Popularity: 4/5           1777  2022-07-20 15:37   \n",
       "\n",
       "   callout_parse  callout_compare_parse  callout_diff  callout_diff_pct  \\\n",
       "0            NaN                    NaN           NaN               NaN   \n",
       "1          50.00                   80.0         30.00             37.50   \n",
       "2           9.45                   11.0          1.55             14.09   \n",
       "3          30.00                  120.0         90.00             75.00   \n",
       "4          15.00                   30.0         15.00             50.00   \n",
       "\n",
       "         date  \n",
       "0  2022-07-20  \n",
       "1  2022-07-20  \n",
       "2  2022-07-20  \n",
       "3  2022-07-20  \n",
       "4  2022-07-20  "
      ]
     },
     "execution_count": 43,
     "metadata": {},
     "output_type": "execute_result"
    }
   ],
   "source": [
    "items.head()"
   ]
  },
  {
   "cell_type": "code",
   "execution_count": 45,
   "metadata": {},
   "outputs": [],
   "source": [
    "import datetime"
   ]
  },
  {
   "cell_type": "code",
   "execution_count": 53,
   "metadata": {},
   "outputs": [],
   "source": [
    "two_weeks = datetime.datetime.now() - datetime.timedelta(days=6*7)"
   ]
  },
  {
   "cell_type": "code",
   "execution_count": 54,
   "metadata": {},
   "outputs": [
    {
     "name": "stdout",
     "output_type": "stream",
     "text": [
      "Keep 4337 Pct: 8.67\n"
     ]
    }
   ],
   "source": [
    "items_sm = items.drop_duplicates(subset=['headline'])\n",
    "items_sm = items_sm[items_sm['callout_parse'].notnull()]\n",
    "items_sm['publish_time'] = pd.to_datetime(items_sm['publish_datetime_ts'])\n",
    "items_sm = items_sm[items_sm['publish_time'] > two_weeks]\n",
    "print(f\"Keep {items_sm.shape[0]} Pct:\", np.round(100*items_sm.shape[0]/items.shape[0],2))\n"
   ]
  },
  {
   "cell_type": "code",
   "execution_count": 55,
   "metadata": {
    "scrolled": true
   },
   "outputs": [
    {
     "data": {
      "text/html": [
       "<div>\n",
       "<style scoped>\n",
       "    .dataframe tbody tr th:only-of-type {\n",
       "        vertical-align: middle;\n",
       "    }\n",
       "\n",
       "    .dataframe tbody tr th {\n",
       "        vertical-align: top;\n",
       "    }\n",
       "\n",
       "    .dataframe thead th {\n",
       "        text-align: right;\n",
       "    }\n",
       "</style>\n",
       "<table border=\"1\" class=\"dataframe\">\n",
       "  <thead>\n",
       "    <tr style=\"text-align: right;\">\n",
       "      <th></th>\n",
       "      <th>publish_time</th>\n",
       "      <th>Count</th>\n",
       "      <th># w/ $ callout</th>\n",
       "      <th>Avg Callout Price</th>\n",
       "      <th>Avg Callout Pct Diff</th>\n",
       "      <th>DOW</th>\n",
       "      <th>Weekend_flag</th>\n",
       "    </tr>\n",
       "  </thead>\n",
       "  <tbody>\n",
       "    <tr>\n",
       "      <th>0</th>\n",
       "      <td>2022-06-08</td>\n",
       "      <td>3.0</td>\n",
       "      <td>3.0</td>\n",
       "      <td>76.33</td>\n",
       "      <td>64.91</td>\n",
       "      <td>Wednesday</td>\n",
       "      <td>False</td>\n",
       "    </tr>\n",
       "    <tr>\n",
       "      <th>1</th>\n",
       "      <td>2022-06-09</td>\n",
       "      <td>110.0</td>\n",
       "      <td>110.0</td>\n",
       "      <td>150.47</td>\n",
       "      <td>39.36</td>\n",
       "      <td>Thursday</td>\n",
       "      <td>False</td>\n",
       "    </tr>\n",
       "    <tr>\n",
       "      <th>2</th>\n",
       "      <td>2022-06-10</td>\n",
       "      <td>114.0</td>\n",
       "      <td>114.0</td>\n",
       "      <td>90.72</td>\n",
       "      <td>45.56</td>\n",
       "      <td>Friday</td>\n",
       "      <td>False</td>\n",
       "    </tr>\n",
       "    <tr>\n",
       "      <th>3</th>\n",
       "      <td>2022-06-11</td>\n",
       "      <td>26.0</td>\n",
       "      <td>26.0</td>\n",
       "      <td>111.46</td>\n",
       "      <td>38.68</td>\n",
       "      <td>Saturday</td>\n",
       "      <td>True</td>\n",
       "    </tr>\n",
       "    <tr>\n",
       "      <th>4</th>\n",
       "      <td>2022-06-12</td>\n",
       "      <td>31.0</td>\n",
       "      <td>31.0</td>\n",
       "      <td>61.38</td>\n",
       "      <td>39.90</td>\n",
       "      <td>Sunday</td>\n",
       "      <td>True</td>\n",
       "    </tr>\n",
       "    <tr>\n",
       "      <th>5</th>\n",
       "      <td>2022-06-13</td>\n",
       "      <td>135.0</td>\n",
       "      <td>135.0</td>\n",
       "      <td>123.13</td>\n",
       "      <td>41.55</td>\n",
       "      <td>Monday</td>\n",
       "      <td>False</td>\n",
       "    </tr>\n",
       "    <tr>\n",
       "      <th>6</th>\n",
       "      <td>2022-06-14</td>\n",
       "      <td>128.0</td>\n",
       "      <td>128.0</td>\n",
       "      <td>256.05</td>\n",
       "      <td>40.81</td>\n",
       "      <td>Tuesday</td>\n",
       "      <td>False</td>\n",
       "    </tr>\n",
       "    <tr>\n",
       "      <th>7</th>\n",
       "      <td>2022-06-15</td>\n",
       "      <td>129.0</td>\n",
       "      <td>129.0</td>\n",
       "      <td>110.27</td>\n",
       "      <td>42.26</td>\n",
       "      <td>Wednesday</td>\n",
       "      <td>False</td>\n",
       "    </tr>\n",
       "    <tr>\n",
       "      <th>8</th>\n",
       "      <td>2022-06-16</td>\n",
       "      <td>106.0</td>\n",
       "      <td>106.0</td>\n",
       "      <td>108.05</td>\n",
       "      <td>40.86</td>\n",
       "      <td>Thursday</td>\n",
       "      <td>False</td>\n",
       "    </tr>\n",
       "    <tr>\n",
       "      <th>9</th>\n",
       "      <td>2022-06-17</td>\n",
       "      <td>112.0</td>\n",
       "      <td>112.0</td>\n",
       "      <td>121.94</td>\n",
       "      <td>44.10</td>\n",
       "      <td>Friday</td>\n",
       "      <td>False</td>\n",
       "    </tr>\n",
       "    <tr>\n",
       "      <th>10</th>\n",
       "      <td>2022-06-18</td>\n",
       "      <td>31.0</td>\n",
       "      <td>31.0</td>\n",
       "      <td>92.78</td>\n",
       "      <td>46.62</td>\n",
       "      <td>Saturday</td>\n",
       "      <td>True</td>\n",
       "    </tr>\n",
       "    <tr>\n",
       "      <th>11</th>\n",
       "      <td>2022-06-19</td>\n",
       "      <td>36.0</td>\n",
       "      <td>36.0</td>\n",
       "      <td>70.15</td>\n",
       "      <td>39.87</td>\n",
       "      <td>Sunday</td>\n",
       "      <td>True</td>\n",
       "    </tr>\n",
       "    <tr>\n",
       "      <th>12</th>\n",
       "      <td>2022-06-20</td>\n",
       "      <td>171.0</td>\n",
       "      <td>171.0</td>\n",
       "      <td>108.40</td>\n",
       "      <td>41.81</td>\n",
       "      <td>Monday</td>\n",
       "      <td>False</td>\n",
       "    </tr>\n",
       "    <tr>\n",
       "      <th>13</th>\n",
       "      <td>2022-06-21</td>\n",
       "      <td>144.0</td>\n",
       "      <td>144.0</td>\n",
       "      <td>111.10</td>\n",
       "      <td>43.52</td>\n",
       "      <td>Tuesday</td>\n",
       "      <td>False</td>\n",
       "    </tr>\n",
       "    <tr>\n",
       "      <th>14</th>\n",
       "      <td>2022-06-22</td>\n",
       "      <td>141.0</td>\n",
       "      <td>141.0</td>\n",
       "      <td>83.54</td>\n",
       "      <td>42.85</td>\n",
       "      <td>Wednesday</td>\n",
       "      <td>False</td>\n",
       "    </tr>\n",
       "    <tr>\n",
       "      <th>15</th>\n",
       "      <td>2022-06-23</td>\n",
       "      <td>103.0</td>\n",
       "      <td>103.0</td>\n",
       "      <td>138.05</td>\n",
       "      <td>41.77</td>\n",
       "      <td>Thursday</td>\n",
       "      <td>False</td>\n",
       "    </tr>\n",
       "    <tr>\n",
       "      <th>16</th>\n",
       "      <td>2022-06-24</td>\n",
       "      <td>121.0</td>\n",
       "      <td>121.0</td>\n",
       "      <td>103.19</td>\n",
       "      <td>41.16</td>\n",
       "      <td>Friday</td>\n",
       "      <td>False</td>\n",
       "    </tr>\n",
       "    <tr>\n",
       "      <th>17</th>\n",
       "      <td>2022-06-25</td>\n",
       "      <td>26.0</td>\n",
       "      <td>26.0</td>\n",
       "      <td>86.32</td>\n",
       "      <td>47.77</td>\n",
       "      <td>Saturday</td>\n",
       "      <td>True</td>\n",
       "    </tr>\n",
       "    <tr>\n",
       "      <th>18</th>\n",
       "      <td>2022-06-26</td>\n",
       "      <td>36.0</td>\n",
       "      <td>36.0</td>\n",
       "      <td>73.07</td>\n",
       "      <td>44.14</td>\n",
       "      <td>Sunday</td>\n",
       "      <td>True</td>\n",
       "    </tr>\n",
       "    <tr>\n",
       "      <th>19</th>\n",
       "      <td>2022-06-27</td>\n",
       "      <td>176.0</td>\n",
       "      <td>176.0</td>\n",
       "      <td>108.53</td>\n",
       "      <td>40.20</td>\n",
       "      <td>Monday</td>\n",
       "      <td>False</td>\n",
       "    </tr>\n",
       "    <tr>\n",
       "      <th>20</th>\n",
       "      <td>2022-06-28</td>\n",
       "      <td>122.0</td>\n",
       "      <td>122.0</td>\n",
       "      <td>160.49</td>\n",
       "      <td>41.01</td>\n",
       "      <td>Tuesday</td>\n",
       "      <td>False</td>\n",
       "    </tr>\n",
       "    <tr>\n",
       "      <th>21</th>\n",
       "      <td>2022-06-29</td>\n",
       "      <td>131.0</td>\n",
       "      <td>131.0</td>\n",
       "      <td>109.47</td>\n",
       "      <td>43.46</td>\n",
       "      <td>Wednesday</td>\n",
       "      <td>False</td>\n",
       "    </tr>\n",
       "    <tr>\n",
       "      <th>22</th>\n",
       "      <td>2022-06-30</td>\n",
       "      <td>139.0</td>\n",
       "      <td>139.0</td>\n",
       "      <td>83.21</td>\n",
       "      <td>38.94</td>\n",
       "      <td>Thursday</td>\n",
       "      <td>False</td>\n",
       "    </tr>\n",
       "    <tr>\n",
       "      <th>23</th>\n",
       "      <td>2022-07-01</td>\n",
       "      <td>108.0</td>\n",
       "      <td>108.0</td>\n",
       "      <td>80.34</td>\n",
       "      <td>43.04</td>\n",
       "      <td>Friday</td>\n",
       "      <td>False</td>\n",
       "    </tr>\n",
       "    <tr>\n",
       "      <th>24</th>\n",
       "      <td>2022-07-02</td>\n",
       "      <td>25.0</td>\n",
       "      <td>25.0</td>\n",
       "      <td>157.06</td>\n",
       "      <td>41.89</td>\n",
       "      <td>Saturday</td>\n",
       "      <td>True</td>\n",
       "    </tr>\n",
       "    <tr>\n",
       "      <th>25</th>\n",
       "      <td>2022-07-03</td>\n",
       "      <td>59.0</td>\n",
       "      <td>59.0</td>\n",
       "      <td>142.28</td>\n",
       "      <td>39.07</td>\n",
       "      <td>Sunday</td>\n",
       "      <td>True</td>\n",
       "    </tr>\n",
       "    <tr>\n",
       "      <th>26</th>\n",
       "      <td>2022-07-04</td>\n",
       "      <td>162.0</td>\n",
       "      <td>162.0</td>\n",
       "      <td>109.84</td>\n",
       "      <td>41.76</td>\n",
       "      <td>Monday</td>\n",
       "      <td>False</td>\n",
       "    </tr>\n",
       "    <tr>\n",
       "      <th>27</th>\n",
       "      <td>2022-07-05</td>\n",
       "      <td>142.0</td>\n",
       "      <td>142.0</td>\n",
       "      <td>168.67</td>\n",
       "      <td>40.65</td>\n",
       "      <td>Tuesday</td>\n",
       "      <td>False</td>\n",
       "    </tr>\n",
       "    <tr>\n",
       "      <th>28</th>\n",
       "      <td>2022-07-06</td>\n",
       "      <td>138.0</td>\n",
       "      <td>138.0</td>\n",
       "      <td>124.23</td>\n",
       "      <td>44.77</td>\n",
       "      <td>Wednesday</td>\n",
       "      <td>False</td>\n",
       "    </tr>\n",
       "    <tr>\n",
       "      <th>29</th>\n",
       "      <td>2022-07-07</td>\n",
       "      <td>147.0</td>\n",
       "      <td>147.0</td>\n",
       "      <td>107.49</td>\n",
       "      <td>42.36</td>\n",
       "      <td>Thursday</td>\n",
       "      <td>False</td>\n",
       "    </tr>\n",
       "    <tr>\n",
       "      <th>30</th>\n",
       "      <td>2022-07-08</td>\n",
       "      <td>139.0</td>\n",
       "      <td>139.0</td>\n",
       "      <td>115.48</td>\n",
       "      <td>43.44</td>\n",
       "      <td>Friday</td>\n",
       "      <td>False</td>\n",
       "    </tr>\n",
       "    <tr>\n",
       "      <th>31</th>\n",
       "      <td>2022-07-09</td>\n",
       "      <td>26.0</td>\n",
       "      <td>26.0</td>\n",
       "      <td>71.91</td>\n",
       "      <td>41.76</td>\n",
       "      <td>Saturday</td>\n",
       "      <td>True</td>\n",
       "    </tr>\n",
       "    <tr>\n",
       "      <th>32</th>\n",
       "      <td>2022-07-10</td>\n",
       "      <td>35.0</td>\n",
       "      <td>35.0</td>\n",
       "      <td>94.29</td>\n",
       "      <td>46.62</td>\n",
       "      <td>Sunday</td>\n",
       "      <td>True</td>\n",
       "    </tr>\n",
       "    <tr>\n",
       "      <th>33</th>\n",
       "      <td>2022-07-11</td>\n",
       "      <td>163.0</td>\n",
       "      <td>163.0</td>\n",
       "      <td>149.68</td>\n",
       "      <td>41.03</td>\n",
       "      <td>Monday</td>\n",
       "      <td>False</td>\n",
       "    </tr>\n",
       "    <tr>\n",
       "      <th>34</th>\n",
       "      <td>2022-07-12</td>\n",
       "      <td>83.0</td>\n",
       "      <td>83.0</td>\n",
       "      <td>125.81</td>\n",
       "      <td>41.33</td>\n",
       "      <td>Tuesday</td>\n",
       "      <td>False</td>\n",
       "    </tr>\n",
       "    <tr>\n",
       "      <th>35</th>\n",
       "      <td>2022-07-13</td>\n",
       "      <td>70.0</td>\n",
       "      <td>70.0</td>\n",
       "      <td>254.96</td>\n",
       "      <td>39.55</td>\n",
       "      <td>Wednesday</td>\n",
       "      <td>False</td>\n",
       "    </tr>\n",
       "    <tr>\n",
       "      <th>36</th>\n",
       "      <td>2022-07-14</td>\n",
       "      <td>128.0</td>\n",
       "      <td>128.0</td>\n",
       "      <td>139.56</td>\n",
       "      <td>47.98</td>\n",
       "      <td>Thursday</td>\n",
       "      <td>False</td>\n",
       "    </tr>\n",
       "    <tr>\n",
       "      <th>37</th>\n",
       "      <td>2022-07-15</td>\n",
       "      <td>110.0</td>\n",
       "      <td>110.0</td>\n",
       "      <td>142.51</td>\n",
       "      <td>44.81</td>\n",
       "      <td>Friday</td>\n",
       "      <td>False</td>\n",
       "    </tr>\n",
       "    <tr>\n",
       "      <th>38</th>\n",
       "      <td>2022-07-16</td>\n",
       "      <td>40.0</td>\n",
       "      <td>40.0</td>\n",
       "      <td>66.31</td>\n",
       "      <td>48.27</td>\n",
       "      <td>Saturday</td>\n",
       "      <td>True</td>\n",
       "    </tr>\n",
       "    <tr>\n",
       "      <th>39</th>\n",
       "      <td>2022-07-17</td>\n",
       "      <td>43.0</td>\n",
       "      <td>43.0</td>\n",
       "      <td>123.59</td>\n",
       "      <td>50.55</td>\n",
       "      <td>Sunday</td>\n",
       "      <td>True</td>\n",
       "    </tr>\n",
       "    <tr>\n",
       "      <th>40</th>\n",
       "      <td>2022-07-18</td>\n",
       "      <td>132.0</td>\n",
       "      <td>132.0</td>\n",
       "      <td>170.43</td>\n",
       "      <td>43.70</td>\n",
       "      <td>Monday</td>\n",
       "      <td>False</td>\n",
       "    </tr>\n",
       "    <tr>\n",
       "      <th>41</th>\n",
       "      <td>2022-07-19</td>\n",
       "      <td>177.0</td>\n",
       "      <td>177.0</td>\n",
       "      <td>95.80</td>\n",
       "      <td>42.78</td>\n",
       "      <td>Tuesday</td>\n",
       "      <td>False</td>\n",
       "    </tr>\n",
       "    <tr>\n",
       "      <th>42</th>\n",
       "      <td>2022-07-20</td>\n",
       "      <td>139.0</td>\n",
       "      <td>139.0</td>\n",
       "      <td>90.97</td>\n",
       "      <td>48.63</td>\n",
       "      <td>Wednesday</td>\n",
       "      <td>False</td>\n",
       "    </tr>\n",
       "  </tbody>\n",
       "</table>\n",
       "</div>"
      ],
      "text/plain": [
       "   publish_time  Count  # w/ $ callout  Avg Callout Price  \\\n",
       "0    2022-06-08    3.0             3.0              76.33   \n",
       "1    2022-06-09  110.0           110.0             150.47   \n",
       "2    2022-06-10  114.0           114.0              90.72   \n",
       "3    2022-06-11   26.0            26.0             111.46   \n",
       "4    2022-06-12   31.0            31.0              61.38   \n",
       "5    2022-06-13  135.0           135.0             123.13   \n",
       "6    2022-06-14  128.0           128.0             256.05   \n",
       "7    2022-06-15  129.0           129.0             110.27   \n",
       "8    2022-06-16  106.0           106.0             108.05   \n",
       "9    2022-06-17  112.0           112.0             121.94   \n",
       "10   2022-06-18   31.0            31.0              92.78   \n",
       "11   2022-06-19   36.0            36.0              70.15   \n",
       "12   2022-06-20  171.0           171.0             108.40   \n",
       "13   2022-06-21  144.0           144.0             111.10   \n",
       "14   2022-06-22  141.0           141.0              83.54   \n",
       "15   2022-06-23  103.0           103.0             138.05   \n",
       "16   2022-06-24  121.0           121.0             103.19   \n",
       "17   2022-06-25   26.0            26.0              86.32   \n",
       "18   2022-06-26   36.0            36.0              73.07   \n",
       "19   2022-06-27  176.0           176.0             108.53   \n",
       "20   2022-06-28  122.0           122.0             160.49   \n",
       "21   2022-06-29  131.0           131.0             109.47   \n",
       "22   2022-06-30  139.0           139.0              83.21   \n",
       "23   2022-07-01  108.0           108.0              80.34   \n",
       "24   2022-07-02   25.0            25.0             157.06   \n",
       "25   2022-07-03   59.0            59.0             142.28   \n",
       "26   2022-07-04  162.0           162.0             109.84   \n",
       "27   2022-07-05  142.0           142.0             168.67   \n",
       "28   2022-07-06  138.0           138.0             124.23   \n",
       "29   2022-07-07  147.0           147.0             107.49   \n",
       "30   2022-07-08  139.0           139.0             115.48   \n",
       "31   2022-07-09   26.0            26.0              71.91   \n",
       "32   2022-07-10   35.0            35.0              94.29   \n",
       "33   2022-07-11  163.0           163.0             149.68   \n",
       "34   2022-07-12   83.0            83.0             125.81   \n",
       "35   2022-07-13   70.0            70.0             254.96   \n",
       "36   2022-07-14  128.0           128.0             139.56   \n",
       "37   2022-07-15  110.0           110.0             142.51   \n",
       "38   2022-07-16   40.0            40.0              66.31   \n",
       "39   2022-07-17   43.0            43.0             123.59   \n",
       "40   2022-07-18  132.0           132.0             170.43   \n",
       "41   2022-07-19  177.0           177.0              95.80   \n",
       "42   2022-07-20  139.0           139.0              90.97   \n",
       "\n",
       "    Avg Callout Pct Diff        DOW  Weekend_flag  \n",
       "0                  64.91  Wednesday         False  \n",
       "1                  39.36   Thursday         False  \n",
       "2                  45.56     Friday         False  \n",
       "3                  38.68   Saturday          True  \n",
       "4                  39.90     Sunday          True  \n",
       "5                  41.55     Monday         False  \n",
       "6                  40.81    Tuesday         False  \n",
       "7                  42.26  Wednesday         False  \n",
       "8                  40.86   Thursday         False  \n",
       "9                  44.10     Friday         False  \n",
       "10                 46.62   Saturday          True  \n",
       "11                 39.87     Sunday          True  \n",
       "12                 41.81     Monday         False  \n",
       "13                 43.52    Tuesday         False  \n",
       "14                 42.85  Wednesday         False  \n",
       "15                 41.77   Thursday         False  \n",
       "16                 41.16     Friday         False  \n",
       "17                 47.77   Saturday          True  \n",
       "18                 44.14     Sunday          True  \n",
       "19                 40.20     Monday         False  \n",
       "20                 41.01    Tuesday         False  \n",
       "21                 43.46  Wednesday         False  \n",
       "22                 38.94   Thursday         False  \n",
       "23                 43.04     Friday         False  \n",
       "24                 41.89   Saturday          True  \n",
       "25                 39.07     Sunday          True  \n",
       "26                 41.76     Monday         False  \n",
       "27                 40.65    Tuesday         False  \n",
       "28                 44.77  Wednesday         False  \n",
       "29                 42.36   Thursday         False  \n",
       "30                 43.44     Friday         False  \n",
       "31                 41.76   Saturday          True  \n",
       "32                 46.62     Sunday          True  \n",
       "33                 41.03     Monday         False  \n",
       "34                 41.33    Tuesday         False  \n",
       "35                 39.55  Wednesday         False  \n",
       "36                 47.98   Thursday         False  \n",
       "37                 44.81     Friday         False  \n",
       "38                 48.27   Saturday          True  \n",
       "39                 50.55     Sunday          True  \n",
       "40                 43.70     Monday         False  \n",
       "41                 42.78    Tuesday         False  \n",
       "42                 48.63  Wednesday         False  "
      ]
     },
     "execution_count": 55,
     "metadata": {},
     "output_type": "execute_result"
    }
   ],
   "source": [
    "items_sm_time = items_sm.set_index('publish_time') \n",
    "time_gb = items_sm_time.groupby(pd.Grouper(freq='D')).apply(lambda x:api_gb_func(x))\\\n",
    "    .reset_index()\n",
    "time_gb = time_gb[time_gb['Count'] > 0]\\\n",
    "    .sort_values('publish_time')\\\n",
    "    .tail(180) # Last 6  months\n",
    "time_gb['DOW'] = time_gb['publish_time'].dt.day_name()\n",
    "time_gb['Weekend_flag'] = time_gb['DOW'].isin(['Saturday','Sunday'])\n",
    "time_gb"
   ]
  },
  {
   "cell_type": "code",
   "execution_count": 56,
   "metadata": {
    "scrolled": false
   },
   "outputs": [
    {
     "data": {
      "application/vnd.plotly.v1+json": {
       "config": {
        "plotlyServerURL": "https://plot.ly"
       },
       "data": [
        {
         "hovertemplate": "Weekend_flag=False<br>publish_time=%{x}<br>Count=%{y}<extra></extra>",
         "legendgroup": "False",
         "marker": {
          "color": "#636efa",
          "symbol": "circle"
         },
         "mode": "markers",
         "name": "False",
         "orientation": "v",
         "showlegend": true,
         "type": "scatter",
         "x": [
          "2022-06-08T00:00:00",
          "2022-06-09T00:00:00",
          "2022-06-10T00:00:00",
          "2022-06-13T00:00:00",
          "2022-06-14T00:00:00",
          "2022-06-15T00:00:00",
          "2022-06-16T00:00:00",
          "2022-06-17T00:00:00",
          "2022-06-20T00:00:00",
          "2022-06-21T00:00:00",
          "2022-06-22T00:00:00",
          "2022-06-23T00:00:00",
          "2022-06-24T00:00:00",
          "2022-06-27T00:00:00",
          "2022-06-28T00:00:00",
          "2022-06-29T00:00:00",
          "2022-06-30T00:00:00",
          "2022-07-01T00:00:00",
          "2022-07-04T00:00:00",
          "2022-07-05T00:00:00",
          "2022-07-06T00:00:00",
          "2022-07-07T00:00:00",
          "2022-07-08T00:00:00",
          "2022-07-11T00:00:00",
          "2022-07-12T00:00:00",
          "2022-07-13T00:00:00",
          "2022-07-14T00:00:00",
          "2022-07-15T00:00:00",
          "2022-07-18T00:00:00",
          "2022-07-19T00:00:00",
          "2022-07-20T00:00:00"
         ],
         "xaxis": "x",
         "y": [
          3,
          110,
          114,
          135,
          128,
          129,
          106,
          112,
          171,
          144,
          141,
          103,
          121,
          176,
          122,
          131,
          139,
          108,
          162,
          142,
          138,
          147,
          139,
          163,
          83,
          70,
          128,
          110,
          132,
          177,
          139
         ],
         "yaxis": "y"
        },
        {
         "hovertemplate": "<b>OLS trendline</b><br>Count = 8.63807e-06 * publish_time + -14182.1<br>R<sup>2</sup>=0.080110<br><br>Weekend_flag=False<br>publish_time=%{x}<br>Count=%{y} <b>(trend)</b><extra></extra>",
         "legendgroup": "False",
         "marker": {
          "color": "#636efa",
          "symbol": "circle"
         },
         "mode": "lines",
         "name": "False",
         "showlegend": false,
         "type": "scatter",
         "x": [
          "2022-06-08T00:00:00",
          "2022-06-09T00:00:00",
          "2022-06-10T00:00:00",
          "2022-06-13T00:00:00",
          "2022-06-14T00:00:00",
          "2022-06-15T00:00:00",
          "2022-06-16T00:00:00",
          "2022-06-17T00:00:00",
          "2022-06-20T00:00:00",
          "2022-06-21T00:00:00",
          "2022-06-22T00:00:00",
          "2022-06-23T00:00:00",
          "2022-06-24T00:00:00",
          "2022-06-27T00:00:00",
          "2022-06-28T00:00:00",
          "2022-06-29T00:00:00",
          "2022-06-30T00:00:00",
          "2022-07-01T00:00:00",
          "2022-07-04T00:00:00",
          "2022-07-05T00:00:00",
          "2022-07-06T00:00:00",
          "2022-07-07T00:00:00",
          "2022-07-08T00:00:00",
          "2022-07-11T00:00:00",
          "2022-07-12T00:00:00",
          "2022-07-13T00:00:00",
          "2022-07-14T00:00:00",
          "2022-07-15T00:00:00",
          "2022-07-18T00:00:00",
          "2022-07-19T00:00:00",
          "2022-07-20T00:00:00"
         ],
         "xaxis": "x",
         "y": [
          110.87546703153384,
          111.62179655845102,
          112.36812608536638,
          114.60711466611792,
          115.35344419303328,
          116.09977371995046,
          116.84610324686764,
          117.592432773783,
          119.83142135453272,
          120.5777508814499,
          121.32408040836708,
          122.07040993528426,
          122.81673946219962,
          125.05572804294934,
          125.80205756986652,
          126.5483870967837,
          127.29471662370088,
          128.04104615061624,
          130.28003473136596,
          131.02636425828314,
          131.77269378520032,
          132.5190233121175,
          133.26535283903286,
          135.50434141978258,
          136.25067094669976,
          136.99700047361694,
          137.7433300005323,
          138.48965952744948,
          140.7286481081992,
          141.47497763511637,
          142.22130716203355
         ],
         "yaxis": "y"
        },
        {
         "hovertemplate": "Weekend_flag=True<br>publish_time=%{x}<br>Count=%{y}<extra></extra>",
         "legendgroup": "True",
         "marker": {
          "color": "#EF553B",
          "symbol": "circle"
         },
         "mode": "markers",
         "name": "True",
         "orientation": "v",
         "showlegend": true,
         "type": "scatter",
         "x": [
          "2022-06-11T00:00:00",
          "2022-06-12T00:00:00",
          "2022-06-18T00:00:00",
          "2022-06-19T00:00:00",
          "2022-06-25T00:00:00",
          "2022-06-26T00:00:00",
          "2022-07-02T00:00:00",
          "2022-07-03T00:00:00",
          "2022-07-09T00:00:00",
          "2022-07-10T00:00:00",
          "2022-07-16T00:00:00",
          "2022-07-17T00:00:00"
         ],
         "xaxis": "x",
         "y": [
          26,
          31,
          31,
          36,
          26,
          36,
          25,
          59,
          26,
          35,
          40,
          43
         ],
         "yaxis": "y"
        },
        {
         "hovertemplate": "<b>OLS trendline</b><br>Count = 3.38195e-06 * publish_time + -5567.56<br>R<sup>2</sup>=0.141179<br><br>Weekend_flag=True<br>publish_time=%{x}<br>Count=%{y} <b>(trend)</b><extra></extra>",
         "legendgroup": "True",
         "marker": {
          "color": "#EF553B",
          "symbol": "circle"
         },
         "mode": "lines",
         "name": "True",
         "showlegend": false,
         "type": "scatter",
         "x": [
          "2022-06-11T00:00:00",
          "2022-06-12T00:00:00",
          "2022-06-18T00:00:00",
          "2022-06-19T00:00:00",
          "2022-06-25T00:00:00",
          "2022-06-26T00:00:00",
          "2022-07-02T00:00:00",
          "2022-07-03T00:00:00",
          "2022-07-09T00:00:00",
          "2022-07-10T00:00:00",
          "2022-07-16T00:00:00",
          "2022-07-17T00:00:00"
         ],
         "xaxis": "x",
         "y": [
          29.240395809079928,
          29.53259604190862,
          31.285797438882582,
          31.577997671711273,
          33.33119906868433,
          33.62339930151393,
          35.37660069848698,
          35.66880093131567,
          37.42200232828873,
          37.71420256111833,
          39.46740395809138,
          39.75960419092007
         ],
         "yaxis": "y"
        }
       ],
       "layout": {
        "legend": {
         "title": {
          "text": "Weekend_flag"
         },
         "tracegroupgap": 0
        },
        "margin": {
         "t": 60
        },
        "template": {
         "data": {
          "bar": [
           {
            "error_x": {
             "color": "#2a3f5f"
            },
            "error_y": {
             "color": "#2a3f5f"
            },
            "marker": {
             "line": {
              "color": "#E5ECF6",
              "width": 0.5
             },
             "pattern": {
              "fillmode": "overlay",
              "size": 10,
              "solidity": 0.2
             }
            },
            "type": "bar"
           }
          ],
          "barpolar": [
           {
            "marker": {
             "line": {
              "color": "#E5ECF6",
              "width": 0.5
             },
             "pattern": {
              "fillmode": "overlay",
              "size": 10,
              "solidity": 0.2
             }
            },
            "type": "barpolar"
           }
          ],
          "carpet": [
           {
            "aaxis": {
             "endlinecolor": "#2a3f5f",
             "gridcolor": "white",
             "linecolor": "white",
             "minorgridcolor": "white",
             "startlinecolor": "#2a3f5f"
            },
            "baxis": {
             "endlinecolor": "#2a3f5f",
             "gridcolor": "white",
             "linecolor": "white",
             "minorgridcolor": "white",
             "startlinecolor": "#2a3f5f"
            },
            "type": "carpet"
           }
          ],
          "choropleth": [
           {
            "colorbar": {
             "outlinewidth": 0,
             "ticks": ""
            },
            "type": "choropleth"
           }
          ],
          "contour": [
           {
            "colorbar": {
             "outlinewidth": 0,
             "ticks": ""
            },
            "colorscale": [
             [
              0,
              "#0d0887"
             ],
             [
              0.1111111111111111,
              "#46039f"
             ],
             [
              0.2222222222222222,
              "#7201a8"
             ],
             [
              0.3333333333333333,
              "#9c179e"
             ],
             [
              0.4444444444444444,
              "#bd3786"
             ],
             [
              0.5555555555555556,
              "#d8576b"
             ],
             [
              0.6666666666666666,
              "#ed7953"
             ],
             [
              0.7777777777777778,
              "#fb9f3a"
             ],
             [
              0.8888888888888888,
              "#fdca26"
             ],
             [
              1,
              "#f0f921"
             ]
            ],
            "type": "contour"
           }
          ],
          "contourcarpet": [
           {
            "colorbar": {
             "outlinewidth": 0,
             "ticks": ""
            },
            "type": "contourcarpet"
           }
          ],
          "heatmap": [
           {
            "colorbar": {
             "outlinewidth": 0,
             "ticks": ""
            },
            "colorscale": [
             [
              0,
              "#0d0887"
             ],
             [
              0.1111111111111111,
              "#46039f"
             ],
             [
              0.2222222222222222,
              "#7201a8"
             ],
             [
              0.3333333333333333,
              "#9c179e"
             ],
             [
              0.4444444444444444,
              "#bd3786"
             ],
             [
              0.5555555555555556,
              "#d8576b"
             ],
             [
              0.6666666666666666,
              "#ed7953"
             ],
             [
              0.7777777777777778,
              "#fb9f3a"
             ],
             [
              0.8888888888888888,
              "#fdca26"
             ],
             [
              1,
              "#f0f921"
             ]
            ],
            "type": "heatmap"
           }
          ],
          "heatmapgl": [
           {
            "colorbar": {
             "outlinewidth": 0,
             "ticks": ""
            },
            "colorscale": [
             [
              0,
              "#0d0887"
             ],
             [
              0.1111111111111111,
              "#46039f"
             ],
             [
              0.2222222222222222,
              "#7201a8"
             ],
             [
              0.3333333333333333,
              "#9c179e"
             ],
             [
              0.4444444444444444,
              "#bd3786"
             ],
             [
              0.5555555555555556,
              "#d8576b"
             ],
             [
              0.6666666666666666,
              "#ed7953"
             ],
             [
              0.7777777777777778,
              "#fb9f3a"
             ],
             [
              0.8888888888888888,
              "#fdca26"
             ],
             [
              1,
              "#f0f921"
             ]
            ],
            "type": "heatmapgl"
           }
          ],
          "histogram": [
           {
            "marker": {
             "pattern": {
              "fillmode": "overlay",
              "size": 10,
              "solidity": 0.2
             }
            },
            "type": "histogram"
           }
          ],
          "histogram2d": [
           {
            "colorbar": {
             "outlinewidth": 0,
             "ticks": ""
            },
            "colorscale": [
             [
              0,
              "#0d0887"
             ],
             [
              0.1111111111111111,
              "#46039f"
             ],
             [
              0.2222222222222222,
              "#7201a8"
             ],
             [
              0.3333333333333333,
              "#9c179e"
             ],
             [
              0.4444444444444444,
              "#bd3786"
             ],
             [
              0.5555555555555556,
              "#d8576b"
             ],
             [
              0.6666666666666666,
              "#ed7953"
             ],
             [
              0.7777777777777778,
              "#fb9f3a"
             ],
             [
              0.8888888888888888,
              "#fdca26"
             ],
             [
              1,
              "#f0f921"
             ]
            ],
            "type": "histogram2d"
           }
          ],
          "histogram2dcontour": [
           {
            "colorbar": {
             "outlinewidth": 0,
             "ticks": ""
            },
            "colorscale": [
             [
              0,
              "#0d0887"
             ],
             [
              0.1111111111111111,
              "#46039f"
             ],
             [
              0.2222222222222222,
              "#7201a8"
             ],
             [
              0.3333333333333333,
              "#9c179e"
             ],
             [
              0.4444444444444444,
              "#bd3786"
             ],
             [
              0.5555555555555556,
              "#d8576b"
             ],
             [
              0.6666666666666666,
              "#ed7953"
             ],
             [
              0.7777777777777778,
              "#fb9f3a"
             ],
             [
              0.8888888888888888,
              "#fdca26"
             ],
             [
              1,
              "#f0f921"
             ]
            ],
            "type": "histogram2dcontour"
           }
          ],
          "mesh3d": [
           {
            "colorbar": {
             "outlinewidth": 0,
             "ticks": ""
            },
            "type": "mesh3d"
           }
          ],
          "parcoords": [
           {
            "line": {
             "colorbar": {
              "outlinewidth": 0,
              "ticks": ""
             }
            },
            "type": "parcoords"
           }
          ],
          "pie": [
           {
            "automargin": true,
            "type": "pie"
           }
          ],
          "scatter": [
           {
            "marker": {
             "colorbar": {
              "outlinewidth": 0,
              "ticks": ""
             }
            },
            "type": "scatter"
           }
          ],
          "scatter3d": [
           {
            "line": {
             "colorbar": {
              "outlinewidth": 0,
              "ticks": ""
             }
            },
            "marker": {
             "colorbar": {
              "outlinewidth": 0,
              "ticks": ""
             }
            },
            "type": "scatter3d"
           }
          ],
          "scattercarpet": [
           {
            "marker": {
             "colorbar": {
              "outlinewidth": 0,
              "ticks": ""
             }
            },
            "type": "scattercarpet"
           }
          ],
          "scattergeo": [
           {
            "marker": {
             "colorbar": {
              "outlinewidth": 0,
              "ticks": ""
             }
            },
            "type": "scattergeo"
           }
          ],
          "scattergl": [
           {
            "marker": {
             "colorbar": {
              "outlinewidth": 0,
              "ticks": ""
             }
            },
            "type": "scattergl"
           }
          ],
          "scattermapbox": [
           {
            "marker": {
             "colorbar": {
              "outlinewidth": 0,
              "ticks": ""
             }
            },
            "type": "scattermapbox"
           }
          ],
          "scatterpolar": [
           {
            "marker": {
             "colorbar": {
              "outlinewidth": 0,
              "ticks": ""
             }
            },
            "type": "scatterpolar"
           }
          ],
          "scatterpolargl": [
           {
            "marker": {
             "colorbar": {
              "outlinewidth": 0,
              "ticks": ""
             }
            },
            "type": "scatterpolargl"
           }
          ],
          "scatterternary": [
           {
            "marker": {
             "colorbar": {
              "outlinewidth": 0,
              "ticks": ""
             }
            },
            "type": "scatterternary"
           }
          ],
          "surface": [
           {
            "colorbar": {
             "outlinewidth": 0,
             "ticks": ""
            },
            "colorscale": [
             [
              0,
              "#0d0887"
             ],
             [
              0.1111111111111111,
              "#46039f"
             ],
             [
              0.2222222222222222,
              "#7201a8"
             ],
             [
              0.3333333333333333,
              "#9c179e"
             ],
             [
              0.4444444444444444,
              "#bd3786"
             ],
             [
              0.5555555555555556,
              "#d8576b"
             ],
             [
              0.6666666666666666,
              "#ed7953"
             ],
             [
              0.7777777777777778,
              "#fb9f3a"
             ],
             [
              0.8888888888888888,
              "#fdca26"
             ],
             [
              1,
              "#f0f921"
             ]
            ],
            "type": "surface"
           }
          ],
          "table": [
           {
            "cells": {
             "fill": {
              "color": "#EBF0F8"
             },
             "line": {
              "color": "white"
             }
            },
            "header": {
             "fill": {
              "color": "#C8D4E3"
             },
             "line": {
              "color": "white"
             }
            },
            "type": "table"
           }
          ]
         },
         "layout": {
          "annotationdefaults": {
           "arrowcolor": "#2a3f5f",
           "arrowhead": 0,
           "arrowwidth": 1
          },
          "autotypenumbers": "strict",
          "coloraxis": {
           "colorbar": {
            "outlinewidth": 0,
            "ticks": ""
           }
          },
          "colorscale": {
           "diverging": [
            [
             0,
             "#8e0152"
            ],
            [
             0.1,
             "#c51b7d"
            ],
            [
             0.2,
             "#de77ae"
            ],
            [
             0.3,
             "#f1b6da"
            ],
            [
             0.4,
             "#fde0ef"
            ],
            [
             0.5,
             "#f7f7f7"
            ],
            [
             0.6,
             "#e6f5d0"
            ],
            [
             0.7,
             "#b8e186"
            ],
            [
             0.8,
             "#7fbc41"
            ],
            [
             0.9,
             "#4d9221"
            ],
            [
             1,
             "#276419"
            ]
           ],
           "sequential": [
            [
             0,
             "#0d0887"
            ],
            [
             0.1111111111111111,
             "#46039f"
            ],
            [
             0.2222222222222222,
             "#7201a8"
            ],
            [
             0.3333333333333333,
             "#9c179e"
            ],
            [
             0.4444444444444444,
             "#bd3786"
            ],
            [
             0.5555555555555556,
             "#d8576b"
            ],
            [
             0.6666666666666666,
             "#ed7953"
            ],
            [
             0.7777777777777778,
             "#fb9f3a"
            ],
            [
             0.8888888888888888,
             "#fdca26"
            ],
            [
             1,
             "#f0f921"
            ]
           ],
           "sequentialminus": [
            [
             0,
             "#0d0887"
            ],
            [
             0.1111111111111111,
             "#46039f"
            ],
            [
             0.2222222222222222,
             "#7201a8"
            ],
            [
             0.3333333333333333,
             "#9c179e"
            ],
            [
             0.4444444444444444,
             "#bd3786"
            ],
            [
             0.5555555555555556,
             "#d8576b"
            ],
            [
             0.6666666666666666,
             "#ed7953"
            ],
            [
             0.7777777777777778,
             "#fb9f3a"
            ],
            [
             0.8888888888888888,
             "#fdca26"
            ],
            [
             1,
             "#f0f921"
            ]
           ]
          },
          "colorway": [
           "#636efa",
           "#EF553B",
           "#00cc96",
           "#ab63fa",
           "#FFA15A",
           "#19d3f3",
           "#FF6692",
           "#B6E880",
           "#FF97FF",
           "#FECB52"
          ],
          "font": {
           "color": "#2a3f5f"
          },
          "geo": {
           "bgcolor": "white",
           "lakecolor": "white",
           "landcolor": "#E5ECF6",
           "showlakes": true,
           "showland": true,
           "subunitcolor": "white"
          },
          "hoverlabel": {
           "align": "left"
          },
          "hovermode": "closest",
          "mapbox": {
           "style": "light"
          },
          "paper_bgcolor": "white",
          "plot_bgcolor": "#E5ECF6",
          "polar": {
           "angularaxis": {
            "gridcolor": "white",
            "linecolor": "white",
            "ticks": ""
           },
           "bgcolor": "#E5ECF6",
           "radialaxis": {
            "gridcolor": "white",
            "linecolor": "white",
            "ticks": ""
           }
          },
          "scene": {
           "xaxis": {
            "backgroundcolor": "#E5ECF6",
            "gridcolor": "white",
            "gridwidth": 2,
            "linecolor": "white",
            "showbackground": true,
            "ticks": "",
            "zerolinecolor": "white"
           },
           "yaxis": {
            "backgroundcolor": "#E5ECF6",
            "gridcolor": "white",
            "gridwidth": 2,
            "linecolor": "white",
            "showbackground": true,
            "ticks": "",
            "zerolinecolor": "white"
           },
           "zaxis": {
            "backgroundcolor": "#E5ECF6",
            "gridcolor": "white",
            "gridwidth": 2,
            "linecolor": "white",
            "showbackground": true,
            "ticks": "",
            "zerolinecolor": "white"
           }
          },
          "shapedefaults": {
           "line": {
            "color": "#2a3f5f"
           }
          },
          "ternary": {
           "aaxis": {
            "gridcolor": "white",
            "linecolor": "white",
            "ticks": ""
           },
           "baxis": {
            "gridcolor": "white",
            "linecolor": "white",
            "ticks": ""
           },
           "bgcolor": "#E5ECF6",
           "caxis": {
            "gridcolor": "white",
            "linecolor": "white",
            "ticks": ""
           }
          },
          "title": {
           "x": 0.05
          },
          "xaxis": {
           "automargin": true,
           "gridcolor": "white",
           "linecolor": "white",
           "ticks": "",
           "title": {
            "standoff": 15
           },
           "zerolinecolor": "white",
           "zerolinewidth": 2
          },
          "yaxis": {
           "automargin": true,
           "gridcolor": "white",
           "linecolor": "white",
           "ticks": "",
           "title": {
            "standoff": 15
           },
           "zerolinecolor": "white",
           "zerolinewidth": 2
          }
         }
        },
        "xaxis": {
         "anchor": "y",
         "domain": [
          0,
          1
         ],
         "title": {
          "text": "publish_time"
         }
        },
        "yaxis": {
         "anchor": "x",
         "domain": [
          0,
          1
         ],
         "title": {
          "text": "Count"
         }
        }
       }
      },
      "text/html": [
       "<div>                            <div id=\"95839e42-7981-41df-90ec-0691fb31c27b\" class=\"plotly-graph-div\" style=\"height:525px; width:100%;\"></div>            <script type=\"text/javascript\">                require([\"plotly\"], function(Plotly) {                    window.PLOTLYENV=window.PLOTLYENV || {};                                    if (document.getElementById(\"95839e42-7981-41df-90ec-0691fb31c27b\")) {                    Plotly.newPlot(                        \"95839e42-7981-41df-90ec-0691fb31c27b\",                        [{\"hovertemplate\":\"Weekend_flag=False<br>publish_time=%{x}<br>Count=%{y}<extra></extra>\",\"legendgroup\":\"False\",\"marker\":{\"color\":\"#636efa\",\"symbol\":\"circle\"},\"mode\":\"markers\",\"name\":\"False\",\"orientation\":\"v\",\"showlegend\":true,\"x\":[\"2022-06-08T00:00:00\",\"2022-06-09T00:00:00\",\"2022-06-10T00:00:00\",\"2022-06-13T00:00:00\",\"2022-06-14T00:00:00\",\"2022-06-15T00:00:00\",\"2022-06-16T00:00:00\",\"2022-06-17T00:00:00\",\"2022-06-20T00:00:00\",\"2022-06-21T00:00:00\",\"2022-06-22T00:00:00\",\"2022-06-23T00:00:00\",\"2022-06-24T00:00:00\",\"2022-06-27T00:00:00\",\"2022-06-28T00:00:00\",\"2022-06-29T00:00:00\",\"2022-06-30T00:00:00\",\"2022-07-01T00:00:00\",\"2022-07-04T00:00:00\",\"2022-07-05T00:00:00\",\"2022-07-06T00:00:00\",\"2022-07-07T00:00:00\",\"2022-07-08T00:00:00\",\"2022-07-11T00:00:00\",\"2022-07-12T00:00:00\",\"2022-07-13T00:00:00\",\"2022-07-14T00:00:00\",\"2022-07-15T00:00:00\",\"2022-07-18T00:00:00\",\"2022-07-19T00:00:00\",\"2022-07-20T00:00:00\"],\"xaxis\":\"x\",\"y\":[3.0,110.0,114.0,135.0,128.0,129.0,106.0,112.0,171.0,144.0,141.0,103.0,121.0,176.0,122.0,131.0,139.0,108.0,162.0,142.0,138.0,147.0,139.0,163.0,83.0,70.0,128.0,110.0,132.0,177.0,139.0],\"yaxis\":\"y\",\"type\":\"scatter\"},{\"hovertemplate\":\"<b>OLS trendline</b><br>Count = 8.63807e-06 * publish_time + -14182.1<br>R<sup>2</sup>=0.080110<br><br>Weekend_flag=False<br>publish_time=%{x}<br>Count=%{y} <b>(trend)</b><extra></extra>\",\"legendgroup\":\"False\",\"marker\":{\"color\":\"#636efa\",\"symbol\":\"circle\"},\"mode\":\"lines\",\"name\":\"False\",\"showlegend\":false,\"x\":[\"2022-06-08T00:00:00\",\"2022-06-09T00:00:00\",\"2022-06-10T00:00:00\",\"2022-06-13T00:00:00\",\"2022-06-14T00:00:00\",\"2022-06-15T00:00:00\",\"2022-06-16T00:00:00\",\"2022-06-17T00:00:00\",\"2022-06-20T00:00:00\",\"2022-06-21T00:00:00\",\"2022-06-22T00:00:00\",\"2022-06-23T00:00:00\",\"2022-06-24T00:00:00\",\"2022-06-27T00:00:00\",\"2022-06-28T00:00:00\",\"2022-06-29T00:00:00\",\"2022-06-30T00:00:00\",\"2022-07-01T00:00:00\",\"2022-07-04T00:00:00\",\"2022-07-05T00:00:00\",\"2022-07-06T00:00:00\",\"2022-07-07T00:00:00\",\"2022-07-08T00:00:00\",\"2022-07-11T00:00:00\",\"2022-07-12T00:00:00\",\"2022-07-13T00:00:00\",\"2022-07-14T00:00:00\",\"2022-07-15T00:00:00\",\"2022-07-18T00:00:00\",\"2022-07-19T00:00:00\",\"2022-07-20T00:00:00\"],\"xaxis\":\"x\",\"y\":[110.87546703153384,111.62179655845102,112.36812608536638,114.60711466611792,115.35344419303328,116.09977371995046,116.84610324686764,117.592432773783,119.83142135453272,120.5777508814499,121.32408040836708,122.07040993528426,122.81673946219962,125.05572804294934,125.80205756986652,126.5483870967837,127.29471662370088,128.04104615061624,130.28003473136596,131.02636425828314,131.77269378520032,132.5190233121175,133.26535283903286,135.50434141978258,136.25067094669976,136.99700047361694,137.7433300005323,138.48965952744948,140.7286481081992,141.47497763511637,142.22130716203355],\"yaxis\":\"y\",\"type\":\"scatter\"},{\"hovertemplate\":\"Weekend_flag=True<br>publish_time=%{x}<br>Count=%{y}<extra></extra>\",\"legendgroup\":\"True\",\"marker\":{\"color\":\"#EF553B\",\"symbol\":\"circle\"},\"mode\":\"markers\",\"name\":\"True\",\"orientation\":\"v\",\"showlegend\":true,\"x\":[\"2022-06-11T00:00:00\",\"2022-06-12T00:00:00\",\"2022-06-18T00:00:00\",\"2022-06-19T00:00:00\",\"2022-06-25T00:00:00\",\"2022-06-26T00:00:00\",\"2022-07-02T00:00:00\",\"2022-07-03T00:00:00\",\"2022-07-09T00:00:00\",\"2022-07-10T00:00:00\",\"2022-07-16T00:00:00\",\"2022-07-17T00:00:00\"],\"xaxis\":\"x\",\"y\":[26.0,31.0,31.0,36.0,26.0,36.0,25.0,59.0,26.0,35.0,40.0,43.0],\"yaxis\":\"y\",\"type\":\"scatter\"},{\"hovertemplate\":\"<b>OLS trendline</b><br>Count = 3.38195e-06 * publish_time + -5567.56<br>R<sup>2</sup>=0.141179<br><br>Weekend_flag=True<br>publish_time=%{x}<br>Count=%{y} <b>(trend)</b><extra></extra>\",\"legendgroup\":\"True\",\"marker\":{\"color\":\"#EF553B\",\"symbol\":\"circle\"},\"mode\":\"lines\",\"name\":\"True\",\"showlegend\":false,\"x\":[\"2022-06-11T00:00:00\",\"2022-06-12T00:00:00\",\"2022-06-18T00:00:00\",\"2022-06-19T00:00:00\",\"2022-06-25T00:00:00\",\"2022-06-26T00:00:00\",\"2022-07-02T00:00:00\",\"2022-07-03T00:00:00\",\"2022-07-09T00:00:00\",\"2022-07-10T00:00:00\",\"2022-07-16T00:00:00\",\"2022-07-17T00:00:00\"],\"xaxis\":\"x\",\"y\":[29.240395809079928,29.53259604190862,31.285797438882582,31.577997671711273,33.33119906868433,33.62339930151393,35.37660069848698,35.66880093131567,37.42200232828873,37.71420256111833,39.46740395809138,39.75960419092007],\"yaxis\":\"y\",\"type\":\"scatter\"}],                        {\"template\":{\"data\":{\"bar\":[{\"error_x\":{\"color\":\"#2a3f5f\"},\"error_y\":{\"color\":\"#2a3f5f\"},\"marker\":{\"line\":{\"color\":\"#E5ECF6\",\"width\":0.5},\"pattern\":{\"fillmode\":\"overlay\",\"size\":10,\"solidity\":0.2}},\"type\":\"bar\"}],\"barpolar\":[{\"marker\":{\"line\":{\"color\":\"#E5ECF6\",\"width\":0.5},\"pattern\":{\"fillmode\":\"overlay\",\"size\":10,\"solidity\":0.2}},\"type\":\"barpolar\"}],\"carpet\":[{\"aaxis\":{\"endlinecolor\":\"#2a3f5f\",\"gridcolor\":\"white\",\"linecolor\":\"white\",\"minorgridcolor\":\"white\",\"startlinecolor\":\"#2a3f5f\"},\"baxis\":{\"endlinecolor\":\"#2a3f5f\",\"gridcolor\":\"white\",\"linecolor\":\"white\",\"minorgridcolor\":\"white\",\"startlinecolor\":\"#2a3f5f\"},\"type\":\"carpet\"}],\"choropleth\":[{\"colorbar\":{\"outlinewidth\":0,\"ticks\":\"\"},\"type\":\"choropleth\"}],\"contour\":[{\"colorbar\":{\"outlinewidth\":0,\"ticks\":\"\"},\"colorscale\":[[0.0,\"#0d0887\"],[0.1111111111111111,\"#46039f\"],[0.2222222222222222,\"#7201a8\"],[0.3333333333333333,\"#9c179e\"],[0.4444444444444444,\"#bd3786\"],[0.5555555555555556,\"#d8576b\"],[0.6666666666666666,\"#ed7953\"],[0.7777777777777778,\"#fb9f3a\"],[0.8888888888888888,\"#fdca26\"],[1.0,\"#f0f921\"]],\"type\":\"contour\"}],\"contourcarpet\":[{\"colorbar\":{\"outlinewidth\":0,\"ticks\":\"\"},\"type\":\"contourcarpet\"}],\"heatmap\":[{\"colorbar\":{\"outlinewidth\":0,\"ticks\":\"\"},\"colorscale\":[[0.0,\"#0d0887\"],[0.1111111111111111,\"#46039f\"],[0.2222222222222222,\"#7201a8\"],[0.3333333333333333,\"#9c179e\"],[0.4444444444444444,\"#bd3786\"],[0.5555555555555556,\"#d8576b\"],[0.6666666666666666,\"#ed7953\"],[0.7777777777777778,\"#fb9f3a\"],[0.8888888888888888,\"#fdca26\"],[1.0,\"#f0f921\"]],\"type\":\"heatmap\"}],\"heatmapgl\":[{\"colorbar\":{\"outlinewidth\":0,\"ticks\":\"\"},\"colorscale\":[[0.0,\"#0d0887\"],[0.1111111111111111,\"#46039f\"],[0.2222222222222222,\"#7201a8\"],[0.3333333333333333,\"#9c179e\"],[0.4444444444444444,\"#bd3786\"],[0.5555555555555556,\"#d8576b\"],[0.6666666666666666,\"#ed7953\"],[0.7777777777777778,\"#fb9f3a\"],[0.8888888888888888,\"#fdca26\"],[1.0,\"#f0f921\"]],\"type\":\"heatmapgl\"}],\"histogram\":[{\"marker\":{\"pattern\":{\"fillmode\":\"overlay\",\"size\":10,\"solidity\":0.2}},\"type\":\"histogram\"}],\"histogram2d\":[{\"colorbar\":{\"outlinewidth\":0,\"ticks\":\"\"},\"colorscale\":[[0.0,\"#0d0887\"],[0.1111111111111111,\"#46039f\"],[0.2222222222222222,\"#7201a8\"],[0.3333333333333333,\"#9c179e\"],[0.4444444444444444,\"#bd3786\"],[0.5555555555555556,\"#d8576b\"],[0.6666666666666666,\"#ed7953\"],[0.7777777777777778,\"#fb9f3a\"],[0.8888888888888888,\"#fdca26\"],[1.0,\"#f0f921\"]],\"type\":\"histogram2d\"}],\"histogram2dcontour\":[{\"colorbar\":{\"outlinewidth\":0,\"ticks\":\"\"},\"colorscale\":[[0.0,\"#0d0887\"],[0.1111111111111111,\"#46039f\"],[0.2222222222222222,\"#7201a8\"],[0.3333333333333333,\"#9c179e\"],[0.4444444444444444,\"#bd3786\"],[0.5555555555555556,\"#d8576b\"],[0.6666666666666666,\"#ed7953\"],[0.7777777777777778,\"#fb9f3a\"],[0.8888888888888888,\"#fdca26\"],[1.0,\"#f0f921\"]],\"type\":\"histogram2dcontour\"}],\"mesh3d\":[{\"colorbar\":{\"outlinewidth\":0,\"ticks\":\"\"},\"type\":\"mesh3d\"}],\"parcoords\":[{\"line\":{\"colorbar\":{\"outlinewidth\":0,\"ticks\":\"\"}},\"type\":\"parcoords\"}],\"pie\":[{\"automargin\":true,\"type\":\"pie\"}],\"scatter\":[{\"marker\":{\"colorbar\":{\"outlinewidth\":0,\"ticks\":\"\"}},\"type\":\"scatter\"}],\"scatter3d\":[{\"line\":{\"colorbar\":{\"outlinewidth\":0,\"ticks\":\"\"}},\"marker\":{\"colorbar\":{\"outlinewidth\":0,\"ticks\":\"\"}},\"type\":\"scatter3d\"}],\"scattercarpet\":[{\"marker\":{\"colorbar\":{\"outlinewidth\":0,\"ticks\":\"\"}},\"type\":\"scattercarpet\"}],\"scattergeo\":[{\"marker\":{\"colorbar\":{\"outlinewidth\":0,\"ticks\":\"\"}},\"type\":\"scattergeo\"}],\"scattergl\":[{\"marker\":{\"colorbar\":{\"outlinewidth\":0,\"ticks\":\"\"}},\"type\":\"scattergl\"}],\"scattermapbox\":[{\"marker\":{\"colorbar\":{\"outlinewidth\":0,\"ticks\":\"\"}},\"type\":\"scattermapbox\"}],\"scatterpolar\":[{\"marker\":{\"colorbar\":{\"outlinewidth\":0,\"ticks\":\"\"}},\"type\":\"scatterpolar\"}],\"scatterpolargl\":[{\"marker\":{\"colorbar\":{\"outlinewidth\":0,\"ticks\":\"\"}},\"type\":\"scatterpolargl\"}],\"scatterternary\":[{\"marker\":{\"colorbar\":{\"outlinewidth\":0,\"ticks\":\"\"}},\"type\":\"scatterternary\"}],\"surface\":[{\"colorbar\":{\"outlinewidth\":0,\"ticks\":\"\"},\"colorscale\":[[0.0,\"#0d0887\"],[0.1111111111111111,\"#46039f\"],[0.2222222222222222,\"#7201a8\"],[0.3333333333333333,\"#9c179e\"],[0.4444444444444444,\"#bd3786\"],[0.5555555555555556,\"#d8576b\"],[0.6666666666666666,\"#ed7953\"],[0.7777777777777778,\"#fb9f3a\"],[0.8888888888888888,\"#fdca26\"],[1.0,\"#f0f921\"]],\"type\":\"surface\"}],\"table\":[{\"cells\":{\"fill\":{\"color\":\"#EBF0F8\"},\"line\":{\"color\":\"white\"}},\"header\":{\"fill\":{\"color\":\"#C8D4E3\"},\"line\":{\"color\":\"white\"}},\"type\":\"table\"}]},\"layout\":{\"annotationdefaults\":{\"arrowcolor\":\"#2a3f5f\",\"arrowhead\":0,\"arrowwidth\":1},\"autotypenumbers\":\"strict\",\"coloraxis\":{\"colorbar\":{\"outlinewidth\":0,\"ticks\":\"\"}},\"colorscale\":{\"diverging\":[[0,\"#8e0152\"],[0.1,\"#c51b7d\"],[0.2,\"#de77ae\"],[0.3,\"#f1b6da\"],[0.4,\"#fde0ef\"],[0.5,\"#f7f7f7\"],[0.6,\"#e6f5d0\"],[0.7,\"#b8e186\"],[0.8,\"#7fbc41\"],[0.9,\"#4d9221\"],[1,\"#276419\"]],\"sequential\":[[0.0,\"#0d0887\"],[0.1111111111111111,\"#46039f\"],[0.2222222222222222,\"#7201a8\"],[0.3333333333333333,\"#9c179e\"],[0.4444444444444444,\"#bd3786\"],[0.5555555555555556,\"#d8576b\"],[0.6666666666666666,\"#ed7953\"],[0.7777777777777778,\"#fb9f3a\"],[0.8888888888888888,\"#fdca26\"],[1.0,\"#f0f921\"]],\"sequentialminus\":[[0.0,\"#0d0887\"],[0.1111111111111111,\"#46039f\"],[0.2222222222222222,\"#7201a8\"],[0.3333333333333333,\"#9c179e\"],[0.4444444444444444,\"#bd3786\"],[0.5555555555555556,\"#d8576b\"],[0.6666666666666666,\"#ed7953\"],[0.7777777777777778,\"#fb9f3a\"],[0.8888888888888888,\"#fdca26\"],[1.0,\"#f0f921\"]]},\"colorway\":[\"#636efa\",\"#EF553B\",\"#00cc96\",\"#ab63fa\",\"#FFA15A\",\"#19d3f3\",\"#FF6692\",\"#B6E880\",\"#FF97FF\",\"#FECB52\"],\"font\":{\"color\":\"#2a3f5f\"},\"geo\":{\"bgcolor\":\"white\",\"lakecolor\":\"white\",\"landcolor\":\"#E5ECF6\",\"showlakes\":true,\"showland\":true,\"subunitcolor\":\"white\"},\"hoverlabel\":{\"align\":\"left\"},\"hovermode\":\"closest\",\"mapbox\":{\"style\":\"light\"},\"paper_bgcolor\":\"white\",\"plot_bgcolor\":\"#E5ECF6\",\"polar\":{\"angularaxis\":{\"gridcolor\":\"white\",\"linecolor\":\"white\",\"ticks\":\"\"},\"bgcolor\":\"#E5ECF6\",\"radialaxis\":{\"gridcolor\":\"white\",\"linecolor\":\"white\",\"ticks\":\"\"}},\"scene\":{\"xaxis\":{\"backgroundcolor\":\"#E5ECF6\",\"gridcolor\":\"white\",\"gridwidth\":2,\"linecolor\":\"white\",\"showbackground\":true,\"ticks\":\"\",\"zerolinecolor\":\"white\"},\"yaxis\":{\"backgroundcolor\":\"#E5ECF6\",\"gridcolor\":\"white\",\"gridwidth\":2,\"linecolor\":\"white\",\"showbackground\":true,\"ticks\":\"\",\"zerolinecolor\":\"white\"},\"zaxis\":{\"backgroundcolor\":\"#E5ECF6\",\"gridcolor\":\"white\",\"gridwidth\":2,\"linecolor\":\"white\",\"showbackground\":true,\"ticks\":\"\",\"zerolinecolor\":\"white\"}},\"shapedefaults\":{\"line\":{\"color\":\"#2a3f5f\"}},\"ternary\":{\"aaxis\":{\"gridcolor\":\"white\",\"linecolor\":\"white\",\"ticks\":\"\"},\"baxis\":{\"gridcolor\":\"white\",\"linecolor\":\"white\",\"ticks\":\"\"},\"bgcolor\":\"#E5ECF6\",\"caxis\":{\"gridcolor\":\"white\",\"linecolor\":\"white\",\"ticks\":\"\"}},\"title\":{\"x\":0.05},\"xaxis\":{\"automargin\":true,\"gridcolor\":\"white\",\"linecolor\":\"white\",\"ticks\":\"\",\"title\":{\"standoff\":15},\"zerolinecolor\":\"white\",\"zerolinewidth\":2},\"yaxis\":{\"automargin\":true,\"gridcolor\":\"white\",\"linecolor\":\"white\",\"ticks\":\"\",\"title\":{\"standoff\":15},\"zerolinecolor\":\"white\",\"zerolinewidth\":2}}},\"xaxis\":{\"anchor\":\"y\",\"domain\":[0.0,1.0],\"title\":{\"text\":\"publish_time\"}},\"yaxis\":{\"anchor\":\"x\",\"domain\":[0.0,1.0],\"title\":{\"text\":\"Count\"}},\"legend\":{\"title\":{\"text\":\"Weekend_flag\"},\"tracegroupgap\":0},\"margin\":{\"t\":60}},                        {\"responsive\": true}                    ).then(function(){\n",
       "                            \n",
       "var gd = document.getElementById('95839e42-7981-41df-90ec-0691fb31c27b');\n",
       "var x = new MutationObserver(function (mutations, observer) {{\n",
       "        var display = window.getComputedStyle(gd).display;\n",
       "        if (!display || display === 'none') {{\n",
       "            console.log([gd, 'removed!']);\n",
       "            Plotly.purge(gd);\n",
       "            observer.disconnect();\n",
       "        }}\n",
       "}});\n",
       "\n",
       "// Listen for the removal of the full notebook cells\n",
       "var notebookContainer = gd.closest('#notebook-container');\n",
       "if (notebookContainer) {{\n",
       "    x.observe(notebookContainer, {childList: true});\n",
       "}}\n",
       "\n",
       "// Listen for the clearing of the current output cell\n",
       "var outputEl = gd.closest('.output');\n",
       "if (outputEl) {{\n",
       "    x.observe(outputEl, {childList: true});\n",
       "}}\n",
       "\n",
       "                        })                };                });            </script>        </div>"
      ]
     },
     "metadata": {},
     "output_type": "display_data"
    }
   ],
   "source": [
    "px.scatter(time_gb, 'publish_time', 'Count'\n",
    "           , color='Weekend_flag'\n",
    "          , trendline='ols'\n",
    "          , )"
   ]
  },
  {
   "cell_type": "code",
   "execution_count": 57,
   "metadata": {
    "scrolled": false
   },
   "outputs": [
    {
     "data": {
      "application/vnd.plotly.v1+json": {
       "config": {
        "plotlyServerURL": "https://plot.ly"
       },
       "data": [
        {
         "hovertemplate": "publish_time=%{x}<br>Avg Callout Price=%{y}<extra></extra>",
         "legendgroup": "",
         "marker": {
          "color": "#636efa",
          "symbol": "circle"
         },
         "mode": "markers",
         "name": "",
         "orientation": "v",
         "showlegend": false,
         "type": "scatter",
         "x": [
          "2022-06-08T00:00:00",
          "2022-06-09T00:00:00",
          "2022-06-10T00:00:00",
          "2022-06-11T00:00:00",
          "2022-06-12T00:00:00",
          "2022-06-13T00:00:00",
          "2022-06-14T00:00:00",
          "2022-06-15T00:00:00",
          "2022-06-16T00:00:00",
          "2022-06-17T00:00:00",
          "2022-06-18T00:00:00",
          "2022-06-19T00:00:00",
          "2022-06-20T00:00:00",
          "2022-06-21T00:00:00",
          "2022-06-22T00:00:00",
          "2022-06-23T00:00:00",
          "2022-06-24T00:00:00",
          "2022-06-25T00:00:00",
          "2022-06-26T00:00:00",
          "2022-06-27T00:00:00",
          "2022-06-28T00:00:00",
          "2022-06-29T00:00:00",
          "2022-06-30T00:00:00",
          "2022-07-01T00:00:00",
          "2022-07-02T00:00:00",
          "2022-07-03T00:00:00",
          "2022-07-04T00:00:00",
          "2022-07-05T00:00:00",
          "2022-07-06T00:00:00",
          "2022-07-07T00:00:00",
          "2022-07-08T00:00:00",
          "2022-07-09T00:00:00",
          "2022-07-10T00:00:00",
          "2022-07-11T00:00:00",
          "2022-07-12T00:00:00",
          "2022-07-13T00:00:00",
          "2022-07-14T00:00:00",
          "2022-07-15T00:00:00",
          "2022-07-16T00:00:00",
          "2022-07-17T00:00:00",
          "2022-07-18T00:00:00",
          "2022-07-19T00:00:00",
          "2022-07-20T00:00:00"
         ],
         "xaxis": "x",
         "y": [
          76.33,
          150.47,
          90.72,
          111.46,
          61.38,
          123.13,
          256.05,
          110.27,
          108.05,
          121.94,
          92.78,
          70.15,
          108.4,
          111.1,
          83.54,
          138.05,
          103.19,
          86.32,
          73.07,
          108.53,
          160.49,
          109.47,
          83.21,
          80.34,
          157.06,
          142.28,
          109.84,
          168.67,
          124.23,
          107.49,
          115.48,
          71.91,
          94.29,
          149.68,
          125.81,
          254.96,
          139.56,
          142.51,
          66.31,
          123.59,
          170.43,
          95.8,
          90.97
         ],
         "yaxis": "y"
        },
        {
         "hovertemplate": "<b>OLS trendline</b><br>Avg Callout Price = 5.41096e-06 * publish_time + -8845.15<br>R<sup>2</sup>=0.019641<br><br>publish_time=%{x}<br>Avg Callout Price=%{y} <b>(trend)</b><extra></extra>",
         "legendgroup": "",
         "marker": {
          "color": "#636efa",
          "symbol": "circle"
         },
         "mode": "lines",
         "name": "",
         "showlegend": false,
         "type": "scatter",
         "x": [
          "2022-06-08T00:00:00",
          "2022-06-09T00:00:00",
          "2022-06-10T00:00:00",
          "2022-06-11T00:00:00",
          "2022-06-12T00:00:00",
          "2022-06-13T00:00:00",
          "2022-06-14T00:00:00",
          "2022-06-15T00:00:00",
          "2022-06-16T00:00:00",
          "2022-06-17T00:00:00",
          "2022-06-18T00:00:00",
          "2022-06-19T00:00:00",
          "2022-06-20T00:00:00",
          "2022-06-21T00:00:00",
          "2022-06-22T00:00:00",
          "2022-06-23T00:00:00",
          "2022-06-24T00:00:00",
          "2022-06-25T00:00:00",
          "2022-06-26T00:00:00",
          "2022-06-27T00:00:00",
          "2022-06-28T00:00:00",
          "2022-06-29T00:00:00",
          "2022-06-30T00:00:00",
          "2022-07-01T00:00:00",
          "2022-07-02T00:00:00",
          "2022-07-03T00:00:00",
          "2022-07-04T00:00:00",
          "2022-07-05T00:00:00",
          "2022-07-06T00:00:00",
          "2022-07-07T00:00:00",
          "2022-07-08T00:00:00",
          "2022-07-09T00:00:00",
          "2022-07-10T00:00:00",
          "2022-07-11T00:00:00",
          "2022-07-12T00:00:00",
          "2022-07-13T00:00:00",
          "2022-07-14T00:00:00",
          "2022-07-15T00:00:00",
          "2022-07-16T00:00:00",
          "2022-07-17T00:00:00",
          "2022-07-18T00:00:00",
          "2022-07-19T00:00:00",
          "2022-07-20T00:00:00"
         ],
         "xaxis": "x",
         "y": [
          108.07328752641843,
          108.54079432194885,
          109.00830111747746,
          109.47580791300788,
          109.94331470853831,
          110.41082150406874,
          110.87832829959734,
          111.34583509512777,
          111.8133418906582,
          112.28084868618862,
          112.74835548171723,
          113.21586227724765,
          113.68336907277808,
          114.1508758683085,
          114.61838266383711,
          115.08588945936754,
          115.55339625489796,
          116.02090305042657,
          116.488409845957,
          116.95591664148742,
          117.42342343701785,
          117.89093023254645,
          118.35843702807688,
          118.8259438236073,
          119.29345061913773,
          119.76095741466634,
          120.22846421019676,
          120.69597100572719,
          121.16347780125761,
          121.63098459678622,
          122.09849139231665,
          122.56599818784707,
          123.0335049833775,
          123.5010117789061,
          123.96851857443653,
          124.43602536996696,
          124.90353216549556,
          125.37103896102599,
          125.83854575655641,
          126.30605255208684,
          126.77355934761545,
          127.24106614314587,
          127.7085729386763
         ],
         "yaxis": "y"
        }
       ],
       "layout": {
        "legend": {
         "tracegroupgap": 0
        },
        "margin": {
         "t": 60
        },
        "template": {
         "data": {
          "bar": [
           {
            "error_x": {
             "color": "#2a3f5f"
            },
            "error_y": {
             "color": "#2a3f5f"
            },
            "marker": {
             "line": {
              "color": "#E5ECF6",
              "width": 0.5
             },
             "pattern": {
              "fillmode": "overlay",
              "size": 10,
              "solidity": 0.2
             }
            },
            "type": "bar"
           }
          ],
          "barpolar": [
           {
            "marker": {
             "line": {
              "color": "#E5ECF6",
              "width": 0.5
             },
             "pattern": {
              "fillmode": "overlay",
              "size": 10,
              "solidity": 0.2
             }
            },
            "type": "barpolar"
           }
          ],
          "carpet": [
           {
            "aaxis": {
             "endlinecolor": "#2a3f5f",
             "gridcolor": "white",
             "linecolor": "white",
             "minorgridcolor": "white",
             "startlinecolor": "#2a3f5f"
            },
            "baxis": {
             "endlinecolor": "#2a3f5f",
             "gridcolor": "white",
             "linecolor": "white",
             "minorgridcolor": "white",
             "startlinecolor": "#2a3f5f"
            },
            "type": "carpet"
           }
          ],
          "choropleth": [
           {
            "colorbar": {
             "outlinewidth": 0,
             "ticks": ""
            },
            "type": "choropleth"
           }
          ],
          "contour": [
           {
            "colorbar": {
             "outlinewidth": 0,
             "ticks": ""
            },
            "colorscale": [
             [
              0,
              "#0d0887"
             ],
             [
              0.1111111111111111,
              "#46039f"
             ],
             [
              0.2222222222222222,
              "#7201a8"
             ],
             [
              0.3333333333333333,
              "#9c179e"
             ],
             [
              0.4444444444444444,
              "#bd3786"
             ],
             [
              0.5555555555555556,
              "#d8576b"
             ],
             [
              0.6666666666666666,
              "#ed7953"
             ],
             [
              0.7777777777777778,
              "#fb9f3a"
             ],
             [
              0.8888888888888888,
              "#fdca26"
             ],
             [
              1,
              "#f0f921"
             ]
            ],
            "type": "contour"
           }
          ],
          "contourcarpet": [
           {
            "colorbar": {
             "outlinewidth": 0,
             "ticks": ""
            },
            "type": "contourcarpet"
           }
          ],
          "heatmap": [
           {
            "colorbar": {
             "outlinewidth": 0,
             "ticks": ""
            },
            "colorscale": [
             [
              0,
              "#0d0887"
             ],
             [
              0.1111111111111111,
              "#46039f"
             ],
             [
              0.2222222222222222,
              "#7201a8"
             ],
             [
              0.3333333333333333,
              "#9c179e"
             ],
             [
              0.4444444444444444,
              "#bd3786"
             ],
             [
              0.5555555555555556,
              "#d8576b"
             ],
             [
              0.6666666666666666,
              "#ed7953"
             ],
             [
              0.7777777777777778,
              "#fb9f3a"
             ],
             [
              0.8888888888888888,
              "#fdca26"
             ],
             [
              1,
              "#f0f921"
             ]
            ],
            "type": "heatmap"
           }
          ],
          "heatmapgl": [
           {
            "colorbar": {
             "outlinewidth": 0,
             "ticks": ""
            },
            "colorscale": [
             [
              0,
              "#0d0887"
             ],
             [
              0.1111111111111111,
              "#46039f"
             ],
             [
              0.2222222222222222,
              "#7201a8"
             ],
             [
              0.3333333333333333,
              "#9c179e"
             ],
             [
              0.4444444444444444,
              "#bd3786"
             ],
             [
              0.5555555555555556,
              "#d8576b"
             ],
             [
              0.6666666666666666,
              "#ed7953"
             ],
             [
              0.7777777777777778,
              "#fb9f3a"
             ],
             [
              0.8888888888888888,
              "#fdca26"
             ],
             [
              1,
              "#f0f921"
             ]
            ],
            "type": "heatmapgl"
           }
          ],
          "histogram": [
           {
            "marker": {
             "pattern": {
              "fillmode": "overlay",
              "size": 10,
              "solidity": 0.2
             }
            },
            "type": "histogram"
           }
          ],
          "histogram2d": [
           {
            "colorbar": {
             "outlinewidth": 0,
             "ticks": ""
            },
            "colorscale": [
             [
              0,
              "#0d0887"
             ],
             [
              0.1111111111111111,
              "#46039f"
             ],
             [
              0.2222222222222222,
              "#7201a8"
             ],
             [
              0.3333333333333333,
              "#9c179e"
             ],
             [
              0.4444444444444444,
              "#bd3786"
             ],
             [
              0.5555555555555556,
              "#d8576b"
             ],
             [
              0.6666666666666666,
              "#ed7953"
             ],
             [
              0.7777777777777778,
              "#fb9f3a"
             ],
             [
              0.8888888888888888,
              "#fdca26"
             ],
             [
              1,
              "#f0f921"
             ]
            ],
            "type": "histogram2d"
           }
          ],
          "histogram2dcontour": [
           {
            "colorbar": {
             "outlinewidth": 0,
             "ticks": ""
            },
            "colorscale": [
             [
              0,
              "#0d0887"
             ],
             [
              0.1111111111111111,
              "#46039f"
             ],
             [
              0.2222222222222222,
              "#7201a8"
             ],
             [
              0.3333333333333333,
              "#9c179e"
             ],
             [
              0.4444444444444444,
              "#bd3786"
             ],
             [
              0.5555555555555556,
              "#d8576b"
             ],
             [
              0.6666666666666666,
              "#ed7953"
             ],
             [
              0.7777777777777778,
              "#fb9f3a"
             ],
             [
              0.8888888888888888,
              "#fdca26"
             ],
             [
              1,
              "#f0f921"
             ]
            ],
            "type": "histogram2dcontour"
           }
          ],
          "mesh3d": [
           {
            "colorbar": {
             "outlinewidth": 0,
             "ticks": ""
            },
            "type": "mesh3d"
           }
          ],
          "parcoords": [
           {
            "line": {
             "colorbar": {
              "outlinewidth": 0,
              "ticks": ""
             }
            },
            "type": "parcoords"
           }
          ],
          "pie": [
           {
            "automargin": true,
            "type": "pie"
           }
          ],
          "scatter": [
           {
            "marker": {
             "colorbar": {
              "outlinewidth": 0,
              "ticks": ""
             }
            },
            "type": "scatter"
           }
          ],
          "scatter3d": [
           {
            "line": {
             "colorbar": {
              "outlinewidth": 0,
              "ticks": ""
             }
            },
            "marker": {
             "colorbar": {
              "outlinewidth": 0,
              "ticks": ""
             }
            },
            "type": "scatter3d"
           }
          ],
          "scattercarpet": [
           {
            "marker": {
             "colorbar": {
              "outlinewidth": 0,
              "ticks": ""
             }
            },
            "type": "scattercarpet"
           }
          ],
          "scattergeo": [
           {
            "marker": {
             "colorbar": {
              "outlinewidth": 0,
              "ticks": ""
             }
            },
            "type": "scattergeo"
           }
          ],
          "scattergl": [
           {
            "marker": {
             "colorbar": {
              "outlinewidth": 0,
              "ticks": ""
             }
            },
            "type": "scattergl"
           }
          ],
          "scattermapbox": [
           {
            "marker": {
             "colorbar": {
              "outlinewidth": 0,
              "ticks": ""
             }
            },
            "type": "scattermapbox"
           }
          ],
          "scatterpolar": [
           {
            "marker": {
             "colorbar": {
              "outlinewidth": 0,
              "ticks": ""
             }
            },
            "type": "scatterpolar"
           }
          ],
          "scatterpolargl": [
           {
            "marker": {
             "colorbar": {
              "outlinewidth": 0,
              "ticks": ""
             }
            },
            "type": "scatterpolargl"
           }
          ],
          "scatterternary": [
           {
            "marker": {
             "colorbar": {
              "outlinewidth": 0,
              "ticks": ""
             }
            },
            "type": "scatterternary"
           }
          ],
          "surface": [
           {
            "colorbar": {
             "outlinewidth": 0,
             "ticks": ""
            },
            "colorscale": [
             [
              0,
              "#0d0887"
             ],
             [
              0.1111111111111111,
              "#46039f"
             ],
             [
              0.2222222222222222,
              "#7201a8"
             ],
             [
              0.3333333333333333,
              "#9c179e"
             ],
             [
              0.4444444444444444,
              "#bd3786"
             ],
             [
              0.5555555555555556,
              "#d8576b"
             ],
             [
              0.6666666666666666,
              "#ed7953"
             ],
             [
              0.7777777777777778,
              "#fb9f3a"
             ],
             [
              0.8888888888888888,
              "#fdca26"
             ],
             [
              1,
              "#f0f921"
             ]
            ],
            "type": "surface"
           }
          ],
          "table": [
           {
            "cells": {
             "fill": {
              "color": "#EBF0F8"
             },
             "line": {
              "color": "white"
             }
            },
            "header": {
             "fill": {
              "color": "#C8D4E3"
             },
             "line": {
              "color": "white"
             }
            },
            "type": "table"
           }
          ]
         },
         "layout": {
          "annotationdefaults": {
           "arrowcolor": "#2a3f5f",
           "arrowhead": 0,
           "arrowwidth": 1
          },
          "autotypenumbers": "strict",
          "coloraxis": {
           "colorbar": {
            "outlinewidth": 0,
            "ticks": ""
           }
          },
          "colorscale": {
           "diverging": [
            [
             0,
             "#8e0152"
            ],
            [
             0.1,
             "#c51b7d"
            ],
            [
             0.2,
             "#de77ae"
            ],
            [
             0.3,
             "#f1b6da"
            ],
            [
             0.4,
             "#fde0ef"
            ],
            [
             0.5,
             "#f7f7f7"
            ],
            [
             0.6,
             "#e6f5d0"
            ],
            [
             0.7,
             "#b8e186"
            ],
            [
             0.8,
             "#7fbc41"
            ],
            [
             0.9,
             "#4d9221"
            ],
            [
             1,
             "#276419"
            ]
           ],
           "sequential": [
            [
             0,
             "#0d0887"
            ],
            [
             0.1111111111111111,
             "#46039f"
            ],
            [
             0.2222222222222222,
             "#7201a8"
            ],
            [
             0.3333333333333333,
             "#9c179e"
            ],
            [
             0.4444444444444444,
             "#bd3786"
            ],
            [
             0.5555555555555556,
             "#d8576b"
            ],
            [
             0.6666666666666666,
             "#ed7953"
            ],
            [
             0.7777777777777778,
             "#fb9f3a"
            ],
            [
             0.8888888888888888,
             "#fdca26"
            ],
            [
             1,
             "#f0f921"
            ]
           ],
           "sequentialminus": [
            [
             0,
             "#0d0887"
            ],
            [
             0.1111111111111111,
             "#46039f"
            ],
            [
             0.2222222222222222,
             "#7201a8"
            ],
            [
             0.3333333333333333,
             "#9c179e"
            ],
            [
             0.4444444444444444,
             "#bd3786"
            ],
            [
             0.5555555555555556,
             "#d8576b"
            ],
            [
             0.6666666666666666,
             "#ed7953"
            ],
            [
             0.7777777777777778,
             "#fb9f3a"
            ],
            [
             0.8888888888888888,
             "#fdca26"
            ],
            [
             1,
             "#f0f921"
            ]
           ]
          },
          "colorway": [
           "#636efa",
           "#EF553B",
           "#00cc96",
           "#ab63fa",
           "#FFA15A",
           "#19d3f3",
           "#FF6692",
           "#B6E880",
           "#FF97FF",
           "#FECB52"
          ],
          "font": {
           "color": "#2a3f5f"
          },
          "geo": {
           "bgcolor": "white",
           "lakecolor": "white",
           "landcolor": "#E5ECF6",
           "showlakes": true,
           "showland": true,
           "subunitcolor": "white"
          },
          "hoverlabel": {
           "align": "left"
          },
          "hovermode": "closest",
          "mapbox": {
           "style": "light"
          },
          "paper_bgcolor": "white",
          "plot_bgcolor": "#E5ECF6",
          "polar": {
           "angularaxis": {
            "gridcolor": "white",
            "linecolor": "white",
            "ticks": ""
           },
           "bgcolor": "#E5ECF6",
           "radialaxis": {
            "gridcolor": "white",
            "linecolor": "white",
            "ticks": ""
           }
          },
          "scene": {
           "xaxis": {
            "backgroundcolor": "#E5ECF6",
            "gridcolor": "white",
            "gridwidth": 2,
            "linecolor": "white",
            "showbackground": true,
            "ticks": "",
            "zerolinecolor": "white"
           },
           "yaxis": {
            "backgroundcolor": "#E5ECF6",
            "gridcolor": "white",
            "gridwidth": 2,
            "linecolor": "white",
            "showbackground": true,
            "ticks": "",
            "zerolinecolor": "white"
           },
           "zaxis": {
            "backgroundcolor": "#E5ECF6",
            "gridcolor": "white",
            "gridwidth": 2,
            "linecolor": "white",
            "showbackground": true,
            "ticks": "",
            "zerolinecolor": "white"
           }
          },
          "shapedefaults": {
           "line": {
            "color": "#2a3f5f"
           }
          },
          "ternary": {
           "aaxis": {
            "gridcolor": "white",
            "linecolor": "white",
            "ticks": ""
           },
           "baxis": {
            "gridcolor": "white",
            "linecolor": "white",
            "ticks": ""
           },
           "bgcolor": "#E5ECF6",
           "caxis": {
            "gridcolor": "white",
            "linecolor": "white",
            "ticks": ""
           }
          },
          "title": {
           "x": 0.05
          },
          "xaxis": {
           "automargin": true,
           "gridcolor": "white",
           "linecolor": "white",
           "ticks": "",
           "title": {
            "standoff": 15
           },
           "zerolinecolor": "white",
           "zerolinewidth": 2
          },
          "yaxis": {
           "automargin": true,
           "gridcolor": "white",
           "linecolor": "white",
           "ticks": "",
           "title": {
            "standoff": 15
           },
           "zerolinecolor": "white",
           "zerolinewidth": 2
          }
         }
        },
        "xaxis": {
         "anchor": "y",
         "domain": [
          0,
          1
         ],
         "title": {
          "text": "publish_time"
         }
        },
        "yaxis": {
         "anchor": "x",
         "domain": [
          0,
          1
         ],
         "title": {
          "text": "Avg Callout Price"
         }
        }
       }
      },
      "text/html": [
       "<div>                            <div id=\"9f621685-ca19-4668-86e3-0e87d6a367fc\" class=\"plotly-graph-div\" style=\"height:525px; width:100%;\"></div>            <script type=\"text/javascript\">                require([\"plotly\"], function(Plotly) {                    window.PLOTLYENV=window.PLOTLYENV || {};                                    if (document.getElementById(\"9f621685-ca19-4668-86e3-0e87d6a367fc\")) {                    Plotly.newPlot(                        \"9f621685-ca19-4668-86e3-0e87d6a367fc\",                        [{\"hovertemplate\":\"publish_time=%{x}<br>Avg Callout Price=%{y}<extra></extra>\",\"legendgroup\":\"\",\"marker\":{\"color\":\"#636efa\",\"symbol\":\"circle\"},\"mode\":\"markers\",\"name\":\"\",\"orientation\":\"v\",\"showlegend\":false,\"x\":[\"2022-06-08T00:00:00\",\"2022-06-09T00:00:00\",\"2022-06-10T00:00:00\",\"2022-06-11T00:00:00\",\"2022-06-12T00:00:00\",\"2022-06-13T00:00:00\",\"2022-06-14T00:00:00\",\"2022-06-15T00:00:00\",\"2022-06-16T00:00:00\",\"2022-06-17T00:00:00\",\"2022-06-18T00:00:00\",\"2022-06-19T00:00:00\",\"2022-06-20T00:00:00\",\"2022-06-21T00:00:00\",\"2022-06-22T00:00:00\",\"2022-06-23T00:00:00\",\"2022-06-24T00:00:00\",\"2022-06-25T00:00:00\",\"2022-06-26T00:00:00\",\"2022-06-27T00:00:00\",\"2022-06-28T00:00:00\",\"2022-06-29T00:00:00\",\"2022-06-30T00:00:00\",\"2022-07-01T00:00:00\",\"2022-07-02T00:00:00\",\"2022-07-03T00:00:00\",\"2022-07-04T00:00:00\",\"2022-07-05T00:00:00\",\"2022-07-06T00:00:00\",\"2022-07-07T00:00:00\",\"2022-07-08T00:00:00\",\"2022-07-09T00:00:00\",\"2022-07-10T00:00:00\",\"2022-07-11T00:00:00\",\"2022-07-12T00:00:00\",\"2022-07-13T00:00:00\",\"2022-07-14T00:00:00\",\"2022-07-15T00:00:00\",\"2022-07-16T00:00:00\",\"2022-07-17T00:00:00\",\"2022-07-18T00:00:00\",\"2022-07-19T00:00:00\",\"2022-07-20T00:00:00\"],\"xaxis\":\"x\",\"y\":[76.33,150.47,90.72,111.46,61.38,123.13,256.05,110.27,108.05,121.94,92.78,70.15,108.4,111.1,83.54,138.05,103.19,86.32,73.07,108.53,160.49,109.47,83.21,80.34,157.06,142.28,109.84,168.67,124.23,107.49,115.48,71.91,94.29,149.68,125.81,254.96,139.56,142.51,66.31,123.59,170.43,95.8,90.97],\"yaxis\":\"y\",\"type\":\"scatter\"},{\"hovertemplate\":\"<b>OLS trendline</b><br>Avg Callout Price = 5.41096e-06 * publish_time + -8845.15<br>R<sup>2</sup>=0.019641<br><br>publish_time=%{x}<br>Avg Callout Price=%{y} <b>(trend)</b><extra></extra>\",\"legendgroup\":\"\",\"marker\":{\"color\":\"#636efa\",\"symbol\":\"circle\"},\"mode\":\"lines\",\"name\":\"\",\"showlegend\":false,\"x\":[\"2022-06-08T00:00:00\",\"2022-06-09T00:00:00\",\"2022-06-10T00:00:00\",\"2022-06-11T00:00:00\",\"2022-06-12T00:00:00\",\"2022-06-13T00:00:00\",\"2022-06-14T00:00:00\",\"2022-06-15T00:00:00\",\"2022-06-16T00:00:00\",\"2022-06-17T00:00:00\",\"2022-06-18T00:00:00\",\"2022-06-19T00:00:00\",\"2022-06-20T00:00:00\",\"2022-06-21T00:00:00\",\"2022-06-22T00:00:00\",\"2022-06-23T00:00:00\",\"2022-06-24T00:00:00\",\"2022-06-25T00:00:00\",\"2022-06-26T00:00:00\",\"2022-06-27T00:00:00\",\"2022-06-28T00:00:00\",\"2022-06-29T00:00:00\",\"2022-06-30T00:00:00\",\"2022-07-01T00:00:00\",\"2022-07-02T00:00:00\",\"2022-07-03T00:00:00\",\"2022-07-04T00:00:00\",\"2022-07-05T00:00:00\",\"2022-07-06T00:00:00\",\"2022-07-07T00:00:00\",\"2022-07-08T00:00:00\",\"2022-07-09T00:00:00\",\"2022-07-10T00:00:00\",\"2022-07-11T00:00:00\",\"2022-07-12T00:00:00\",\"2022-07-13T00:00:00\",\"2022-07-14T00:00:00\",\"2022-07-15T00:00:00\",\"2022-07-16T00:00:00\",\"2022-07-17T00:00:00\",\"2022-07-18T00:00:00\",\"2022-07-19T00:00:00\",\"2022-07-20T00:00:00\"],\"xaxis\":\"x\",\"y\":[108.07328752641843,108.54079432194885,109.00830111747746,109.47580791300788,109.94331470853831,110.41082150406874,110.87832829959734,111.34583509512777,111.8133418906582,112.28084868618862,112.74835548171723,113.21586227724765,113.68336907277808,114.1508758683085,114.61838266383711,115.08588945936754,115.55339625489796,116.02090305042657,116.488409845957,116.95591664148742,117.42342343701785,117.89093023254645,118.35843702807688,118.8259438236073,119.29345061913773,119.76095741466634,120.22846421019676,120.69597100572719,121.16347780125761,121.63098459678622,122.09849139231665,122.56599818784707,123.0335049833775,123.5010117789061,123.96851857443653,124.43602536996696,124.90353216549556,125.37103896102599,125.83854575655641,126.30605255208684,126.77355934761545,127.24106614314587,127.7085729386763],\"yaxis\":\"y\",\"type\":\"scatter\"}],                        {\"template\":{\"data\":{\"bar\":[{\"error_x\":{\"color\":\"#2a3f5f\"},\"error_y\":{\"color\":\"#2a3f5f\"},\"marker\":{\"line\":{\"color\":\"#E5ECF6\",\"width\":0.5},\"pattern\":{\"fillmode\":\"overlay\",\"size\":10,\"solidity\":0.2}},\"type\":\"bar\"}],\"barpolar\":[{\"marker\":{\"line\":{\"color\":\"#E5ECF6\",\"width\":0.5},\"pattern\":{\"fillmode\":\"overlay\",\"size\":10,\"solidity\":0.2}},\"type\":\"barpolar\"}],\"carpet\":[{\"aaxis\":{\"endlinecolor\":\"#2a3f5f\",\"gridcolor\":\"white\",\"linecolor\":\"white\",\"minorgridcolor\":\"white\",\"startlinecolor\":\"#2a3f5f\"},\"baxis\":{\"endlinecolor\":\"#2a3f5f\",\"gridcolor\":\"white\",\"linecolor\":\"white\",\"minorgridcolor\":\"white\",\"startlinecolor\":\"#2a3f5f\"},\"type\":\"carpet\"}],\"choropleth\":[{\"colorbar\":{\"outlinewidth\":0,\"ticks\":\"\"},\"type\":\"choropleth\"}],\"contour\":[{\"colorbar\":{\"outlinewidth\":0,\"ticks\":\"\"},\"colorscale\":[[0.0,\"#0d0887\"],[0.1111111111111111,\"#46039f\"],[0.2222222222222222,\"#7201a8\"],[0.3333333333333333,\"#9c179e\"],[0.4444444444444444,\"#bd3786\"],[0.5555555555555556,\"#d8576b\"],[0.6666666666666666,\"#ed7953\"],[0.7777777777777778,\"#fb9f3a\"],[0.8888888888888888,\"#fdca26\"],[1.0,\"#f0f921\"]],\"type\":\"contour\"}],\"contourcarpet\":[{\"colorbar\":{\"outlinewidth\":0,\"ticks\":\"\"},\"type\":\"contourcarpet\"}],\"heatmap\":[{\"colorbar\":{\"outlinewidth\":0,\"ticks\":\"\"},\"colorscale\":[[0.0,\"#0d0887\"],[0.1111111111111111,\"#46039f\"],[0.2222222222222222,\"#7201a8\"],[0.3333333333333333,\"#9c179e\"],[0.4444444444444444,\"#bd3786\"],[0.5555555555555556,\"#d8576b\"],[0.6666666666666666,\"#ed7953\"],[0.7777777777777778,\"#fb9f3a\"],[0.8888888888888888,\"#fdca26\"],[1.0,\"#f0f921\"]],\"type\":\"heatmap\"}],\"heatmapgl\":[{\"colorbar\":{\"outlinewidth\":0,\"ticks\":\"\"},\"colorscale\":[[0.0,\"#0d0887\"],[0.1111111111111111,\"#46039f\"],[0.2222222222222222,\"#7201a8\"],[0.3333333333333333,\"#9c179e\"],[0.4444444444444444,\"#bd3786\"],[0.5555555555555556,\"#d8576b\"],[0.6666666666666666,\"#ed7953\"],[0.7777777777777778,\"#fb9f3a\"],[0.8888888888888888,\"#fdca26\"],[1.0,\"#f0f921\"]],\"type\":\"heatmapgl\"}],\"histogram\":[{\"marker\":{\"pattern\":{\"fillmode\":\"overlay\",\"size\":10,\"solidity\":0.2}},\"type\":\"histogram\"}],\"histogram2d\":[{\"colorbar\":{\"outlinewidth\":0,\"ticks\":\"\"},\"colorscale\":[[0.0,\"#0d0887\"],[0.1111111111111111,\"#46039f\"],[0.2222222222222222,\"#7201a8\"],[0.3333333333333333,\"#9c179e\"],[0.4444444444444444,\"#bd3786\"],[0.5555555555555556,\"#d8576b\"],[0.6666666666666666,\"#ed7953\"],[0.7777777777777778,\"#fb9f3a\"],[0.8888888888888888,\"#fdca26\"],[1.0,\"#f0f921\"]],\"type\":\"histogram2d\"}],\"histogram2dcontour\":[{\"colorbar\":{\"outlinewidth\":0,\"ticks\":\"\"},\"colorscale\":[[0.0,\"#0d0887\"],[0.1111111111111111,\"#46039f\"],[0.2222222222222222,\"#7201a8\"],[0.3333333333333333,\"#9c179e\"],[0.4444444444444444,\"#bd3786\"],[0.5555555555555556,\"#d8576b\"],[0.6666666666666666,\"#ed7953\"],[0.7777777777777778,\"#fb9f3a\"],[0.8888888888888888,\"#fdca26\"],[1.0,\"#f0f921\"]],\"type\":\"histogram2dcontour\"}],\"mesh3d\":[{\"colorbar\":{\"outlinewidth\":0,\"ticks\":\"\"},\"type\":\"mesh3d\"}],\"parcoords\":[{\"line\":{\"colorbar\":{\"outlinewidth\":0,\"ticks\":\"\"}},\"type\":\"parcoords\"}],\"pie\":[{\"automargin\":true,\"type\":\"pie\"}],\"scatter\":[{\"marker\":{\"colorbar\":{\"outlinewidth\":0,\"ticks\":\"\"}},\"type\":\"scatter\"}],\"scatter3d\":[{\"line\":{\"colorbar\":{\"outlinewidth\":0,\"ticks\":\"\"}},\"marker\":{\"colorbar\":{\"outlinewidth\":0,\"ticks\":\"\"}},\"type\":\"scatter3d\"}],\"scattercarpet\":[{\"marker\":{\"colorbar\":{\"outlinewidth\":0,\"ticks\":\"\"}},\"type\":\"scattercarpet\"}],\"scattergeo\":[{\"marker\":{\"colorbar\":{\"outlinewidth\":0,\"ticks\":\"\"}},\"type\":\"scattergeo\"}],\"scattergl\":[{\"marker\":{\"colorbar\":{\"outlinewidth\":0,\"ticks\":\"\"}},\"type\":\"scattergl\"}],\"scattermapbox\":[{\"marker\":{\"colorbar\":{\"outlinewidth\":0,\"ticks\":\"\"}},\"type\":\"scattermapbox\"}],\"scatterpolar\":[{\"marker\":{\"colorbar\":{\"outlinewidth\":0,\"ticks\":\"\"}},\"type\":\"scatterpolar\"}],\"scatterpolargl\":[{\"marker\":{\"colorbar\":{\"outlinewidth\":0,\"ticks\":\"\"}},\"type\":\"scatterpolargl\"}],\"scatterternary\":[{\"marker\":{\"colorbar\":{\"outlinewidth\":0,\"ticks\":\"\"}},\"type\":\"scatterternary\"}],\"surface\":[{\"colorbar\":{\"outlinewidth\":0,\"ticks\":\"\"},\"colorscale\":[[0.0,\"#0d0887\"],[0.1111111111111111,\"#46039f\"],[0.2222222222222222,\"#7201a8\"],[0.3333333333333333,\"#9c179e\"],[0.4444444444444444,\"#bd3786\"],[0.5555555555555556,\"#d8576b\"],[0.6666666666666666,\"#ed7953\"],[0.7777777777777778,\"#fb9f3a\"],[0.8888888888888888,\"#fdca26\"],[1.0,\"#f0f921\"]],\"type\":\"surface\"}],\"table\":[{\"cells\":{\"fill\":{\"color\":\"#EBF0F8\"},\"line\":{\"color\":\"white\"}},\"header\":{\"fill\":{\"color\":\"#C8D4E3\"},\"line\":{\"color\":\"white\"}},\"type\":\"table\"}]},\"layout\":{\"annotationdefaults\":{\"arrowcolor\":\"#2a3f5f\",\"arrowhead\":0,\"arrowwidth\":1},\"autotypenumbers\":\"strict\",\"coloraxis\":{\"colorbar\":{\"outlinewidth\":0,\"ticks\":\"\"}},\"colorscale\":{\"diverging\":[[0,\"#8e0152\"],[0.1,\"#c51b7d\"],[0.2,\"#de77ae\"],[0.3,\"#f1b6da\"],[0.4,\"#fde0ef\"],[0.5,\"#f7f7f7\"],[0.6,\"#e6f5d0\"],[0.7,\"#b8e186\"],[0.8,\"#7fbc41\"],[0.9,\"#4d9221\"],[1,\"#276419\"]],\"sequential\":[[0.0,\"#0d0887\"],[0.1111111111111111,\"#46039f\"],[0.2222222222222222,\"#7201a8\"],[0.3333333333333333,\"#9c179e\"],[0.4444444444444444,\"#bd3786\"],[0.5555555555555556,\"#d8576b\"],[0.6666666666666666,\"#ed7953\"],[0.7777777777777778,\"#fb9f3a\"],[0.8888888888888888,\"#fdca26\"],[1.0,\"#f0f921\"]],\"sequentialminus\":[[0.0,\"#0d0887\"],[0.1111111111111111,\"#46039f\"],[0.2222222222222222,\"#7201a8\"],[0.3333333333333333,\"#9c179e\"],[0.4444444444444444,\"#bd3786\"],[0.5555555555555556,\"#d8576b\"],[0.6666666666666666,\"#ed7953\"],[0.7777777777777778,\"#fb9f3a\"],[0.8888888888888888,\"#fdca26\"],[1.0,\"#f0f921\"]]},\"colorway\":[\"#636efa\",\"#EF553B\",\"#00cc96\",\"#ab63fa\",\"#FFA15A\",\"#19d3f3\",\"#FF6692\",\"#B6E880\",\"#FF97FF\",\"#FECB52\"],\"font\":{\"color\":\"#2a3f5f\"},\"geo\":{\"bgcolor\":\"white\",\"lakecolor\":\"white\",\"landcolor\":\"#E5ECF6\",\"showlakes\":true,\"showland\":true,\"subunitcolor\":\"white\"},\"hoverlabel\":{\"align\":\"left\"},\"hovermode\":\"closest\",\"mapbox\":{\"style\":\"light\"},\"paper_bgcolor\":\"white\",\"plot_bgcolor\":\"#E5ECF6\",\"polar\":{\"angularaxis\":{\"gridcolor\":\"white\",\"linecolor\":\"white\",\"ticks\":\"\"},\"bgcolor\":\"#E5ECF6\",\"radialaxis\":{\"gridcolor\":\"white\",\"linecolor\":\"white\",\"ticks\":\"\"}},\"scene\":{\"xaxis\":{\"backgroundcolor\":\"#E5ECF6\",\"gridcolor\":\"white\",\"gridwidth\":2,\"linecolor\":\"white\",\"showbackground\":true,\"ticks\":\"\",\"zerolinecolor\":\"white\"},\"yaxis\":{\"backgroundcolor\":\"#E5ECF6\",\"gridcolor\":\"white\",\"gridwidth\":2,\"linecolor\":\"white\",\"showbackground\":true,\"ticks\":\"\",\"zerolinecolor\":\"white\"},\"zaxis\":{\"backgroundcolor\":\"#E5ECF6\",\"gridcolor\":\"white\",\"gridwidth\":2,\"linecolor\":\"white\",\"showbackground\":true,\"ticks\":\"\",\"zerolinecolor\":\"white\"}},\"shapedefaults\":{\"line\":{\"color\":\"#2a3f5f\"}},\"ternary\":{\"aaxis\":{\"gridcolor\":\"white\",\"linecolor\":\"white\",\"ticks\":\"\"},\"baxis\":{\"gridcolor\":\"white\",\"linecolor\":\"white\",\"ticks\":\"\"},\"bgcolor\":\"#E5ECF6\",\"caxis\":{\"gridcolor\":\"white\",\"linecolor\":\"white\",\"ticks\":\"\"}},\"title\":{\"x\":0.05},\"xaxis\":{\"automargin\":true,\"gridcolor\":\"white\",\"linecolor\":\"white\",\"ticks\":\"\",\"title\":{\"standoff\":15},\"zerolinecolor\":\"white\",\"zerolinewidth\":2},\"yaxis\":{\"automargin\":true,\"gridcolor\":\"white\",\"linecolor\":\"white\",\"ticks\":\"\",\"title\":{\"standoff\":15},\"zerolinecolor\":\"white\",\"zerolinewidth\":2}}},\"xaxis\":{\"anchor\":\"y\",\"domain\":[0.0,1.0],\"title\":{\"text\":\"publish_time\"}},\"yaxis\":{\"anchor\":\"x\",\"domain\":[0.0,1.0],\"title\":{\"text\":\"Avg Callout Price\"}},\"legend\":{\"tracegroupgap\":0},\"margin\":{\"t\":60}},                        {\"responsive\": true}                    ).then(function(){\n",
       "                            \n",
       "var gd = document.getElementById('9f621685-ca19-4668-86e3-0e87d6a367fc');\n",
       "var x = new MutationObserver(function (mutations, observer) {{\n",
       "        var display = window.getComputedStyle(gd).display;\n",
       "        if (!display || display === 'none') {{\n",
       "            console.log([gd, 'removed!']);\n",
       "            Plotly.purge(gd);\n",
       "            observer.disconnect();\n",
       "        }}\n",
       "}});\n",
       "\n",
       "// Listen for the removal of the full notebook cells\n",
       "var notebookContainer = gd.closest('#notebook-container');\n",
       "if (notebookContainer) {{\n",
       "    x.observe(notebookContainer, {childList: true});\n",
       "}}\n",
       "\n",
       "// Listen for the clearing of the current output cell\n",
       "var outputEl = gd.closest('.output');\n",
       "if (outputEl) {{\n",
       "    x.observe(outputEl, {childList: true});\n",
       "}}\n",
       "\n",
       "                        })                };                });            </script>        </div>"
      ]
     },
     "metadata": {},
     "output_type": "display_data"
    }
   ],
   "source": [
    "px.scatter(time_gb, 'publish_time', 'Avg Callout Price'\n",
    "          , trendline='ols')"
   ]
  },
  {
   "cell_type": "code",
   "execution_count": 39,
   "metadata": {},
   "outputs": [
    {
     "data": {
      "application/vnd.plotly.v1+json": {
       "config": {
        "plotlyServerURL": "https://plot.ly"
       },
       "data": [
        {
         "hovertemplate": "publish_time=%{x}<br>Avg Callout Pct Diff=%{y}<extra></extra>",
         "legendgroup": "",
         "marker": {
          "color": "#636efa",
          "symbol": "circle"
         },
         "mode": "markers",
         "name": "",
         "orientation": "v",
         "showlegend": false,
         "type": "scatter",
         "x": [
          "2022-01-22T00:00:00",
          "2022-01-23T00:00:00",
          "2022-01-24T00:00:00",
          "2022-01-25T00:00:00",
          "2022-01-26T00:00:00",
          "2022-01-27T00:00:00",
          "2022-01-28T00:00:00",
          "2022-01-29T00:00:00",
          "2022-01-30T00:00:00",
          "2022-01-31T00:00:00",
          "2022-02-01T00:00:00",
          "2022-02-02T00:00:00",
          "2022-02-03T00:00:00",
          "2022-02-04T00:00:00",
          "2022-02-05T00:00:00",
          "2022-02-06T00:00:00",
          "2022-02-07T00:00:00",
          "2022-02-08T00:00:00",
          "2022-02-09T00:00:00",
          "2022-02-10T00:00:00",
          "2022-02-11T00:00:00",
          "2022-02-12T00:00:00",
          "2022-02-13T00:00:00",
          "2022-02-14T00:00:00",
          "2022-02-15T00:00:00",
          "2022-02-16T00:00:00",
          "2022-02-17T00:00:00",
          "2022-02-18T00:00:00",
          "2022-02-19T00:00:00",
          "2022-02-20T00:00:00",
          "2022-02-21T00:00:00",
          "2022-02-22T00:00:00",
          "2022-02-23T00:00:00",
          "2022-02-24T00:00:00",
          "2022-02-25T00:00:00",
          "2022-02-26T00:00:00",
          "2022-02-27T00:00:00",
          "2022-02-28T00:00:00",
          "2022-03-01T00:00:00",
          "2022-03-02T00:00:00",
          "2022-03-03T00:00:00",
          "2022-03-04T00:00:00",
          "2022-03-05T00:00:00",
          "2022-03-06T00:00:00",
          "2022-03-07T00:00:00",
          "2022-03-08T00:00:00",
          "2022-03-09T00:00:00",
          "2022-03-10T00:00:00",
          "2022-03-11T00:00:00",
          "2022-03-12T00:00:00",
          "2022-03-13T00:00:00",
          "2022-03-14T00:00:00",
          "2022-03-15T00:00:00",
          "2022-03-16T00:00:00",
          "2022-03-17T00:00:00",
          "2022-03-18T00:00:00",
          "2022-03-19T00:00:00",
          "2022-03-20T00:00:00",
          "2022-03-21T00:00:00",
          "2022-03-22T00:00:00",
          "2022-03-23T00:00:00",
          "2022-03-24T00:00:00",
          "2022-03-25T00:00:00",
          "2022-03-26T00:00:00",
          "2022-03-27T00:00:00",
          "2022-03-28T00:00:00",
          "2022-03-29T00:00:00",
          "2022-03-30T00:00:00",
          "2022-03-31T00:00:00",
          "2022-04-01T00:00:00",
          "2022-04-02T00:00:00",
          "2022-04-03T00:00:00",
          "2022-04-04T00:00:00",
          "2022-04-05T00:00:00",
          "2022-04-06T00:00:00",
          "2022-04-07T00:00:00",
          "2022-04-08T00:00:00",
          "2022-04-09T00:00:00",
          "2022-04-10T00:00:00",
          "2022-04-11T00:00:00",
          "2022-04-12T00:00:00",
          "2022-04-13T00:00:00",
          "2022-04-14T00:00:00",
          "2022-04-15T00:00:00",
          "2022-04-16T00:00:00",
          "2022-04-17T00:00:00",
          "2022-04-18T00:00:00",
          "2022-04-19T00:00:00",
          "2022-04-20T00:00:00",
          "2022-04-21T00:00:00",
          "2022-04-22T00:00:00",
          "2022-04-23T00:00:00",
          "2022-04-24T00:00:00",
          "2022-04-25T00:00:00",
          "2022-04-26T00:00:00",
          "2022-04-27T00:00:00",
          "2022-04-28T00:00:00",
          "2022-04-29T00:00:00",
          "2022-04-30T00:00:00",
          "2022-05-01T00:00:00",
          "2022-05-02T00:00:00",
          "2022-05-03T00:00:00",
          "2022-05-04T00:00:00",
          "2022-05-05T00:00:00",
          "2022-05-06T00:00:00",
          "2022-05-07T00:00:00",
          "2022-05-08T00:00:00",
          "2022-05-09T00:00:00",
          "2022-05-10T00:00:00",
          "2022-05-11T00:00:00",
          "2022-05-12T00:00:00",
          "2022-05-13T00:00:00",
          "2022-05-14T00:00:00",
          "2022-05-15T00:00:00",
          "2022-05-16T00:00:00",
          "2022-05-17T00:00:00",
          "2022-05-18T00:00:00",
          "2022-05-19T00:00:00",
          "2022-05-20T00:00:00",
          "2022-05-21T00:00:00",
          "2022-05-22T00:00:00",
          "2022-05-23T00:00:00",
          "2022-05-24T00:00:00",
          "2022-05-25T00:00:00",
          "2022-05-26T00:00:00",
          "2022-05-27T00:00:00",
          "2022-05-28T00:00:00",
          "2022-05-29T00:00:00",
          "2022-05-30T00:00:00",
          "2022-05-31T00:00:00",
          "2022-06-01T00:00:00",
          "2022-06-02T00:00:00",
          "2022-06-03T00:00:00",
          "2022-06-04T00:00:00",
          "2022-06-05T00:00:00",
          "2022-06-06T00:00:00",
          "2022-06-07T00:00:00",
          "2022-06-08T00:00:00",
          "2022-06-09T00:00:00",
          "2022-06-10T00:00:00",
          "2022-06-11T00:00:00",
          "2022-06-12T00:00:00",
          "2022-06-13T00:00:00",
          "2022-06-14T00:00:00",
          "2022-06-15T00:00:00",
          "2022-06-16T00:00:00",
          "2022-06-17T00:00:00",
          "2022-06-18T00:00:00",
          "2022-06-19T00:00:00",
          "2022-06-20T00:00:00",
          "2022-06-21T00:00:00",
          "2022-06-22T00:00:00",
          "2022-06-23T00:00:00",
          "2022-06-24T00:00:00",
          "2022-06-25T00:00:00",
          "2022-06-26T00:00:00",
          "2022-06-27T00:00:00",
          "2022-06-28T00:00:00",
          "2022-06-29T00:00:00",
          "2022-06-30T00:00:00",
          "2022-07-01T00:00:00",
          "2022-07-02T00:00:00",
          "2022-07-03T00:00:00",
          "2022-07-04T00:00:00",
          "2022-07-05T00:00:00",
          "2022-07-06T00:00:00",
          "2022-07-07T00:00:00",
          "2022-07-08T00:00:00",
          "2022-07-09T00:00:00",
          "2022-07-10T00:00:00",
          "2022-07-11T00:00:00",
          "2022-07-12T00:00:00",
          "2022-07-13T00:00:00",
          "2022-07-14T00:00:00",
          "2022-07-15T00:00:00",
          "2022-07-16T00:00:00",
          "2022-07-17T00:00:00",
          "2022-07-18T00:00:00",
          "2022-07-19T00:00:00",
          "2022-07-20T00:00:00"
         ],
         "xaxis": "x",
         "y": [
          47.6,
          43.32,
          45.53,
          41.79,
          41.26,
          42.21,
          41.58,
          38.51,
          46.95,
          38.56,
          41.64,
          43.85,
          43.46,
          36.29,
          50.35,
          51.71,
          41.51,
          36.83,
          40.3,
          40.37,
          44.77,
          43,
          49.36,
          38.26,
          41.26,
          40.18,
          41.21,
          43.94,
          45.86,
          42.57,
          38.34,
          39.22,
          42.6,
          40.9,
          39.95,
          40.52,
          42.43,
          39.04,
          40.83,
          37.72,
          39.01,
          39.9,
          40.43,
          46.7,
          39.09,
          36.52,
          41.11,
          45.28,
          44.86,
          46.85,
          47.12,
          41.91,
          40.94,
          40.07,
          35.69,
          38.98,
          40.47,
          39.24,
          39.55,
          36.7,
          35.24,
          39.05,
          43.46,
          42.35,
          43.75,
          40.78,
          42.86,
          39.13,
          38.23,
          43.07,
          51.2,
          46.27,
          41.17,
          39.87,
          43.43,
          44.31,
          45.93,
          40.69,
          40.28,
          42.39,
          37.42,
          39,
          42.21,
          42.96,
          42.55,
          46.46,
          40.47,
          37.52,
          42.33,
          39.71,
          42.53,
          42.34,
          42.74,
          43.35,
          40.02,
          37.24,
          36.89,
          40.33,
          44.97,
          48.29,
          40.65,
          38.23,
          36.01,
          39.82,
          44.89,
          42.11,
          55.02,
          42.93,
          45.54,
          38.58,
          39.38,
          44.57,
          40.7,
          36.75,
          44.44,
          41.12,
          39.5,
          40.87,
          42.78,
          43.15,
          35.86,
          40.97,
          36.6,
          40.17,
          43.53,
          44.04,
          41.09,
          43.17,
          41.25,
          42.85,
          41.39,
          39.62,
          43.43,
          47.39,
          38.5,
          37.99,
          40.99,
          42.86,
          39.36,
          45.56,
          38.68,
          39.9,
          41.55,
          40.81,
          42.26,
          40.86,
          44.1,
          46.62,
          39.87,
          41.81,
          43.52,
          42.85,
          41.77,
          41.16,
          47.77,
          44.14,
          40.2,
          41.01,
          43.46,
          38.94,
          43.04,
          41.89,
          39.07,
          41.76,
          40.65,
          44.77,
          42.36,
          43.44,
          41.76,
          46.62,
          41.03,
          41.33,
          39.55,
          47.98,
          44.81,
          48.27,
          50.55,
          43.7,
          42.78,
          48.63
         ],
         "yaxis": "y"
        },
        {
         "hovertemplate": "<b>OLS trendline</b><br>Avg Callout Pct Diff = 5.98139e-08 * publish_time + -56.738<br>R<sup>2</sup>=0.006539<br><br>publish_time=%{x}<br>Avg Callout Pct Diff=%{y} <b>(trend)</b><extra></extra>",
         "legendgroup": "",
         "marker": {
          "color": "#636efa",
          "symbol": "circle"
         },
         "mode": "lines",
         "name": "",
         "showlegend": false,
         "type": "scatter",
         "x": [
          "2022-01-22T00:00:00",
          "2022-01-23T00:00:00",
          "2022-01-24T00:00:00",
          "2022-01-25T00:00:00",
          "2022-01-26T00:00:00",
          "2022-01-27T00:00:00",
          "2022-01-28T00:00:00",
          "2022-01-29T00:00:00",
          "2022-01-30T00:00:00",
          "2022-01-31T00:00:00",
          "2022-02-01T00:00:00",
          "2022-02-02T00:00:00",
          "2022-02-03T00:00:00",
          "2022-02-04T00:00:00",
          "2022-02-05T00:00:00",
          "2022-02-06T00:00:00",
          "2022-02-07T00:00:00",
          "2022-02-08T00:00:00",
          "2022-02-09T00:00:00",
          "2022-02-10T00:00:00",
          "2022-02-11T00:00:00",
          "2022-02-12T00:00:00",
          "2022-02-13T00:00:00",
          "2022-02-14T00:00:00",
          "2022-02-15T00:00:00",
          "2022-02-16T00:00:00",
          "2022-02-17T00:00:00",
          "2022-02-18T00:00:00",
          "2022-02-19T00:00:00",
          "2022-02-20T00:00:00",
          "2022-02-21T00:00:00",
          "2022-02-22T00:00:00",
          "2022-02-23T00:00:00",
          "2022-02-24T00:00:00",
          "2022-02-25T00:00:00",
          "2022-02-26T00:00:00",
          "2022-02-27T00:00:00",
          "2022-02-28T00:00:00",
          "2022-03-01T00:00:00",
          "2022-03-02T00:00:00",
          "2022-03-03T00:00:00",
          "2022-03-04T00:00:00",
          "2022-03-05T00:00:00",
          "2022-03-06T00:00:00",
          "2022-03-07T00:00:00",
          "2022-03-08T00:00:00",
          "2022-03-09T00:00:00",
          "2022-03-10T00:00:00",
          "2022-03-11T00:00:00",
          "2022-03-12T00:00:00",
          "2022-03-13T00:00:00",
          "2022-03-14T00:00:00",
          "2022-03-15T00:00:00",
          "2022-03-16T00:00:00",
          "2022-03-17T00:00:00",
          "2022-03-18T00:00:00",
          "2022-03-19T00:00:00",
          "2022-03-20T00:00:00",
          "2022-03-21T00:00:00",
          "2022-03-22T00:00:00",
          "2022-03-23T00:00:00",
          "2022-03-24T00:00:00",
          "2022-03-25T00:00:00",
          "2022-03-26T00:00:00",
          "2022-03-27T00:00:00",
          "2022-03-28T00:00:00",
          "2022-03-29T00:00:00",
          "2022-03-30T00:00:00",
          "2022-03-31T00:00:00",
          "2022-04-01T00:00:00",
          "2022-04-02T00:00:00",
          "2022-04-03T00:00:00",
          "2022-04-04T00:00:00",
          "2022-04-05T00:00:00",
          "2022-04-06T00:00:00",
          "2022-04-07T00:00:00",
          "2022-04-08T00:00:00",
          "2022-04-09T00:00:00",
          "2022-04-10T00:00:00",
          "2022-04-11T00:00:00",
          "2022-04-12T00:00:00",
          "2022-04-13T00:00:00",
          "2022-04-14T00:00:00",
          "2022-04-15T00:00:00",
          "2022-04-16T00:00:00",
          "2022-04-17T00:00:00",
          "2022-04-18T00:00:00",
          "2022-04-19T00:00:00",
          "2022-04-20T00:00:00",
          "2022-04-21T00:00:00",
          "2022-04-22T00:00:00",
          "2022-04-23T00:00:00",
          "2022-04-24T00:00:00",
          "2022-04-25T00:00:00",
          "2022-04-26T00:00:00",
          "2022-04-27T00:00:00",
          "2022-04-28T00:00:00",
          "2022-04-29T00:00:00",
          "2022-04-30T00:00:00",
          "2022-05-01T00:00:00",
          "2022-05-02T00:00:00",
          "2022-05-03T00:00:00",
          "2022-05-04T00:00:00",
          "2022-05-05T00:00:00",
          "2022-05-06T00:00:00",
          "2022-05-07T00:00:00",
          "2022-05-08T00:00:00",
          "2022-05-09T00:00:00",
          "2022-05-10T00:00:00",
          "2022-05-11T00:00:00",
          "2022-05-12T00:00:00",
          "2022-05-13T00:00:00",
          "2022-05-14T00:00:00",
          "2022-05-15T00:00:00",
          "2022-05-16T00:00:00",
          "2022-05-17T00:00:00",
          "2022-05-18T00:00:00",
          "2022-05-19T00:00:00",
          "2022-05-20T00:00:00",
          "2022-05-21T00:00:00",
          "2022-05-22T00:00:00",
          "2022-05-23T00:00:00",
          "2022-05-24T00:00:00",
          "2022-05-25T00:00:00",
          "2022-05-26T00:00:00",
          "2022-05-27T00:00:00",
          "2022-05-28T00:00:00",
          "2022-05-29T00:00:00",
          "2022-05-30T00:00:00",
          "2022-05-31T00:00:00",
          "2022-06-01T00:00:00",
          "2022-06-02T00:00:00",
          "2022-06-03T00:00:00",
          "2022-06-04T00:00:00",
          "2022-06-05T00:00:00",
          "2022-06-06T00:00:00",
          "2022-06-07T00:00:00",
          "2022-06-08T00:00:00",
          "2022-06-09T00:00:00",
          "2022-06-10T00:00:00",
          "2022-06-11T00:00:00",
          "2022-06-12T00:00:00",
          "2022-06-13T00:00:00",
          "2022-06-14T00:00:00",
          "2022-06-15T00:00:00",
          "2022-06-16T00:00:00",
          "2022-06-17T00:00:00",
          "2022-06-18T00:00:00",
          "2022-06-19T00:00:00",
          "2022-06-20T00:00:00",
          "2022-06-21T00:00:00",
          "2022-06-22T00:00:00",
          "2022-06-23T00:00:00",
          "2022-06-24T00:00:00",
          "2022-06-25T00:00:00",
          "2022-06-26T00:00:00",
          "2022-06-27T00:00:00",
          "2022-06-28T00:00:00",
          "2022-06-29T00:00:00",
          "2022-06-30T00:00:00",
          "2022-07-01T00:00:00",
          "2022-07-02T00:00:00",
          "2022-07-03T00:00:00",
          "2022-07-04T00:00:00",
          "2022-07-05T00:00:00",
          "2022-07-06T00:00:00",
          "2022-07-07T00:00:00",
          "2022-07-08T00:00:00",
          "2022-07-09T00:00:00",
          "2022-07-10T00:00:00",
          "2022-07-11T00:00:00",
          "2022-07-12T00:00:00",
          "2022-07-13T00:00:00",
          "2022-07-14T00:00:00",
          "2022-07-15T00:00:00",
          "2022-07-16T00:00:00",
          "2022-07-17T00:00:00",
          "2022-07-18T00:00:00",
          "2022-07-19T00:00:00",
          "2022-07-20T00:00:00"
         ],
         "xaxis": "x",
         "y": [
          41.52480478821022,
          41.529972704915465,
          41.53514062162071,
          41.54030853832596,
          41.545476455031206,
          41.55064437173645,
          41.5558122884417,
          41.56098020514695,
          41.566148121852194,
          41.57131603855744,
          41.57648395526269,
          41.581651871967935,
          41.58681978867318,
          41.59198770537843,
          41.597155622083676,
          41.60232353878894,
          41.607491455494184,
          41.61265937219943,
          41.61782728890468,
          41.622995205609925,
          41.62816312231517,
          41.63333103902042,
          41.638498955725666,
          41.64366687243091,
          41.64883478913616,
          41.65400270584141,
          41.659170622546654,
          41.6643385392519,
          41.66950645595715,
          41.674674372662395,
          41.67984228936764,
          41.68501020607289,
          41.690178122778136,
          41.69534603948338,
          41.70051395618863,
          41.70568187289388,
          41.71084978959912,
          41.71601770630437,
          41.72118562300962,
          41.726353539714864,
          41.73152145642011,
          41.73668937312536,
          41.741857289830605,
          41.74702520653585,
          41.7521931232411,
          41.757361039946346,
          41.76252895665159,
          41.76769687335684,
          41.77286479006209,
          41.778032706767334,
          41.78320062347258,
          41.78836854017783,
          41.793536456883075,
          41.79870437358832,
          41.80387229029357,
          41.809040206998816,
          41.81420812370406,
          41.81937604040931,
          41.82454395711457,
          41.82971187381982,
          41.834879790525065,
          41.84004770723031,
          41.84521562393556,
          41.850383540640806,
          41.85555145734605,
          41.8607193740513,
          41.86588729075655,
          41.871055207461794,
          41.87622312416704,
          41.88139104087229,
          41.886558957577535,
          41.89172687428278,
          41.89689479098803,
          41.902062707693275,
          41.90723062439852,
          41.91239854110377,
          41.917566457809016,
          41.92273437451426,
          41.92790229121951,
          41.93307020792476,
          41.938238124630004,
          41.94340604133525,
          41.9485739580405,
          41.953741874745745,
          41.95890979145099,
          41.96407770815624,
          41.969245624861486,
          41.97441354156673,
          41.97958145827198,
          41.98474937497723,
          41.989917291682474,
          41.99508520838772,
          42.00025312509297,
          42.005421041798215,
          42.01058895850346,
          42.01575687520871,
          42.020924791913956,
          42.0260927086192,
          42.03126062532445,
          42.0364285420297,
          42.041596458734944,
          42.046764375440205,
          42.05193229214545,
          42.0571002088507,
          42.062268125555946,
          42.06743604226119,
          42.07260395896644,
          42.07777187567169,
          42.08293979237693,
          42.08810770908218,
          42.09327562578743,
          42.098443542492674,
          42.10361145919792,
          42.10877937590317,
          42.113947292608415,
          42.11911520931366,
          42.12428312601891,
          42.129451042724156,
          42.1346189594294,
          42.13978687613465,
          42.1449547928399,
          42.150122709545144,
          42.15529062625039,
          42.16045854295564,
          42.165626459660885,
          42.17079437636613,
          42.17596229307138,
          42.181130209776626,
          42.18629812648187,
          42.19146604318712,
          42.19663395989237,
          42.201801876597614,
          42.20696979330286,
          42.21213771000811,
          42.217305626713355,
          42.2224735434186,
          42.22764146012385,
          42.232809376829096,
          42.23797729353434,
          42.24314521023959,
          42.248313126944836,
          42.25348104365008,
          42.25864896035533,
          42.26381687706058,
          42.26898479376584,
          42.274152710471085,
          42.27932062717633,
          42.28448854388158,
          42.289656460586826,
          42.29482437729207,
          42.29999229399732,
          42.30516021070257,
          42.310328127407814,
          42.31549604411306,
          42.32066396081831,
          42.325831877523555,
          42.3309997942288,
          42.33616771093405,
          42.341335627639296,
          42.34650354434454,
          42.35167146104979,
          42.35683937775504,
          42.362007294460284,
          42.36717521116553,
          42.37234312787078,
          42.377511044576025,
          42.38267896128127,
          42.38784687798652,
          42.393014794691766,
          42.39818271139701,
          42.40335062810226,
          42.40851854480751,
          42.413686461512754,
          42.418854378218,
          42.42402229492325,
          42.429190211628494,
          42.43435812833374,
          42.43952604503899,
          42.444693961744235,
          42.44986187844948
         ],
         "yaxis": "y"
        }
       ],
       "layout": {
        "legend": {
         "tracegroupgap": 0
        },
        "margin": {
         "t": 60
        },
        "template": {
         "data": {
          "bar": [
           {
            "error_x": {
             "color": "#2a3f5f"
            },
            "error_y": {
             "color": "#2a3f5f"
            },
            "marker": {
             "line": {
              "color": "#E5ECF6",
              "width": 0.5
             },
             "pattern": {
              "fillmode": "overlay",
              "size": 10,
              "solidity": 0.2
             }
            },
            "type": "bar"
           }
          ],
          "barpolar": [
           {
            "marker": {
             "line": {
              "color": "#E5ECF6",
              "width": 0.5
             },
             "pattern": {
              "fillmode": "overlay",
              "size": 10,
              "solidity": 0.2
             }
            },
            "type": "barpolar"
           }
          ],
          "carpet": [
           {
            "aaxis": {
             "endlinecolor": "#2a3f5f",
             "gridcolor": "white",
             "linecolor": "white",
             "minorgridcolor": "white",
             "startlinecolor": "#2a3f5f"
            },
            "baxis": {
             "endlinecolor": "#2a3f5f",
             "gridcolor": "white",
             "linecolor": "white",
             "minorgridcolor": "white",
             "startlinecolor": "#2a3f5f"
            },
            "type": "carpet"
           }
          ],
          "choropleth": [
           {
            "colorbar": {
             "outlinewidth": 0,
             "ticks": ""
            },
            "type": "choropleth"
           }
          ],
          "contour": [
           {
            "colorbar": {
             "outlinewidth": 0,
             "ticks": ""
            },
            "colorscale": [
             [
              0,
              "#0d0887"
             ],
             [
              0.1111111111111111,
              "#46039f"
             ],
             [
              0.2222222222222222,
              "#7201a8"
             ],
             [
              0.3333333333333333,
              "#9c179e"
             ],
             [
              0.4444444444444444,
              "#bd3786"
             ],
             [
              0.5555555555555556,
              "#d8576b"
             ],
             [
              0.6666666666666666,
              "#ed7953"
             ],
             [
              0.7777777777777778,
              "#fb9f3a"
             ],
             [
              0.8888888888888888,
              "#fdca26"
             ],
             [
              1,
              "#f0f921"
             ]
            ],
            "type": "contour"
           }
          ],
          "contourcarpet": [
           {
            "colorbar": {
             "outlinewidth": 0,
             "ticks": ""
            },
            "type": "contourcarpet"
           }
          ],
          "heatmap": [
           {
            "colorbar": {
             "outlinewidth": 0,
             "ticks": ""
            },
            "colorscale": [
             [
              0,
              "#0d0887"
             ],
             [
              0.1111111111111111,
              "#46039f"
             ],
             [
              0.2222222222222222,
              "#7201a8"
             ],
             [
              0.3333333333333333,
              "#9c179e"
             ],
             [
              0.4444444444444444,
              "#bd3786"
             ],
             [
              0.5555555555555556,
              "#d8576b"
             ],
             [
              0.6666666666666666,
              "#ed7953"
             ],
             [
              0.7777777777777778,
              "#fb9f3a"
             ],
             [
              0.8888888888888888,
              "#fdca26"
             ],
             [
              1,
              "#f0f921"
             ]
            ],
            "type": "heatmap"
           }
          ],
          "heatmapgl": [
           {
            "colorbar": {
             "outlinewidth": 0,
             "ticks": ""
            },
            "colorscale": [
             [
              0,
              "#0d0887"
             ],
             [
              0.1111111111111111,
              "#46039f"
             ],
             [
              0.2222222222222222,
              "#7201a8"
             ],
             [
              0.3333333333333333,
              "#9c179e"
             ],
             [
              0.4444444444444444,
              "#bd3786"
             ],
             [
              0.5555555555555556,
              "#d8576b"
             ],
             [
              0.6666666666666666,
              "#ed7953"
             ],
             [
              0.7777777777777778,
              "#fb9f3a"
             ],
             [
              0.8888888888888888,
              "#fdca26"
             ],
             [
              1,
              "#f0f921"
             ]
            ],
            "type": "heatmapgl"
           }
          ],
          "histogram": [
           {
            "marker": {
             "pattern": {
              "fillmode": "overlay",
              "size": 10,
              "solidity": 0.2
             }
            },
            "type": "histogram"
           }
          ],
          "histogram2d": [
           {
            "colorbar": {
             "outlinewidth": 0,
             "ticks": ""
            },
            "colorscale": [
             [
              0,
              "#0d0887"
             ],
             [
              0.1111111111111111,
              "#46039f"
             ],
             [
              0.2222222222222222,
              "#7201a8"
             ],
             [
              0.3333333333333333,
              "#9c179e"
             ],
             [
              0.4444444444444444,
              "#bd3786"
             ],
             [
              0.5555555555555556,
              "#d8576b"
             ],
             [
              0.6666666666666666,
              "#ed7953"
             ],
             [
              0.7777777777777778,
              "#fb9f3a"
             ],
             [
              0.8888888888888888,
              "#fdca26"
             ],
             [
              1,
              "#f0f921"
             ]
            ],
            "type": "histogram2d"
           }
          ],
          "histogram2dcontour": [
           {
            "colorbar": {
             "outlinewidth": 0,
             "ticks": ""
            },
            "colorscale": [
             [
              0,
              "#0d0887"
             ],
             [
              0.1111111111111111,
              "#46039f"
             ],
             [
              0.2222222222222222,
              "#7201a8"
             ],
             [
              0.3333333333333333,
              "#9c179e"
             ],
             [
              0.4444444444444444,
              "#bd3786"
             ],
             [
              0.5555555555555556,
              "#d8576b"
             ],
             [
              0.6666666666666666,
              "#ed7953"
             ],
             [
              0.7777777777777778,
              "#fb9f3a"
             ],
             [
              0.8888888888888888,
              "#fdca26"
             ],
             [
              1,
              "#f0f921"
             ]
            ],
            "type": "histogram2dcontour"
           }
          ],
          "mesh3d": [
           {
            "colorbar": {
             "outlinewidth": 0,
             "ticks": ""
            },
            "type": "mesh3d"
           }
          ],
          "parcoords": [
           {
            "line": {
             "colorbar": {
              "outlinewidth": 0,
              "ticks": ""
             }
            },
            "type": "parcoords"
           }
          ],
          "pie": [
           {
            "automargin": true,
            "type": "pie"
           }
          ],
          "scatter": [
           {
            "marker": {
             "colorbar": {
              "outlinewidth": 0,
              "ticks": ""
             }
            },
            "type": "scatter"
           }
          ],
          "scatter3d": [
           {
            "line": {
             "colorbar": {
              "outlinewidth": 0,
              "ticks": ""
             }
            },
            "marker": {
             "colorbar": {
              "outlinewidth": 0,
              "ticks": ""
             }
            },
            "type": "scatter3d"
           }
          ],
          "scattercarpet": [
           {
            "marker": {
             "colorbar": {
              "outlinewidth": 0,
              "ticks": ""
             }
            },
            "type": "scattercarpet"
           }
          ],
          "scattergeo": [
           {
            "marker": {
             "colorbar": {
              "outlinewidth": 0,
              "ticks": ""
             }
            },
            "type": "scattergeo"
           }
          ],
          "scattergl": [
           {
            "marker": {
             "colorbar": {
              "outlinewidth": 0,
              "ticks": ""
             }
            },
            "type": "scattergl"
           }
          ],
          "scattermapbox": [
           {
            "marker": {
             "colorbar": {
              "outlinewidth": 0,
              "ticks": ""
             }
            },
            "type": "scattermapbox"
           }
          ],
          "scatterpolar": [
           {
            "marker": {
             "colorbar": {
              "outlinewidth": 0,
              "ticks": ""
             }
            },
            "type": "scatterpolar"
           }
          ],
          "scatterpolargl": [
           {
            "marker": {
             "colorbar": {
              "outlinewidth": 0,
              "ticks": ""
             }
            },
            "type": "scatterpolargl"
           }
          ],
          "scatterternary": [
           {
            "marker": {
             "colorbar": {
              "outlinewidth": 0,
              "ticks": ""
             }
            },
            "type": "scatterternary"
           }
          ],
          "surface": [
           {
            "colorbar": {
             "outlinewidth": 0,
             "ticks": ""
            },
            "colorscale": [
             [
              0,
              "#0d0887"
             ],
             [
              0.1111111111111111,
              "#46039f"
             ],
             [
              0.2222222222222222,
              "#7201a8"
             ],
             [
              0.3333333333333333,
              "#9c179e"
             ],
             [
              0.4444444444444444,
              "#bd3786"
             ],
             [
              0.5555555555555556,
              "#d8576b"
             ],
             [
              0.6666666666666666,
              "#ed7953"
             ],
             [
              0.7777777777777778,
              "#fb9f3a"
             ],
             [
              0.8888888888888888,
              "#fdca26"
             ],
             [
              1,
              "#f0f921"
             ]
            ],
            "type": "surface"
           }
          ],
          "table": [
           {
            "cells": {
             "fill": {
              "color": "#EBF0F8"
             },
             "line": {
              "color": "white"
             }
            },
            "header": {
             "fill": {
              "color": "#C8D4E3"
             },
             "line": {
              "color": "white"
             }
            },
            "type": "table"
           }
          ]
         },
         "layout": {
          "annotationdefaults": {
           "arrowcolor": "#2a3f5f",
           "arrowhead": 0,
           "arrowwidth": 1
          },
          "autotypenumbers": "strict",
          "coloraxis": {
           "colorbar": {
            "outlinewidth": 0,
            "ticks": ""
           }
          },
          "colorscale": {
           "diverging": [
            [
             0,
             "#8e0152"
            ],
            [
             0.1,
             "#c51b7d"
            ],
            [
             0.2,
             "#de77ae"
            ],
            [
             0.3,
             "#f1b6da"
            ],
            [
             0.4,
             "#fde0ef"
            ],
            [
             0.5,
             "#f7f7f7"
            ],
            [
             0.6,
             "#e6f5d0"
            ],
            [
             0.7,
             "#b8e186"
            ],
            [
             0.8,
             "#7fbc41"
            ],
            [
             0.9,
             "#4d9221"
            ],
            [
             1,
             "#276419"
            ]
           ],
           "sequential": [
            [
             0,
             "#0d0887"
            ],
            [
             0.1111111111111111,
             "#46039f"
            ],
            [
             0.2222222222222222,
             "#7201a8"
            ],
            [
             0.3333333333333333,
             "#9c179e"
            ],
            [
             0.4444444444444444,
             "#bd3786"
            ],
            [
             0.5555555555555556,
             "#d8576b"
            ],
            [
             0.6666666666666666,
             "#ed7953"
            ],
            [
             0.7777777777777778,
             "#fb9f3a"
            ],
            [
             0.8888888888888888,
             "#fdca26"
            ],
            [
             1,
             "#f0f921"
            ]
           ],
           "sequentialminus": [
            [
             0,
             "#0d0887"
            ],
            [
             0.1111111111111111,
             "#46039f"
            ],
            [
             0.2222222222222222,
             "#7201a8"
            ],
            [
             0.3333333333333333,
             "#9c179e"
            ],
            [
             0.4444444444444444,
             "#bd3786"
            ],
            [
             0.5555555555555556,
             "#d8576b"
            ],
            [
             0.6666666666666666,
             "#ed7953"
            ],
            [
             0.7777777777777778,
             "#fb9f3a"
            ],
            [
             0.8888888888888888,
             "#fdca26"
            ],
            [
             1,
             "#f0f921"
            ]
           ]
          },
          "colorway": [
           "#636efa",
           "#EF553B",
           "#00cc96",
           "#ab63fa",
           "#FFA15A",
           "#19d3f3",
           "#FF6692",
           "#B6E880",
           "#FF97FF",
           "#FECB52"
          ],
          "font": {
           "color": "#2a3f5f"
          },
          "geo": {
           "bgcolor": "white",
           "lakecolor": "white",
           "landcolor": "#E5ECF6",
           "showlakes": true,
           "showland": true,
           "subunitcolor": "white"
          },
          "hoverlabel": {
           "align": "left"
          },
          "hovermode": "closest",
          "mapbox": {
           "style": "light"
          },
          "paper_bgcolor": "white",
          "plot_bgcolor": "#E5ECF6",
          "polar": {
           "angularaxis": {
            "gridcolor": "white",
            "linecolor": "white",
            "ticks": ""
           },
           "bgcolor": "#E5ECF6",
           "radialaxis": {
            "gridcolor": "white",
            "linecolor": "white",
            "ticks": ""
           }
          },
          "scene": {
           "xaxis": {
            "backgroundcolor": "#E5ECF6",
            "gridcolor": "white",
            "gridwidth": 2,
            "linecolor": "white",
            "showbackground": true,
            "ticks": "",
            "zerolinecolor": "white"
           },
           "yaxis": {
            "backgroundcolor": "#E5ECF6",
            "gridcolor": "white",
            "gridwidth": 2,
            "linecolor": "white",
            "showbackground": true,
            "ticks": "",
            "zerolinecolor": "white"
           },
           "zaxis": {
            "backgroundcolor": "#E5ECF6",
            "gridcolor": "white",
            "gridwidth": 2,
            "linecolor": "white",
            "showbackground": true,
            "ticks": "",
            "zerolinecolor": "white"
           }
          },
          "shapedefaults": {
           "line": {
            "color": "#2a3f5f"
           }
          },
          "ternary": {
           "aaxis": {
            "gridcolor": "white",
            "linecolor": "white",
            "ticks": ""
           },
           "baxis": {
            "gridcolor": "white",
            "linecolor": "white",
            "ticks": ""
           },
           "bgcolor": "#E5ECF6",
           "caxis": {
            "gridcolor": "white",
            "linecolor": "white",
            "ticks": ""
           }
          },
          "title": {
           "x": 0.05
          },
          "xaxis": {
           "automargin": true,
           "gridcolor": "white",
           "linecolor": "white",
           "ticks": "",
           "title": {
            "standoff": 15
           },
           "zerolinecolor": "white",
           "zerolinewidth": 2
          },
          "yaxis": {
           "automargin": true,
           "gridcolor": "white",
           "linecolor": "white",
           "ticks": "",
           "title": {
            "standoff": 15
           },
           "zerolinecolor": "white",
           "zerolinewidth": 2
          }
         }
        },
        "xaxis": {
         "anchor": "y",
         "domain": [
          0,
          1
         ],
         "title": {
          "text": "publish_time"
         }
        },
        "yaxis": {
         "anchor": "x",
         "domain": [
          0,
          1
         ],
         "title": {
          "text": "Avg Callout Pct Diff"
         }
        }
       }
      },
      "text/html": [
       "<div>                            <div id=\"d6690a69-da03-4ca1-957f-3f478a98577a\" class=\"plotly-graph-div\" style=\"height:525px; width:100%;\"></div>            <script type=\"text/javascript\">                require([\"plotly\"], function(Plotly) {                    window.PLOTLYENV=window.PLOTLYENV || {};                                    if (document.getElementById(\"d6690a69-da03-4ca1-957f-3f478a98577a\")) {                    Plotly.newPlot(                        \"d6690a69-da03-4ca1-957f-3f478a98577a\",                        [{\"hovertemplate\":\"publish_time=%{x}<br>Avg Callout Pct Diff=%{y}<extra></extra>\",\"legendgroup\":\"\",\"marker\":{\"color\":\"#636efa\",\"symbol\":\"circle\"},\"mode\":\"markers\",\"name\":\"\",\"orientation\":\"v\",\"showlegend\":false,\"x\":[\"2022-01-22T00:00:00\",\"2022-01-23T00:00:00\",\"2022-01-24T00:00:00\",\"2022-01-25T00:00:00\",\"2022-01-26T00:00:00\",\"2022-01-27T00:00:00\",\"2022-01-28T00:00:00\",\"2022-01-29T00:00:00\",\"2022-01-30T00:00:00\",\"2022-01-31T00:00:00\",\"2022-02-01T00:00:00\",\"2022-02-02T00:00:00\",\"2022-02-03T00:00:00\",\"2022-02-04T00:00:00\",\"2022-02-05T00:00:00\",\"2022-02-06T00:00:00\",\"2022-02-07T00:00:00\",\"2022-02-08T00:00:00\",\"2022-02-09T00:00:00\",\"2022-02-10T00:00:00\",\"2022-02-11T00:00:00\",\"2022-02-12T00:00:00\",\"2022-02-13T00:00:00\",\"2022-02-14T00:00:00\",\"2022-02-15T00:00:00\",\"2022-02-16T00:00:00\",\"2022-02-17T00:00:00\",\"2022-02-18T00:00:00\",\"2022-02-19T00:00:00\",\"2022-02-20T00:00:00\",\"2022-02-21T00:00:00\",\"2022-02-22T00:00:00\",\"2022-02-23T00:00:00\",\"2022-02-24T00:00:00\",\"2022-02-25T00:00:00\",\"2022-02-26T00:00:00\",\"2022-02-27T00:00:00\",\"2022-02-28T00:00:00\",\"2022-03-01T00:00:00\",\"2022-03-02T00:00:00\",\"2022-03-03T00:00:00\",\"2022-03-04T00:00:00\",\"2022-03-05T00:00:00\",\"2022-03-06T00:00:00\",\"2022-03-07T00:00:00\",\"2022-03-08T00:00:00\",\"2022-03-09T00:00:00\",\"2022-03-10T00:00:00\",\"2022-03-11T00:00:00\",\"2022-03-12T00:00:00\",\"2022-03-13T00:00:00\",\"2022-03-14T00:00:00\",\"2022-03-15T00:00:00\",\"2022-03-16T00:00:00\",\"2022-03-17T00:00:00\",\"2022-03-18T00:00:00\",\"2022-03-19T00:00:00\",\"2022-03-20T00:00:00\",\"2022-03-21T00:00:00\",\"2022-03-22T00:00:00\",\"2022-03-23T00:00:00\",\"2022-03-24T00:00:00\",\"2022-03-25T00:00:00\",\"2022-03-26T00:00:00\",\"2022-03-27T00:00:00\",\"2022-03-28T00:00:00\",\"2022-03-29T00:00:00\",\"2022-03-30T00:00:00\",\"2022-03-31T00:00:00\",\"2022-04-01T00:00:00\",\"2022-04-02T00:00:00\",\"2022-04-03T00:00:00\",\"2022-04-04T00:00:00\",\"2022-04-05T00:00:00\",\"2022-04-06T00:00:00\",\"2022-04-07T00:00:00\",\"2022-04-08T00:00:00\",\"2022-04-09T00:00:00\",\"2022-04-10T00:00:00\",\"2022-04-11T00:00:00\",\"2022-04-12T00:00:00\",\"2022-04-13T00:00:00\",\"2022-04-14T00:00:00\",\"2022-04-15T00:00:00\",\"2022-04-16T00:00:00\",\"2022-04-17T00:00:00\",\"2022-04-18T00:00:00\",\"2022-04-19T00:00:00\",\"2022-04-20T00:00:00\",\"2022-04-21T00:00:00\",\"2022-04-22T00:00:00\",\"2022-04-23T00:00:00\",\"2022-04-24T00:00:00\",\"2022-04-25T00:00:00\",\"2022-04-26T00:00:00\",\"2022-04-27T00:00:00\",\"2022-04-28T00:00:00\",\"2022-04-29T00:00:00\",\"2022-04-30T00:00:00\",\"2022-05-01T00:00:00\",\"2022-05-02T00:00:00\",\"2022-05-03T00:00:00\",\"2022-05-04T00:00:00\",\"2022-05-05T00:00:00\",\"2022-05-06T00:00:00\",\"2022-05-07T00:00:00\",\"2022-05-08T00:00:00\",\"2022-05-09T00:00:00\",\"2022-05-10T00:00:00\",\"2022-05-11T00:00:00\",\"2022-05-12T00:00:00\",\"2022-05-13T00:00:00\",\"2022-05-14T00:00:00\",\"2022-05-15T00:00:00\",\"2022-05-16T00:00:00\",\"2022-05-17T00:00:00\",\"2022-05-18T00:00:00\",\"2022-05-19T00:00:00\",\"2022-05-20T00:00:00\",\"2022-05-21T00:00:00\",\"2022-05-22T00:00:00\",\"2022-05-23T00:00:00\",\"2022-05-24T00:00:00\",\"2022-05-25T00:00:00\",\"2022-05-26T00:00:00\",\"2022-05-27T00:00:00\",\"2022-05-28T00:00:00\",\"2022-05-29T00:00:00\",\"2022-05-30T00:00:00\",\"2022-05-31T00:00:00\",\"2022-06-01T00:00:00\",\"2022-06-02T00:00:00\",\"2022-06-03T00:00:00\",\"2022-06-04T00:00:00\",\"2022-06-05T00:00:00\",\"2022-06-06T00:00:00\",\"2022-06-07T00:00:00\",\"2022-06-08T00:00:00\",\"2022-06-09T00:00:00\",\"2022-06-10T00:00:00\",\"2022-06-11T00:00:00\",\"2022-06-12T00:00:00\",\"2022-06-13T00:00:00\",\"2022-06-14T00:00:00\",\"2022-06-15T00:00:00\",\"2022-06-16T00:00:00\",\"2022-06-17T00:00:00\",\"2022-06-18T00:00:00\",\"2022-06-19T00:00:00\",\"2022-06-20T00:00:00\",\"2022-06-21T00:00:00\",\"2022-06-22T00:00:00\",\"2022-06-23T00:00:00\",\"2022-06-24T00:00:00\",\"2022-06-25T00:00:00\",\"2022-06-26T00:00:00\",\"2022-06-27T00:00:00\",\"2022-06-28T00:00:00\",\"2022-06-29T00:00:00\",\"2022-06-30T00:00:00\",\"2022-07-01T00:00:00\",\"2022-07-02T00:00:00\",\"2022-07-03T00:00:00\",\"2022-07-04T00:00:00\",\"2022-07-05T00:00:00\",\"2022-07-06T00:00:00\",\"2022-07-07T00:00:00\",\"2022-07-08T00:00:00\",\"2022-07-09T00:00:00\",\"2022-07-10T00:00:00\",\"2022-07-11T00:00:00\",\"2022-07-12T00:00:00\",\"2022-07-13T00:00:00\",\"2022-07-14T00:00:00\",\"2022-07-15T00:00:00\",\"2022-07-16T00:00:00\",\"2022-07-17T00:00:00\",\"2022-07-18T00:00:00\",\"2022-07-19T00:00:00\",\"2022-07-20T00:00:00\"],\"xaxis\":\"x\",\"y\":[47.6,43.32,45.53,41.79,41.26,42.21,41.58,38.51,46.95,38.56,41.64,43.85,43.46,36.29,50.35,51.71,41.51,36.83,40.3,40.37,44.77,43.0,49.36,38.26,41.26,40.18,41.21,43.94,45.86,42.57,38.34,39.22,42.6,40.9,39.95,40.52,42.43,39.04,40.83,37.72,39.01,39.9,40.43,46.7,39.09,36.52,41.11,45.28,44.86,46.85,47.12,41.91,40.94,40.07,35.69,38.98,40.47,39.24,39.55,36.7,35.24,39.05,43.46,42.35,43.75,40.78,42.86,39.13,38.23,43.07,51.2,46.27,41.17,39.87,43.43,44.31,45.93,40.69,40.28,42.39,37.42,39.0,42.21,42.96,42.55,46.46,40.47,37.52,42.33,39.71,42.53,42.34,42.74,43.35,40.02,37.24,36.89,40.33,44.97,48.29,40.65,38.23,36.01,39.82,44.89,42.11,55.02,42.93,45.54,38.58,39.38,44.57,40.7,36.75,44.44,41.12,39.5,40.87,42.78,43.15,35.86,40.97,36.6,40.17,43.53,44.04,41.09,43.17,41.25,42.85,41.39,39.62,43.43,47.39,38.5,37.99,40.99,42.86,39.36,45.56,38.68,39.9,41.55,40.81,42.26,40.86,44.1,46.62,39.87,41.81,43.52,42.85,41.77,41.16,47.77,44.14,40.2,41.01,43.46,38.94,43.04,41.89,39.07,41.76,40.65,44.77,42.36,43.44,41.76,46.62,41.03,41.33,39.55,47.98,44.81,48.27,50.55,43.7,42.78,48.63],\"yaxis\":\"y\",\"type\":\"scatter\"},{\"hovertemplate\":\"<b>OLS trendline</b><br>Avg Callout Pct Diff = 5.98139e-08 * publish_time + -56.738<br>R<sup>2</sup>=0.006539<br><br>publish_time=%{x}<br>Avg Callout Pct Diff=%{y} <b>(trend)</b><extra></extra>\",\"legendgroup\":\"\",\"marker\":{\"color\":\"#636efa\",\"symbol\":\"circle\"},\"mode\":\"lines\",\"name\":\"\",\"showlegend\":false,\"x\":[\"2022-01-22T00:00:00\",\"2022-01-23T00:00:00\",\"2022-01-24T00:00:00\",\"2022-01-25T00:00:00\",\"2022-01-26T00:00:00\",\"2022-01-27T00:00:00\",\"2022-01-28T00:00:00\",\"2022-01-29T00:00:00\",\"2022-01-30T00:00:00\",\"2022-01-31T00:00:00\",\"2022-02-01T00:00:00\",\"2022-02-02T00:00:00\",\"2022-02-03T00:00:00\",\"2022-02-04T00:00:00\",\"2022-02-05T00:00:00\",\"2022-02-06T00:00:00\",\"2022-02-07T00:00:00\",\"2022-02-08T00:00:00\",\"2022-02-09T00:00:00\",\"2022-02-10T00:00:00\",\"2022-02-11T00:00:00\",\"2022-02-12T00:00:00\",\"2022-02-13T00:00:00\",\"2022-02-14T00:00:00\",\"2022-02-15T00:00:00\",\"2022-02-16T00:00:00\",\"2022-02-17T00:00:00\",\"2022-02-18T00:00:00\",\"2022-02-19T00:00:00\",\"2022-02-20T00:00:00\",\"2022-02-21T00:00:00\",\"2022-02-22T00:00:00\",\"2022-02-23T00:00:00\",\"2022-02-24T00:00:00\",\"2022-02-25T00:00:00\",\"2022-02-26T00:00:00\",\"2022-02-27T00:00:00\",\"2022-02-28T00:00:00\",\"2022-03-01T00:00:00\",\"2022-03-02T00:00:00\",\"2022-03-03T00:00:00\",\"2022-03-04T00:00:00\",\"2022-03-05T00:00:00\",\"2022-03-06T00:00:00\",\"2022-03-07T00:00:00\",\"2022-03-08T00:00:00\",\"2022-03-09T00:00:00\",\"2022-03-10T00:00:00\",\"2022-03-11T00:00:00\",\"2022-03-12T00:00:00\",\"2022-03-13T00:00:00\",\"2022-03-14T00:00:00\",\"2022-03-15T00:00:00\",\"2022-03-16T00:00:00\",\"2022-03-17T00:00:00\",\"2022-03-18T00:00:00\",\"2022-03-19T00:00:00\",\"2022-03-20T00:00:00\",\"2022-03-21T00:00:00\",\"2022-03-22T00:00:00\",\"2022-03-23T00:00:00\",\"2022-03-24T00:00:00\",\"2022-03-25T00:00:00\",\"2022-03-26T00:00:00\",\"2022-03-27T00:00:00\",\"2022-03-28T00:00:00\",\"2022-03-29T00:00:00\",\"2022-03-30T00:00:00\",\"2022-03-31T00:00:00\",\"2022-04-01T00:00:00\",\"2022-04-02T00:00:00\",\"2022-04-03T00:00:00\",\"2022-04-04T00:00:00\",\"2022-04-05T00:00:00\",\"2022-04-06T00:00:00\",\"2022-04-07T00:00:00\",\"2022-04-08T00:00:00\",\"2022-04-09T00:00:00\",\"2022-04-10T00:00:00\",\"2022-04-11T00:00:00\",\"2022-04-12T00:00:00\",\"2022-04-13T00:00:00\",\"2022-04-14T00:00:00\",\"2022-04-15T00:00:00\",\"2022-04-16T00:00:00\",\"2022-04-17T00:00:00\",\"2022-04-18T00:00:00\",\"2022-04-19T00:00:00\",\"2022-04-20T00:00:00\",\"2022-04-21T00:00:00\",\"2022-04-22T00:00:00\",\"2022-04-23T00:00:00\",\"2022-04-24T00:00:00\",\"2022-04-25T00:00:00\",\"2022-04-26T00:00:00\",\"2022-04-27T00:00:00\",\"2022-04-28T00:00:00\",\"2022-04-29T00:00:00\",\"2022-04-30T00:00:00\",\"2022-05-01T00:00:00\",\"2022-05-02T00:00:00\",\"2022-05-03T00:00:00\",\"2022-05-04T00:00:00\",\"2022-05-05T00:00:00\",\"2022-05-06T00:00:00\",\"2022-05-07T00:00:00\",\"2022-05-08T00:00:00\",\"2022-05-09T00:00:00\",\"2022-05-10T00:00:00\",\"2022-05-11T00:00:00\",\"2022-05-12T00:00:00\",\"2022-05-13T00:00:00\",\"2022-05-14T00:00:00\",\"2022-05-15T00:00:00\",\"2022-05-16T00:00:00\",\"2022-05-17T00:00:00\",\"2022-05-18T00:00:00\",\"2022-05-19T00:00:00\",\"2022-05-20T00:00:00\",\"2022-05-21T00:00:00\",\"2022-05-22T00:00:00\",\"2022-05-23T00:00:00\",\"2022-05-24T00:00:00\",\"2022-05-25T00:00:00\",\"2022-05-26T00:00:00\",\"2022-05-27T00:00:00\",\"2022-05-28T00:00:00\",\"2022-05-29T00:00:00\",\"2022-05-30T00:00:00\",\"2022-05-31T00:00:00\",\"2022-06-01T00:00:00\",\"2022-06-02T00:00:00\",\"2022-06-03T00:00:00\",\"2022-06-04T00:00:00\",\"2022-06-05T00:00:00\",\"2022-06-06T00:00:00\",\"2022-06-07T00:00:00\",\"2022-06-08T00:00:00\",\"2022-06-09T00:00:00\",\"2022-06-10T00:00:00\",\"2022-06-11T00:00:00\",\"2022-06-12T00:00:00\",\"2022-06-13T00:00:00\",\"2022-06-14T00:00:00\",\"2022-06-15T00:00:00\",\"2022-06-16T00:00:00\",\"2022-06-17T00:00:00\",\"2022-06-18T00:00:00\",\"2022-06-19T00:00:00\",\"2022-06-20T00:00:00\",\"2022-06-21T00:00:00\",\"2022-06-22T00:00:00\",\"2022-06-23T00:00:00\",\"2022-06-24T00:00:00\",\"2022-06-25T00:00:00\",\"2022-06-26T00:00:00\",\"2022-06-27T00:00:00\",\"2022-06-28T00:00:00\",\"2022-06-29T00:00:00\",\"2022-06-30T00:00:00\",\"2022-07-01T00:00:00\",\"2022-07-02T00:00:00\",\"2022-07-03T00:00:00\",\"2022-07-04T00:00:00\",\"2022-07-05T00:00:00\",\"2022-07-06T00:00:00\",\"2022-07-07T00:00:00\",\"2022-07-08T00:00:00\",\"2022-07-09T00:00:00\",\"2022-07-10T00:00:00\",\"2022-07-11T00:00:00\",\"2022-07-12T00:00:00\",\"2022-07-13T00:00:00\",\"2022-07-14T00:00:00\",\"2022-07-15T00:00:00\",\"2022-07-16T00:00:00\",\"2022-07-17T00:00:00\",\"2022-07-18T00:00:00\",\"2022-07-19T00:00:00\",\"2022-07-20T00:00:00\"],\"xaxis\":\"x\",\"y\":[41.52480478821022,41.529972704915465,41.53514062162071,41.54030853832596,41.545476455031206,41.55064437173645,41.5558122884417,41.56098020514695,41.566148121852194,41.57131603855744,41.57648395526269,41.581651871967935,41.58681978867318,41.59198770537843,41.597155622083676,41.60232353878894,41.607491455494184,41.61265937219943,41.61782728890468,41.622995205609925,41.62816312231517,41.63333103902042,41.638498955725666,41.64366687243091,41.64883478913616,41.65400270584141,41.659170622546654,41.6643385392519,41.66950645595715,41.674674372662395,41.67984228936764,41.68501020607289,41.690178122778136,41.69534603948338,41.70051395618863,41.70568187289388,41.71084978959912,41.71601770630437,41.72118562300962,41.726353539714864,41.73152145642011,41.73668937312536,41.741857289830605,41.74702520653585,41.7521931232411,41.757361039946346,41.76252895665159,41.76769687335684,41.77286479006209,41.778032706767334,41.78320062347258,41.78836854017783,41.793536456883075,41.79870437358832,41.80387229029357,41.809040206998816,41.81420812370406,41.81937604040931,41.82454395711457,41.82971187381982,41.834879790525065,41.84004770723031,41.84521562393556,41.850383540640806,41.85555145734605,41.8607193740513,41.86588729075655,41.871055207461794,41.87622312416704,41.88139104087229,41.886558957577535,41.89172687428278,41.89689479098803,41.902062707693275,41.90723062439852,41.91239854110377,41.917566457809016,41.92273437451426,41.92790229121951,41.93307020792476,41.938238124630004,41.94340604133525,41.9485739580405,41.953741874745745,41.95890979145099,41.96407770815624,41.969245624861486,41.97441354156673,41.97958145827198,41.98474937497723,41.989917291682474,41.99508520838772,42.00025312509297,42.005421041798215,42.01058895850346,42.01575687520871,42.020924791913956,42.0260927086192,42.03126062532445,42.0364285420297,42.041596458734944,42.046764375440205,42.05193229214545,42.0571002088507,42.062268125555946,42.06743604226119,42.07260395896644,42.07777187567169,42.08293979237693,42.08810770908218,42.09327562578743,42.098443542492674,42.10361145919792,42.10877937590317,42.113947292608415,42.11911520931366,42.12428312601891,42.129451042724156,42.1346189594294,42.13978687613465,42.1449547928399,42.150122709545144,42.15529062625039,42.16045854295564,42.165626459660885,42.17079437636613,42.17596229307138,42.181130209776626,42.18629812648187,42.19146604318712,42.19663395989237,42.201801876597614,42.20696979330286,42.21213771000811,42.217305626713355,42.2224735434186,42.22764146012385,42.232809376829096,42.23797729353434,42.24314521023959,42.248313126944836,42.25348104365008,42.25864896035533,42.26381687706058,42.26898479376584,42.274152710471085,42.27932062717633,42.28448854388158,42.289656460586826,42.29482437729207,42.29999229399732,42.30516021070257,42.310328127407814,42.31549604411306,42.32066396081831,42.325831877523555,42.3309997942288,42.33616771093405,42.341335627639296,42.34650354434454,42.35167146104979,42.35683937775504,42.362007294460284,42.36717521116553,42.37234312787078,42.377511044576025,42.38267896128127,42.38784687798652,42.393014794691766,42.39818271139701,42.40335062810226,42.40851854480751,42.413686461512754,42.418854378218,42.42402229492325,42.429190211628494,42.43435812833374,42.43952604503899,42.444693961744235,42.44986187844948],\"yaxis\":\"y\",\"type\":\"scatter\"}],                        {\"template\":{\"data\":{\"bar\":[{\"error_x\":{\"color\":\"#2a3f5f\"},\"error_y\":{\"color\":\"#2a3f5f\"},\"marker\":{\"line\":{\"color\":\"#E5ECF6\",\"width\":0.5},\"pattern\":{\"fillmode\":\"overlay\",\"size\":10,\"solidity\":0.2}},\"type\":\"bar\"}],\"barpolar\":[{\"marker\":{\"line\":{\"color\":\"#E5ECF6\",\"width\":0.5},\"pattern\":{\"fillmode\":\"overlay\",\"size\":10,\"solidity\":0.2}},\"type\":\"barpolar\"}],\"carpet\":[{\"aaxis\":{\"endlinecolor\":\"#2a3f5f\",\"gridcolor\":\"white\",\"linecolor\":\"white\",\"minorgridcolor\":\"white\",\"startlinecolor\":\"#2a3f5f\"},\"baxis\":{\"endlinecolor\":\"#2a3f5f\",\"gridcolor\":\"white\",\"linecolor\":\"white\",\"minorgridcolor\":\"white\",\"startlinecolor\":\"#2a3f5f\"},\"type\":\"carpet\"}],\"choropleth\":[{\"colorbar\":{\"outlinewidth\":0,\"ticks\":\"\"},\"type\":\"choropleth\"}],\"contour\":[{\"colorbar\":{\"outlinewidth\":0,\"ticks\":\"\"},\"colorscale\":[[0.0,\"#0d0887\"],[0.1111111111111111,\"#46039f\"],[0.2222222222222222,\"#7201a8\"],[0.3333333333333333,\"#9c179e\"],[0.4444444444444444,\"#bd3786\"],[0.5555555555555556,\"#d8576b\"],[0.6666666666666666,\"#ed7953\"],[0.7777777777777778,\"#fb9f3a\"],[0.8888888888888888,\"#fdca26\"],[1.0,\"#f0f921\"]],\"type\":\"contour\"}],\"contourcarpet\":[{\"colorbar\":{\"outlinewidth\":0,\"ticks\":\"\"},\"type\":\"contourcarpet\"}],\"heatmap\":[{\"colorbar\":{\"outlinewidth\":0,\"ticks\":\"\"},\"colorscale\":[[0.0,\"#0d0887\"],[0.1111111111111111,\"#46039f\"],[0.2222222222222222,\"#7201a8\"],[0.3333333333333333,\"#9c179e\"],[0.4444444444444444,\"#bd3786\"],[0.5555555555555556,\"#d8576b\"],[0.6666666666666666,\"#ed7953\"],[0.7777777777777778,\"#fb9f3a\"],[0.8888888888888888,\"#fdca26\"],[1.0,\"#f0f921\"]],\"type\":\"heatmap\"}],\"heatmapgl\":[{\"colorbar\":{\"outlinewidth\":0,\"ticks\":\"\"},\"colorscale\":[[0.0,\"#0d0887\"],[0.1111111111111111,\"#46039f\"],[0.2222222222222222,\"#7201a8\"],[0.3333333333333333,\"#9c179e\"],[0.4444444444444444,\"#bd3786\"],[0.5555555555555556,\"#d8576b\"],[0.6666666666666666,\"#ed7953\"],[0.7777777777777778,\"#fb9f3a\"],[0.8888888888888888,\"#fdca26\"],[1.0,\"#f0f921\"]],\"type\":\"heatmapgl\"}],\"histogram\":[{\"marker\":{\"pattern\":{\"fillmode\":\"overlay\",\"size\":10,\"solidity\":0.2}},\"type\":\"histogram\"}],\"histogram2d\":[{\"colorbar\":{\"outlinewidth\":0,\"ticks\":\"\"},\"colorscale\":[[0.0,\"#0d0887\"],[0.1111111111111111,\"#46039f\"],[0.2222222222222222,\"#7201a8\"],[0.3333333333333333,\"#9c179e\"],[0.4444444444444444,\"#bd3786\"],[0.5555555555555556,\"#d8576b\"],[0.6666666666666666,\"#ed7953\"],[0.7777777777777778,\"#fb9f3a\"],[0.8888888888888888,\"#fdca26\"],[1.0,\"#f0f921\"]],\"type\":\"histogram2d\"}],\"histogram2dcontour\":[{\"colorbar\":{\"outlinewidth\":0,\"ticks\":\"\"},\"colorscale\":[[0.0,\"#0d0887\"],[0.1111111111111111,\"#46039f\"],[0.2222222222222222,\"#7201a8\"],[0.3333333333333333,\"#9c179e\"],[0.4444444444444444,\"#bd3786\"],[0.5555555555555556,\"#d8576b\"],[0.6666666666666666,\"#ed7953\"],[0.7777777777777778,\"#fb9f3a\"],[0.8888888888888888,\"#fdca26\"],[1.0,\"#f0f921\"]],\"type\":\"histogram2dcontour\"}],\"mesh3d\":[{\"colorbar\":{\"outlinewidth\":0,\"ticks\":\"\"},\"type\":\"mesh3d\"}],\"parcoords\":[{\"line\":{\"colorbar\":{\"outlinewidth\":0,\"ticks\":\"\"}},\"type\":\"parcoords\"}],\"pie\":[{\"automargin\":true,\"type\":\"pie\"}],\"scatter\":[{\"marker\":{\"colorbar\":{\"outlinewidth\":0,\"ticks\":\"\"}},\"type\":\"scatter\"}],\"scatter3d\":[{\"line\":{\"colorbar\":{\"outlinewidth\":0,\"ticks\":\"\"}},\"marker\":{\"colorbar\":{\"outlinewidth\":0,\"ticks\":\"\"}},\"type\":\"scatter3d\"}],\"scattercarpet\":[{\"marker\":{\"colorbar\":{\"outlinewidth\":0,\"ticks\":\"\"}},\"type\":\"scattercarpet\"}],\"scattergeo\":[{\"marker\":{\"colorbar\":{\"outlinewidth\":0,\"ticks\":\"\"}},\"type\":\"scattergeo\"}],\"scattergl\":[{\"marker\":{\"colorbar\":{\"outlinewidth\":0,\"ticks\":\"\"}},\"type\":\"scattergl\"}],\"scattermapbox\":[{\"marker\":{\"colorbar\":{\"outlinewidth\":0,\"ticks\":\"\"}},\"type\":\"scattermapbox\"}],\"scatterpolar\":[{\"marker\":{\"colorbar\":{\"outlinewidth\":0,\"ticks\":\"\"}},\"type\":\"scatterpolar\"}],\"scatterpolargl\":[{\"marker\":{\"colorbar\":{\"outlinewidth\":0,\"ticks\":\"\"}},\"type\":\"scatterpolargl\"}],\"scatterternary\":[{\"marker\":{\"colorbar\":{\"outlinewidth\":0,\"ticks\":\"\"}},\"type\":\"scatterternary\"}],\"surface\":[{\"colorbar\":{\"outlinewidth\":0,\"ticks\":\"\"},\"colorscale\":[[0.0,\"#0d0887\"],[0.1111111111111111,\"#46039f\"],[0.2222222222222222,\"#7201a8\"],[0.3333333333333333,\"#9c179e\"],[0.4444444444444444,\"#bd3786\"],[0.5555555555555556,\"#d8576b\"],[0.6666666666666666,\"#ed7953\"],[0.7777777777777778,\"#fb9f3a\"],[0.8888888888888888,\"#fdca26\"],[1.0,\"#f0f921\"]],\"type\":\"surface\"}],\"table\":[{\"cells\":{\"fill\":{\"color\":\"#EBF0F8\"},\"line\":{\"color\":\"white\"}},\"header\":{\"fill\":{\"color\":\"#C8D4E3\"},\"line\":{\"color\":\"white\"}},\"type\":\"table\"}]},\"layout\":{\"annotationdefaults\":{\"arrowcolor\":\"#2a3f5f\",\"arrowhead\":0,\"arrowwidth\":1},\"autotypenumbers\":\"strict\",\"coloraxis\":{\"colorbar\":{\"outlinewidth\":0,\"ticks\":\"\"}},\"colorscale\":{\"diverging\":[[0,\"#8e0152\"],[0.1,\"#c51b7d\"],[0.2,\"#de77ae\"],[0.3,\"#f1b6da\"],[0.4,\"#fde0ef\"],[0.5,\"#f7f7f7\"],[0.6,\"#e6f5d0\"],[0.7,\"#b8e186\"],[0.8,\"#7fbc41\"],[0.9,\"#4d9221\"],[1,\"#276419\"]],\"sequential\":[[0.0,\"#0d0887\"],[0.1111111111111111,\"#46039f\"],[0.2222222222222222,\"#7201a8\"],[0.3333333333333333,\"#9c179e\"],[0.4444444444444444,\"#bd3786\"],[0.5555555555555556,\"#d8576b\"],[0.6666666666666666,\"#ed7953\"],[0.7777777777777778,\"#fb9f3a\"],[0.8888888888888888,\"#fdca26\"],[1.0,\"#f0f921\"]],\"sequentialminus\":[[0.0,\"#0d0887\"],[0.1111111111111111,\"#46039f\"],[0.2222222222222222,\"#7201a8\"],[0.3333333333333333,\"#9c179e\"],[0.4444444444444444,\"#bd3786\"],[0.5555555555555556,\"#d8576b\"],[0.6666666666666666,\"#ed7953\"],[0.7777777777777778,\"#fb9f3a\"],[0.8888888888888888,\"#fdca26\"],[1.0,\"#f0f921\"]]},\"colorway\":[\"#636efa\",\"#EF553B\",\"#00cc96\",\"#ab63fa\",\"#FFA15A\",\"#19d3f3\",\"#FF6692\",\"#B6E880\",\"#FF97FF\",\"#FECB52\"],\"font\":{\"color\":\"#2a3f5f\"},\"geo\":{\"bgcolor\":\"white\",\"lakecolor\":\"white\",\"landcolor\":\"#E5ECF6\",\"showlakes\":true,\"showland\":true,\"subunitcolor\":\"white\"},\"hoverlabel\":{\"align\":\"left\"},\"hovermode\":\"closest\",\"mapbox\":{\"style\":\"light\"},\"paper_bgcolor\":\"white\",\"plot_bgcolor\":\"#E5ECF6\",\"polar\":{\"angularaxis\":{\"gridcolor\":\"white\",\"linecolor\":\"white\",\"ticks\":\"\"},\"bgcolor\":\"#E5ECF6\",\"radialaxis\":{\"gridcolor\":\"white\",\"linecolor\":\"white\",\"ticks\":\"\"}},\"scene\":{\"xaxis\":{\"backgroundcolor\":\"#E5ECF6\",\"gridcolor\":\"white\",\"gridwidth\":2,\"linecolor\":\"white\",\"showbackground\":true,\"ticks\":\"\",\"zerolinecolor\":\"white\"},\"yaxis\":{\"backgroundcolor\":\"#E5ECF6\",\"gridcolor\":\"white\",\"gridwidth\":2,\"linecolor\":\"white\",\"showbackground\":true,\"ticks\":\"\",\"zerolinecolor\":\"white\"},\"zaxis\":{\"backgroundcolor\":\"#E5ECF6\",\"gridcolor\":\"white\",\"gridwidth\":2,\"linecolor\":\"white\",\"showbackground\":true,\"ticks\":\"\",\"zerolinecolor\":\"white\"}},\"shapedefaults\":{\"line\":{\"color\":\"#2a3f5f\"}},\"ternary\":{\"aaxis\":{\"gridcolor\":\"white\",\"linecolor\":\"white\",\"ticks\":\"\"},\"baxis\":{\"gridcolor\":\"white\",\"linecolor\":\"white\",\"ticks\":\"\"},\"bgcolor\":\"#E5ECF6\",\"caxis\":{\"gridcolor\":\"white\",\"linecolor\":\"white\",\"ticks\":\"\"}},\"title\":{\"x\":0.05},\"xaxis\":{\"automargin\":true,\"gridcolor\":\"white\",\"linecolor\":\"white\",\"ticks\":\"\",\"title\":{\"standoff\":15},\"zerolinecolor\":\"white\",\"zerolinewidth\":2},\"yaxis\":{\"automargin\":true,\"gridcolor\":\"white\",\"linecolor\":\"white\",\"ticks\":\"\",\"title\":{\"standoff\":15},\"zerolinecolor\":\"white\",\"zerolinewidth\":2}}},\"xaxis\":{\"anchor\":\"y\",\"domain\":[0.0,1.0],\"title\":{\"text\":\"publish_time\"}},\"yaxis\":{\"anchor\":\"x\",\"domain\":[0.0,1.0],\"title\":{\"text\":\"Avg Callout Pct Diff\"}},\"legend\":{\"tracegroupgap\":0},\"margin\":{\"t\":60}},                        {\"responsive\": true}                    ).then(function(){\n",
       "                            \n",
       "var gd = document.getElementById('d6690a69-da03-4ca1-957f-3f478a98577a');\n",
       "var x = new MutationObserver(function (mutations, observer) {{\n",
       "        var display = window.getComputedStyle(gd).display;\n",
       "        if (!display || display === 'none') {{\n",
       "            console.log([gd, 'removed!']);\n",
       "            Plotly.purge(gd);\n",
       "            observer.disconnect();\n",
       "        }}\n",
       "}});\n",
       "\n",
       "// Listen for the removal of the full notebook cells\n",
       "var notebookContainer = gd.closest('#notebook-container');\n",
       "if (notebookContainer) {{\n",
       "    x.observe(notebookContainer, {childList: true});\n",
       "}}\n",
       "\n",
       "// Listen for the clearing of the current output cell\n",
       "var outputEl = gd.closest('.output');\n",
       "if (outputEl) {{\n",
       "    x.observe(outputEl, {childList: true});\n",
       "}}\n",
       "\n",
       "                        })                };                });            </script>        </div>"
      ]
     },
     "metadata": {},
     "output_type": "display_data"
    }
   ],
   "source": [
    "px.scatter(time_gb, 'publish_time', 'Avg Callout Pct Diff'\n",
    "          , trendline='ols')"
   ]
  },
  {
   "cell_type": "code",
   "execution_count": null,
   "metadata": {},
   "outputs": [],
   "source": []
  },
  {
   "cell_type": "code",
   "execution_count": 40,
   "metadata": {},
   "outputs": [
    {
     "data": {
      "text/plain": [
       "'2022-07-20 15:37'"
      ]
     },
     "execution_count": 40,
     "metadata": {},
     "output_type": "execute_result"
    }
   ],
   "source": [
    "items['_dt_pulled'].max()"
   ]
  },
  {
   "cell_type": "code",
   "execution_count": 41,
   "metadata": {},
   "outputs": [
    {
     "data": {
      "text/plain": [
       "'2021-11-12 22:37'"
      ]
     },
     "execution_count": 41,
     "metadata": {},
     "output_type": "execute_result"
    }
   ],
   "source": [
    "items['_dt_pulled'].min()"
   ]
  },
  {
   "cell_type": "code",
   "execution_count": 42,
   "metadata": {},
   "outputs": [],
   "source": [
    "items['date'] = items['_dt_pulled'].str[:10]"
   ]
  },
  {
   "cell_type": "code",
   "execution_count": null,
   "metadata": {},
   "outputs": [],
   "source": []
  },
  {
   "cell_type": "code",
   "execution_count": null,
   "metadata": {},
   "outputs": [],
   "source": []
  }
 ],
 "metadata": {
  "kernelspec": {
   "display_name": "Python 3",
   "language": "python",
   "name": "python3"
  },
  "language_info": {
   "codemirror_mode": {
    "name": "ipython",
    "version": 3
   },
   "file_extension": ".py",
   "mimetype": "text/x-python",
   "name": "python",
   "nbconvert_exporter": "python",
   "pygments_lexer": "ipython3",
   "version": "3.6.9"
  },
  "toc": {
   "base_numbering": 1,
   "nav_menu": {},
   "number_sections": true,
   "sideBar": true,
   "skip_h1_title": false,
   "title_cell": "Table of Contents",
   "title_sidebar": "Contents",
   "toc_cell": false,
   "toc_position": {},
   "toc_section_display": true,
   "toc_window_display": true
  }
 },
 "nbformat": 4,
 "nbformat_minor": 4
}
