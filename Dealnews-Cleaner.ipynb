{
 "cells": [
  {
   "cell_type": "code",
   "execution_count": 1,
   "metadata": {},
   "outputs": [],
   "source": [
    "import bs4 \n",
    "import re \n",
    "import os \n",
    "import json\n",
    "import requests\n",
    "import datetime\n",
    "import urllib\n",
    "from dateutil import parser\n",
    "from tqdm.notebook import tqdm\n",
    "import pandas as pd\n",
    "import numpy as np \n",
    "import sqlite3\n",
    "pd.set_option('max_colwidth', 300)\n",
    "pd.set_option('max_columns', 100)"
   ]
  },
  {
   "cell_type": "markdown",
   "metadata": {},
   "source": [
    "## Functions"
   ]
  },
  {
   "cell_type": "markdown",
   "metadata": {},
   "source": [
    "### Fun Fact.. Dealnews uses an API "
   ]
  },
  {
   "cell_type": "code",
   "execution_count": 2,
   "metadata": {
    "code_folding": [
     0
    ]
   },
   "outputs": [],
   "source": [
    "def get_dealnews_feed(link):\n",
    "    headers = {'Authorization': 'DN jxqfz29pbv9xpWSYnmJX'}\n",
    "    dealnews = requests.get(link, headers=headers)\n",
    "    assert(dealnews.status_code == 200), f\"Status Code={dealnews.status_code}...Error:\\n\\n{dealnews.content}\"\n",
    "    as_json = json.loads(dealnews.content)\n",
    "    return(as_json)"
   ]
  },
  {
   "cell_type": "markdown",
   "metadata": {},
   "source": [
    "### Understanding API Options"
   ]
  },
  {
   "cell_type": "code",
   "execution_count": 3,
   "metadata": {
    "code_folding": [
     0
    ]
   },
   "outputs": [],
   "source": [
    "def _parse_api_deal_types(raw_api_response):\n",
    "    ## Deal Types\n",
    "    keeper_elems = ['name', 'count', 'url', 'short_name']\n",
    "    groups = raw_api_response['deal_types']\n",
    "    key_group_info = []\n",
    "    for group in groups:\n",
    "        key_group_info.append([group[x] for x in keeper_elems])\n",
    "    deal_type_df = pd.DataFrame(key_group_info, columns = keeper_elems)\n",
    "    deal_type_df = deal_type_df.rename({'url': 'id_number'}, axis =1)\n",
    "    deal_type_df['id_name'] = 'deal_type_id'\n",
    "    return(deal_type_df)"
   ]
  },
  {
   "cell_type": "code",
   "execution_count": 4,
   "metadata": {
    "code_folding": [
     0
    ],
    "scrolled": true
   },
   "outputs": [],
   "source": [
    "def _parse_api_categories(raw_api_response):\n",
    "    ## Categories\n",
    "    keeper_elems = ['name', 'count', 'category_id', 'short_name']\n",
    "    groups = raw_api_response['categories']\n",
    "    key_group_info = []\n",
    "    for group in groups:\n",
    "        key_group_info.append([group[x] for x in keeper_elems])\n",
    "    category_df = pd.DataFrame(key_group_info, columns = keeper_elems)\n",
    "    category_df = category_df.rename({'category_id': 'id_number'}, axis =1)\n",
    "    category_df['id_name'] = 'category_id'\n",
    "    return(category_df)"
   ]
  },
  {
   "cell_type": "code",
   "execution_count": 5,
   "metadata": {
    "code_folding": [
     0
    ]
   },
   "outputs": [],
   "source": [
    "def _parse_api_brands(raw_api_response):\n",
    "    ## Brands\n",
    "    keeper_elems = ['name', 'count', 'brand_id', 'short_name']\n",
    "    groups = raw_api_response['brands']\n",
    "    key_group_info = []\n",
    "    for group in groups:\n",
    "        key_group_info.append([group[x] for x in keeper_elems])\n",
    "    brand_df = pd.DataFrame(key_group_info, columns = keeper_elems)\n",
    "    brand_df = brand_df.rename({'brand_id': 'id_number'}, axis =1)\n",
    "    brand_df['id_name'] = 'brand_id'\n",
    "    return(brand_df)"
   ]
  },
  {
   "cell_type": "code",
   "execution_count": 6,
   "metadata": {
    "code_folding": [
     0
    ]
   },
   "outputs": [],
   "source": [
    "def _parse_api_vendors(raw_api_response):\n",
    "    ## Vendors\n",
    "    keeper_elems = ['name', 'count', 'vendor_id', 'short_name']\n",
    "    groups = raw_api_response['vendors']\n",
    "    key_group_info = []\n",
    "    for group in groups:\n",
    "        key_group_info.append([group[x] for x in keeper_elems])\n",
    "    vendor_df = pd.DataFrame(key_group_info, columns = keeper_elems)\n",
    "    vendor_df = vendor_df.rename({'vendor_id': 'id_number'}, axis =1)\n",
    "    vendor_df['id_name'] = 'vendor_id'\n",
    "    return(vendor_df)"
   ]
  },
  {
   "cell_type": "code",
   "execution_count": 7,
   "metadata": {
    "code_folding": [
     0
    ],
    "scrolled": true
   },
   "outputs": [],
   "source": [
    "def _parse_api_facet_groups(raw_api_response):\n",
    "    ## Facet Groups \n",
    "    keeper_elems = ['name', 'count', 'facet_id', 'short_name']\n",
    "    facet_group = raw_api_response['facet_groups']\n",
    "    key_group_info = []\n",
    "    # This one has a group within each group (2 levels before getting to the mapping)\n",
    "    for facet in facet_group:\n",
    "        groups = facet['facets']\n",
    "        facet_category_name = facet['name']\n",
    "        for group in groups:\n",
    "            group_list = [facet_category_name + ' : ' + group[x] if x == 'name' \n",
    "                          else group[x] for x in keeper_elems]\n",
    "            key_group_info.append(group_list)\n",
    "    facet_df = pd.DataFrame(key_group_info, columns = keeper_elems)\n",
    "    facet_df = facet_df.rename({'facet_id': 'id_number'}, axis =1)\n",
    "    facet_df['id_name'] = 'facet_id'\n",
    "    return(facet_df)"
   ]
  },
  {
   "cell_type": "markdown",
   "metadata": {},
   "source": [
    "### Summarize Options "
   ]
  },
  {
   "cell_type": "code",
   "execution_count": 8,
   "metadata": {
    "code_folding": [
     0
    ]
   },
   "outputs": [],
   "source": [
    "def get_summary_of_api_options(df):\n",
    "    out = {}\n",
    "    out['Offers Sum'] = df['count'].sum()\n",
    "    out['Group Count'] = df.shape[0]\n",
    "    df = df.sort_values(by='count', ascending=False)\n",
    "    most_common = df.iloc[0]\n",
    "    out['Most Common Name'] = most_common['name']\n",
    "    out['Most Common Count'] = most_common['count']\n",
    "    out['Most Common ID'] = most_common['id_number']\n",
    "    \n",
    "    out_series = pd.Series(out)\n",
    "    return(out_series)"
   ]
  },
  {
   "cell_type": "markdown",
   "metadata": {},
   "source": [
    "## Begin Running it "
   ]
  },
  {
   "cell_type": "markdown",
   "metadata": {},
   "source": [
    "### Parse API Categories with Counts"
   ]
  },
  {
   "cell_type": "code",
   "execution_count": 9,
   "metadata": {},
   "outputs": [],
   "source": [
    "con = sqlite3.connect('dealnews.db')\n",
    "cursor = con.cursor()"
   ]
  },
  {
   "cell_type": "code",
   "execution_count": 10,
   "metadata": {},
   "outputs": [],
   "source": [
    "link = 'https://api.dealnews.com/content?facet_ids=1780&count=70'\n",
    "raw_api_response = get_dealnews_feed(link)"
   ]
  },
  {
   "cell_type": "code",
   "execution_count": 11,
   "metadata": {
    "scrolled": true
   },
   "outputs": [
    {
     "data": {
      "text/html": [
       "<div>\n",
       "<style scoped>\n",
       "    .dataframe tbody tr th:only-of-type {\n",
       "        vertical-align: middle;\n",
       "    }\n",
       "\n",
       "    .dataframe tbody tr th {\n",
       "        vertical-align: top;\n",
       "    }\n",
       "\n",
       "    .dataframe thead th {\n",
       "        text-align: right;\n",
       "    }\n",
       "</style>\n",
       "<table border=\"1\" class=\"dataframe\">\n",
       "  <thead>\n",
       "    <tr style=\"text-align: right;\">\n",
       "      <th></th>\n",
       "      <th></th>\n",
       "      <th>name</th>\n",
       "      <th>count</th>\n",
       "      <th>id_number</th>\n",
       "      <th>short_name</th>\n",
       "      <th>id_name</th>\n",
       "    </tr>\n",
       "  </thead>\n",
       "  <tbody>\n",
       "    <tr>\n",
       "      <th rowspan=\"30\" valign=\"top\">vendor</th>\n",
       "      <th>0</th>\n",
       "      <td>Amazon</td>\n",
       "      <td>716</td>\n",
       "      <td>313</td>\n",
       "      <td>Amazon</td>\n",
       "      <td>vendor_id</td>\n",
       "    </tr>\n",
       "    <tr>\n",
       "      <th>1</th>\n",
       "      <td>eBay</td>\n",
       "      <td>145</td>\n",
       "      <td>50</td>\n",
       "      <td>eBay</td>\n",
       "      <td>vendor_id</td>\n",
       "    </tr>\n",
       "    <tr>\n",
       "      <th>2</th>\n",
       "      <td>Home Depot</td>\n",
       "      <td>63</td>\n",
       "      <td>958</td>\n",
       "      <td>Home Depot</td>\n",
       "      <td>vendor_id</td>\n",
       "    </tr>\n",
       "    <tr>\n",
       "      <th>3</th>\n",
       "      <td>Macy's</td>\n",
       "      <td>39</td>\n",
       "      <td>288</td>\n",
       "      <td>Macy's</td>\n",
       "      <td>vendor_id</td>\n",
       "    </tr>\n",
       "    <tr>\n",
       "      <th>4</th>\n",
       "      <td>Sam's Club</td>\n",
       "      <td>33</td>\n",
       "      <td>857</td>\n",
       "      <td>Sam's Club</td>\n",
       "      <td>vendor_id</td>\n",
       "    </tr>\n",
       "    <tr>\n",
       "      <th>5</th>\n",
       "      <td>Kohl's</td>\n",
       "      <td>30</td>\n",
       "      <td>1009</td>\n",
       "      <td>Kohl's</td>\n",
       "      <td>vendor_id</td>\n",
       "    </tr>\n",
       "    <tr>\n",
       "      <th>6</th>\n",
       "      <td>Ace Hardware</td>\n",
       "      <td>30</td>\n",
       "      <td>1320</td>\n",
       "      <td>Ace Hardware</td>\n",
       "      <td>vendor_id</td>\n",
       "    </tr>\n",
       "    <tr>\n",
       "      <th>7</th>\n",
       "      <td>Nordstrom Rack</td>\n",
       "      <td>23</td>\n",
       "      <td>41081</td>\n",
       "      <td>Nordstrom Rack</td>\n",
       "      <td>vendor_id</td>\n",
       "    </tr>\n",
       "    <tr>\n",
       "      <th>8</th>\n",
       "      <td>Wayfair</td>\n",
       "      <td>22</td>\n",
       "      <td>38875</td>\n",
       "      <td>Wayfair</td>\n",
       "      <td>vendor_id</td>\n",
       "    </tr>\n",
       "    <tr>\n",
       "      <th>9</th>\n",
       "      <td>Northern Tool</td>\n",
       "      <td>20</td>\n",
       "      <td>562</td>\n",
       "      <td>Northern Tool</td>\n",
       "      <td>vendor_id</td>\n",
       "    </tr>\n",
       "    <tr>\n",
       "      <th>10</th>\n",
       "      <td>Staples</td>\n",
       "      <td>19</td>\n",
       "      <td>274</td>\n",
       "      <td>Staples</td>\n",
       "      <td>vendor_id</td>\n",
       "    </tr>\n",
       "    <tr>\n",
       "      <th>11</th>\n",
       "      <td>Walmart</td>\n",
       "      <td>19</td>\n",
       "      <td>321</td>\n",
       "      <td>Walmart</td>\n",
       "      <td>vendor_id</td>\n",
       "    </tr>\n",
       "    <tr>\n",
       "      <th>12</th>\n",
       "      <td>Nike</td>\n",
       "      <td>19</td>\n",
       "      <td>1186</td>\n",
       "      <td>Nike</td>\n",
       "      <td>vendor_id</td>\n",
       "    </tr>\n",
       "    <tr>\n",
       "      <th>13</th>\n",
       "      <td>Target</td>\n",
       "      <td>17</td>\n",
       "      <td>318</td>\n",
       "      <td>Target</td>\n",
       "      <td>vendor_id</td>\n",
       "    </tr>\n",
       "    <tr>\n",
       "      <th>14</th>\n",
       "      <td>REI</td>\n",
       "      <td>17</td>\n",
       "      <td>549</td>\n",
       "      <td>REI</td>\n",
       "      <td>vendor_id</td>\n",
       "    </tr>\n",
       "    <tr>\n",
       "      <th>15</th>\n",
       "      <td>HP</td>\n",
       "      <td>17</td>\n",
       "      <td>786</td>\n",
       "      <td>HP</td>\n",
       "      <td>vendor_id</td>\n",
       "    </tr>\n",
       "    <tr>\n",
       "      <th>16</th>\n",
       "      <td>Reebok</td>\n",
       "      <td>15</td>\n",
       "      <td>908</td>\n",
       "      <td>Reebok</td>\n",
       "      <td>vendor_id</td>\n",
       "    </tr>\n",
       "    <tr>\n",
       "      <th>17</th>\n",
       "      <td>moobibear.com</td>\n",
       "      <td>14</td>\n",
       "      <td>54815</td>\n",
       "      <td>moobibear.com</td>\n",
       "      <td>vendor_id</td>\n",
       "    </tr>\n",
       "    <tr>\n",
       "      <th>18</th>\n",
       "      <td>Old Navy</td>\n",
       "      <td>13</td>\n",
       "      <td>362</td>\n",
       "      <td>Old Navy</td>\n",
       "      <td>vendor_id</td>\n",
       "    </tr>\n",
       "    <tr>\n",
       "      <th>19</th>\n",
       "      <td>Microsoft Store</td>\n",
       "      <td>12</td>\n",
       "      <td>3626</td>\n",
       "      <td>Microsoft Store</td>\n",
       "      <td>vendor_id</td>\n",
       "    </tr>\n",
       "    <tr>\n",
       "      <th>20</th>\n",
       "      <td>Best Choice Products</td>\n",
       "      <td>12</td>\n",
       "      <td>42941</td>\n",
       "      <td>Best Choice Products</td>\n",
       "      <td>vendor_id</td>\n",
       "    </tr>\n",
       "    <tr>\n",
       "      <th>21</th>\n",
       "      <td>Adorama</td>\n",
       "      <td>11</td>\n",
       "      <td>1409</td>\n",
       "      <td>Adorama</td>\n",
       "      <td>vendor_id</td>\n",
       "    </tr>\n",
       "    <tr>\n",
       "      <th>22</th>\n",
       "      <td>Tanga</td>\n",
       "      <td>11</td>\n",
       "      <td>2216</td>\n",
       "      <td>Tanga</td>\n",
       "      <td>vendor_id</td>\n",
       "    </tr>\n",
       "    <tr>\n",
       "      <th>23</th>\n",
       "      <td>5.11 Tactical</td>\n",
       "      <td>11</td>\n",
       "      <td>39715</td>\n",
       "      <td>5.11 Tactical</td>\n",
       "      <td>vendor_id</td>\n",
       "    </tr>\n",
       "    <tr>\n",
       "      <th>24</th>\n",
       "      <td>Proozy</td>\n",
       "      <td>11</td>\n",
       "      <td>41921</td>\n",
       "      <td>Proozy</td>\n",
       "      <td>vendor_id</td>\n",
       "    </tr>\n",
       "    <tr>\n",
       "      <th>25</th>\n",
       "      <td>Costway</td>\n",
       "      <td>13</td>\n",
       "      <td>46658</td>\n",
       "      <td>Costway</td>\n",
       "      <td>vendor_id</td>\n",
       "    </tr>\n",
       "    <tr>\n",
       "      <th>26</th>\n",
       "      <td>Petco</td>\n",
       "      <td>9</td>\n",
       "      <td>474</td>\n",
       "      <td>Petco</td>\n",
       "      <td>vendor_id</td>\n",
       "    </tr>\n",
       "    <tr>\n",
       "      <th>27</th>\n",
       "      <td>Dell Home</td>\n",
       "      <td>9</td>\n",
       "      <td>638</td>\n",
       "      <td>Dell Home</td>\n",
       "      <td>vendor_id</td>\n",
       "    </tr>\n",
       "    <tr>\n",
       "      <th>28</th>\n",
       "      <td>PepsiCo via Amazon</td>\n",
       "      <td>9</td>\n",
       "      <td>46889</td>\n",
       "      <td>PepsiCo via Amazon</td>\n",
       "      <td>vendor_id</td>\n",
       "    </tr>\n",
       "    <tr>\n",
       "      <th>29</th>\n",
       "      <td>B&amp;H Photo Video</td>\n",
       "      <td>8</td>\n",
       "      <td>973</td>\n",
       "      <td>B&amp;H</td>\n",
       "      <td>vendor_id</td>\n",
       "    </tr>\n",
       "  </tbody>\n",
       "</table>\n",
       "</div>"
      ],
      "text/plain": [
       "                           name  count  id_number            short_name  \\\n",
       "vendor 0                 Amazon    716        313                Amazon   \n",
       "       1                   eBay    145         50                  eBay   \n",
       "       2             Home Depot     63        958            Home Depot   \n",
       "       3                 Macy's     39        288                Macy's   \n",
       "       4             Sam's Club     33        857            Sam's Club   \n",
       "       5                 Kohl's     30       1009                Kohl's   \n",
       "       6           Ace Hardware     30       1320          Ace Hardware   \n",
       "       7         Nordstrom Rack     23      41081        Nordstrom Rack   \n",
       "       8                Wayfair     22      38875               Wayfair   \n",
       "       9          Northern Tool     20        562         Northern Tool   \n",
       "       10               Staples     19        274               Staples   \n",
       "       11               Walmart     19        321               Walmart   \n",
       "       12                  Nike     19       1186                  Nike   \n",
       "       13                Target     17        318                Target   \n",
       "       14                   REI     17        549                   REI   \n",
       "       15                    HP     17        786                    HP   \n",
       "       16                Reebok     15        908                Reebok   \n",
       "       17         moobibear.com     14      54815         moobibear.com   \n",
       "       18              Old Navy     13        362              Old Navy   \n",
       "       19       Microsoft Store     12       3626       Microsoft Store   \n",
       "       20  Best Choice Products     12      42941  Best Choice Products   \n",
       "       21               Adorama     11       1409               Adorama   \n",
       "       22                 Tanga     11       2216                 Tanga   \n",
       "       23         5.11 Tactical     11      39715         5.11 Tactical   \n",
       "       24                Proozy     11      41921                Proozy   \n",
       "       25               Costway     13      46658               Costway   \n",
       "       26                 Petco      9        474                 Petco   \n",
       "       27             Dell Home      9        638             Dell Home   \n",
       "       28    PepsiCo via Amazon      9      46889    PepsiCo via Amazon   \n",
       "       29       B&H Photo Video      8        973                   B&H   \n",
       "\n",
       "             id_name  \n",
       "vendor 0   vendor_id  \n",
       "       1   vendor_id  \n",
       "       2   vendor_id  \n",
       "       3   vendor_id  \n",
       "       4   vendor_id  \n",
       "       5   vendor_id  \n",
       "       6   vendor_id  \n",
       "       7   vendor_id  \n",
       "       8   vendor_id  \n",
       "       9   vendor_id  \n",
       "       10  vendor_id  \n",
       "       11  vendor_id  \n",
       "       12  vendor_id  \n",
       "       13  vendor_id  \n",
       "       14  vendor_id  \n",
       "       15  vendor_id  \n",
       "       16  vendor_id  \n",
       "       17  vendor_id  \n",
       "       18  vendor_id  \n",
       "       19  vendor_id  \n",
       "       20  vendor_id  \n",
       "       21  vendor_id  \n",
       "       22  vendor_id  \n",
       "       23  vendor_id  \n",
       "       24  vendor_id  \n",
       "       25  vendor_id  \n",
       "       26  vendor_id  \n",
       "       27  vendor_id  \n",
       "       28  vendor_id  \n",
       "       29  vendor_id  "
      ]
     },
     "execution_count": 11,
     "metadata": {},
     "output_type": "execute_result"
    }
   ],
   "source": [
    "deal_types_df = _parse_api_deal_types(raw_api_response)\n",
    "vendor_df = _parse_api_vendors(raw_api_response)\n",
    "facet_df = _parse_api_facet_groups(raw_api_response)\n",
    "brand_df = _parse_api_brands(raw_api_response)\n",
    "category_df = _parse_api_categories(raw_api_response)\n",
    "\n",
    "\n",
    "df_type = {\n",
    "#     \"deal_type\" : deal_types_df, # not really helpful with the API calls \n",
    "\"vendor\" : vendor_df,\n",
    "\"facet_group\" : facet_df,\n",
    "\"brand\" : brand_df,\n",
    "\"category\" : category_df}\n",
    "\n",
    "all_dfs = pd.concat(df_type)\n",
    "all_dfs.head(30)"
   ]
  },
  {
   "cell_type": "code",
   "execution_count": 12,
   "metadata": {},
   "outputs": [
    {
     "data": {
      "text/html": [
       "<div>\n",
       "<style scoped>\n",
       "    .dataframe tbody tr th:only-of-type {\n",
       "        vertical-align: middle;\n",
       "    }\n",
       "\n",
       "    .dataframe tbody tr th {\n",
       "        vertical-align: top;\n",
       "    }\n",
       "\n",
       "    .dataframe thead th {\n",
       "        text-align: right;\n",
       "    }\n",
       "</style>\n",
       "<table border=\"1\" class=\"dataframe\">\n",
       "  <thead>\n",
       "    <tr style=\"text-align: right;\">\n",
       "      <th></th>\n",
       "      <th>Offers Sum</th>\n",
       "      <th>Group Count</th>\n",
       "      <th>Most Common Name</th>\n",
       "      <th>Most Common Count</th>\n",
       "      <th>Most Common ID</th>\n",
       "    </tr>\n",
       "    <tr>\n",
       "      <th>API Category Name</th>\n",
       "      <th></th>\n",
       "      <th></th>\n",
       "      <th></th>\n",
       "      <th></th>\n",
       "      <th></th>\n",
       "    </tr>\n",
       "  </thead>\n",
       "  <tbody>\n",
       "    <tr>\n",
       "      <th>brand</th>\n",
       "      <td>1002</td>\n",
       "      <td>481</td>\n",
       "      <td>Apple</td>\n",
       "      <td>23</td>\n",
       "      <td>13</td>\n",
       "    </tr>\n",
       "    <tr>\n",
       "      <th>category</th>\n",
       "      <td>2199</td>\n",
       "      <td>30</td>\n",
       "      <td>Home &amp; Garden</td>\n",
       "      <td>753</td>\n",
       "      <td>196</td>\n",
       "    </tr>\n",
       "    <tr>\n",
       "      <th>facet_group</th>\n",
       "      <td>9742</td>\n",
       "      <td>34</td>\n",
       "      <td>Popularity Rank : Popularity: 1/5</td>\n",
       "      <td>4428</td>\n",
       "      <td>1786</td>\n",
       "    </tr>\n",
       "    <tr>\n",
       "      <th>vendor</th>\n",
       "      <td>2016</td>\n",
       "      <td>356</td>\n",
       "      <td>Amazon</td>\n",
       "      <td>716</td>\n",
       "      <td>313</td>\n",
       "    </tr>\n",
       "  </tbody>\n",
       "</table>\n",
       "</div>"
      ],
      "text/plain": [
       "                   Offers Sum  Group Count                   Most Common Name  \\\n",
       "API Category Name                                                               \n",
       "brand                    1002          481                              Apple   \n",
       "category                 2199           30                      Home & Garden   \n",
       "facet_group              9742           34  Popularity Rank : Popularity: 1/5   \n",
       "vendor                   2016          356                             Amazon   \n",
       "\n",
       "                   Most Common Count  Most Common ID  \n",
       "API Category Name                                     \n",
       "brand                             23              13  \n",
       "category                         753             196  \n",
       "facet_group                     4428            1786  \n",
       "vendor                           716             313  "
      ]
     },
     "execution_count": 12,
     "metadata": {},
     "output_type": "execute_result"
    }
   ],
   "source": [
    "summary1 = all_dfs.reset_index().groupby('level_0')\\\n",
    "    .apply(get_summary_of_api_options)\n",
    "summary1.index = summary1.index.rename('API Category Name')\n",
    "summary1"
   ]
  },
  {
   "cell_type": "markdown",
   "metadata": {},
   "source": [
    "### Save to Database"
   ]
  },
  {
   "cell_type": "code",
   "execution_count": 13,
   "metadata": {},
   "outputs": [
    {
     "name": "stderr",
     "output_type": "stream",
     "text": [
      "/home/malcolm/main/lib/python3.6/site-packages/pandas/core/generic.py:2615: UserWarning: The spaces in these column names will not be changed. In pandas versions < 0.14, spaces were converted to underscores.\n",
      "  method=method,\n"
     ]
    }
   ],
   "source": [
    "all_dfs['_dt_pulled'] = datetime.datetime.now().strftime('%Y-%m-%d %H:%M')\n",
    "all_dfs.to_sql('Category Info', con, if_exists='append')\n",
    "\n",
    "summary1['_dt_pulled'] = datetime.datetime.now().strftime('%Y-%m-%d %H:%M')\n",
    "summary1.to_sql('Category Summary', con, if_exists='append')"
   ]
  },
  {
   "cell_type": "raw",
   "metadata": {
    "scrolled": true
   },
   "source": [
    "facet_groups = [x['name'] for x in raw_api_response['facet_groups']]\n",
    "facet_groups"
   ]
  },
  {
   "cell_type": "markdown",
   "metadata": {},
   "source": [
    "## Parse One API Section Request"
   ]
  },
  {
   "cell_type": "code",
   "execution_count": 14,
   "metadata": {
    "code_folding": [
     1,
     30,
     36,
     41,
     47,
     53,
     67,
     73,
     89
    ]
   },
   "outputs": [],
   "source": [
    "\n",
    "def parse_easy_elems(content):\n",
    "    content_keys_to_keep = [\n",
    "         'id',\n",
    "         'headline',\n",
    "         'brief_headline',\n",
    "         'summary',\n",
    "         'secondary_summary',\n",
    "         'key_attribute',\n",
    "         'brief_notes',\n",
    "         'url',\n",
    "         'display_date',\n",
    "         'publish_datetime_ts',\n",
    "         'update_datetime_ts',\n",
    "         'expiration_datetime_ts',\n",
    "         'last_verified_datetime_ts',\n",
    "         'editors_choice',\n",
    "         'sponsored',\n",
    "         'expired',\n",
    "         'expires_today',\n",
    "         'exclusive',\n",
    "         'searchable',\n",
    "         'hotness',\n",
    "         'call_out',\n",
    "         'call_out_comparison',\n",
    "         'sub_call_out'\n",
    "    ]\n",
    "    out_dict = {x : content[x] for x in content_keys_to_keep}\n",
    "    return(out_dict)\n",
    "\n",
    "def parse_time_fields(content):\n",
    "    elements = ['publish_datetime_ts',\n",
    "         'update_datetime_ts',\n",
    "         'expiration_datetime_ts',\n",
    "         'last_verified_datetime_ts']\n",
    "    out_dict = {}\n",
    "    for x in elements:\n",
    "        temp_time = content.get(x) if content.get(x) != None else 0\n",
    "        out_dict[x] = datetime.datetime.fromtimestamp(temp_time)\n",
    "    return(out_dict)\n",
    "\n",
    "def parse_coupon_code(content):\n",
    "    cc_list = content['coupon_code']\n",
    "    cc_code = cc_list[0] if len(cc_list) > 0 else None \n",
    "    out_dict = {\"Coupon Code\":cc_code}\n",
    "    return(out_dict)\n",
    "\n",
    "def _parse_category(cat_dict):\n",
    "    keeper_elements = ['category_id', 'name'\n",
    "                      'path', 'ancestor_list' ]\n",
    "    cat_elems = {x:cat_dict.get(x) for x in keeper_elements}\n",
    "    return(cat_elems)\n",
    "\n",
    "def parse_2_categories(content):\n",
    "    cat_list = content['categories']\n",
    "    out_dict = {}\n",
    "    # Only keep 2 categories \n",
    "    if len(cat_list) < 2:\n",
    "        cat_list.append({})\n",
    "    for dict_num in range(2):\n",
    "        temp_cat_elems = _parse_category(cat_list[dict_num])\n",
    "        temp_cat_elems = {key + '_' +str(dict_num): value \n",
    "                          for key, value in temp_cat_elems.items()}\n",
    "        out_dict.update(temp_cat_elems)\n",
    "    \n",
    "    return(out_dict)\n",
    "\n",
    "def parse_vendor(content):\n",
    "    vend_dict = content['vendor']\n",
    "    keeper_elems = ['vendor_id', 'name']\n",
    "    vend_dict = {x:vend_dict[x] for x in keeper_elems}\n",
    "    return(vend_dict)\n",
    "\n",
    "def _create_img_path(content):\n",
    "    # Create Filename\n",
    "    headline = content.get('headline')\n",
    "    id1 = content.get('id')\n",
    "    file_name = headline + '_' + str(id1) + '.jpg'\n",
    "    file_name = file_name.replace('/', '')\n",
    "    # Create Directory structure \n",
    "    date = str(datetime.datetime.now().date())\n",
    "    if 'base_path' not in locals():\n",
    "        base_path = os.getcwd() + '/Dealnews Images/'\n",
    "    path = base_path + date + '/'\n",
    "    os.makedirs(path, exist_ok=True)\n",
    "    #File Save location \n",
    "    save_location = path + file_name\n",
    "    return(save_location)\n",
    "    \n",
    "def parse_image(content):\n",
    "    image_link = content.get('images').get('XXL').get('url')\n",
    "    save_path = _create_img_path(content)\n",
    "    \n",
    "    urllib.request.urlretrieve(image_link, save_path)\n",
    "    out_dict = {'Image path': save_path}\n",
    "    return(out_dict)\n"
   ]
  },
  {
   "cell_type": "code",
   "execution_count": 15,
   "metadata": {
    "code_folding": [
     0
    ]
   },
   "outputs": [],
   "source": [
    "def parse_dn_item(content):\n",
    "    all_details = {}\n",
    "    \n",
    "    main_elems = parse_easy_elems(content)\n",
    "    all_details.update(main_elems)\n",
    "    \n",
    "    time_fields = parse_time_fields(content)\n",
    "    all_details.update(time_fields)\n",
    "    \n",
    "    cc_code = parse_coupon_code(content)\n",
    "    all_details.update(cc_code)\n",
    "    \n",
    "    categories = parse_2_categories(content)\n",
    "    all_details.update(categories)\n",
    "\n",
    "    vendor = parse_vendor(content)\n",
    "    all_details.update(vendor)\n",
    "    \n",
    "    image_info = parse_image(content)\n",
    "    all_details.update(image_info)\n",
    "    \n",
    "    return(all_details)"
   ]
  },
  {
   "cell_type": "code",
   "execution_count": 16,
   "metadata": {},
   "outputs": [],
   "source": [
    "def _get(colname):\n",
    "    return(popularity.columns.tolist().index(colname))"
   ]
  },
  {
   "cell_type": "code",
   "execution_count": 17,
   "metadata": {},
   "outputs": [
    {
     "name": "stderr",
     "output_type": "stream",
     "text": [
      "/home/malcolm/main/lib/python3.6/site-packages/ipykernel_launcher.py:2: SettingWithCopyWarning: \n",
      "A value is trying to be set on a copy of a slice from a DataFrame.\n",
      "Try using .loc[row_indexer,col_indexer] = value instead\n",
      "\n",
      "See the caveats in the documentation: https://pandas.pydata.org/pandas-docs/stable/user_guide/indexing.html#returning-a-view-versus-a-copy\n",
      "  \n",
      "/home/malcolm/main/lib/python3.6/site-packages/ipykernel_launcher.py:3: SettingWithCopyWarning: \n",
      "A value is trying to be set on a copy of a slice from a DataFrame.\n",
      "Try using .loc[row_indexer,col_indexer] = value instead\n",
      "\n",
      "See the caveats in the documentation: https://pandas.pydata.org/pandas-docs/stable/user_guide/indexing.html#returning-a-view-versus-a-copy\n",
      "  This is separate from the ipykernel package so we can avoid doing imports until\n",
      "/home/malcolm/main/lib/python3.6/site-packages/ipykernel_launcher.py:4: SettingWithCopyWarning: \n",
      "A value is trying to be set on a copy of a slice from a DataFrame.\n",
      "Try using .loc[row_indexer,col_indexer] = value instead\n",
      "\n",
      "See the caveats in the documentation: https://pandas.pydata.org/pandas-docs/stable/user_guide/indexing.html#returning-a-view-versus-a-copy\n",
      "  after removing the cwd from sys.path.\n"
     ]
    },
    {
     "data": {
      "text/html": [
       "<div>\n",
       "<style scoped>\n",
       "    .dataframe tbody tr th:only-of-type {\n",
       "        vertical-align: middle;\n",
       "    }\n",
       "\n",
       "    .dataframe tbody tr th {\n",
       "        vertical-align: top;\n",
       "    }\n",
       "\n",
       "    .dataframe thead th {\n",
       "        text-align: right;\n",
       "    }\n",
       "</style>\n",
       "<table border=\"1\" class=\"dataframe\">\n",
       "  <thead>\n",
       "    <tr style=\"text-align: right;\">\n",
       "      <th></th>\n",
       "      <th>name</th>\n",
       "      <th>count</th>\n",
       "      <th>id_number</th>\n",
       "      <th>short_name</th>\n",
       "      <th>id_name</th>\n",
       "      <th>n_api_return_items</th>\n",
       "      <th># of times to call</th>\n",
       "    </tr>\n",
       "  </thead>\n",
       "  <tbody>\n",
       "    <tr>\n",
       "      <th>0</th>\n",
       "      <td>Popularity Rank : Popularity: 5/5</td>\n",
       "      <td>112</td>\n",
       "      <td>1774</td>\n",
       "      <td>Popularity: 5/5</td>\n",
       "      <td>facet_id</td>\n",
       "      <td>70</td>\n",
       "      <td>2</td>\n",
       "    </tr>\n",
       "    <tr>\n",
       "      <th>1</th>\n",
       "      <td>Popularity Rank : Popularity: 4/5</td>\n",
       "      <td>557</td>\n",
       "      <td>1777</td>\n",
       "      <td>Popularity: 4/5</td>\n",
       "      <td>facet_id</td>\n",
       "      <td>70</td>\n",
       "      <td>8</td>\n",
       "    </tr>\n",
       "    <tr>\n",
       "      <th>2</th>\n",
       "      <td>Popularity Rank : Popularity: 3/5</td>\n",
       "      <td>2020</td>\n",
       "      <td>1780</td>\n",
       "      <td>Popularity: 3/5</td>\n",
       "      <td>facet_id</td>\n",
       "      <td>70</td>\n",
       "      <td>29</td>\n",
       "    </tr>\n",
       "    <tr>\n",
       "      <th>3</th>\n",
       "      <td>Popularity Rank : Popularity: 2/5</td>\n",
       "      <td>1208</td>\n",
       "      <td>1783</td>\n",
       "      <td>Popularity: 2/5</td>\n",
       "      <td>facet_id</td>\n",
       "      <td>70</td>\n",
       "      <td>18</td>\n",
       "    </tr>\n",
       "    <tr>\n",
       "      <th>4</th>\n",
       "      <td>Popularity Rank : Popularity: 1/5</td>\n",
       "      <td>4428</td>\n",
       "      <td>1786</td>\n",
       "      <td>Popularity: 1/5</td>\n",
       "      <td>facet_id</td>\n",
       "      <td>70</td>\n",
       "      <td>64</td>\n",
       "    </tr>\n",
       "  </tbody>\n",
       "</table>\n",
       "</div>"
      ],
      "text/plain": [
       "                                name  count  id_number       short_name  \\\n",
       "0  Popularity Rank : Popularity: 5/5    112       1774  Popularity: 5/5   \n",
       "1  Popularity Rank : Popularity: 4/5    557       1777  Popularity: 4/5   \n",
       "2  Popularity Rank : Popularity: 3/5   2020       1780  Popularity: 3/5   \n",
       "3  Popularity Rank : Popularity: 2/5   1208       1783  Popularity: 2/5   \n",
       "4  Popularity Rank : Popularity: 1/5   4428       1786  Popularity: 1/5   \n",
       "\n",
       "    id_name  n_api_return_items  # of times to call  \n",
       "0  facet_id                  70                   2  \n",
       "1  facet_id                  70                   8  \n",
       "2  facet_id                  70                  29  \n",
       "3  facet_id                  70                  18  \n",
       "4  facet_id                  70                  64  "
      ]
     },
     "execution_count": 17,
     "metadata": {},
     "output_type": "execute_result"
    }
   ],
   "source": [
    "popularity = facet_df[facet_df.name.str.contains('Popularity Rank')]\n",
    "popularity['n_api_return_items'] = 70\n",
    "popularity['# of times to call'] = popularity['count']/popularity['n_api_return_items']\n",
    "popularity['# of times to call'] = 1 + popularity['# of times to call'].astype('int')\n",
    "popularity"
   ]
  },
  {
   "cell_type": "code",
   "execution_count": 18,
   "metadata": {
    "scrolled": true
   },
   "outputs": [
    {
     "data": {
      "text/plain": [
       "{'Popularity Rank : Popularity: 1/5': '2021-06-16 19:01:25',\n",
       " 'Popularity Rank : Popularity: 2/5': '2021-06-16 18:58:43',\n",
       " 'Popularity Rank : Popularity: 3/5': '2021-06-16 18:39:02',\n",
       " 'Popularity Rank : Popularity: 4/5': '2021-06-16 18:56:45',\n",
       " 'Popularity Rank : Popularity: 5/5': '2021-06-16 18:58:07'}"
      ]
     },
     "execution_count": 18,
     "metadata": {},
     "output_type": "execute_result"
    }
   ],
   "source": [
    "last_published_item_raw = cursor.execute(\"\"\"\n",
    "select `API Feed`, max(publish_datetime_ts) \n",
    "from `Dealnews Items`\n",
    "group by `API Feed`\n",
    "\"\"\").fetchall()\n",
    "last_published_dict = {x[0]: x[1] for x in last_published_item_raw}\n",
    "last_published_dict"
   ]
  },
  {
   "cell_type": "code",
   "execution_count": 20,
   "metadata": {},
   "outputs": [
    {
     "name": "stdout",
     "output_type": "stream",
     "text": [
      "On group: \n",
      " name                  Popularity Rank : Popularity: 5/5\n",
      "count                                               112\n",
      "id_number                                          1774\n",
      "short_name                              Popularity: 5/5\n",
      "id_name                                        facet_id\n",
      "n_api_return_items                                   70\n",
      "# of times to call                                    2\n",
      "Name: 0, dtype: object\n"
     ]
    },
    {
     "data": {
      "application/vnd.jupyter.widget-view+json": {
       "model_id": "da079ee5e22742b7a98d1276c035cad8",
       "version_major": 2,
       "version_minor": 0
      },
      "text/plain": [
       "HBox(children=(HTML(value=''), FloatProgress(value=0.0, max=70.0), HTML(value='')))"
      ]
     },
     "metadata": {},
     "output_type": "display_data"
    },
    {
     "name": "stdout",
     "output_type": "stream",
     "text": [
      "\n"
     ]
    },
    {
     "data": {
      "application/vnd.jupyter.widget-view+json": {
       "model_id": "87fa9fdef6924a3688ce276a72ce6916",
       "version_major": 2,
       "version_minor": 0
      },
      "text/plain": [
       "HBox(children=(HTML(value=''), FloatProgress(value=0.0, max=70.0), HTML(value='')))"
      ]
     },
     "metadata": {},
     "output_type": "display_data"
    },
    {
     "name": "stdout",
     "output_type": "stream",
     "text": [
      "\n",
      "On group: \n",
      " name                  Popularity Rank : Popularity: 4/5\n",
      "count                                               557\n",
      "id_number                                          1777\n",
      "short_name                              Popularity: 4/5\n",
      "id_name                                        facet_id\n",
      "n_api_return_items                                   70\n",
      "# of times to call                                    8\n",
      "Name: 1, dtype: object\n"
     ]
    },
    {
     "data": {
      "application/vnd.jupyter.widget-view+json": {
       "model_id": "0347539b586f46698ebd546a64c265e0",
       "version_major": 2,
       "version_minor": 0
      },
      "text/plain": [
       "HBox(children=(HTML(value=''), FloatProgress(value=0.0, max=70.0), HTML(value='')))"
      ]
     },
     "metadata": {},
     "output_type": "display_data"
    },
    {
     "name": "stdout",
     "output_type": "stream",
     "text": [
      "\n"
     ]
    },
    {
     "data": {
      "application/vnd.jupyter.widget-view+json": {
       "model_id": "b1bcb75558ff4fbea8c94559c449f59d",
       "version_major": 2,
       "version_minor": 0
      },
      "text/plain": [
       "HBox(children=(HTML(value=''), FloatProgress(value=0.0, max=70.0), HTML(value='')))"
      ]
     },
     "metadata": {},
     "output_type": "display_data"
    },
    {
     "name": "stdout",
     "output_type": "stream",
     "text": [
      "\n"
     ]
    },
    {
     "data": {
      "application/vnd.jupyter.widget-view+json": {
       "model_id": "ed6219d743d64e32871c73cba10a4424",
       "version_major": 2,
       "version_minor": 0
      },
      "text/plain": [
       "HBox(children=(HTML(value=''), FloatProgress(value=0.0, max=70.0), HTML(value='')))"
      ]
     },
     "metadata": {},
     "output_type": "display_data"
    },
    {
     "name": "stdout",
     "output_type": "stream",
     "text": [
      "\n"
     ]
    },
    {
     "data": {
      "application/vnd.jupyter.widget-view+json": {
       "model_id": "c4b93bb057b5474780957e8b7ad9d4dd",
       "version_major": 2,
       "version_minor": 0
      },
      "text/plain": [
       "HBox(children=(HTML(value=''), FloatProgress(value=0.0, max=70.0), HTML(value='')))"
      ]
     },
     "metadata": {},
     "output_type": "display_data"
    },
    {
     "name": "stdout",
     "output_type": "stream",
     "text": [
      "\n"
     ]
    },
    {
     "data": {
      "application/vnd.jupyter.widget-view+json": {
       "model_id": "66fb8b87779d48b6998721a87db070cf",
       "version_major": 2,
       "version_minor": 0
      },
      "text/plain": [
       "HBox(children=(HTML(value=''), FloatProgress(value=0.0, max=70.0), HTML(value='')))"
      ]
     },
     "metadata": {},
     "output_type": "display_data"
    },
    {
     "name": "stdout",
     "output_type": "stream",
     "text": [
      "\n"
     ]
    },
    {
     "data": {
      "application/vnd.jupyter.widget-view+json": {
       "model_id": "b315ce1249094b02a85bebecd6558483",
       "version_major": 2,
       "version_minor": 0
      },
      "text/plain": [
       "HBox(children=(HTML(value=''), FloatProgress(value=0.0, max=70.0), HTML(value='')))"
      ]
     },
     "metadata": {},
     "output_type": "display_data"
    },
    {
     "name": "stdout",
     "output_type": "stream",
     "text": [
      "\n"
     ]
    },
    {
     "data": {
      "application/vnd.jupyter.widget-view+json": {
       "model_id": "2bd60757f1314f4ca9e8d12bd8f3a6ea",
       "version_major": 2,
       "version_minor": 0
      },
      "text/plain": [
       "HBox(children=(HTML(value=''), FloatProgress(value=0.0, max=70.0), HTML(value='')))"
      ]
     },
     "metadata": {},
     "output_type": "display_data"
    },
    {
     "name": "stdout",
     "output_type": "stream",
     "text": [
      "\n"
     ]
    },
    {
     "data": {
      "application/vnd.jupyter.widget-view+json": {
       "model_id": "24e63922a2824f4bbf17e791216d5047",
       "version_major": 2,
       "version_minor": 0
      },
      "text/plain": [
       "HBox(children=(HTML(value=''), FloatProgress(value=0.0, max=70.0), HTML(value='')))"
      ]
     },
     "metadata": {},
     "output_type": "display_data"
    },
    {
     "name": "stdout",
     "output_type": "stream",
     "text": [
      "\n",
      "On group: \n",
      " name                  Popularity Rank : Popularity: 3/5\n",
      "count                                              2020\n",
      "id_number                                          1780\n",
      "short_name                              Popularity: 3/5\n",
      "id_name                                        facet_id\n",
      "n_api_return_items                                   70\n",
      "# of times to call                                   29\n",
      "Name: 2, dtype: object\n"
     ]
    },
    {
     "data": {
      "application/vnd.jupyter.widget-view+json": {
       "model_id": "0416eb302519464ab532ebae907e5bf0",
       "version_major": 2,
       "version_minor": 0
      },
      "text/plain": [
       "HBox(children=(HTML(value=''), FloatProgress(value=0.0, max=70.0), HTML(value='')))"
      ]
     },
     "metadata": {},
     "output_type": "display_data"
    },
    {
     "name": "stdout",
     "output_type": "stream",
     "text": [
      "\n"
     ]
    },
    {
     "data": {
      "application/vnd.jupyter.widget-view+json": {
       "model_id": "8cfc0d3fa3ae463f8c11299f6d4bb582",
       "version_major": 2,
       "version_minor": 0
      },
      "text/plain": [
       "HBox(children=(HTML(value=''), FloatProgress(value=0.0, max=70.0), HTML(value='')))"
      ]
     },
     "metadata": {},
     "output_type": "display_data"
    },
    {
     "name": "stdout",
     "output_type": "stream",
     "text": [
      "\n"
     ]
    },
    {
     "data": {
      "application/vnd.jupyter.widget-view+json": {
       "model_id": "e43af423ed8e461a9b9ac2f1ef92d8f9",
       "version_major": 2,
       "version_minor": 0
      },
      "text/plain": [
       "HBox(children=(HTML(value=''), FloatProgress(value=0.0, max=70.0), HTML(value='')))"
      ]
     },
     "metadata": {},
     "output_type": "display_data"
    },
    {
     "name": "stdout",
     "output_type": "stream",
     "text": [
      "\n"
     ]
    },
    {
     "data": {
      "application/vnd.jupyter.widget-view+json": {
       "model_id": "186bbb6ac0d148a98fef71751685f488",
       "version_major": 2,
       "version_minor": 0
      },
      "text/plain": [
       "HBox(children=(HTML(value=''), FloatProgress(value=0.0, max=70.0), HTML(value='')))"
      ]
     },
     "metadata": {},
     "output_type": "display_data"
    },
    {
     "name": "stdout",
     "output_type": "stream",
     "text": [
      "\n"
     ]
    },
    {
     "data": {
      "application/vnd.jupyter.widget-view+json": {
       "model_id": "0e22dc01ea664a7a9b33032b30d9c1f7",
       "version_major": 2,
       "version_minor": 0
      },
      "text/plain": [
       "HBox(children=(HTML(value=''), FloatProgress(value=0.0, max=70.0), HTML(value='')))"
      ]
     },
     "metadata": {},
     "output_type": "display_data"
    },
    {
     "name": "stdout",
     "output_type": "stream",
     "text": [
      "\n"
     ]
    },
    {
     "data": {
      "application/vnd.jupyter.widget-view+json": {
       "model_id": "3d802c8c8254424c9cd892e5a6f3ba9a",
       "version_major": 2,
       "version_minor": 0
      },
      "text/plain": [
       "HBox(children=(HTML(value=''), FloatProgress(value=0.0, max=70.0), HTML(value='')))"
      ]
     },
     "metadata": {},
     "output_type": "display_data"
    },
    {
     "name": "stdout",
     "output_type": "stream",
     "text": [
      "\n"
     ]
    },
    {
     "data": {
      "application/vnd.jupyter.widget-view+json": {
       "model_id": "5708fcb801114d56b987b6416898b036",
       "version_major": 2,
       "version_minor": 0
      },
      "text/plain": [
       "HBox(children=(HTML(value=''), FloatProgress(value=0.0, max=70.0), HTML(value='')))"
      ]
     },
     "metadata": {},
     "output_type": "display_data"
    },
    {
     "name": "stdout",
     "output_type": "stream",
     "text": [
      "\n"
     ]
    },
    {
     "data": {
      "application/vnd.jupyter.widget-view+json": {
       "model_id": "4c17cb86fb4b4f7d81c755b73a46d6d2",
       "version_major": 2,
       "version_minor": 0
      },
      "text/plain": [
       "HBox(children=(HTML(value=''), FloatProgress(value=0.0, max=70.0), HTML(value='')))"
      ]
     },
     "metadata": {},
     "output_type": "display_data"
    },
    {
     "name": "stdout",
     "output_type": "stream",
     "text": [
      "\n"
     ]
    },
    {
     "data": {
      "application/vnd.jupyter.widget-view+json": {
       "model_id": "5dec205988154ba2bd6cf29ff01bfca6",
       "version_major": 2,
       "version_minor": 0
      },
      "text/plain": [
       "HBox(children=(HTML(value=''), FloatProgress(value=0.0, max=70.0), HTML(value='')))"
      ]
     },
     "metadata": {},
     "output_type": "display_data"
    },
    {
     "name": "stdout",
     "output_type": "stream",
     "text": [
      "\n"
     ]
    },
    {
     "data": {
      "application/vnd.jupyter.widget-view+json": {
       "model_id": "dea1902b962f406f8cf4e2d06d1add34",
       "version_major": 2,
       "version_minor": 0
      },
      "text/plain": [
       "HBox(children=(HTML(value=''), FloatProgress(value=0.0, max=70.0), HTML(value='')))"
      ]
     },
     "metadata": {},
     "output_type": "display_data"
    },
    {
     "name": "stdout",
     "output_type": "stream",
     "text": [
      "\n"
     ]
    },
    {
     "data": {
      "application/vnd.jupyter.widget-view+json": {
       "model_id": "e24d1467f258450ea5f5ea52be0345a9",
       "version_major": 2,
       "version_minor": 0
      },
      "text/plain": [
       "HBox(children=(HTML(value=''), FloatProgress(value=0.0, max=70.0), HTML(value='')))"
      ]
     },
     "metadata": {},
     "output_type": "display_data"
    },
    {
     "name": "stdout",
     "output_type": "stream",
     "text": [
      "\n"
     ]
    },
    {
     "data": {
      "application/vnd.jupyter.widget-view+json": {
       "model_id": "4ae55baed37b435fa7cb17c855c5967a",
       "version_major": 2,
       "version_minor": 0
      },
      "text/plain": [
       "HBox(children=(HTML(value=''), FloatProgress(value=0.0, max=70.0), HTML(value='')))"
      ]
     },
     "metadata": {},
     "output_type": "display_data"
    },
    {
     "name": "stdout",
     "output_type": "stream",
     "text": [
      "\n"
     ]
    },
    {
     "data": {
      "application/vnd.jupyter.widget-view+json": {
       "model_id": "959f66224541478397ec1f054c0e3682",
       "version_major": 2,
       "version_minor": 0
      },
      "text/plain": [
       "HBox(children=(HTML(value=''), FloatProgress(value=0.0, max=70.0), HTML(value='')))"
      ]
     },
     "metadata": {},
     "output_type": "display_data"
    },
    {
     "name": "stdout",
     "output_type": "stream",
     "text": [
      "\n"
     ]
    },
    {
     "data": {
      "application/vnd.jupyter.widget-view+json": {
       "model_id": "d468200087e94b54ae9151cbf96a24b2",
       "version_major": 2,
       "version_minor": 0
      },
      "text/plain": [
       "HBox(children=(HTML(value=''), FloatProgress(value=0.0, max=70.0), HTML(value='')))"
      ]
     },
     "metadata": {},
     "output_type": "display_data"
    },
    {
     "name": "stdout",
     "output_type": "stream",
     "text": [
      "\n"
     ]
    },
    {
     "data": {
      "application/vnd.jupyter.widget-view+json": {
       "model_id": "596d418a2bc24f4db21c38ba8b45ca74",
       "version_major": 2,
       "version_minor": 0
      },
      "text/plain": [
       "HBox(children=(HTML(value=''), FloatProgress(value=0.0, max=70.0), HTML(value='')))"
      ]
     },
     "metadata": {},
     "output_type": "display_data"
    },
    {
     "name": "stdout",
     "output_type": "stream",
     "text": [
      "\n"
     ]
    },
    {
     "data": {
      "application/vnd.jupyter.widget-view+json": {
       "model_id": "fbe9fb205c7742ce828d0b336d081601",
       "version_major": 2,
       "version_minor": 0
      },
      "text/plain": [
       "HBox(children=(HTML(value=''), FloatProgress(value=0.0, max=70.0), HTML(value='')))"
      ]
     },
     "metadata": {},
     "output_type": "display_data"
    },
    {
     "name": "stdout",
     "output_type": "stream",
     "text": [
      "\n"
     ]
    },
    {
     "data": {
      "application/vnd.jupyter.widget-view+json": {
       "model_id": "b449ac98beb24f1db3a2d8b6557cab60",
       "version_major": 2,
       "version_minor": 0
      },
      "text/plain": [
       "HBox(children=(HTML(value=''), FloatProgress(value=0.0, max=70.0), HTML(value='')))"
      ]
     },
     "metadata": {},
     "output_type": "display_data"
    },
    {
     "name": "stdout",
     "output_type": "stream",
     "text": [
      "\n"
     ]
    },
    {
     "data": {
      "application/vnd.jupyter.widget-view+json": {
       "model_id": "d6e2ce67d27c483f838feca6450543cb",
       "version_major": 2,
       "version_minor": 0
      },
      "text/plain": [
       "HBox(children=(HTML(value=''), FloatProgress(value=0.0, max=70.0), HTML(value='')))"
      ]
     },
     "metadata": {},
     "output_type": "display_data"
    },
    {
     "name": "stdout",
     "output_type": "stream",
     "text": [
      "\n"
     ]
    },
    {
     "data": {
      "application/vnd.jupyter.widget-view+json": {
       "model_id": "3421a60f325445039b5c90caace48420",
       "version_major": 2,
       "version_minor": 0
      },
      "text/plain": [
       "HBox(children=(HTML(value=''), FloatProgress(value=0.0, max=70.0), HTML(value='')))"
      ]
     },
     "metadata": {},
     "output_type": "display_data"
    },
    {
     "name": "stdout",
     "output_type": "stream",
     "text": [
      "\n"
     ]
    },
    {
     "data": {
      "application/vnd.jupyter.widget-view+json": {
       "model_id": "fd5d12fc02f04d669206544c881f2dd5",
       "version_major": 2,
       "version_minor": 0
      },
      "text/plain": [
       "HBox(children=(HTML(value=''), FloatProgress(value=0.0, max=70.0), HTML(value='')))"
      ]
     },
     "metadata": {},
     "output_type": "display_data"
    },
    {
     "name": "stdout",
     "output_type": "stream",
     "text": [
      "\n"
     ]
    },
    {
     "data": {
      "application/vnd.jupyter.widget-view+json": {
       "model_id": "0d14ef8b82e243aeba4c668d20906c3d",
       "version_major": 2,
       "version_minor": 0
      },
      "text/plain": [
       "HBox(children=(HTML(value=''), FloatProgress(value=0.0, max=70.0), HTML(value='')))"
      ]
     },
     "metadata": {},
     "output_type": "display_data"
    },
    {
     "name": "stdout",
     "output_type": "stream",
     "text": [
      "\n"
     ]
    },
    {
     "data": {
      "application/vnd.jupyter.widget-view+json": {
       "model_id": "887013415ce3413faf509bf15ce97ebc",
       "version_major": 2,
       "version_minor": 0
      },
      "text/plain": [
       "HBox(children=(HTML(value=''), FloatProgress(value=0.0, max=70.0), HTML(value='')))"
      ]
     },
     "metadata": {},
     "output_type": "display_data"
    },
    {
     "name": "stdout",
     "output_type": "stream",
     "text": [
      "\n"
     ]
    },
    {
     "data": {
      "application/vnd.jupyter.widget-view+json": {
       "model_id": "3171af05cec04097b4a0f114d9178e5f",
       "version_major": 2,
       "version_minor": 0
      },
      "text/plain": [
       "HBox(children=(HTML(value=''), FloatProgress(value=0.0, max=70.0), HTML(value='')))"
      ]
     },
     "metadata": {},
     "output_type": "display_data"
    },
    {
     "name": "stdout",
     "output_type": "stream",
     "text": [
      "\n"
     ]
    },
    {
     "data": {
      "application/vnd.jupyter.widget-view+json": {
       "model_id": "2f211c463fb646f9a93c7d9754cba62d",
       "version_major": 2,
       "version_minor": 0
      },
      "text/plain": [
       "HBox(children=(HTML(value=''), FloatProgress(value=0.0, max=70.0), HTML(value='')))"
      ]
     },
     "metadata": {},
     "output_type": "display_data"
    },
    {
     "name": "stdout",
     "output_type": "stream",
     "text": [
      "\n"
     ]
    },
    {
     "data": {
      "application/vnd.jupyter.widget-view+json": {
       "model_id": "eecbb15b1ead44a6b5d90c36f2d42ed8",
       "version_major": 2,
       "version_minor": 0
      },
      "text/plain": [
       "HBox(children=(HTML(value=''), FloatProgress(value=0.0, max=70.0), HTML(value='')))"
      ]
     },
     "metadata": {},
     "output_type": "display_data"
    },
    {
     "name": "stdout",
     "output_type": "stream",
     "text": [
      "\n"
     ]
    },
    {
     "data": {
      "application/vnd.jupyter.widget-view+json": {
       "model_id": "bfd94b174dfb46eead9bd557c392e4ef",
       "version_major": 2,
       "version_minor": 0
      },
      "text/plain": [
       "HBox(children=(HTML(value=''), FloatProgress(value=0.0, max=70.0), HTML(value='')))"
      ]
     },
     "metadata": {},
     "output_type": "display_data"
    },
    {
     "name": "stdout",
     "output_type": "stream",
     "text": [
      "\n"
     ]
    },
    {
     "data": {
      "application/vnd.jupyter.widget-view+json": {
       "model_id": "3dfb8c14c85f4cfdb4a5728b988e1b3a",
       "version_major": 2,
       "version_minor": 0
      },
      "text/plain": [
       "HBox(children=(HTML(value=''), FloatProgress(value=0.0, max=70.0), HTML(value='')))"
      ]
     },
     "metadata": {},
     "output_type": "display_data"
    },
    {
     "name": "stdout",
     "output_type": "stream",
     "text": [
      "\n"
     ]
    },
    {
     "data": {
      "application/vnd.jupyter.widget-view+json": {
       "model_id": "1f5a53abb6ef43209383ca55c29ed18b",
       "version_major": 2,
       "version_minor": 0
      },
      "text/plain": [
       "HBox(children=(HTML(value=''), FloatProgress(value=0.0, max=70.0), HTML(value='')))"
      ]
     },
     "metadata": {},
     "output_type": "display_data"
    },
    {
     "name": "stdout",
     "output_type": "stream",
     "text": [
      "\n"
     ]
    },
    {
     "data": {
      "application/vnd.jupyter.widget-view+json": {
       "model_id": "a2efbb3a44734170a33cb4ccb6b5d237",
       "version_major": 2,
       "version_minor": 0
      },
      "text/plain": [
       "HBox(children=(HTML(value=''), FloatProgress(value=0.0, max=70.0), HTML(value='')))"
      ]
     },
     "metadata": {},
     "output_type": "display_data"
    },
    {
     "name": "stdout",
     "output_type": "stream",
     "text": [
      "\n",
      "On group: \n",
      " name                  Popularity Rank : Popularity: 2/5\n",
      "count                                              1208\n",
      "id_number                                          1783\n",
      "short_name                              Popularity: 2/5\n",
      "id_name                                        facet_id\n",
      "n_api_return_items                                   70\n",
      "# of times to call                                   18\n",
      "Name: 3, dtype: object\n"
     ]
    },
    {
     "data": {
      "application/vnd.jupyter.widget-view+json": {
       "model_id": "bdc502b363b546d2895aa2a92aa457b6",
       "version_major": 2,
       "version_minor": 0
      },
      "text/plain": [
       "HBox(children=(HTML(value=''), FloatProgress(value=0.0, max=70.0), HTML(value='')))"
      ]
     },
     "metadata": {},
     "output_type": "display_data"
    },
    {
     "name": "stdout",
     "output_type": "stream",
     "text": [
      "\n"
     ]
    },
    {
     "data": {
      "application/vnd.jupyter.widget-view+json": {
       "model_id": "148780db51224886ad693834a7328e75",
       "version_major": 2,
       "version_minor": 0
      },
      "text/plain": [
       "HBox(children=(HTML(value=''), FloatProgress(value=0.0, max=70.0), HTML(value='')))"
      ]
     },
     "metadata": {},
     "output_type": "display_data"
    },
    {
     "name": "stdout",
     "output_type": "stream",
     "text": [
      "\n"
     ]
    },
    {
     "data": {
      "application/vnd.jupyter.widget-view+json": {
       "model_id": "a973227402b543e883859833930a8c96",
       "version_major": 2,
       "version_minor": 0
      },
      "text/plain": [
       "HBox(children=(HTML(value=''), FloatProgress(value=0.0, max=70.0), HTML(value='')))"
      ]
     },
     "metadata": {},
     "output_type": "display_data"
    },
    {
     "name": "stdout",
     "output_type": "stream",
     "text": [
      "\n"
     ]
    },
    {
     "data": {
      "application/vnd.jupyter.widget-view+json": {
       "model_id": "cd47119cc2344140b32cd064bbef0094",
       "version_major": 2,
       "version_minor": 0
      },
      "text/plain": [
       "HBox(children=(HTML(value=''), FloatProgress(value=0.0, max=70.0), HTML(value='')))"
      ]
     },
     "metadata": {},
     "output_type": "display_data"
    },
    {
     "name": "stdout",
     "output_type": "stream",
     "text": [
      "\n"
     ]
    },
    {
     "data": {
      "application/vnd.jupyter.widget-view+json": {
       "model_id": "efeb556da2f6475ead7fd1d903491d7c",
       "version_major": 2,
       "version_minor": 0
      },
      "text/plain": [
       "HBox(children=(HTML(value=''), FloatProgress(value=0.0, max=70.0), HTML(value='')))"
      ]
     },
     "metadata": {},
     "output_type": "display_data"
    },
    {
     "name": "stdout",
     "output_type": "stream",
     "text": [
      "\n"
     ]
    },
    {
     "data": {
      "application/vnd.jupyter.widget-view+json": {
       "model_id": "52d69d99486e4d98994dc28babbb8368",
       "version_major": 2,
       "version_minor": 0
      },
      "text/plain": [
       "HBox(children=(HTML(value=''), FloatProgress(value=0.0, max=70.0), HTML(value='')))"
      ]
     },
     "metadata": {},
     "output_type": "display_data"
    },
    {
     "name": "stdout",
     "output_type": "stream",
     "text": [
      "\n"
     ]
    },
    {
     "data": {
      "application/vnd.jupyter.widget-view+json": {
       "model_id": "7ff73161f015416093dc8d9ebef83c8f",
       "version_major": 2,
       "version_minor": 0
      },
      "text/plain": [
       "HBox(children=(HTML(value=''), FloatProgress(value=0.0, max=70.0), HTML(value='')))"
      ]
     },
     "metadata": {},
     "output_type": "display_data"
    },
    {
     "name": "stdout",
     "output_type": "stream",
     "text": [
      "\n"
     ]
    },
    {
     "data": {
      "application/vnd.jupyter.widget-view+json": {
       "model_id": "14bd0967414445189c20e424c77fb328",
       "version_major": 2,
       "version_minor": 0
      },
      "text/plain": [
       "HBox(children=(HTML(value=''), FloatProgress(value=0.0, max=70.0), HTML(value='')))"
      ]
     },
     "metadata": {},
     "output_type": "display_data"
    },
    {
     "name": "stdout",
     "output_type": "stream",
     "text": [
      "\n"
     ]
    },
    {
     "data": {
      "application/vnd.jupyter.widget-view+json": {
       "model_id": "c1b437773ffb4ee5909674683ae49bdc",
       "version_major": 2,
       "version_minor": 0
      },
      "text/plain": [
       "HBox(children=(HTML(value=''), FloatProgress(value=0.0, max=70.0), HTML(value='')))"
      ]
     },
     "metadata": {},
     "output_type": "display_data"
    },
    {
     "name": "stdout",
     "output_type": "stream",
     "text": [
      "\n"
     ]
    },
    {
     "data": {
      "application/vnd.jupyter.widget-view+json": {
       "model_id": "6aa95403bda24cafaf5b44c36b79e733",
       "version_major": 2,
       "version_minor": 0
      },
      "text/plain": [
       "HBox(children=(HTML(value=''), FloatProgress(value=0.0, max=70.0), HTML(value='')))"
      ]
     },
     "metadata": {},
     "output_type": "display_data"
    },
    {
     "name": "stdout",
     "output_type": "stream",
     "text": [
      "\n"
     ]
    },
    {
     "data": {
      "application/vnd.jupyter.widget-view+json": {
       "model_id": "e0158399850546b392800ebdbc57b7d1",
       "version_major": 2,
       "version_minor": 0
      },
      "text/plain": [
       "HBox(children=(HTML(value=''), FloatProgress(value=0.0, max=70.0), HTML(value='')))"
      ]
     },
     "metadata": {},
     "output_type": "display_data"
    },
    {
     "name": "stdout",
     "output_type": "stream",
     "text": [
      "\n"
     ]
    },
    {
     "data": {
      "application/vnd.jupyter.widget-view+json": {
       "model_id": "96dee86a285547f1bad2d6b1a48445d7",
       "version_major": 2,
       "version_minor": 0
      },
      "text/plain": [
       "HBox(children=(HTML(value=''), FloatProgress(value=0.0, max=70.0), HTML(value='')))"
      ]
     },
     "metadata": {},
     "output_type": "display_data"
    },
    {
     "name": "stdout",
     "output_type": "stream",
     "text": [
      "\n"
     ]
    },
    {
     "data": {
      "application/vnd.jupyter.widget-view+json": {
       "model_id": "e322e83971704caabb49b731dce97925",
       "version_major": 2,
       "version_minor": 0
      },
      "text/plain": [
       "HBox(children=(HTML(value=''), FloatProgress(value=0.0, max=70.0), HTML(value='')))"
      ]
     },
     "metadata": {},
     "output_type": "display_data"
    },
    {
     "name": "stdout",
     "output_type": "stream",
     "text": [
      "\n"
     ]
    },
    {
     "data": {
      "application/vnd.jupyter.widget-view+json": {
       "model_id": "3758f8ece37e4e3f9fb0494e8743bdae",
       "version_major": 2,
       "version_minor": 0
      },
      "text/plain": [
       "HBox(children=(HTML(value=''), FloatProgress(value=0.0, max=70.0), HTML(value='')))"
      ]
     },
     "metadata": {},
     "output_type": "display_data"
    },
    {
     "name": "stdout",
     "output_type": "stream",
     "text": [
      "\n"
     ]
    },
    {
     "data": {
      "application/vnd.jupyter.widget-view+json": {
       "model_id": "8d1d94167c7a4d3a8c3ebd0778183c9a",
       "version_major": 2,
       "version_minor": 0
      },
      "text/plain": [
       "HBox(children=(HTML(value=''), FloatProgress(value=0.0, max=70.0), HTML(value='')))"
      ]
     },
     "metadata": {},
     "output_type": "display_data"
    },
    {
     "name": "stdout",
     "output_type": "stream",
     "text": [
      "\n"
     ]
    },
    {
     "data": {
      "application/vnd.jupyter.widget-view+json": {
       "model_id": "8820b23561e847d797cd37526f5197ce",
       "version_major": 2,
       "version_minor": 0
      },
      "text/plain": [
       "HBox(children=(HTML(value=''), FloatProgress(value=0.0, max=70.0), HTML(value='')))"
      ]
     },
     "metadata": {},
     "output_type": "display_data"
    },
    {
     "name": "stdout",
     "output_type": "stream",
     "text": [
      "\n"
     ]
    },
    {
     "data": {
      "application/vnd.jupyter.widget-view+json": {
       "model_id": "a488e1bdf65c45ac9fcd55528ca64475",
       "version_major": 2,
       "version_minor": 0
      },
      "text/plain": [
       "HBox(children=(HTML(value=''), FloatProgress(value=0.0, max=70.0), HTML(value='')))"
      ]
     },
     "metadata": {},
     "output_type": "display_data"
    },
    {
     "name": "stdout",
     "output_type": "stream",
     "text": [
      "\n"
     ]
    },
    {
     "data": {
      "application/vnd.jupyter.widget-view+json": {
       "model_id": "af580f15370746f3adafa6112f35f34b",
       "version_major": 2,
       "version_minor": 0
      },
      "text/plain": [
       "HBox(children=(HTML(value=''), FloatProgress(value=0.0, max=70.0), HTML(value='')))"
      ]
     },
     "metadata": {},
     "output_type": "display_data"
    },
    {
     "name": "stdout",
     "output_type": "stream",
     "text": [
      "\n",
      "On group: \n",
      " name                  Popularity Rank : Popularity: 1/5\n",
      "count                                              4428\n",
      "id_number                                          1786\n",
      "short_name                              Popularity: 1/5\n",
      "id_name                                        facet_id\n",
      "n_api_return_items                                   70\n",
      "# of times to call                                   64\n",
      "Name: 4, dtype: object\n"
     ]
    },
    {
     "data": {
      "application/vnd.jupyter.widget-view+json": {
       "model_id": "1f408a7e32c547298e996771f3836c66",
       "version_major": 2,
       "version_minor": 0
      },
      "text/plain": [
       "HBox(children=(HTML(value=''), FloatProgress(value=0.0, max=70.0), HTML(value='')))"
      ]
     },
     "metadata": {},
     "output_type": "display_data"
    },
    {
     "name": "stdout",
     "output_type": "stream",
     "text": [
      "\n"
     ]
    },
    {
     "data": {
      "application/vnd.jupyter.widget-view+json": {
       "model_id": "fac0235726504bc4a363604fa212684e",
       "version_major": 2,
       "version_minor": 0
      },
      "text/plain": [
       "HBox(children=(HTML(value=''), FloatProgress(value=0.0, max=70.0), HTML(value='')))"
      ]
     },
     "metadata": {},
     "output_type": "display_data"
    },
    {
     "name": "stdout",
     "output_type": "stream",
     "text": [
      "\n"
     ]
    },
    {
     "data": {
      "application/vnd.jupyter.widget-view+json": {
       "model_id": "49774b54c7554e61a3dafdefe9c6249a",
       "version_major": 2,
       "version_minor": 0
      },
      "text/plain": [
       "HBox(children=(HTML(value=''), FloatProgress(value=0.0, max=70.0), HTML(value='')))"
      ]
     },
     "metadata": {},
     "output_type": "display_data"
    },
    {
     "name": "stdout",
     "output_type": "stream",
     "text": [
      "\n"
     ]
    },
    {
     "data": {
      "application/vnd.jupyter.widget-view+json": {
       "model_id": "6d7570f934bb4d71a10e1412b611c187",
       "version_major": 2,
       "version_minor": 0
      },
      "text/plain": [
       "HBox(children=(HTML(value=''), FloatProgress(value=0.0, max=70.0), HTML(value='')))"
      ]
     },
     "metadata": {},
     "output_type": "display_data"
    },
    {
     "name": "stdout",
     "output_type": "stream",
     "text": [
      "\n"
     ]
    },
    {
     "data": {
      "application/vnd.jupyter.widget-view+json": {
       "model_id": "765cc0a1f01344ecbeb13f0203a6aa25",
       "version_major": 2,
       "version_minor": 0
      },
      "text/plain": [
       "HBox(children=(HTML(value=''), FloatProgress(value=0.0, max=70.0), HTML(value='')))"
      ]
     },
     "metadata": {},
     "output_type": "display_data"
    },
    {
     "name": "stdout",
     "output_type": "stream",
     "text": [
      "\n"
     ]
    },
    {
     "data": {
      "application/vnd.jupyter.widget-view+json": {
       "model_id": "0af99f2424e140a89fecf3fcb180e59c",
       "version_major": 2,
       "version_minor": 0
      },
      "text/plain": [
       "HBox(children=(HTML(value=''), FloatProgress(value=0.0, max=70.0), HTML(value='')))"
      ]
     },
     "metadata": {},
     "output_type": "display_data"
    },
    {
     "name": "stdout",
     "output_type": "stream",
     "text": [
      "\n"
     ]
    },
    {
     "data": {
      "application/vnd.jupyter.widget-view+json": {
       "model_id": "59d7bdd41dd143f9a807e550079f1854",
       "version_major": 2,
       "version_minor": 0
      },
      "text/plain": [
       "HBox(children=(HTML(value=''), FloatProgress(value=0.0, max=70.0), HTML(value='')))"
      ]
     },
     "metadata": {},
     "output_type": "display_data"
    },
    {
     "name": "stdout",
     "output_type": "stream",
     "text": [
      "\n"
     ]
    },
    {
     "data": {
      "application/vnd.jupyter.widget-view+json": {
       "model_id": "f03b3efc77b34d979ade271ff52bfdee",
       "version_major": 2,
       "version_minor": 0
      },
      "text/plain": [
       "HBox(children=(HTML(value=''), FloatProgress(value=0.0, max=70.0), HTML(value='')))"
      ]
     },
     "metadata": {},
     "output_type": "display_data"
    },
    {
     "name": "stdout",
     "output_type": "stream",
     "text": [
      "\n"
     ]
    },
    {
     "data": {
      "application/vnd.jupyter.widget-view+json": {
       "model_id": "8583e09ea1354893b99d103723b8fcc9",
       "version_major": 2,
       "version_minor": 0
      },
      "text/plain": [
       "HBox(children=(HTML(value=''), FloatProgress(value=0.0, max=70.0), HTML(value='')))"
      ]
     },
     "metadata": {},
     "output_type": "display_data"
    },
    {
     "name": "stdout",
     "output_type": "stream",
     "text": [
      "\n"
     ]
    },
    {
     "data": {
      "application/vnd.jupyter.widget-view+json": {
       "model_id": "248138a99d9240f3851e8e93b5b42780",
       "version_major": 2,
       "version_minor": 0
      },
      "text/plain": [
       "HBox(children=(HTML(value=''), FloatProgress(value=0.0, max=70.0), HTML(value='')))"
      ]
     },
     "metadata": {},
     "output_type": "display_data"
    },
    {
     "name": "stdout",
     "output_type": "stream",
     "text": [
      "\n"
     ]
    },
    {
     "data": {
      "application/vnd.jupyter.widget-view+json": {
       "model_id": "2a35eccaa6724a5dbf200d6509e4124a",
       "version_major": 2,
       "version_minor": 0
      },
      "text/plain": [
       "HBox(children=(HTML(value=''), FloatProgress(value=0.0, max=70.0), HTML(value='')))"
      ]
     },
     "metadata": {},
     "output_type": "display_data"
    },
    {
     "name": "stdout",
     "output_type": "stream",
     "text": [
      "\n"
     ]
    },
    {
     "data": {
      "application/vnd.jupyter.widget-view+json": {
       "model_id": "bc465d6efa7f472ba83799dc7d1fade4",
       "version_major": 2,
       "version_minor": 0
      },
      "text/plain": [
       "HBox(children=(HTML(value=''), FloatProgress(value=0.0, max=70.0), HTML(value='')))"
      ]
     },
     "metadata": {},
     "output_type": "display_data"
    },
    {
     "name": "stdout",
     "output_type": "stream",
     "text": [
      "\n"
     ]
    },
    {
     "data": {
      "application/vnd.jupyter.widget-view+json": {
       "model_id": "df9e336dede74f29909185afd6300db7",
       "version_major": 2,
       "version_minor": 0
      },
      "text/plain": [
       "HBox(children=(HTML(value=''), FloatProgress(value=0.0, max=70.0), HTML(value='')))"
      ]
     },
     "metadata": {},
     "output_type": "display_data"
    },
    {
     "name": "stdout",
     "output_type": "stream",
     "text": [
      "\n"
     ]
    },
    {
     "data": {
      "application/vnd.jupyter.widget-view+json": {
       "model_id": "a3f1ae2001df44c8b1bbe21d85e2d6bb",
       "version_major": 2,
       "version_minor": 0
      },
      "text/plain": [
       "HBox(children=(HTML(value=''), FloatProgress(value=0.0, max=70.0), HTML(value='')))"
      ]
     },
     "metadata": {},
     "output_type": "display_data"
    },
    {
     "name": "stdout",
     "output_type": "stream",
     "text": [
      "\n"
     ]
    },
    {
     "data": {
      "application/vnd.jupyter.widget-view+json": {
       "model_id": "f3b851bfa21646249a7c9f4398b54221",
       "version_major": 2,
       "version_minor": 0
      },
      "text/plain": [
       "HBox(children=(HTML(value=''), FloatProgress(value=0.0, max=70.0), HTML(value='')))"
      ]
     },
     "metadata": {},
     "output_type": "display_data"
    },
    {
     "name": "stdout",
     "output_type": "stream",
     "text": [
      "\n"
     ]
    },
    {
     "data": {
      "application/vnd.jupyter.widget-view+json": {
       "model_id": "81b9ccd054dc48eba03fb9a36a1489fb",
       "version_major": 2,
       "version_minor": 0
      },
      "text/plain": [
       "HBox(children=(HTML(value=''), FloatProgress(value=0.0, max=70.0), HTML(value='')))"
      ]
     },
     "metadata": {},
     "output_type": "display_data"
    },
    {
     "name": "stdout",
     "output_type": "stream",
     "text": [
      "\n"
     ]
    },
    {
     "data": {
      "application/vnd.jupyter.widget-view+json": {
       "model_id": "e5da8fc36bd64f28929cb1062bdcffce",
       "version_major": 2,
       "version_minor": 0
      },
      "text/plain": [
       "HBox(children=(HTML(value=''), FloatProgress(value=0.0, max=70.0), HTML(value='')))"
      ]
     },
     "metadata": {},
     "output_type": "display_data"
    },
    {
     "name": "stdout",
     "output_type": "stream",
     "text": [
      "\n"
     ]
    },
    {
     "data": {
      "application/vnd.jupyter.widget-view+json": {
       "model_id": "05440ab1d7ee41c08f1d37d1dd593382",
       "version_major": 2,
       "version_minor": 0
      },
      "text/plain": [
       "HBox(children=(HTML(value=''), FloatProgress(value=0.0, max=70.0), HTML(value='')))"
      ]
     },
     "metadata": {},
     "output_type": "display_data"
    },
    {
     "name": "stdout",
     "output_type": "stream",
     "text": [
      "\n"
     ]
    },
    {
     "data": {
      "application/vnd.jupyter.widget-view+json": {
       "model_id": "ad49e158ed1c48f290f63d2d415ff666",
       "version_major": 2,
       "version_minor": 0
      },
      "text/plain": [
       "HBox(children=(HTML(value=''), FloatProgress(value=0.0, max=70.0), HTML(value='')))"
      ]
     },
     "metadata": {},
     "output_type": "display_data"
    },
    {
     "name": "stdout",
     "output_type": "stream",
     "text": [
      "\n"
     ]
    },
    {
     "data": {
      "application/vnd.jupyter.widget-view+json": {
       "model_id": "c2d1722664b44e8aa358fc2c5fc75b98",
       "version_major": 2,
       "version_minor": 0
      },
      "text/plain": [
       "HBox(children=(HTML(value=''), FloatProgress(value=0.0, max=70.0), HTML(value='')))"
      ]
     },
     "metadata": {},
     "output_type": "display_data"
    },
    {
     "name": "stdout",
     "output_type": "stream",
     "text": [
      "\n"
     ]
    },
    {
     "data": {
      "application/vnd.jupyter.widget-view+json": {
       "model_id": "dc566ebf220040b5b8a3779c6ba95e43",
       "version_major": 2,
       "version_minor": 0
      },
      "text/plain": [
       "HBox(children=(HTML(value=''), FloatProgress(value=0.0, max=70.0), HTML(value='')))"
      ]
     },
     "metadata": {},
     "output_type": "display_data"
    },
    {
     "name": "stdout",
     "output_type": "stream",
     "text": [
      "\n"
     ]
    },
    {
     "data": {
      "application/vnd.jupyter.widget-view+json": {
       "model_id": "894cea3661d448afaee52bf786e6d9b7",
       "version_major": 2,
       "version_minor": 0
      },
      "text/plain": [
       "HBox(children=(HTML(value=''), FloatProgress(value=0.0, max=70.0), HTML(value='')))"
      ]
     },
     "metadata": {},
     "output_type": "display_data"
    },
    {
     "name": "stdout",
     "output_type": "stream",
     "text": [
      "\n"
     ]
    },
    {
     "data": {
      "application/vnd.jupyter.widget-view+json": {
       "model_id": "21a7060952e34cd5a7742803720915f0",
       "version_major": 2,
       "version_minor": 0
      },
      "text/plain": [
       "HBox(children=(HTML(value=''), FloatProgress(value=0.0, max=70.0), HTML(value='')))"
      ]
     },
     "metadata": {},
     "output_type": "display_data"
    },
    {
     "name": "stdout",
     "output_type": "stream",
     "text": [
      "\n"
     ]
    },
    {
     "data": {
      "application/vnd.jupyter.widget-view+json": {
       "model_id": "16be3af2b2d746b5ad4ca0c06905cca3",
       "version_major": 2,
       "version_minor": 0
      },
      "text/plain": [
       "HBox(children=(HTML(value=''), FloatProgress(value=0.0, max=70.0), HTML(value='')))"
      ]
     },
     "metadata": {},
     "output_type": "display_data"
    },
    {
     "name": "stdout",
     "output_type": "stream",
     "text": [
      "\n"
     ]
    },
    {
     "data": {
      "application/vnd.jupyter.widget-view+json": {
       "model_id": "6114b35d42714fc2a645696a8133867f",
       "version_major": 2,
       "version_minor": 0
      },
      "text/plain": [
       "HBox(children=(HTML(value=''), FloatProgress(value=0.0, max=70.0), HTML(value='')))"
      ]
     },
     "metadata": {},
     "output_type": "display_data"
    },
    {
     "name": "stdout",
     "output_type": "stream",
     "text": [
      "\n"
     ]
    },
    {
     "data": {
      "application/vnd.jupyter.widget-view+json": {
       "model_id": "5106f8ff02154dd9881d88a71dea635e",
       "version_major": 2,
       "version_minor": 0
      },
      "text/plain": [
       "HBox(children=(HTML(value=''), FloatProgress(value=0.0, max=70.0), HTML(value='')))"
      ]
     },
     "metadata": {},
     "output_type": "display_data"
    },
    {
     "name": "stdout",
     "output_type": "stream",
     "text": [
      "\n"
     ]
    },
    {
     "data": {
      "application/vnd.jupyter.widget-view+json": {
       "model_id": "0472606f89d3476aad0751122640d1b1",
       "version_major": 2,
       "version_minor": 0
      },
      "text/plain": [
       "HBox(children=(HTML(value=''), FloatProgress(value=0.0, max=70.0), HTML(value='')))"
      ]
     },
     "metadata": {},
     "output_type": "display_data"
    },
    {
     "name": "stdout",
     "output_type": "stream",
     "text": [
      "\n"
     ]
    },
    {
     "data": {
      "application/vnd.jupyter.widget-view+json": {
       "model_id": "1450ec874b2242bba802e47569948ea0",
       "version_major": 2,
       "version_minor": 0
      },
      "text/plain": [
       "HBox(children=(HTML(value=''), FloatProgress(value=0.0, max=70.0), HTML(value='')))"
      ]
     },
     "metadata": {},
     "output_type": "display_data"
    },
    {
     "name": "stdout",
     "output_type": "stream",
     "text": [
      "\n"
     ]
    },
    {
     "data": {
      "application/vnd.jupyter.widget-view+json": {
       "model_id": "fe77c736d203493583a909960f0a1182",
       "version_major": 2,
       "version_minor": 0
      },
      "text/plain": [
       "HBox(children=(HTML(value=''), FloatProgress(value=0.0, max=70.0), HTML(value='')))"
      ]
     },
     "metadata": {},
     "output_type": "display_data"
    },
    {
     "name": "stdout",
     "output_type": "stream",
     "text": [
      "\n"
     ]
    },
    {
     "data": {
      "application/vnd.jupyter.widget-view+json": {
       "model_id": "b9d3433918764aaba6e28004b6ba6723",
       "version_major": 2,
       "version_minor": 0
      },
      "text/plain": [
       "HBox(children=(HTML(value=''), FloatProgress(value=0.0, max=70.0), HTML(value='')))"
      ]
     },
     "metadata": {},
     "output_type": "display_data"
    },
    {
     "name": "stdout",
     "output_type": "stream",
     "text": [
      "\n"
     ]
    },
    {
     "data": {
      "application/vnd.jupyter.widget-view+json": {
       "model_id": "9a7b37554d49463fa49f383990e14a6f",
       "version_major": 2,
       "version_minor": 0
      },
      "text/plain": [
       "HBox(children=(HTML(value=''), FloatProgress(value=0.0, max=70.0), HTML(value='')))"
      ]
     },
     "metadata": {},
     "output_type": "display_data"
    },
    {
     "name": "stdout",
     "output_type": "stream",
     "text": [
      "\n"
     ]
    },
    {
     "data": {
      "application/vnd.jupyter.widget-view+json": {
       "model_id": "c46faf3fb6354c09be440ceafdecbb21",
       "version_major": 2,
       "version_minor": 0
      },
      "text/plain": [
       "HBox(children=(HTML(value=''), FloatProgress(value=0.0, max=70.0), HTML(value='')))"
      ]
     },
     "metadata": {},
     "output_type": "display_data"
    },
    {
     "name": "stdout",
     "output_type": "stream",
     "text": [
      "\n"
     ]
    },
    {
     "data": {
      "application/vnd.jupyter.widget-view+json": {
       "model_id": "4f3b5bd53d304200acf876a7c96d95b4",
       "version_major": 2,
       "version_minor": 0
      },
      "text/plain": [
       "HBox(children=(HTML(value=''), FloatProgress(value=0.0, max=70.0), HTML(value='')))"
      ]
     },
     "metadata": {},
     "output_type": "display_data"
    },
    {
     "name": "stdout",
     "output_type": "stream",
     "text": [
      "\n"
     ]
    },
    {
     "data": {
      "application/vnd.jupyter.widget-view+json": {
       "model_id": "ad1a89c5a1204c359506e2fcc3a9f0f7",
       "version_major": 2,
       "version_minor": 0
      },
      "text/plain": [
       "HBox(children=(HTML(value=''), FloatProgress(value=0.0, max=70.0), HTML(value='')))"
      ]
     },
     "metadata": {},
     "output_type": "display_data"
    },
    {
     "name": "stdout",
     "output_type": "stream",
     "text": [
      "\n"
     ]
    },
    {
     "data": {
      "application/vnd.jupyter.widget-view+json": {
       "model_id": "fc4d15649b04422981f2efcf7347b50d",
       "version_major": 2,
       "version_minor": 0
      },
      "text/plain": [
       "HBox(children=(HTML(value=''), FloatProgress(value=0.0, max=70.0), HTML(value='')))"
      ]
     },
     "metadata": {},
     "output_type": "display_data"
    },
    {
     "name": "stdout",
     "output_type": "stream",
     "text": [
      "\n"
     ]
    },
    {
     "data": {
      "application/vnd.jupyter.widget-view+json": {
       "model_id": "a14d2beab9444f7291ecd2e16abf196f",
       "version_major": 2,
       "version_minor": 0
      },
      "text/plain": [
       "HBox(children=(HTML(value=''), FloatProgress(value=0.0, max=70.0), HTML(value='')))"
      ]
     },
     "metadata": {},
     "output_type": "display_data"
    },
    {
     "name": "stdout",
     "output_type": "stream",
     "text": [
      "\n"
     ]
    },
    {
     "data": {
      "application/vnd.jupyter.widget-view+json": {
       "model_id": "cf0d682f5c0f40f79e171d9d33bb7895",
       "version_major": 2,
       "version_minor": 0
      },
      "text/plain": [
       "HBox(children=(HTML(value=''), FloatProgress(value=0.0, max=70.0), HTML(value='')))"
      ]
     },
     "metadata": {},
     "output_type": "display_data"
    },
    {
     "name": "stdout",
     "output_type": "stream",
     "text": [
      "\n"
     ]
    },
    {
     "data": {
      "application/vnd.jupyter.widget-view+json": {
       "model_id": "858a67e516bf4b589aacc650c871f722",
       "version_major": 2,
       "version_minor": 0
      },
      "text/plain": [
       "HBox(children=(HTML(value=''), FloatProgress(value=0.0, max=70.0), HTML(value='')))"
      ]
     },
     "metadata": {},
     "output_type": "display_data"
    },
    {
     "name": "stdout",
     "output_type": "stream",
     "text": [
      "\n"
     ]
    },
    {
     "data": {
      "application/vnd.jupyter.widget-view+json": {
       "model_id": "2165079b8ebc4f44be69813fd918066c",
       "version_major": 2,
       "version_minor": 0
      },
      "text/plain": [
       "HBox(children=(HTML(value=''), FloatProgress(value=0.0, max=70.0), HTML(value='')))"
      ]
     },
     "metadata": {},
     "output_type": "display_data"
    },
    {
     "name": "stdout",
     "output_type": "stream",
     "text": [
      "\n"
     ]
    },
    {
     "data": {
      "application/vnd.jupyter.widget-view+json": {
       "model_id": "627a9e106af2403abcee601dbda5c6a7",
       "version_major": 2,
       "version_minor": 0
      },
      "text/plain": [
       "HBox(children=(HTML(value=''), FloatProgress(value=0.0, max=70.0), HTML(value='')))"
      ]
     },
     "metadata": {},
     "output_type": "display_data"
    },
    {
     "name": "stdout",
     "output_type": "stream",
     "text": [
      "\n"
     ]
    },
    {
     "data": {
      "application/vnd.jupyter.widget-view+json": {
       "model_id": "a7c3ac7325ab42e49ae35fc9edb2a00f",
       "version_major": 2,
       "version_minor": 0
      },
      "text/plain": [
       "HBox(children=(HTML(value=''), FloatProgress(value=0.0, max=70.0), HTML(value='')))"
      ]
     },
     "metadata": {},
     "output_type": "display_data"
    },
    {
     "name": "stdout",
     "output_type": "stream",
     "text": [
      "\n"
     ]
    },
    {
     "data": {
      "application/vnd.jupyter.widget-view+json": {
       "model_id": "1981ef0bff0a426cae18911c82680dc1",
       "version_major": 2,
       "version_minor": 0
      },
      "text/plain": [
       "HBox(children=(HTML(value=''), FloatProgress(value=0.0, max=70.0), HTML(value='')))"
      ]
     },
     "metadata": {},
     "output_type": "display_data"
    },
    {
     "name": "stdout",
     "output_type": "stream",
     "text": [
      "\n"
     ]
    },
    {
     "data": {
      "application/vnd.jupyter.widget-view+json": {
       "model_id": "db46c7db629e478ca143eba4d7da7dd9",
       "version_major": 2,
       "version_minor": 0
      },
      "text/plain": [
       "HBox(children=(HTML(value=''), FloatProgress(value=0.0, max=70.0), HTML(value='')))"
      ]
     },
     "metadata": {},
     "output_type": "display_data"
    },
    {
     "name": "stdout",
     "output_type": "stream",
     "text": [
      "\n"
     ]
    },
    {
     "data": {
      "application/vnd.jupyter.widget-view+json": {
       "model_id": "bc724631da1043c684828f81b16bd039",
       "version_major": 2,
       "version_minor": 0
      },
      "text/plain": [
       "HBox(children=(HTML(value=''), FloatProgress(value=0.0, max=70.0), HTML(value='')))"
      ]
     },
     "metadata": {},
     "output_type": "display_data"
    },
    {
     "name": "stdout",
     "output_type": "stream",
     "text": [
      "\n"
     ]
    },
    {
     "data": {
      "application/vnd.jupyter.widget-view+json": {
       "model_id": "f60b76ea87524bb6a41ad681dc4a4653",
       "version_major": 2,
       "version_minor": 0
      },
      "text/plain": [
       "HBox(children=(HTML(value=''), FloatProgress(value=0.0, max=70.0), HTML(value='')))"
      ]
     },
     "metadata": {},
     "output_type": "display_data"
    },
    {
     "name": "stdout",
     "output_type": "stream",
     "text": [
      "\n"
     ]
    },
    {
     "data": {
      "application/vnd.jupyter.widget-view+json": {
       "model_id": "900089a69d1e4558bc186c0eecb34b41",
       "version_major": 2,
       "version_minor": 0
      },
      "text/plain": [
       "HBox(children=(HTML(value=''), FloatProgress(value=0.0, max=70.0), HTML(value='')))"
      ]
     },
     "metadata": {},
     "output_type": "display_data"
    },
    {
     "name": "stdout",
     "output_type": "stream",
     "text": [
      "\n"
     ]
    },
    {
     "data": {
      "application/vnd.jupyter.widget-view+json": {
       "model_id": "d716527e834d41179ce5cc876dd1c5de",
       "version_major": 2,
       "version_minor": 0
      },
      "text/plain": [
       "HBox(children=(HTML(value=''), FloatProgress(value=0.0, max=70.0), HTML(value='')))"
      ]
     },
     "metadata": {},
     "output_type": "display_data"
    },
    {
     "name": "stdout",
     "output_type": "stream",
     "text": [
      "\n"
     ]
    },
    {
     "data": {
      "application/vnd.jupyter.widget-view+json": {
       "model_id": "663022a0ee4f430bb72a45265c5f0b9b",
       "version_major": 2,
       "version_minor": 0
      },
      "text/plain": [
       "HBox(children=(HTML(value=''), FloatProgress(value=0.0, max=70.0), HTML(value='')))"
      ]
     },
     "metadata": {},
     "output_type": "display_data"
    },
    {
     "name": "stdout",
     "output_type": "stream",
     "text": [
      "\n"
     ]
    },
    {
     "data": {
      "application/vnd.jupyter.widget-view+json": {
       "model_id": "046dec11cd814457924c19d0721a543c",
       "version_major": 2,
       "version_minor": 0
      },
      "text/plain": [
       "HBox(children=(HTML(value=''), FloatProgress(value=0.0, max=70.0), HTML(value='')))"
      ]
     },
     "metadata": {},
     "output_type": "display_data"
    },
    {
     "name": "stdout",
     "output_type": "stream",
     "text": [
      "\n"
     ]
    },
    {
     "data": {
      "application/vnd.jupyter.widget-view+json": {
       "model_id": "5324be2f7be74cceaae7afe022a0b351",
       "version_major": 2,
       "version_minor": 0
      },
      "text/plain": [
       "HBox(children=(HTML(value=''), FloatProgress(value=0.0, max=70.0), HTML(value='')))"
      ]
     },
     "metadata": {},
     "output_type": "display_data"
    },
    {
     "name": "stdout",
     "output_type": "stream",
     "text": [
      "\n"
     ]
    },
    {
     "data": {
      "application/vnd.jupyter.widget-view+json": {
       "model_id": "e92037b414bb41ed9419dea67916afa8",
       "version_major": 2,
       "version_minor": 0
      },
      "text/plain": [
       "HBox(children=(HTML(value=''), FloatProgress(value=0.0, max=70.0), HTML(value='')))"
      ]
     },
     "metadata": {},
     "output_type": "display_data"
    },
    {
     "name": "stdout",
     "output_type": "stream",
     "text": [
      "\n"
     ]
    },
    {
     "data": {
      "application/vnd.jupyter.widget-view+json": {
       "model_id": "3f935cdb53254485ac0700b9c2f995d6",
       "version_major": 2,
       "version_minor": 0
      },
      "text/plain": [
       "HBox(children=(HTML(value=''), FloatProgress(value=0.0, max=70.0), HTML(value='')))"
      ]
     },
     "metadata": {},
     "output_type": "display_data"
    },
    {
     "name": "stdout",
     "output_type": "stream",
     "text": [
      "\n"
     ]
    },
    {
     "data": {
      "application/vnd.jupyter.widget-view+json": {
       "model_id": "17332fa312cd42e2b097561d4d02fd1b",
       "version_major": 2,
       "version_minor": 0
      },
      "text/plain": [
       "HBox(children=(HTML(value=''), FloatProgress(value=0.0, max=70.0), HTML(value='')))"
      ]
     },
     "metadata": {},
     "output_type": "display_data"
    },
    {
     "name": "stdout",
     "output_type": "stream",
     "text": [
      "\n"
     ]
    },
    {
     "data": {
      "application/vnd.jupyter.widget-view+json": {
       "model_id": "306ceea23b034cb393054a076ba1f7ab",
       "version_major": 2,
       "version_minor": 0
      },
      "text/plain": [
       "HBox(children=(HTML(value=''), FloatProgress(value=0.0, max=70.0), HTML(value='')))"
      ]
     },
     "metadata": {},
     "output_type": "display_data"
    },
    {
     "name": "stdout",
     "output_type": "stream",
     "text": [
      "\n"
     ]
    },
    {
     "data": {
      "application/vnd.jupyter.widget-view+json": {
       "model_id": "54f1f969b208410eb3ca8aefb3c726ed",
       "version_major": 2,
       "version_minor": 0
      },
      "text/plain": [
       "HBox(children=(HTML(value=''), FloatProgress(value=0.0, max=70.0), HTML(value='')))"
      ]
     },
     "metadata": {},
     "output_type": "display_data"
    },
    {
     "name": "stdout",
     "output_type": "stream",
     "text": [
      "\n"
     ]
    },
    {
     "data": {
      "application/vnd.jupyter.widget-view+json": {
       "model_id": "92e3ea436cfa469bae4fdafe9e45763c",
       "version_major": 2,
       "version_minor": 0
      },
      "text/plain": [
       "HBox(children=(HTML(value=''), FloatProgress(value=0.0, max=70.0), HTML(value='')))"
      ]
     },
     "metadata": {},
     "output_type": "display_data"
    },
    {
     "name": "stdout",
     "output_type": "stream",
     "text": [
      "\n"
     ]
    },
    {
     "data": {
      "application/vnd.jupyter.widget-view+json": {
       "model_id": "3e5a7ebac1f74022aa634a1c9fd2062d",
       "version_major": 2,
       "version_minor": 0
      },
      "text/plain": [
       "HBox(children=(HTML(value=''), FloatProgress(value=0.0, max=70.0), HTML(value='')))"
      ]
     },
     "metadata": {},
     "output_type": "display_data"
    },
    {
     "name": "stdout",
     "output_type": "stream",
     "text": [
      "\n"
     ]
    },
    {
     "data": {
      "application/vnd.jupyter.widget-view+json": {
       "model_id": "f9aaea1eeea2450e92cc99ab5467577f",
       "version_major": 2,
       "version_minor": 0
      },
      "text/plain": [
       "HBox(children=(HTML(value=''), FloatProgress(value=0.0, max=70.0), HTML(value='')))"
      ]
     },
     "metadata": {},
     "output_type": "display_data"
    },
    {
     "name": "stdout",
     "output_type": "stream",
     "text": [
      "\n"
     ]
    },
    {
     "data": {
      "application/vnd.jupyter.widget-view+json": {
       "model_id": "ed3d2cfac9e04825ba71b05e1c26e781",
       "version_major": 2,
       "version_minor": 0
      },
      "text/plain": [
       "HBox(children=(HTML(value=''), FloatProgress(value=0.0, max=70.0), HTML(value='')))"
      ]
     },
     "metadata": {},
     "output_type": "display_data"
    },
    {
     "name": "stdout",
     "output_type": "stream",
     "text": [
      "\n"
     ]
    },
    {
     "data": {
      "application/vnd.jupyter.widget-view+json": {
       "model_id": "fa0bcaf6768b4634babd69d640be0277",
       "version_major": 2,
       "version_minor": 0
      },
      "text/plain": [
       "HBox(children=(HTML(value=''), FloatProgress(value=0.0, max=70.0), HTML(value='')))"
      ]
     },
     "metadata": {},
     "output_type": "display_data"
    },
    {
     "name": "stdout",
     "output_type": "stream",
     "text": [
      "\n"
     ]
    },
    {
     "data": {
      "application/vnd.jupyter.widget-view+json": {
       "model_id": "2a2fcbc8458f4a6fa25fd72892852039",
       "version_major": 2,
       "version_minor": 0
      },
      "text/plain": [
       "HBox(children=(HTML(value=''), FloatProgress(value=0.0, max=70.0), HTML(value='')))"
      ]
     },
     "metadata": {},
     "output_type": "display_data"
    },
    {
     "name": "stdout",
     "output_type": "stream",
     "text": [
      "\n"
     ]
    },
    {
     "data": {
      "application/vnd.jupyter.widget-view+json": {
       "model_id": "94a93d5f080341318c67eb1eccd4ddfb",
       "version_major": 2,
       "version_minor": 0
      },
      "text/plain": [
       "HBox(children=(HTML(value=''), FloatProgress(value=0.0, max=70.0), HTML(value='')))"
      ]
     },
     "metadata": {},
     "output_type": "display_data"
    },
    {
     "name": "stdout",
     "output_type": "stream",
     "text": [
      "\n"
     ]
    },
    {
     "data": {
      "application/vnd.jupyter.widget-view+json": {
       "model_id": "0243c9bb678d4ba88f9f15d480818c50",
       "version_major": 2,
       "version_minor": 0
      },
      "text/plain": [
       "HBox(children=(HTML(value=''), FloatProgress(value=0.0, max=70.0), HTML(value='')))"
      ]
     },
     "metadata": {},
     "output_type": "display_data"
    },
    {
     "name": "stdout",
     "output_type": "stream",
     "text": [
      "\n"
     ]
    },
    {
     "data": {
      "application/vnd.jupyter.widget-view+json": {
       "model_id": "e6c315ffa2914dc4992aeb619f6dd652",
       "version_major": 2,
       "version_minor": 0
      },
      "text/plain": [
       "HBox(children=(HTML(value=''), FloatProgress(value=0.0, max=70.0), HTML(value='')))"
      ]
     },
     "metadata": {},
     "output_type": "display_data"
    },
    {
     "name": "stdout",
     "output_type": "stream",
     "text": [
      "\n"
     ]
    }
   ],
   "source": [
    "page_items = []\n",
    "for row in popularity.iterrows():\n",
    "    # Set up \n",
    "    row = row[1]\n",
    "    print(\"On group: \\n\", row)\n",
    "    temp_name = row[_get('name')]\n",
    "    page_num_called = 1\n",
    "    id_num = row[_get('id_number')]\n",
    "    last_published_item = last_published_dict[temp_name]\n",
    "    \n",
    "    while page_num_called <= row[_get('# of times to call')]:\n",
    "        temp_link = f'https://api.dealnews.com/content?facet_ids={id_num}&count=70&page={page_num_called}'\n",
    "        raw_api_response = get_dealnews_feed(temp_link)\n",
    "        for content1 in tqdm(raw_api_response['content']):\n",
    "            elems = parse_dn_item(content1)\n",
    "            elems['API Feed'] = temp_name\n",
    "            elems['API id_number'] = id_num\n",
    "            elems['Page'] = page_num_called\n",
    "            elems_series = pd.Series(elems)\n",
    "            item_publish_time = elems_series['publish_datetime_ts'] \n",
    "            if item_publish_time > last_published_item:\n",
    "                page_items.append(elems_series)\n",
    "            else:\n",
    "                break\n",
    "        page_num_called = page_num_called + 1\n"
   ]
  },
  {
   "cell_type": "code",
   "execution_count": null,
   "metadata": {},
   "outputs": [],
   "source": []
  },
  {
   "cell_type": "raw",
   "metadata": {},
   "source": [
    "page_items = []\n",
    "for content1 in tqdm(txt['content']):\n",
    "    elems = parse_dn_item(content1)\n",
    "    elems_series = pd.Series(elems)\n",
    "    page_items.append(elems_series)"
   ]
  },
  {
   "cell_type": "code",
   "execution_count": 21,
   "metadata": {
    "scrolled": true
   },
   "outputs": [
    {
     "data": {
      "text/html": [
       "<div>\n",
       "<style scoped>\n",
       "    .dataframe tbody tr th:only-of-type {\n",
       "        vertical-align: middle;\n",
       "    }\n",
       "\n",
       "    .dataframe tbody tr th {\n",
       "        vertical-align: top;\n",
       "    }\n",
       "\n",
       "    .dataframe thead th {\n",
       "        text-align: right;\n",
       "    }\n",
       "</style>\n",
       "<table border=\"1\" class=\"dataframe\">\n",
       "  <thead>\n",
       "    <tr style=\"text-align: right;\">\n",
       "      <th></th>\n",
       "      <th>id</th>\n",
       "      <th>headline</th>\n",
       "      <th>brief_headline</th>\n",
       "      <th>summary</th>\n",
       "      <th>secondary_summary</th>\n",
       "      <th>key_attribute</th>\n",
       "      <th>brief_notes</th>\n",
       "      <th>url</th>\n",
       "      <th>display_date</th>\n",
       "      <th>publish_datetime_ts</th>\n",
       "      <th>update_datetime_ts</th>\n",
       "      <th>expiration_datetime_ts</th>\n",
       "      <th>last_verified_datetime_ts</th>\n",
       "      <th>editors_choice</th>\n",
       "      <th>sponsored</th>\n",
       "      <th>expired</th>\n",
       "      <th>expires_today</th>\n",
       "      <th>exclusive</th>\n",
       "      <th>searchable</th>\n",
       "      <th>hotness</th>\n",
       "      <th>call_out</th>\n",
       "      <th>call_out_comparison</th>\n",
       "      <th>sub_call_out</th>\n",
       "      <th>Coupon Code</th>\n",
       "      <th>category_id_0</th>\n",
       "      <th>namepath_0</th>\n",
       "      <th>ancestor_list_0</th>\n",
       "      <th>category_id_1</th>\n",
       "      <th>namepath_1</th>\n",
       "      <th>ancestor_list_1</th>\n",
       "      <th>vendor_id</th>\n",
       "      <th>name</th>\n",
       "      <th>Image path</th>\n",
       "      <th>API Feed</th>\n",
       "      <th>API id_number</th>\n",
       "      <th>Page</th>\n",
       "    </tr>\n",
       "  </thead>\n",
       "  <tbody>\n",
       "    <tr>\n",
       "      <th>0</th>\n",
       "      <td>19312637</td>\n",
       "      <td>Woot Garage Sale</td>\n",
       "      <td>Woot Garage Sale: Discounts on groceries, tools, electronics &amp; more</td>\n",
       "      <td>Save on hundreds of deals including home items, electronics, computers, groceries, apparel, exercise and sports equipment, and more.</td>\n",
       "      <td>&lt;div class=\"snippet summary\" title=\"Save&amp;#x20;on&amp;#x20;hundreds&amp;#x20;of&amp;#x20;deals&amp;#x20;including&amp;#x20;home&amp;#x20;items,&amp;#x20;electronics,&amp;#x20;computers,&amp;#x20;groceries,&amp;#x20;apparel,&amp;#x20;exercise&amp;#x20;and&amp;#x20;sports&amp;#x20;equipment,&amp;#x20;and&amp;#x20;more.\"&gt; &lt;p&gt;Save on hundreds of deals including h...</td>\n",
       "      <td>Woot! An Amazon Company</td>\n",
       "      <td></td>\n",
       "      <td>https://www.dealnews.com/Woot-Garage-Sale-Discounts-on-groceries-tools-electronics-more-free-shipping-w-Prime/19312637.html?iref=site-widget</td>\n",
       "      <td>Last verified 1 hr 27 min ago</td>\n",
       "      <td>2021-06-16 08:52:38</td>\n",
       "      <td>2021-06-16 20:03:23</td>\n",
       "      <td>2021-06-28 05:00:00</td>\n",
       "      <td>2021-06-16 18:35:48</td>\n",
       "      <td>False</td>\n",
       "      <td>False</td>\n",
       "      <td>False</td>\n",
       "      <td>False</td>\n",
       "      <td>False</td>\n",
       "      <td>True</td>\n",
       "      <td>5</td>\n",
       "      <td>Discounts on groceries, tools, electronics &amp; more</td>\n",
       "      <td></td>\n",
       "      <td>free shipping w/ Prime</td>\n",
       "      <td>None</td>\n",
       "      <td>40</td>\n",
       "      <td>None</td>\n",
       "      <td>None</td>\n",
       "      <td>None</td>\n",
       "      <td>None</td>\n",
       "      <td>None</td>\n",
       "      <td>1692</td>\n",
       "      <td>Woot! An Amazon Company</td>\n",
       "      <td>/home/malcolm/Demo with APIs/Dealnews Images/2021-06-16/Woot Garage Sale_19312637.jpg</td>\n",
       "      <td>Popularity Rank : Popularity: 5/5</td>\n",
       "      <td>1774</td>\n",
       "      <td>1</td>\n",
       "    </tr>\n",
       "    <tr>\n",
       "      <th>1</th>\n",
       "      <td>19313456</td>\n",
       "      <td>Domisl 20\" Folding Shelf Brackets 2-Pack</td>\n",
       "      <td>Domisl 20\" Folding Shelf Brackets 2-Pack for $20</td>\n",
       "      <td>Apply coupon code \"40H7YVAW\" for a savings of $13.</td>\n",
       "      <td>&lt;div class=\"body-offer body-burst\"&gt; &lt;div class=\"snippet summary\" title=\"Apply&amp;#x20;coupon&amp;#x20;code&amp;#x20;&amp;quot;40H7YVAW&amp;quot;&amp;#x20;for&amp;#x20;a&amp;#x20;savings&amp;#x20;of&amp;#x20;&amp;#x24;13.\"&gt; &lt;p&gt;Apply coupon code \"40H7YVAW\" for a savings of $13. &lt;a target=\"_blank\" href=\"https://www.dealnews.com/lw/click.htm...</td>\n",
       "      <td>Amazon</td>\n",
       "      <td>Free shipping. Sold Faihts via Amazon. &lt;br&gt;&lt;b&gt;Features:&lt;/b&gt; includes mounting screws, 400-lbs. maximum load capacity and made of high-quality 304 stainless steel.</td>\n",
       "      <td>https://www.dealnews.com/Domisl-20-Folding-Shelf-Brackets-2-Pack-for-20-free-shipping/19313456.html?iref=site-widget</td>\n",
       "      <td>Last verified 1 hr 22 min ago</td>\n",
       "      <td>2021-06-16 16:29:13</td>\n",
       "      <td>2021-06-16 20:02:45</td>\n",
       "      <td>2021-06-18 15:17:00</td>\n",
       "      <td>2021-06-16 18:41:24</td>\n",
       "      <td>False</td>\n",
       "      <td>False</td>\n",
       "      <td>False</td>\n",
       "      <td>False</td>\n",
       "      <td>False</td>\n",
       "      <td>True</td>\n",
       "      <td>5</td>\n",
       "      <td>$20</td>\n",
       "      <td>$33</td>\n",
       "      <td>free shipping</td>\n",
       "      <td>40H7YVAW</td>\n",
       "      <td>862</td>\n",
       "      <td>None</td>\n",
       "      <td>196</td>\n",
       "      <td>None</td>\n",
       "      <td>None</td>\n",
       "      <td>None</td>\n",
       "      <td>313</td>\n",
       "      <td>Amazon</td>\n",
       "      <td>/home/malcolm/Demo with APIs/Dealnews Images/2021-06-16/Domisl 20\" Folding Shelf Brackets 2-Pack_19313456.jpg</td>\n",
       "      <td>Popularity Rank : Popularity: 5/5</td>\n",
       "      <td>1774</td>\n",
       "      <td>1</td>\n",
       "    </tr>\n",
       "    <tr>\n",
       "      <th>2</th>\n",
       "      <td>19309286</td>\n",
       "      <td>\"Options Trading Crash Course\" Kindle eBook</td>\n",
       "      <td>\"Options Trading Crash Course\" Kindle eBook: Free</td>\n",
       "      <td>Save $10 off the digital list price.</td>\n",
       "      <td>&lt;div class=\"snippet summary\" title=\"Save&amp;#x20;&amp;#x24;10&amp;#x20;off&amp;#x20;the&amp;#x20;digital&amp;#x20;list&amp;#x20;price.\"&gt; &lt;p&gt;Save $10 off the digital list price. &lt;a target=\"_blank\" href=\"https://www.dealnews.com/lw/click.html?20,2,19309286,iref=site-widget\"&gt;Shop Now at Amazon&lt;/a&gt; &lt;/p&gt; &lt;/div&gt; &lt;div class=\"sni...</td>\n",
       "      <td>Amazon</td>\n",
       "      <td>&lt;br&gt;&lt;b&gt;Features:&lt;/b&gt; 96 pages.</td>\n",
       "      <td>https://www.dealnews.com/Options-Trading-Crash-Course-Kindle-eBook-Free/19309286.html?iref=site-widget</td>\n",
       "      <td>Last verified 2 hr 50 min ago</td>\n",
       "      <td>2021-06-16 04:19:43</td>\n",
       "      <td>2021-06-16 19:53:38</td>\n",
       "      <td>1970-01-01 00:00:00</td>\n",
       "      <td>2021-06-16 17:12:34</td>\n",
       "      <td>False</td>\n",
       "      <td>False</td>\n",
       "      <td>False</td>\n",
       "      <td>False</td>\n",
       "      <td>False</td>\n",
       "      <td>True</td>\n",
       "      <td>5</td>\n",
       "      <td>Free</td>\n",
       "      <td></td>\n",
       "      <td>None</td>\n",
       "      <td>None</td>\n",
       "      <td>554</td>\n",
       "      <td>None</td>\n",
       "      <td>178,177,553</td>\n",
       "      <td>None</td>\n",
       "      <td>None</td>\n",
       "      <td>None</td>\n",
       "      <td>313</td>\n",
       "      <td>Amazon</td>\n",
       "      <td>/home/malcolm/Demo with APIs/Dealnews Images/2021-06-16/\"Options Trading Crash Course\" Kindle eBook_19309286.jpg</td>\n",
       "      <td>Popularity Rank : Popularity: 5/5</td>\n",
       "      <td>1774</td>\n",
       "      <td>1</td>\n",
       "    </tr>\n",
       "    <tr>\n",
       "      <th>3</th>\n",
       "      <td>19308422</td>\n",
       "      <td>Mobil 1 5W-30 Extended Performance Full Synthetic Motor Oil 5-Quart Bottle</td>\n",
       "      <td>Mobil 1 5W-30 Extended Performance Full Synthetic Motor Oil 5-Quart Bottle for $9</td>\n",
       "      <td>It's $15 under list price.</td>\n",
       "      <td>&lt;div class=\"snippet summary\" title=\"Redeem&amp;#x20;this&amp;#x20;\"&gt; &lt;p&gt;Redeem this &lt;a target=\"_blank\" href=\"https://acbincentives.com/mobil1/default.asp\"&gt;$15 rebate&lt;/a&gt; for the best price we could find by as much. &lt;a target=\"_blank\" href=\"https://www.dealnews.com/lw/click.html?20,2,19308422,iref=site-w...</td>\n",
       "      <td>Walmart</td>\n",
       "      <td>Pickup. Choose in-store pickup to avoid the $5.99 shipping charge. Limit of 2 rebates per household. A link to the rebate terms (as well as a list of participating retailers) is available &lt;a href=\"https://acbincentives.com/mobil1/terms.asp\" target=\"_blank\"&gt;here&lt;/a&gt;.</td>\n",
       "      <td>https://www.dealnews.com/Mobil-1-5-W-30-Extended-Performance-Full-Synthetic-Motor-Oil-5-Quart-Bottle-for-9-pickup/19308422.html?iref=site-widget</td>\n",
       "      <td>Last verified 2 hr 53 min ago</td>\n",
       "      <td>2021-06-15 19:28:52</td>\n",
       "      <td>2021-06-16 19:44:07</td>\n",
       "      <td>1970-01-01 00:00:00</td>\n",
       "      <td>2021-06-16 17:10:19</td>\n",
       "      <td>False</td>\n",
       "      <td>False</td>\n",
       "      <td>False</td>\n",
       "      <td>False</td>\n",
       "      <td>False</td>\n",
       "      <td>True</td>\n",
       "      <td>5</td>\n",
       "      <td>$9.37</td>\n",
       "      <td>$24</td>\n",
       "      <td>pickup</td>\n",
       "      <td>None</td>\n",
       "      <td>238</td>\n",
       "      <td>None</td>\n",
       "      <td>None</td>\n",
       "      <td>None</td>\n",
       "      <td>None</td>\n",
       "      <td>None</td>\n",
       "      <td>321</td>\n",
       "      <td>Walmart</td>\n",
       "      <td>/home/malcolm/Demo with APIs/Dealnews Images/2021-06-16/Mobil 1 5W-30 Extended Performance Full Synthetic Motor Oil 5-Quart Bottle_19308422.jpg</td>\n",
       "      <td>Popularity Rank : Popularity: 5/5</td>\n",
       "      <td>1774</td>\n",
       "      <td>1</td>\n",
       "    </tr>\n",
       "    <tr>\n",
       "      <th>4</th>\n",
       "      <td>19308257</td>\n",
       "      <td>ASICS Men's Upcourt 2 Shoes</td>\n",
       "      <td>ASICS Men's Upcourt 2 Shoes for $18</td>\n",
       "      <td>Apply coupon code \"SHOE10\" to save.</td>\n",
       "      <td>&lt;div class=\"snippet summary\" title=\"Coupon&amp;#x20;code&amp;#x20;&amp;quot;SHOE10&amp;quot;&amp;#x20;drops&amp;#x20;it&amp;#x20;to&amp;#x20;&amp;#x24;46&amp;#x20;off&amp;#x20;and&amp;#x20;the&amp;#x20;best&amp;#x20;price&amp;#x20;we&amp;#x20;could&amp;#x20;find.\"&gt; &lt;p&gt;Coupon code \"SHOE10\" drops it to $46 off and the best price we could find. &lt;a target=\"_blank\" h...</td>\n",
       "      <td>Shoebacca</td>\n",
       "      <td>Free shipping. Available in Black. Model: B705Y-9001.</td>\n",
       "      <td>https://www.dealnews.com/products/ASICS/ASICS-Mens-Upcourt-2-Shoes/178054.html?iref=site-widget</td>\n",
       "      <td>Last verified 1 hr 49 min ago</td>\n",
       "      <td>2021-06-15 18:43:21</td>\n",
       "      <td>2021-06-16 19:44:07</td>\n",
       "      <td>1970-01-01 00:00:00</td>\n",
       "      <td>2021-06-16 18:13:54</td>\n",
       "      <td>True</td>\n",
       "      <td>False</td>\n",
       "      <td>False</td>\n",
       "      <td>False</td>\n",
       "      <td>False</td>\n",
       "      <td>True</td>\n",
       "      <td>5</td>\n",
       "      <td>$18</td>\n",
       "      <td>$65</td>\n",
       "      <td>free shipping</td>\n",
       "      <td>SHOE10</td>\n",
       "      <td>280</td>\n",
       "      <td>None</td>\n",
       "      <td>202</td>\n",
       "      <td>None</td>\n",
       "      <td>None</td>\n",
       "      <td>None</td>\n",
       "      <td>2926</td>\n",
       "      <td>Shoebacca</td>\n",
       "      <td>/home/malcolm/Demo with APIs/Dealnews Images/2021-06-16/ASICS Men's Upcourt 2 Shoes_19308257.jpg</td>\n",
       "      <td>Popularity Rank : Popularity: 5/5</td>\n",
       "      <td>1774</td>\n",
       "      <td>1</td>\n",
       "    </tr>\n",
       "    <tr>\n",
       "      <th>...</th>\n",
       "      <td>...</td>\n",
       "      <td>...</td>\n",
       "      <td>...</td>\n",
       "      <td>...</td>\n",
       "      <td>...</td>\n",
       "      <td>...</td>\n",
       "      <td>...</td>\n",
       "      <td>...</td>\n",
       "      <td>...</td>\n",
       "      <td>...</td>\n",
       "      <td>...</td>\n",
       "      <td>...</td>\n",
       "      <td>...</td>\n",
       "      <td>...</td>\n",
       "      <td>...</td>\n",
       "      <td>...</td>\n",
       "      <td>...</td>\n",
       "      <td>...</td>\n",
       "      <td>...</td>\n",
       "      <td>...</td>\n",
       "      <td>...</td>\n",
       "      <td>...</td>\n",
       "      <td>...</td>\n",
       "      <td>...</td>\n",
       "      <td>...</td>\n",
       "      <td>...</td>\n",
       "      <td>...</td>\n",
       "      <td>...</td>\n",
       "      <td>...</td>\n",
       "      <td>...</td>\n",
       "      <td>...</td>\n",
       "      <td>...</td>\n",
       "      <td>...</td>\n",
       "      <td>...</td>\n",
       "      <td>...</td>\n",
       "      <td>...</td>\n",
       "    </tr>\n",
       "    <tr>\n",
       "      <th>8465</th>\n",
       "      <td>19282244</td>\n",
       "      <td>OSP Home Furnishings Barton Writing Desk</td>\n",
       "      <td>OSP Home Furnishings Barton Writing Desk for $172</td>\n",
       "      <td>It's $258 under list price.</td>\n",
       "      <td>&lt;div class=\"snippet summary\" title=\"That&amp;#x20;is&amp;#x20;&amp;#x24;15&amp;#x20;under&amp;#x20;the&amp;#x20;next&amp;#x20;best&amp;#x20;price&amp;#x20;we&amp;#x20;could&amp;#x20;find.\"&gt; &lt;p&gt;That is $15 under the next best price we could find. &lt;a target=\"_blank\" href=\"https://www.dealnews.com/lw/click.html?20,2,19282244,iref=site-widget...</td>\n",
       "      <td>Kohl's</td>\n",
       "      <td>Free shipping. &lt;br&gt;&lt;b&gt;Features:&lt;/b&gt; measures 42\" x 21\" x 35\" and made of wood, MDF, veneer, and steel. Model: BRT55.</td>\n",
       "      <td>https://www.dealnews.com/products/Private-Label-Brands/OSP-Home-Furnishings-Barton-Writing-Desk/227549.html?iref=site-widget</td>\n",
       "      <td>Last verified 1 week 1 day ago</td>\n",
       "      <td>2021-06-07 19:27:58</td>\n",
       "      <td>2021-06-08 19:14:37</td>\n",
       "      <td>1970-01-01 00:00:00</td>\n",
       "      <td>2021-06-08 16:12:08</td>\n",
       "      <td>False</td>\n",
       "      <td>False</td>\n",
       "      <td>False</td>\n",
       "      <td>False</td>\n",
       "      <td>False</td>\n",
       "      <td>True</td>\n",
       "      <td>1</td>\n",
       "      <td>$172</td>\n",
       "      <td>$430</td>\n",
       "      <td>free shipping</td>\n",
       "      <td>None</td>\n",
       "      <td>822</td>\n",
       "      <td>None</td>\n",
       "      <td>196,199</td>\n",
       "      <td>None</td>\n",
       "      <td>None</td>\n",
       "      <td>None</td>\n",
       "      <td>1009</td>\n",
       "      <td>Kohl's</td>\n",
       "      <td>/home/malcolm/Demo with APIs/Dealnews Images/2021-06-16/OSP Home Furnishings Barton Writing Desk_19282244.jpg</td>\n",
       "      <td>Popularity Rank : Popularity: 1/5</td>\n",
       "      <td>1786</td>\n",
       "      <td>64</td>\n",
       "    </tr>\n",
       "    <tr>\n",
       "      <th>8466</th>\n",
       "      <td>19285583</td>\n",
       "      <td>Levi's Girls' 711 Skinny Jeans</td>\n",
       "      <td>Levi's Girls' 711 Skinny Jeans for $13</td>\n",
       "      <td>It's $31 under list price.</td>\n",
       "      <td>&lt;div class=\"snippet summary\" title=\"It&amp;#x27;s&amp;#x20;&amp;#x24;31&amp;#x20;under&amp;#x20;list&amp;#x20;price.\"&gt; &lt;p&gt;It's $31 under list price. &lt;a target=\"_blank\" href=\"https://www.dealnews.com/lw/click.html?20,2,19285583,iref=site-widget\"&gt;Buy Now at Macy's&lt;/a&gt; &lt;/p&gt; &lt;/div&gt; &lt;div class=\"snippet additional-info\" titl...</td>\n",
       "      <td>Macy's</td>\n",
       "      <td>Free shipping w/ $25. Available in Oxford. pad your order to over $25 to bag free shipping, otherwise the $10.95 fee will apply.</td>\n",
       "      <td>https://www.dealnews.com/Levis-Girls-711-Skinny-Jeans-for-13-free-shipping-w-25/19285583.html?iref=site-widget</td>\n",
       "      <td>Last verified 1 week 1 day ago</td>\n",
       "      <td>2021-06-08 08:47:44</td>\n",
       "      <td>2021-06-09 06:44:12</td>\n",
       "      <td>1970-01-01 00:00:00</td>\n",
       "      <td>2021-06-08 08:47:44</td>\n",
       "      <td>False</td>\n",
       "      <td>False</td>\n",
       "      <td>False</td>\n",
       "      <td>False</td>\n",
       "      <td>False</td>\n",
       "      <td>True</td>\n",
       "      <td>1</td>\n",
       "      <td>$13</td>\n",
       "      <td>$44</td>\n",
       "      <td>free shipping w/ $25</td>\n",
       "      <td>None</td>\n",
       "      <td>515</td>\n",
       "      <td>None</td>\n",
       "      <td>202</td>\n",
       "      <td>None</td>\n",
       "      <td>None</td>\n",
       "      <td>None</td>\n",
       "      <td>288</td>\n",
       "      <td>Macy's</td>\n",
       "      <td>/home/malcolm/Demo with APIs/Dealnews Images/2021-06-16/Levi's Girls' 711 Skinny Jeans_19285583.jpg</td>\n",
       "      <td>Popularity Rank : Popularity: 1/5</td>\n",
       "      <td>1786</td>\n",
       "      <td>64</td>\n",
       "    </tr>\n",
       "    <tr>\n",
       "      <th>8467</th>\n",
       "      <td>19274840</td>\n",
       "      <td>$50 Chuck E Cheese Gift Card</td>\n",
       "      <td>$50 Chuck E Cheese Gift Card for $38 for members</td>\n",
       "      <td>It's $13 under list price.</td>\n",
       "      <td>&lt;div class=\"snippet summary\" title=\"That&amp;#x27;s&amp;#x20;a&amp;#x20;savings&amp;#x20;of&amp;#x20;&amp;#x24;13&amp;#x20;off&amp;#x20;list&amp;#x20;price.\"&gt; &lt;p&gt;That's a savings of $13 off list price. &lt;a target=\"_blank\" href=\"https://www.dealnews.com/lw/click.html?20,2,19274840,iref=site-widget\"&gt;Buy Now at Sam's Club&lt;/a&gt; &lt;/p&gt; &lt;/d...</td>\n",
       "      <td>Sam's Club</td>\n",
       "      <td>Free shipping. Non-members py a 10% surcharge. &lt;br&gt;&lt;b&gt;Features:&lt;/b&gt; 2 x $25 Chuck E Cheese gift cards.</td>\n",
       "      <td>https://www.dealnews.com/50-Chuck-E-Cheese-Gift-Card-for-38-for-members-free-shipping/19274840.html?iref=site-widget</td>\n",
       "      <td>Last verified 4 days 6 hr ago</td>\n",
       "      <td>2021-06-12 14:04:50</td>\n",
       "      <td>2021-06-16 19:32:20</td>\n",
       "      <td>1970-01-01 00:00:00</td>\n",
       "      <td>2021-06-04 11:06:05</td>\n",
       "      <td>False</td>\n",
       "      <td>False</td>\n",
       "      <td>False</td>\n",
       "      <td>False</td>\n",
       "      <td>False</td>\n",
       "      <td>True</td>\n",
       "      <td>1</td>\n",
       "      <td>$38 for members</td>\n",
       "      <td>$50</td>\n",
       "      <td>free shipping</td>\n",
       "      <td>None</td>\n",
       "      <td>377</td>\n",
       "      <td>None</td>\n",
       "      <td>196,213</td>\n",
       "      <td>859</td>\n",
       "      <td>None</td>\n",
       "      <td>None</td>\n",
       "      <td>857</td>\n",
       "      <td>Sam's Club</td>\n",
       "      <td>/home/malcolm/Demo with APIs/Dealnews Images/2021-06-16/$50 Chuck E Cheese Gift Card_19274840.jpg</td>\n",
       "      <td>Popularity Rank : Popularity: 1/5</td>\n",
       "      <td>1786</td>\n",
       "      <td>64</td>\n",
       "    </tr>\n",
       "    <tr>\n",
       "      <th>8468</th>\n",
       "      <td>19276349</td>\n",
       "      <td>$10 Amora Coffee Gift Card</td>\n",
       "      <td>$10 Amora Coffee Gift Card: free w/ $40 purchase</td>\n",
       "      <td>Earn a free gift with a $40 or more purchase of coffee and tea.</td>\n",
       "      <td>&lt;div class=\"snippet summary\" title=\"Earn&amp;#x20;a&amp;#x20;free&amp;#x20;gift&amp;#x20;with&amp;#x20;a&amp;#x20;&amp;#x24;40&amp;#x20;or&amp;#x20;more&amp;#x20;purchase&amp;#x20;of&amp;#x20;coffee&amp;#x20;and&amp;#x20;tea.\"&gt; &lt;p&gt;Earn a free gift with a $40 or more purchase of coffee and tea. &lt;a target=\"_blank\" href=\"https://www.dealnews.com/lw/clic...</td>\n",
       "      <td>Amora Coffee</td>\n",
       "      <td>Gift Card will be emailed to you after purchase.</td>\n",
       "      <td>https://www.dealnews.com/10-Amora-Coffee-Gift-Card-free-w-40-purchase-free-shipping/19276349.html?iref=site-widget</td>\n",
       "      <td>Last verified 1 week 4 days ago</td>\n",
       "      <td>2021-06-04 21:27:44</td>\n",
       "      <td>2021-06-06 16:54:48</td>\n",
       "      <td>1970-01-01 00:00:00</td>\n",
       "      <td>2021-06-04 21:27:43</td>\n",
       "      <td>False</td>\n",
       "      <td>False</td>\n",
       "      <td>False</td>\n",
       "      <td>False</td>\n",
       "      <td>False</td>\n",
       "      <td>True</td>\n",
       "      <td>1</td>\n",
       "      <td>free w/ $40 purchase</td>\n",
       "      <td></td>\n",
       "      <td>free shipping</td>\n",
       "      <td>None</td>\n",
       "      <td>869</td>\n",
       "      <td>None</td>\n",
       "      <td>196,213</td>\n",
       "      <td>None</td>\n",
       "      <td>None</td>\n",
       "      <td>None</td>\n",
       "      <td>39805</td>\n",
       "      <td>Amora Coffee</td>\n",
       "      <td>/home/malcolm/Demo with APIs/Dealnews Images/2021-06-16/$10 Amora Coffee Gift Card_19276349.jpg</td>\n",
       "      <td>Popularity Rank : Popularity: 1/5</td>\n",
       "      <td>1786</td>\n",
       "      <td>64</td>\n",
       "    </tr>\n",
       "    <tr>\n",
       "      <th>8469</th>\n",
       "      <td>19233620</td>\n",
       "      <td>British Airways Visa Signature® Card</td>\n",
       "      <td>British Airways Visa Signature® Card: Earn 50,000 bonus Avios + Travel Together Ticket</td>\n",
       "      <td></td>\n",
       "      <td>&lt;div class=\"body-offer body-credit-card\"&gt; &lt;div class=\"snippet summary\" title=\"\"&gt; &lt;p&gt; &lt;/p&gt; &lt;/div&gt; &lt;div class=\"snippet features\" title=\"Earn&amp;#x20;50,000&amp;#x20;bonus&amp;#x20;Avios&amp;#x20;after&amp;#x20;you&amp;#x20;spend&amp;#x20;&amp;#x24;3,000&amp;#x20;on&amp;#x20;purchases&amp;#x20;within&amp;#x20;the&amp;#x20;first&amp;#x20;3&amp;#x20;months&amp;#...</td>\n",
       "      <td>Chase</td>\n",
       "      <td>&lt;br&gt;&lt;b&gt;Features:&lt;/b&gt; Earn 50,000 bonus Avios after you spend $3,000 on purchases within the first 3 months from account opening., Plus earn a Travel Together Ticket after you spend $20,000 total on purchases within your first year of account opening., Earn 5 Avios per $1 spent on purchases with ...</td>\n",
       "      <td>https://www.dealnews.com/British-Airways-Visa-Signature-Card-Earn-50-000-bonus-Avios-Travel-Together-Ticket/19233620.html?iref=site-widget</td>\n",
       "      <td>Last verified 1 day 20 hr ago</td>\n",
       "      <td>2021-06-14 23:45:16</td>\n",
       "      <td>2021-06-16 06:04:11</td>\n",
       "      <td>1970-01-01 00:00:00</td>\n",
       "      <td>2021-05-13 17:37:36</td>\n",
       "      <td>False</td>\n",
       "      <td>True</td>\n",
       "      <td>False</td>\n",
       "      <td>False</td>\n",
       "      <td>False</td>\n",
       "      <td>True</td>\n",
       "      <td>1</td>\n",
       "      <td>Earn 50,000 bonus Avios + Travel Together Ticket</td>\n",
       "      <td></td>\n",
       "      <td>None</td>\n",
       "      <td>None</td>\n",
       "      <td>522</td>\n",
       "      <td>None</td>\n",
       "      <td>702</td>\n",
       "      <td>None</td>\n",
       "      <td>None</td>\n",
       "      <td>None</td>\n",
       "      <td>1642</td>\n",
       "      <td>Chase</td>\n",
       "      <td>/home/malcolm/Demo with APIs/Dealnews Images/2021-06-16/British Airways Visa Signature® Card_19233620.jpg</td>\n",
       "      <td>Popularity Rank : Popularity: 1/5</td>\n",
       "      <td>1786</td>\n",
       "      <td>64</td>\n",
       "    </tr>\n",
       "  </tbody>\n",
       "</table>\n",
       "<p>8470 rows × 36 columns</p>\n",
       "</div>"
      ],
      "text/plain": [
       "            id  \\\n",
       "0     19312637   \n",
       "1     19313456   \n",
       "2     19309286   \n",
       "3     19308422   \n",
       "4     19308257   \n",
       "...        ...   \n",
       "8465  19282244   \n",
       "8466  19285583   \n",
       "8467  19274840   \n",
       "8468  19276349   \n",
       "8469  19233620   \n",
       "\n",
       "                                                                        headline  \\\n",
       "0                                                               Woot Garage Sale   \n",
       "1                                       Domisl 20\" Folding Shelf Brackets 2-Pack   \n",
       "2                                    \"Options Trading Crash Course\" Kindle eBook   \n",
       "3     Mobil 1 5W-30 Extended Performance Full Synthetic Motor Oil 5-Quart Bottle   \n",
       "4                                                    ASICS Men's Upcourt 2 Shoes   \n",
       "...                                                                          ...   \n",
       "8465                                    OSP Home Furnishings Barton Writing Desk   \n",
       "8466                                              Levi's Girls' 711 Skinny Jeans   \n",
       "8467                                                $50 Chuck E Cheese Gift Card   \n",
       "8468                                                  $10 Amora Coffee Gift Card   \n",
       "8469                                        British Airways Visa Signature® Card   \n",
       "\n",
       "                                                                              brief_headline  \\\n",
       "0                        Woot Garage Sale: Discounts on groceries, tools, electronics & more   \n",
       "1                                           Domisl 20\" Folding Shelf Brackets 2-Pack for $20   \n",
       "2                                          \"Options Trading Crash Course\" Kindle eBook: Free   \n",
       "3          Mobil 1 5W-30 Extended Performance Full Synthetic Motor Oil 5-Quart Bottle for $9   \n",
       "4                                                        ASICS Men's Upcourt 2 Shoes for $18   \n",
       "...                                                                                      ...   \n",
       "8465                                       OSP Home Furnishings Barton Writing Desk for $172   \n",
       "8466                                                  Levi's Girls' 711 Skinny Jeans for $13   \n",
       "8467                                        $50 Chuck E Cheese Gift Card for $38 for members   \n",
       "8468                                        $10 Amora Coffee Gift Card: free w/ $40 purchase   \n",
       "8469  British Airways Visa Signature® Card: Earn 50,000 bonus Avios + Travel Together Ticket   \n",
       "\n",
       "                                                                                                                                   summary  \\\n",
       "0     Save on hundreds of deals including home items, electronics, computers, groceries, apparel, exercise and sports equipment, and more.   \n",
       "1                                                                                       Apply coupon code \"40H7YVAW\" for a savings of $13.   \n",
       "2                                                                                                     Save $10 off the digital list price.   \n",
       "3                                                                                                               It's $15 under list price.   \n",
       "4                                                                                                      Apply coupon code \"SHOE10\" to save.   \n",
       "...                                                                                                                                    ...   \n",
       "8465                                                                                                           It's $258 under list price.   \n",
       "8466                                                                                                            It's $31 under list price.   \n",
       "8467                                                                                                            It's $13 under list price.   \n",
       "8468                                                                       Earn a free gift with a $40 or more purchase of coffee and tea.   \n",
       "8469                                                                                                                                         \n",
       "\n",
       "                                                                                                                                                                                                                                                                                                secondary_summary  \\\n",
       "0     <div class=\"snippet summary\" title=\"Save&#x20;on&#x20;hundreds&#x20;of&#x20;deals&#x20;including&#x20;home&#x20;items,&#x20;electronics,&#x20;computers,&#x20;groceries,&#x20;apparel,&#x20;exercise&#x20;and&#x20;sports&#x20;equipment,&#x20;and&#x20;more.\"> <p>Save on hundreds of deals including h...   \n",
       "1     <div class=\"body-offer body-burst\"> <div class=\"snippet summary\" title=\"Apply&#x20;coupon&#x20;code&#x20;&quot;40H7YVAW&quot;&#x20;for&#x20;a&#x20;savings&#x20;of&#x20;&#x24;13.\"> <p>Apply coupon code \"40H7YVAW\" for a savings of $13. <a target=\"_blank\" href=\"https://www.dealnews.com/lw/click.htm...   \n",
       "2     <div class=\"snippet summary\" title=\"Save&#x20;&#x24;10&#x20;off&#x20;the&#x20;digital&#x20;list&#x20;price.\"> <p>Save $10 off the digital list price. <a target=\"_blank\" href=\"https://www.dealnews.com/lw/click.html?20,2,19309286,iref=site-widget\">Shop Now at Amazon</a> </p> </div> <div class=\"sni...   \n",
       "3     <div class=\"snippet summary\" title=\"Redeem&#x20;this&#x20;\"> <p>Redeem this <a target=\"_blank\" href=\"https://acbincentives.com/mobil1/default.asp\">$15 rebate</a> for the best price we could find by as much. <a target=\"_blank\" href=\"https://www.dealnews.com/lw/click.html?20,2,19308422,iref=site-w...   \n",
       "4     <div class=\"snippet summary\" title=\"Coupon&#x20;code&#x20;&quot;SHOE10&quot;&#x20;drops&#x20;it&#x20;to&#x20;&#x24;46&#x20;off&#x20;and&#x20;the&#x20;best&#x20;price&#x20;we&#x20;could&#x20;find.\"> <p>Coupon code \"SHOE10\" drops it to $46 off and the best price we could find. <a target=\"_blank\" h...   \n",
       "...                                                                                                                                                                                                                                                                                                           ...   \n",
       "8465  <div class=\"snippet summary\" title=\"That&#x20;is&#x20;&#x24;15&#x20;under&#x20;the&#x20;next&#x20;best&#x20;price&#x20;we&#x20;could&#x20;find.\"> <p>That is $15 under the next best price we could find. <a target=\"_blank\" href=\"https://www.dealnews.com/lw/click.html?20,2,19282244,iref=site-widget...   \n",
       "8466  <div class=\"snippet summary\" title=\"It&#x27;s&#x20;&#x24;31&#x20;under&#x20;list&#x20;price.\"> <p>It's $31 under list price. <a target=\"_blank\" href=\"https://www.dealnews.com/lw/click.html?20,2,19285583,iref=site-widget\">Buy Now at Macy's</a> </p> </div> <div class=\"snippet additional-info\" titl...   \n",
       "8467  <div class=\"snippet summary\" title=\"That&#x27;s&#x20;a&#x20;savings&#x20;of&#x20;&#x24;13&#x20;off&#x20;list&#x20;price.\"> <p>That's a savings of $13 off list price. <a target=\"_blank\" href=\"https://www.dealnews.com/lw/click.html?20,2,19274840,iref=site-widget\">Buy Now at Sam's Club</a> </p> </d...   \n",
       "8468  <div class=\"snippet summary\" title=\"Earn&#x20;a&#x20;free&#x20;gift&#x20;with&#x20;a&#x20;&#x24;40&#x20;or&#x20;more&#x20;purchase&#x20;of&#x20;coffee&#x20;and&#x20;tea.\"> <p>Earn a free gift with a $40 or more purchase of coffee and tea. <a target=\"_blank\" href=\"https://www.dealnews.com/lw/clic...   \n",
       "8469  <div class=\"body-offer body-credit-card\"> <div class=\"snippet summary\" title=\"\"> <p> </p> </div> <div class=\"snippet features\" title=\"Earn&#x20;50,000&#x20;bonus&#x20;Avios&#x20;after&#x20;you&#x20;spend&#x20;&#x24;3,000&#x20;on&#x20;purchases&#x20;within&#x20;the&#x20;first&#x20;3&#x20;months&#...   \n",
       "\n",
       "                key_attribute  \\\n",
       "0     Woot! An Amazon Company   \n",
       "1                      Amazon   \n",
       "2                      Amazon   \n",
       "3                     Walmart   \n",
       "4                   Shoebacca   \n",
       "...                       ...   \n",
       "8465                   Kohl's   \n",
       "8466                   Macy's   \n",
       "8467               Sam's Club   \n",
       "8468             Amora Coffee   \n",
       "8469                    Chase   \n",
       "\n",
       "                                                                                                                                                                                                                                                                                                      brief_notes  \\\n",
       "0                                                                                                                                                                                                                                                                                                                   \n",
       "1                                                                                                                                              Free shipping. Sold Faihts via Amazon. <br><b>Features:</b> includes mounting screws, 400-lbs. maximum load capacity and made of high-quality 304 stainless steel.   \n",
       "2                                                                                                                                                                                                                                                                                  <br><b>Features:</b> 96 pages.   \n",
       "3                                      Pickup. Choose in-store pickup to avoid the $5.99 shipping charge. Limit of 2 rebates per household. A link to the rebate terms (as well as a list of participating retailers) is available <a href=\"https://acbincentives.com/mobil1/terms.asp\" target=\"_blank\">here</a>.   \n",
       "4                                                                                                                                                                                                                                                           Free shipping. Available in Black. Model: B705Y-9001.   \n",
       "...                                                                                                                                                                                                                                                                                                           ...   \n",
       "8465                                                                                                                                                                                         Free shipping. <br><b>Features:</b> measures 42\" x 21\" x 35\" and made of wood, MDF, veneer, and steel. Model: BRT55.   \n",
       "8466                                                                                                                                                                             Free shipping w/ $25. Available in Oxford. pad your order to over $25 to bag free shipping, otherwise the $10.95 fee will apply.   \n",
       "8467                                                                                                                                                                                                       Free shipping. Non-members py a 10% surcharge. <br><b>Features:</b> 2 x $25 Chuck E Cheese gift cards.   \n",
       "8468                                                                                                                                                                                                                                                             Gift Card will be emailed to you after purchase.   \n",
       "8469  <br><b>Features:</b> Earn 50,000 bonus Avios after you spend $3,000 on purchases within the first 3 months from account opening., Plus earn a Travel Together Ticket after you spend $20,000 total on purchases within your first year of account opening., Earn 5 Avios per $1 spent on purchases with ...   \n",
       "\n",
       "                                                                                                                                                   url  \\\n",
       "0         https://www.dealnews.com/Woot-Garage-Sale-Discounts-on-groceries-tools-electronics-more-free-shipping-w-Prime/19312637.html?iref=site-widget   \n",
       "1                                 https://www.dealnews.com/Domisl-20-Folding-Shelf-Brackets-2-Pack-for-20-free-shipping/19313456.html?iref=site-widget   \n",
       "2                                               https://www.dealnews.com/Options-Trading-Crash-Course-Kindle-eBook-Free/19309286.html?iref=site-widget   \n",
       "3     https://www.dealnews.com/Mobil-1-5-W-30-Extended-Performance-Full-Synthetic-Motor-Oil-5-Quart-Bottle-for-9-pickup/19308422.html?iref=site-widget   \n",
       "4                                                      https://www.dealnews.com/products/ASICS/ASICS-Mens-Upcourt-2-Shoes/178054.html?iref=site-widget   \n",
       "...                                                                                                                                                ...   \n",
       "8465                      https://www.dealnews.com/products/Private-Label-Brands/OSP-Home-Furnishings-Barton-Writing-Desk/227549.html?iref=site-widget   \n",
       "8466                                    https://www.dealnews.com/Levis-Girls-711-Skinny-Jeans-for-13-free-shipping-w-25/19285583.html?iref=site-widget   \n",
       "8467                              https://www.dealnews.com/50-Chuck-E-Cheese-Gift-Card-for-38-for-members-free-shipping/19274840.html?iref=site-widget   \n",
       "8468                                https://www.dealnews.com/10-Amora-Coffee-Gift-Card-free-w-40-purchase-free-shipping/19276349.html?iref=site-widget   \n",
       "8469        https://www.dealnews.com/British-Airways-Visa-Signature-Card-Earn-50-000-bonus-Avios-Travel-Together-Ticket/19233620.html?iref=site-widget   \n",
       "\n",
       "                         display_date publish_datetime_ts  update_datetime_ts  \\\n",
       "0       Last verified 1 hr 27 min ago 2021-06-16 08:52:38 2021-06-16 20:03:23   \n",
       "1       Last verified 1 hr 22 min ago 2021-06-16 16:29:13 2021-06-16 20:02:45   \n",
       "2       Last verified 2 hr 50 min ago 2021-06-16 04:19:43 2021-06-16 19:53:38   \n",
       "3       Last verified 2 hr 53 min ago 2021-06-15 19:28:52 2021-06-16 19:44:07   \n",
       "4       Last verified 1 hr 49 min ago 2021-06-15 18:43:21 2021-06-16 19:44:07   \n",
       "...                               ...                 ...                 ...   \n",
       "8465   Last verified 1 week 1 day ago 2021-06-07 19:27:58 2021-06-08 19:14:37   \n",
       "8466   Last verified 1 week 1 day ago 2021-06-08 08:47:44 2021-06-09 06:44:12   \n",
       "8467    Last verified 4 days 6 hr ago 2021-06-12 14:04:50 2021-06-16 19:32:20   \n",
       "8468  Last verified 1 week 4 days ago 2021-06-04 21:27:44 2021-06-06 16:54:48   \n",
       "8469    Last verified 1 day 20 hr ago 2021-06-14 23:45:16 2021-06-16 06:04:11   \n",
       "\n",
       "     expiration_datetime_ts last_verified_datetime_ts editors_choice  \\\n",
       "0       2021-06-28 05:00:00       2021-06-16 18:35:48          False   \n",
       "1       2021-06-18 15:17:00       2021-06-16 18:41:24          False   \n",
       "2       1970-01-01 00:00:00       2021-06-16 17:12:34          False   \n",
       "3       1970-01-01 00:00:00       2021-06-16 17:10:19          False   \n",
       "4       1970-01-01 00:00:00       2021-06-16 18:13:54           True   \n",
       "...                     ...                       ...            ...   \n",
       "8465    1970-01-01 00:00:00       2021-06-08 16:12:08          False   \n",
       "8466    1970-01-01 00:00:00       2021-06-08 08:47:44          False   \n",
       "8467    1970-01-01 00:00:00       2021-06-04 11:06:05          False   \n",
       "8468    1970-01-01 00:00:00       2021-06-04 21:27:43          False   \n",
       "8469    1970-01-01 00:00:00       2021-05-13 17:37:36          False   \n",
       "\n",
       "     sponsored expired expires_today exclusive searchable hotness  \\\n",
       "0        False   False         False     False       True       5   \n",
       "1        False   False         False     False       True       5   \n",
       "2        False   False         False     False       True       5   \n",
       "3        False   False         False     False       True       5   \n",
       "4        False   False         False     False       True       5   \n",
       "...        ...     ...           ...       ...        ...     ...   \n",
       "8465     False   False         False     False       True       1   \n",
       "8466     False   False         False     False       True       1   \n",
       "8467     False   False         False     False       True       1   \n",
       "8468     False   False         False     False       True       1   \n",
       "8469      True   False         False     False       True       1   \n",
       "\n",
       "                                               call_out call_out_comparison  \\\n",
       "0     Discounts on groceries, tools, electronics & more                       \n",
       "1                                                   $20                 $33   \n",
       "2                                                  Free                       \n",
       "3                                                 $9.37                 $24   \n",
       "4                                                   $18                 $65   \n",
       "...                                                 ...                 ...   \n",
       "8465                                               $172                $430   \n",
       "8466                                                $13                 $44   \n",
       "8467                                    $38 for members                 $50   \n",
       "8468                               free w/ $40 purchase                       \n",
       "8469   Earn 50,000 bonus Avios + Travel Together Ticket                       \n",
       "\n",
       "                sub_call_out Coupon Code category_id_0 namepath_0  \\\n",
       "0     free shipping w/ Prime        None            40       None   \n",
       "1              free shipping    40H7YVAW           862       None   \n",
       "2                       None        None           554       None   \n",
       "3                     pickup        None           238       None   \n",
       "4              free shipping      SHOE10           280       None   \n",
       "...                      ...         ...           ...        ...   \n",
       "8465           free shipping        None           822       None   \n",
       "8466    free shipping w/ $25        None           515       None   \n",
       "8467           free shipping        None           377       None   \n",
       "8468           free shipping        None           869       None   \n",
       "8469                    None        None           522       None   \n",
       "\n",
       "     ancestor_list_0 category_id_1 namepath_1 ancestor_list_1 vendor_id  \\\n",
       "0               None          None       None            None      1692   \n",
       "1                196          None       None            None       313   \n",
       "2        178,177,553          None       None            None       313   \n",
       "3               None          None       None            None       321   \n",
       "4                202          None       None            None      2926   \n",
       "...              ...           ...        ...             ...       ...   \n",
       "8465         196,199          None       None            None      1009   \n",
       "8466             202          None       None            None       288   \n",
       "8467         196,213           859       None            None       857   \n",
       "8468         196,213          None       None            None     39805   \n",
       "8469             702          None       None            None      1642   \n",
       "\n",
       "                         name  \\\n",
       "0     Woot! An Amazon Company   \n",
       "1                      Amazon   \n",
       "2                      Amazon   \n",
       "3                     Walmart   \n",
       "4                   Shoebacca   \n",
       "...                       ...   \n",
       "8465                   Kohl's   \n",
       "8466                   Macy's   \n",
       "8467               Sam's Club   \n",
       "8468             Amora Coffee   \n",
       "8469                    Chase   \n",
       "\n",
       "                                                                                                                                           Image path  \\\n",
       "0                                                               /home/malcolm/Demo with APIs/Dealnews Images/2021-06-16/Woot Garage Sale_19312637.jpg   \n",
       "1                                       /home/malcolm/Demo with APIs/Dealnews Images/2021-06-16/Domisl 20\" Folding Shelf Brackets 2-Pack_19313456.jpg   \n",
       "2                                    /home/malcolm/Demo with APIs/Dealnews Images/2021-06-16/\"Options Trading Crash Course\" Kindle eBook_19309286.jpg   \n",
       "3     /home/malcolm/Demo with APIs/Dealnews Images/2021-06-16/Mobil 1 5W-30 Extended Performance Full Synthetic Motor Oil 5-Quart Bottle_19308422.jpg   \n",
       "4                                                    /home/malcolm/Demo with APIs/Dealnews Images/2021-06-16/ASICS Men's Upcourt 2 Shoes_19308257.jpg   \n",
       "...                                                                                                                                               ...   \n",
       "8465                                    /home/malcolm/Demo with APIs/Dealnews Images/2021-06-16/OSP Home Furnishings Barton Writing Desk_19282244.jpg   \n",
       "8466                                              /home/malcolm/Demo with APIs/Dealnews Images/2021-06-16/Levi's Girls' 711 Skinny Jeans_19285583.jpg   \n",
       "8467                                                /home/malcolm/Demo with APIs/Dealnews Images/2021-06-16/$50 Chuck E Cheese Gift Card_19274840.jpg   \n",
       "8468                                                  /home/malcolm/Demo with APIs/Dealnews Images/2021-06-16/$10 Amora Coffee Gift Card_19276349.jpg   \n",
       "8469                                        /home/malcolm/Demo with APIs/Dealnews Images/2021-06-16/British Airways Visa Signature® Card_19233620.jpg   \n",
       "\n",
       "                               API Feed API id_number Page  \n",
       "0     Popularity Rank : Popularity: 5/5          1774    1  \n",
       "1     Popularity Rank : Popularity: 5/5          1774    1  \n",
       "2     Popularity Rank : Popularity: 5/5          1774    1  \n",
       "3     Popularity Rank : Popularity: 5/5          1774    1  \n",
       "4     Popularity Rank : Popularity: 5/5          1774    1  \n",
       "...                                 ...           ...  ...  \n",
       "8465  Popularity Rank : Popularity: 1/5          1786   64  \n",
       "8466  Popularity Rank : Popularity: 1/5          1786   64  \n",
       "8467  Popularity Rank : Popularity: 1/5          1786   64  \n",
       "8468  Popularity Rank : Popularity: 1/5          1786   64  \n",
       "8469  Popularity Rank : Popularity: 1/5          1786   64  \n",
       "\n",
       "[8470 rows x 36 columns]"
      ]
     },
     "execution_count": 21,
     "metadata": {},
     "output_type": "execute_result"
    }
   ],
   "source": [
    "dn_today = pd.concat(page_items, axis =1).T\n",
    "dn_today"
   ]
  },
  {
   "cell_type": "markdown",
   "metadata": {},
   "source": [
    "## Examine and Export"
   ]
  },
  {
   "cell_type": "code",
   "execution_count": 22,
   "metadata": {
    "scrolled": true
   },
   "outputs": [
    {
     "data": {
      "text/html": [
       "<div>\n",
       "<style scoped>\n",
       "    .dataframe tbody tr th:only-of-type {\n",
       "        vertical-align: middle;\n",
       "    }\n",
       "\n",
       "    .dataframe tbody tr th {\n",
       "        vertical-align: top;\n",
       "    }\n",
       "\n",
       "    .dataframe thead th {\n",
       "        text-align: right;\n",
       "    }\n",
       "</style>\n",
       "<table border=\"1\" class=\"dataframe\">\n",
       "  <thead>\n",
       "    <tr style=\"text-align: right;\">\n",
       "      <th></th>\n",
       "      <th>headline</th>\n",
       "      <th>brief_headline</th>\n",
       "      <th>summary</th>\n",
       "      <th>key_attribute</th>\n",
       "      <th>call_out</th>\n",
       "      <th>call_out_comparison</th>\n",
       "    </tr>\n",
       "  </thead>\n",
       "  <tbody>\n",
       "    <tr>\n",
       "      <th>0</th>\n",
       "      <td>Woot Garage Sale</td>\n",
       "      <td>Woot Garage Sale: Discounts on groceries, tools, electronics &amp; more</td>\n",
       "      <td>Save on hundreds of deals including home items, electronics, computers, groceries, apparel, exercise and sports equipment, and more.</td>\n",
       "      <td>Woot! An Amazon Company</td>\n",
       "      <td>Discounts on groceries, tools, electronics &amp; more</td>\n",
       "      <td></td>\n",
       "    </tr>\n",
       "    <tr>\n",
       "      <th>1</th>\n",
       "      <td>Domisl 20\" Folding Shelf Brackets 2-Pack</td>\n",
       "      <td>Domisl 20\" Folding Shelf Brackets 2-Pack for $20</td>\n",
       "      <td>Apply coupon code \"40H7YVAW\" for a savings of $13.</td>\n",
       "      <td>Amazon</td>\n",
       "      <td>$20</td>\n",
       "      <td>$33</td>\n",
       "    </tr>\n",
       "    <tr>\n",
       "      <th>2</th>\n",
       "      <td>\"Options Trading Crash Course\" Kindle eBook</td>\n",
       "      <td>\"Options Trading Crash Course\" Kindle eBook: Free</td>\n",
       "      <td>Save $10 off the digital list price.</td>\n",
       "      <td>Amazon</td>\n",
       "      <td>Free</td>\n",
       "      <td></td>\n",
       "    </tr>\n",
       "    <tr>\n",
       "      <th>3</th>\n",
       "      <td>Mobil 1 5W-30 Extended Performance Full Synthetic Motor Oil 5-Quart Bottle</td>\n",
       "      <td>Mobil 1 5W-30 Extended Performance Full Synthetic Motor Oil 5-Quart Bottle for $9</td>\n",
       "      <td>It's $15 under list price.</td>\n",
       "      <td>Walmart</td>\n",
       "      <td>$9.37</td>\n",
       "      <td>$24</td>\n",
       "    </tr>\n",
       "    <tr>\n",
       "      <th>4</th>\n",
       "      <td>ASICS Men's Upcourt 2 Shoes</td>\n",
       "      <td>ASICS Men's Upcourt 2 Shoes for $18</td>\n",
       "      <td>Apply coupon code \"SHOE10\" to save.</td>\n",
       "      <td>Shoebacca</td>\n",
       "      <td>$18</td>\n",
       "      <td>$65</td>\n",
       "    </tr>\n",
       "    <tr>\n",
       "      <th>...</th>\n",
       "      <td>...</td>\n",
       "      <td>...</td>\n",
       "      <td>...</td>\n",
       "      <td>...</td>\n",
       "      <td>...</td>\n",
       "      <td>...</td>\n",
       "    </tr>\n",
       "    <tr>\n",
       "      <th>8465</th>\n",
       "      <td>OSP Home Furnishings Barton Writing Desk</td>\n",
       "      <td>OSP Home Furnishings Barton Writing Desk for $172</td>\n",
       "      <td>It's $258 under list price.</td>\n",
       "      <td>Kohl's</td>\n",
       "      <td>$172</td>\n",
       "      <td>$430</td>\n",
       "    </tr>\n",
       "    <tr>\n",
       "      <th>8466</th>\n",
       "      <td>Levi's Girls' 711 Skinny Jeans</td>\n",
       "      <td>Levi's Girls' 711 Skinny Jeans for $13</td>\n",
       "      <td>It's $31 under list price.</td>\n",
       "      <td>Macy's</td>\n",
       "      <td>$13</td>\n",
       "      <td>$44</td>\n",
       "    </tr>\n",
       "    <tr>\n",
       "      <th>8467</th>\n",
       "      <td>$50 Chuck E Cheese Gift Card</td>\n",
       "      <td>$50 Chuck E Cheese Gift Card for $38 for members</td>\n",
       "      <td>It's $13 under list price.</td>\n",
       "      <td>Sam's Club</td>\n",
       "      <td>$38 for members</td>\n",
       "      <td>$50</td>\n",
       "    </tr>\n",
       "    <tr>\n",
       "      <th>8468</th>\n",
       "      <td>$10 Amora Coffee Gift Card</td>\n",
       "      <td>$10 Amora Coffee Gift Card: free w/ $40 purchase</td>\n",
       "      <td>Earn a free gift with a $40 or more purchase of coffee and tea.</td>\n",
       "      <td>Amora Coffee</td>\n",
       "      <td>free w/ $40 purchase</td>\n",
       "      <td></td>\n",
       "    </tr>\n",
       "    <tr>\n",
       "      <th>8469</th>\n",
       "      <td>British Airways Visa Signature® Card</td>\n",
       "      <td>British Airways Visa Signature® Card: Earn 50,000 bonus Avios + Travel Together Ticket</td>\n",
       "      <td></td>\n",
       "      <td>Chase</td>\n",
       "      <td>Earn 50,000 bonus Avios + Travel Together Ticket</td>\n",
       "      <td></td>\n",
       "    </tr>\n",
       "  </tbody>\n",
       "</table>\n",
       "<p>8470 rows × 6 columns</p>\n",
       "</div>"
      ],
      "text/plain": [
       "                                                                        headline  \\\n",
       "0                                                               Woot Garage Sale   \n",
       "1                                       Domisl 20\" Folding Shelf Brackets 2-Pack   \n",
       "2                                    \"Options Trading Crash Course\" Kindle eBook   \n",
       "3     Mobil 1 5W-30 Extended Performance Full Synthetic Motor Oil 5-Quart Bottle   \n",
       "4                                                    ASICS Men's Upcourt 2 Shoes   \n",
       "...                                                                          ...   \n",
       "8465                                    OSP Home Furnishings Barton Writing Desk   \n",
       "8466                                              Levi's Girls' 711 Skinny Jeans   \n",
       "8467                                                $50 Chuck E Cheese Gift Card   \n",
       "8468                                                  $10 Amora Coffee Gift Card   \n",
       "8469                                        British Airways Visa Signature® Card   \n",
       "\n",
       "                                                                              brief_headline  \\\n",
       "0                        Woot Garage Sale: Discounts on groceries, tools, electronics & more   \n",
       "1                                           Domisl 20\" Folding Shelf Brackets 2-Pack for $20   \n",
       "2                                          \"Options Trading Crash Course\" Kindle eBook: Free   \n",
       "3          Mobil 1 5W-30 Extended Performance Full Synthetic Motor Oil 5-Quart Bottle for $9   \n",
       "4                                                        ASICS Men's Upcourt 2 Shoes for $18   \n",
       "...                                                                                      ...   \n",
       "8465                                       OSP Home Furnishings Barton Writing Desk for $172   \n",
       "8466                                                  Levi's Girls' 711 Skinny Jeans for $13   \n",
       "8467                                        $50 Chuck E Cheese Gift Card for $38 for members   \n",
       "8468                                        $10 Amora Coffee Gift Card: free w/ $40 purchase   \n",
       "8469  British Airways Visa Signature® Card: Earn 50,000 bonus Avios + Travel Together Ticket   \n",
       "\n",
       "                                                                                                                                   summary  \\\n",
       "0     Save on hundreds of deals including home items, electronics, computers, groceries, apparel, exercise and sports equipment, and more.   \n",
       "1                                                                                       Apply coupon code \"40H7YVAW\" for a savings of $13.   \n",
       "2                                                                                                     Save $10 off the digital list price.   \n",
       "3                                                                                                               It's $15 under list price.   \n",
       "4                                                                                                      Apply coupon code \"SHOE10\" to save.   \n",
       "...                                                                                                                                    ...   \n",
       "8465                                                                                                           It's $258 under list price.   \n",
       "8466                                                                                                            It's $31 under list price.   \n",
       "8467                                                                                                            It's $13 under list price.   \n",
       "8468                                                                       Earn a free gift with a $40 or more purchase of coffee and tea.   \n",
       "8469                                                                                                                                         \n",
       "\n",
       "                key_attribute  \\\n",
       "0     Woot! An Amazon Company   \n",
       "1                      Amazon   \n",
       "2                      Amazon   \n",
       "3                     Walmart   \n",
       "4                   Shoebacca   \n",
       "...                       ...   \n",
       "8465                   Kohl's   \n",
       "8466                   Macy's   \n",
       "8467               Sam's Club   \n",
       "8468             Amora Coffee   \n",
       "8469                    Chase   \n",
       "\n",
       "                                               call_out call_out_comparison  \n",
       "0     Discounts on groceries, tools, electronics & more                      \n",
       "1                                                   $20                 $33  \n",
       "2                                                  Free                      \n",
       "3                                                 $9.37                 $24  \n",
       "4                                                   $18                 $65  \n",
       "...                                                 ...                 ...  \n",
       "8465                                               $172                $430  \n",
       "8466                                                $13                 $44  \n",
       "8467                                    $38 for members                 $50  \n",
       "8468                               free w/ $40 purchase                      \n",
       "8469   Earn 50,000 bonus Avios + Travel Together Ticket                      \n",
       "\n",
       "[8470 rows x 6 columns]"
      ]
     },
     "execution_count": 22,
     "metadata": {},
     "output_type": "execute_result"
    }
   ],
   "source": [
    "dn_today[['headline', 'brief_headline', 'summary', 'key_attribute'\n",
    "          , 'call_out', 'call_out_comparison']]"
   ]
  },
  {
   "cell_type": "code",
   "execution_count": 23,
   "metadata": {},
   "outputs": [
    {
     "data": {
      "text/plain": [
       "Amazon                   2845\n",
       "eBay                     1042\n",
       "Sam's Club                424\n",
       "Petco                     338\n",
       "Kohl's                    311\n",
       "                         ... \n",
       "Udemy                       2\n",
       "Krispy Kreme                2\n",
       "AlphabetDeal                2\n",
       "Dick's Sporting Goods       2\n",
       "Carhartt                    2\n",
       "Name: key_attribute, Length: 100, dtype: int64"
      ]
     },
     "execution_count": 23,
     "metadata": {},
     "output_type": "execute_result"
    }
   ],
   "source": [
    "dn_today['key_attribute'].value_counts()"
   ]
  },
  {
   "cell_type": "code",
   "execution_count": 24,
   "metadata": {},
   "outputs": [
    {
     "name": "stdout",
     "output_type": "stream",
     "text": [
      "Index(['id', 'headline', 'brief_headline', 'summary', 'secondary_summary',\n",
      "       'key_attribute', 'brief_notes', 'url', 'display_date',\n",
      "       'publish_datetime_ts', 'update_datetime_ts', 'expiration_datetime_ts',\n",
      "       'last_verified_datetime_ts', 'editors_choice', 'sponsored', 'expired',\n",
      "       'expires_today', 'exclusive', 'searchable', 'hotness', 'call_out',\n",
      "       'call_out_comparison', 'sub_call_out', 'Coupon Code', 'category_id_0',\n",
      "       'namepath_0', 'ancestor_list_0', 'category_id_1', 'namepath_1',\n",
      "       'ancestor_list_1', 'vendor_id', 'name', 'Image path', 'API Feed',\n",
      "       'API id_number', 'Page'],\n",
      "      dtype='object')\n"
     ]
    }
   ],
   "source": [
    "print(dn_today.columns)"
   ]
  },
  {
   "cell_type": "code",
   "execution_count": 25,
   "metadata": {
    "scrolled": true
   },
   "outputs": [
    {
     "data": {
      "text/html": [
       "<div>\n",
       "<style scoped>\n",
       "    .dataframe tbody tr th:only-of-type {\n",
       "        vertical-align: middle;\n",
       "    }\n",
       "\n",
       "    .dataframe tbody tr th {\n",
       "        vertical-align: top;\n",
       "    }\n",
       "\n",
       "    .dataframe thead th {\n",
       "        text-align: right;\n",
       "    }\n",
       "</style>\n",
       "<table border=\"1\" class=\"dataframe\">\n",
       "  <thead>\n",
       "    <tr style=\"text-align: right;\">\n",
       "      <th></th>\n",
       "      <th>id</th>\n",
       "      <th>headline</th>\n",
       "      <th>brief_headline</th>\n",
       "      <th>summary</th>\n",
       "      <th>secondary_summary</th>\n",
       "      <th>key_attribute</th>\n",
       "      <th>brief_notes</th>\n",
       "      <th>url</th>\n",
       "      <th>display_date</th>\n",
       "      <th>publish_datetime_ts</th>\n",
       "      <th>update_datetime_ts</th>\n",
       "      <th>expiration_datetime_ts</th>\n",
       "      <th>last_verified_datetime_ts</th>\n",
       "      <th>editors_choice</th>\n",
       "      <th>sponsored</th>\n",
       "      <th>expired</th>\n",
       "      <th>expires_today</th>\n",
       "      <th>exclusive</th>\n",
       "      <th>searchable</th>\n",
       "      <th>hotness</th>\n",
       "      <th>call_out</th>\n",
       "      <th>call_out_comparison</th>\n",
       "      <th>sub_call_out</th>\n",
       "      <th>Coupon Code</th>\n",
       "      <th>category_id_0</th>\n",
       "      <th>namepath_0</th>\n",
       "      <th>ancestor_list_0</th>\n",
       "      <th>category_id_1</th>\n",
       "      <th>namepath_1</th>\n",
       "      <th>ancestor_list_1</th>\n",
       "      <th>vendor_id</th>\n",
       "      <th>name</th>\n",
       "      <th>Image path</th>\n",
       "      <th>API Feed</th>\n",
       "      <th>API id_number</th>\n",
       "      <th>Page</th>\n",
       "    </tr>\n",
       "  </thead>\n",
       "  <tbody>\n",
       "    <tr>\n",
       "      <th>0</th>\n",
       "      <td>19312637</td>\n",
       "      <td>Woot Garage Sale</td>\n",
       "      <td>Woot Garage Sale: Discounts on groceries, tools, electronics &amp; more</td>\n",
       "      <td>Save on hundreds of deals including home items, electronics, computers, groceries, apparel, exercise and sports equipment, and more.</td>\n",
       "      <td>&lt;div class=\"snippet summary\" title=\"Save&amp;#x20;on&amp;#x20;hundreds&amp;#x20;of&amp;#x20;deals&amp;#x20;including&amp;#x20;home&amp;#x20;items,&amp;#x20;electronics,&amp;#x20;computers,&amp;#x20;groceries,&amp;#x20;apparel,&amp;#x20;exercise&amp;#x20;and&amp;#x20;sports&amp;#x20;equipment,&amp;#x20;and&amp;#x20;more.\"&gt; &lt;p&gt;Save on hundreds of deals including h...</td>\n",
       "      <td>Woot! An Amazon Company</td>\n",
       "      <td></td>\n",
       "      <td>https://www.dealnews.com/Woot-Garage-Sale-Discounts-on-groceries-tools-electronics-more-free-shipping-w-Prime/19312637.html?iref=site-widget</td>\n",
       "      <td>Last verified 1 hr 27 min ago</td>\n",
       "      <td>2021-06-16 08:52:38</td>\n",
       "      <td>2021-06-16 20:03:23</td>\n",
       "      <td>2021-06-28 05:00:00</td>\n",
       "      <td>2021-06-16 18:35:48</td>\n",
       "      <td>False</td>\n",
       "      <td>False</td>\n",
       "      <td>False</td>\n",
       "      <td>False</td>\n",
       "      <td>False</td>\n",
       "      <td>True</td>\n",
       "      <td>5</td>\n",
       "      <td>Discounts on groceries, tools, electronics &amp; more</td>\n",
       "      <td></td>\n",
       "      <td>free shipping w/ Prime</td>\n",
       "      <td>None</td>\n",
       "      <td>40</td>\n",
       "      <td>None</td>\n",
       "      <td>None</td>\n",
       "      <td>None</td>\n",
       "      <td>None</td>\n",
       "      <td>None</td>\n",
       "      <td>1692</td>\n",
       "      <td>Woot! An Amazon Company</td>\n",
       "      <td>/home/malcolm/Demo with APIs/Dealnews Images/2021-06-16/Woot Garage Sale_19312637.jpg</td>\n",
       "      <td>Popularity Rank : Popularity: 5/5</td>\n",
       "      <td>1774</td>\n",
       "      <td>1</td>\n",
       "    </tr>\n",
       "    <tr>\n",
       "      <th>1</th>\n",
       "      <td>19313456</td>\n",
       "      <td>Domisl 20\" Folding Shelf Brackets 2-Pack</td>\n",
       "      <td>Domisl 20\" Folding Shelf Brackets 2-Pack for $20</td>\n",
       "      <td>Apply coupon code \"40H7YVAW\" for a savings of $13.</td>\n",
       "      <td>&lt;div class=\"body-offer body-burst\"&gt; &lt;div class=\"snippet summary\" title=\"Apply&amp;#x20;coupon&amp;#x20;code&amp;#x20;&amp;quot;40H7YVAW&amp;quot;&amp;#x20;for&amp;#x20;a&amp;#x20;savings&amp;#x20;of&amp;#x20;&amp;#x24;13.\"&gt; &lt;p&gt;Apply coupon code \"40H7YVAW\" for a savings of $13. &lt;a target=\"_blank\" href=\"https://www.dealnews.com/lw/click.htm...</td>\n",
       "      <td>Amazon</td>\n",
       "      <td>Free shipping. Sold Faihts via Amazon. &lt;br&gt;&lt;b&gt;Features:&lt;/b&gt; includes mounting screws, 400-lbs. maximum load capacity and made of high-quality 304 stainless steel.</td>\n",
       "      <td>https://www.dealnews.com/Domisl-20-Folding-Shelf-Brackets-2-Pack-for-20-free-shipping/19313456.html?iref=site-widget</td>\n",
       "      <td>Last verified 1 hr 22 min ago</td>\n",
       "      <td>2021-06-16 16:29:13</td>\n",
       "      <td>2021-06-16 20:02:45</td>\n",
       "      <td>2021-06-18 15:17:00</td>\n",
       "      <td>2021-06-16 18:41:24</td>\n",
       "      <td>False</td>\n",
       "      <td>False</td>\n",
       "      <td>False</td>\n",
       "      <td>False</td>\n",
       "      <td>False</td>\n",
       "      <td>True</td>\n",
       "      <td>5</td>\n",
       "      <td>$20</td>\n",
       "      <td>$33</td>\n",
       "      <td>free shipping</td>\n",
       "      <td>40H7YVAW</td>\n",
       "      <td>862</td>\n",
       "      <td>None</td>\n",
       "      <td>196</td>\n",
       "      <td>None</td>\n",
       "      <td>None</td>\n",
       "      <td>None</td>\n",
       "      <td>313</td>\n",
       "      <td>Amazon</td>\n",
       "      <td>/home/malcolm/Demo with APIs/Dealnews Images/2021-06-16/Domisl 20\" Folding Shelf Brackets 2-Pack_19313456.jpg</td>\n",
       "      <td>Popularity Rank : Popularity: 5/5</td>\n",
       "      <td>1774</td>\n",
       "      <td>1</td>\n",
       "    </tr>\n",
       "    <tr>\n",
       "      <th>2</th>\n",
       "      <td>19309286</td>\n",
       "      <td>\"Options Trading Crash Course\" Kindle eBook</td>\n",
       "      <td>\"Options Trading Crash Course\" Kindle eBook: Free</td>\n",
       "      <td>Save $10 off the digital list price.</td>\n",
       "      <td>&lt;div class=\"snippet summary\" title=\"Save&amp;#x20;&amp;#x24;10&amp;#x20;off&amp;#x20;the&amp;#x20;digital&amp;#x20;list&amp;#x20;price.\"&gt; &lt;p&gt;Save $10 off the digital list price. &lt;a target=\"_blank\" href=\"https://www.dealnews.com/lw/click.html?20,2,19309286,iref=site-widget\"&gt;Shop Now at Amazon&lt;/a&gt; &lt;/p&gt; &lt;/div&gt; &lt;div class=\"sni...</td>\n",
       "      <td>Amazon</td>\n",
       "      <td>&lt;br&gt;&lt;b&gt;Features:&lt;/b&gt; 96 pages.</td>\n",
       "      <td>https://www.dealnews.com/Options-Trading-Crash-Course-Kindle-eBook-Free/19309286.html?iref=site-widget</td>\n",
       "      <td>Last verified 2 hr 50 min ago</td>\n",
       "      <td>2021-06-16 04:19:43</td>\n",
       "      <td>2021-06-16 19:53:38</td>\n",
       "      <td>1970-01-01 00:00:00</td>\n",
       "      <td>2021-06-16 17:12:34</td>\n",
       "      <td>False</td>\n",
       "      <td>False</td>\n",
       "      <td>False</td>\n",
       "      <td>False</td>\n",
       "      <td>False</td>\n",
       "      <td>True</td>\n",
       "      <td>5</td>\n",
       "      <td>Free</td>\n",
       "      <td></td>\n",
       "      <td>None</td>\n",
       "      <td>None</td>\n",
       "      <td>554</td>\n",
       "      <td>None</td>\n",
       "      <td>178,177,553</td>\n",
       "      <td>None</td>\n",
       "      <td>None</td>\n",
       "      <td>None</td>\n",
       "      <td>313</td>\n",
       "      <td>Amazon</td>\n",
       "      <td>/home/malcolm/Demo with APIs/Dealnews Images/2021-06-16/\"Options Trading Crash Course\" Kindle eBook_19309286.jpg</td>\n",
       "      <td>Popularity Rank : Popularity: 5/5</td>\n",
       "      <td>1774</td>\n",
       "      <td>1</td>\n",
       "    </tr>\n",
       "    <tr>\n",
       "      <th>3</th>\n",
       "      <td>19308422</td>\n",
       "      <td>Mobil 1 5W-30 Extended Performance Full Synthetic Motor Oil 5-Quart Bottle</td>\n",
       "      <td>Mobil 1 5W-30 Extended Performance Full Synthetic Motor Oil 5-Quart Bottle for $9</td>\n",
       "      <td>It's $15 under list price.</td>\n",
       "      <td>&lt;div class=\"snippet summary\" title=\"Redeem&amp;#x20;this&amp;#x20;\"&gt; &lt;p&gt;Redeem this &lt;a target=\"_blank\" href=\"https://acbincentives.com/mobil1/default.asp\"&gt;$15 rebate&lt;/a&gt; for the best price we could find by as much. &lt;a target=\"_blank\" href=\"https://www.dealnews.com/lw/click.html?20,2,19308422,iref=site-w...</td>\n",
       "      <td>Walmart</td>\n",
       "      <td>Pickup. Choose in-store pickup to avoid the $5.99 shipping charge. Limit of 2 rebates per household. A link to the rebate terms (as well as a list of participating retailers) is available &lt;a href=\"https://acbincentives.com/mobil1/terms.asp\" target=\"_blank\"&gt;here&lt;/a&gt;.</td>\n",
       "      <td>https://www.dealnews.com/Mobil-1-5-W-30-Extended-Performance-Full-Synthetic-Motor-Oil-5-Quart-Bottle-for-9-pickup/19308422.html?iref=site-widget</td>\n",
       "      <td>Last verified 2 hr 53 min ago</td>\n",
       "      <td>2021-06-15 19:28:52</td>\n",
       "      <td>2021-06-16 19:44:07</td>\n",
       "      <td>1970-01-01 00:00:00</td>\n",
       "      <td>2021-06-16 17:10:19</td>\n",
       "      <td>False</td>\n",
       "      <td>False</td>\n",
       "      <td>False</td>\n",
       "      <td>False</td>\n",
       "      <td>False</td>\n",
       "      <td>True</td>\n",
       "      <td>5</td>\n",
       "      <td>$9.37</td>\n",
       "      <td>$24</td>\n",
       "      <td>pickup</td>\n",
       "      <td>None</td>\n",
       "      <td>238</td>\n",
       "      <td>None</td>\n",
       "      <td>None</td>\n",
       "      <td>None</td>\n",
       "      <td>None</td>\n",
       "      <td>None</td>\n",
       "      <td>321</td>\n",
       "      <td>Walmart</td>\n",
       "      <td>/home/malcolm/Demo with APIs/Dealnews Images/2021-06-16/Mobil 1 5W-30 Extended Performance Full Synthetic Motor Oil 5-Quart Bottle_19308422.jpg</td>\n",
       "      <td>Popularity Rank : Popularity: 5/5</td>\n",
       "      <td>1774</td>\n",
       "      <td>1</td>\n",
       "    </tr>\n",
       "    <tr>\n",
       "      <th>4</th>\n",
       "      <td>19308257</td>\n",
       "      <td>ASICS Men's Upcourt 2 Shoes</td>\n",
       "      <td>ASICS Men's Upcourt 2 Shoes for $18</td>\n",
       "      <td>Apply coupon code \"SHOE10\" to save.</td>\n",
       "      <td>&lt;div class=\"snippet summary\" title=\"Coupon&amp;#x20;code&amp;#x20;&amp;quot;SHOE10&amp;quot;&amp;#x20;drops&amp;#x20;it&amp;#x20;to&amp;#x20;&amp;#x24;46&amp;#x20;off&amp;#x20;and&amp;#x20;the&amp;#x20;best&amp;#x20;price&amp;#x20;we&amp;#x20;could&amp;#x20;find.\"&gt; &lt;p&gt;Coupon code \"SHOE10\" drops it to $46 off and the best price we could find. &lt;a target=\"_blank\" h...</td>\n",
       "      <td>Shoebacca</td>\n",
       "      <td>Free shipping. Available in Black. Model: B705Y-9001.</td>\n",
       "      <td>https://www.dealnews.com/products/ASICS/ASICS-Mens-Upcourt-2-Shoes/178054.html?iref=site-widget</td>\n",
       "      <td>Last verified 1 hr 49 min ago</td>\n",
       "      <td>2021-06-15 18:43:21</td>\n",
       "      <td>2021-06-16 19:44:07</td>\n",
       "      <td>1970-01-01 00:00:00</td>\n",
       "      <td>2021-06-16 18:13:54</td>\n",
       "      <td>True</td>\n",
       "      <td>False</td>\n",
       "      <td>False</td>\n",
       "      <td>False</td>\n",
       "      <td>False</td>\n",
       "      <td>True</td>\n",
       "      <td>5</td>\n",
       "      <td>$18</td>\n",
       "      <td>$65</td>\n",
       "      <td>free shipping</td>\n",
       "      <td>SHOE10</td>\n",
       "      <td>280</td>\n",
       "      <td>None</td>\n",
       "      <td>202</td>\n",
       "      <td>None</td>\n",
       "      <td>None</td>\n",
       "      <td>None</td>\n",
       "      <td>2926</td>\n",
       "      <td>Shoebacca</td>\n",
       "      <td>/home/malcolm/Demo with APIs/Dealnews Images/2021-06-16/ASICS Men's Upcourt 2 Shoes_19308257.jpg</td>\n",
       "      <td>Popularity Rank : Popularity: 5/5</td>\n",
       "      <td>1774</td>\n",
       "      <td>1</td>\n",
       "    </tr>\n",
       "  </tbody>\n",
       "</table>\n",
       "</div>"
      ],
      "text/plain": [
       "         id  \\\n",
       "0  19312637   \n",
       "1  19313456   \n",
       "2  19309286   \n",
       "3  19308422   \n",
       "4  19308257   \n",
       "\n",
       "                                                                     headline  \\\n",
       "0                                                            Woot Garage Sale   \n",
       "1                                    Domisl 20\" Folding Shelf Brackets 2-Pack   \n",
       "2                                 \"Options Trading Crash Course\" Kindle eBook   \n",
       "3  Mobil 1 5W-30 Extended Performance Full Synthetic Motor Oil 5-Quart Bottle   \n",
       "4                                                 ASICS Men's Upcourt 2 Shoes   \n",
       "\n",
       "                                                                      brief_headline  \\\n",
       "0                Woot Garage Sale: Discounts on groceries, tools, electronics & more   \n",
       "1                                   Domisl 20\" Folding Shelf Brackets 2-Pack for $20   \n",
       "2                                  \"Options Trading Crash Course\" Kindle eBook: Free   \n",
       "3  Mobil 1 5W-30 Extended Performance Full Synthetic Motor Oil 5-Quart Bottle for $9   \n",
       "4                                                ASICS Men's Upcourt 2 Shoes for $18   \n",
       "\n",
       "                                                                                                                                summary  \\\n",
       "0  Save on hundreds of deals including home items, electronics, computers, groceries, apparel, exercise and sports equipment, and more.   \n",
       "1                                                                                    Apply coupon code \"40H7YVAW\" for a savings of $13.   \n",
       "2                                                                                                  Save $10 off the digital list price.   \n",
       "3                                                                                                            It's $15 under list price.   \n",
       "4                                                                                                   Apply coupon code \"SHOE10\" to save.   \n",
       "\n",
       "                                                                                                                                                                                                                                                                                             secondary_summary  \\\n",
       "0  <div class=\"snippet summary\" title=\"Save&#x20;on&#x20;hundreds&#x20;of&#x20;deals&#x20;including&#x20;home&#x20;items,&#x20;electronics,&#x20;computers,&#x20;groceries,&#x20;apparel,&#x20;exercise&#x20;and&#x20;sports&#x20;equipment,&#x20;and&#x20;more.\"> <p>Save on hundreds of deals including h...   \n",
       "1  <div class=\"body-offer body-burst\"> <div class=\"snippet summary\" title=\"Apply&#x20;coupon&#x20;code&#x20;&quot;40H7YVAW&quot;&#x20;for&#x20;a&#x20;savings&#x20;of&#x20;&#x24;13.\"> <p>Apply coupon code \"40H7YVAW\" for a savings of $13. <a target=\"_blank\" href=\"https://www.dealnews.com/lw/click.htm...   \n",
       "2  <div class=\"snippet summary\" title=\"Save&#x20;&#x24;10&#x20;off&#x20;the&#x20;digital&#x20;list&#x20;price.\"> <p>Save $10 off the digital list price. <a target=\"_blank\" href=\"https://www.dealnews.com/lw/click.html?20,2,19309286,iref=site-widget\">Shop Now at Amazon</a> </p> </div> <div class=\"sni...   \n",
       "3  <div class=\"snippet summary\" title=\"Redeem&#x20;this&#x20;\"> <p>Redeem this <a target=\"_blank\" href=\"https://acbincentives.com/mobil1/default.asp\">$15 rebate</a> for the best price we could find by as much. <a target=\"_blank\" href=\"https://www.dealnews.com/lw/click.html?20,2,19308422,iref=site-w...   \n",
       "4  <div class=\"snippet summary\" title=\"Coupon&#x20;code&#x20;&quot;SHOE10&quot;&#x20;drops&#x20;it&#x20;to&#x20;&#x24;46&#x20;off&#x20;and&#x20;the&#x20;best&#x20;price&#x20;we&#x20;could&#x20;find.\"> <p>Coupon code \"SHOE10\" drops it to $46 off and the best price we could find. <a target=\"_blank\" h...   \n",
       "\n",
       "             key_attribute  \\\n",
       "0  Woot! An Amazon Company   \n",
       "1                   Amazon   \n",
       "2                   Amazon   \n",
       "3                  Walmart   \n",
       "4                Shoebacca   \n",
       "\n",
       "                                                                                                                                                                                                                                                                  brief_notes  \\\n",
       "0                                                                                                                                                                                                                                                                               \n",
       "1                                                                                                          Free shipping. Sold Faihts via Amazon. <br><b>Features:</b> includes mounting screws, 400-lbs. maximum load capacity and made of high-quality 304 stainless steel.   \n",
       "2                                                                                                                                                                                                                                              <br><b>Features:</b> 96 pages.   \n",
       "3  Pickup. Choose in-store pickup to avoid the $5.99 shipping charge. Limit of 2 rebates per household. A link to the rebate terms (as well as a list of participating retailers) is available <a href=\"https://acbincentives.com/mobil1/terms.asp\" target=\"_blank\">here</a>.   \n",
       "4                                                                                                                                                                                                                       Free shipping. Available in Black. Model: B705Y-9001.   \n",
       "\n",
       "                                                                                                                                                url  \\\n",
       "0      https://www.dealnews.com/Woot-Garage-Sale-Discounts-on-groceries-tools-electronics-more-free-shipping-w-Prime/19312637.html?iref=site-widget   \n",
       "1                              https://www.dealnews.com/Domisl-20-Folding-Shelf-Brackets-2-Pack-for-20-free-shipping/19313456.html?iref=site-widget   \n",
       "2                                            https://www.dealnews.com/Options-Trading-Crash-Course-Kindle-eBook-Free/19309286.html?iref=site-widget   \n",
       "3  https://www.dealnews.com/Mobil-1-5-W-30-Extended-Performance-Full-Synthetic-Motor-Oil-5-Quart-Bottle-for-9-pickup/19308422.html?iref=site-widget   \n",
       "4                                                   https://www.dealnews.com/products/ASICS/ASICS-Mens-Upcourt-2-Shoes/178054.html?iref=site-widget   \n",
       "\n",
       "                    display_date publish_datetime_ts  update_datetime_ts  \\\n",
       "0  Last verified 1 hr 27 min ago 2021-06-16 08:52:38 2021-06-16 20:03:23   \n",
       "1  Last verified 1 hr 22 min ago 2021-06-16 16:29:13 2021-06-16 20:02:45   \n",
       "2  Last verified 2 hr 50 min ago 2021-06-16 04:19:43 2021-06-16 19:53:38   \n",
       "3  Last verified 2 hr 53 min ago 2021-06-15 19:28:52 2021-06-16 19:44:07   \n",
       "4  Last verified 1 hr 49 min ago 2021-06-15 18:43:21 2021-06-16 19:44:07   \n",
       "\n",
       "  expiration_datetime_ts last_verified_datetime_ts editors_choice sponsored  \\\n",
       "0    2021-06-28 05:00:00       2021-06-16 18:35:48          False     False   \n",
       "1    2021-06-18 15:17:00       2021-06-16 18:41:24          False     False   \n",
       "2    1970-01-01 00:00:00       2021-06-16 17:12:34          False     False   \n",
       "3    1970-01-01 00:00:00       2021-06-16 17:10:19          False     False   \n",
       "4    1970-01-01 00:00:00       2021-06-16 18:13:54           True     False   \n",
       "\n",
       "  expired expires_today exclusive searchable hotness  \\\n",
       "0   False         False     False       True       5   \n",
       "1   False         False     False       True       5   \n",
       "2   False         False     False       True       5   \n",
       "3   False         False     False       True       5   \n",
       "4   False         False     False       True       5   \n",
       "\n",
       "                                            call_out call_out_comparison  \\\n",
       "0  Discounts on groceries, tools, electronics & more                       \n",
       "1                                                $20                 $33   \n",
       "2                                               Free                       \n",
       "3                                              $9.37                 $24   \n",
       "4                                                $18                 $65   \n",
       "\n",
       "             sub_call_out Coupon Code category_id_0 namepath_0  \\\n",
       "0  free shipping w/ Prime        None            40       None   \n",
       "1           free shipping    40H7YVAW           862       None   \n",
       "2                    None        None           554       None   \n",
       "3                  pickup        None           238       None   \n",
       "4           free shipping      SHOE10           280       None   \n",
       "\n",
       "  ancestor_list_0 category_id_1 namepath_1 ancestor_list_1 vendor_id  \\\n",
       "0            None          None       None            None      1692   \n",
       "1             196          None       None            None       313   \n",
       "2     178,177,553          None       None            None       313   \n",
       "3            None          None       None            None       321   \n",
       "4             202          None       None            None      2926   \n",
       "\n",
       "                      name  \\\n",
       "0  Woot! An Amazon Company   \n",
       "1                   Amazon   \n",
       "2                   Amazon   \n",
       "3                  Walmart   \n",
       "4                Shoebacca   \n",
       "\n",
       "                                                                                                                                        Image path  \\\n",
       "0                                                            /home/malcolm/Demo with APIs/Dealnews Images/2021-06-16/Woot Garage Sale_19312637.jpg   \n",
       "1                                    /home/malcolm/Demo with APIs/Dealnews Images/2021-06-16/Domisl 20\" Folding Shelf Brackets 2-Pack_19313456.jpg   \n",
       "2                                 /home/malcolm/Demo with APIs/Dealnews Images/2021-06-16/\"Options Trading Crash Course\" Kindle eBook_19309286.jpg   \n",
       "3  /home/malcolm/Demo with APIs/Dealnews Images/2021-06-16/Mobil 1 5W-30 Extended Performance Full Synthetic Motor Oil 5-Quart Bottle_19308422.jpg   \n",
       "4                                                 /home/malcolm/Demo with APIs/Dealnews Images/2021-06-16/ASICS Men's Upcourt 2 Shoes_19308257.jpg   \n",
       "\n",
       "                            API Feed API id_number Page  \n",
       "0  Popularity Rank : Popularity: 5/5          1774    1  \n",
       "1  Popularity Rank : Popularity: 5/5          1774    1  \n",
       "2  Popularity Rank : Popularity: 5/5          1774    1  \n",
       "3  Popularity Rank : Popularity: 5/5          1774    1  \n",
       "4  Popularity Rank : Popularity: 5/5          1774    1  "
      ]
     },
     "execution_count": 25,
     "metadata": {},
     "output_type": "execute_result"
    }
   ],
   "source": [
    "dn_today.head()"
   ]
  },
  {
   "cell_type": "code",
   "execution_count": null,
   "metadata": {},
   "outputs": [],
   "source": []
  },
  {
   "cell_type": "code",
   "execution_count": 26,
   "metadata": {},
   "outputs": [
    {
     "name": "stderr",
     "output_type": "stream",
     "text": [
      "/home/malcolm/main/lib/python3.6/site-packages/pandas/core/generic.py:2615: UserWarning: The spaces in these column names will not be changed. In pandas versions < 0.14, spaces were converted to underscores.\n",
      "  method=method,\n"
     ]
    }
   ],
   "source": [
    "dn_today['_dt_pulled'] = datetime.datetime.now().strftime('%Y-%m-%d %H:%M')\n",
    "dn_today.to_sql('Dealnews Items', con, index=False, if_exists='append')"
   ]
  },
  {
   "cell_type": "code",
   "execution_count": null,
   "metadata": {},
   "outputs": [],
   "source": []
  },
  {
   "cell_type": "code",
   "execution_count": null,
   "metadata": {},
   "outputs": [],
   "source": []
  }
 ],
 "metadata": {
  "kernelspec": {
   "display_name": "Python 3",
   "language": "python",
   "name": "python3"
  },
  "language_info": {
   "codemirror_mode": {
    "name": "ipython",
    "version": 3
   },
   "file_extension": ".py",
   "mimetype": "text/x-python",
   "name": "python",
   "nbconvert_exporter": "python",
   "pygments_lexer": "ipython3",
   "version": "3.6.9"
  },
  "toc": {
   "base_numbering": 1,
   "nav_menu": {},
   "number_sections": true,
   "sideBar": true,
   "skip_h1_title": false,
   "title_cell": "Table of Contents",
   "title_sidebar": "Contents",
   "toc_cell": false,
   "toc_position": {},
   "toc_section_display": true,
   "toc_window_display": true
  }
 },
 "nbformat": 4,
 "nbformat_minor": 4
}
